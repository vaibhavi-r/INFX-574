{
 "cells": [
  {
   "cell_type": "markdown",
   "metadata": {
    "ein.tags": [
     "worksheet-0"
    ],
    "slideshow": {
     "slide_type": "-"
    }
   },
   "source": [
    "# Problem Set 4"
   ]
  },
  {
   "cell_type": "markdown",
   "metadata": {
    "ein.tags": [
     "worksheet-0"
    ],
    "slideshow": {
     "slide_type": "-"
    }
   },
   "source": [
    "---\n",
    "\n",
    "## Introduction to the assignment\n",
    "\n",
    "We will be using the [Boston Housing Prices Data Set](http://archive.ics.uci.edu/ml/datasets/Housing)."
   ]
  },
  {
   "cell_type": "code",
   "execution_count": 160,
   "metadata": {
    "autoscroll": "json-false",
    "collapsed": false,
    "ein.tags": [
     "worksheet-0"
    ],
    "slideshow": {
     "slide_type": "-"
    }
   },
   "outputs": [],
   "source": [
    "import IPython\n",
    "import numpy as np\n",
    "import scipy as sp\n",
    "import pandas as pd\n",
    "\n",
    "import matplotlib\n",
    "%matplotlib inline  \n",
    "import matplotlib.pyplot as plt\n",
    "\n",
    "#import statsmodels.api as sm\n",
    "#import statsmodels.formula.api as smf\n",
    "#from statsmodels.sandbox.regression.predstd import wls_prediction_std\n",
    "\n",
    "import sklearn\n",
    "from sklearn.linear_model import LinearRegression, LogisticRegression\n",
    "from sklearn.model_selection import train_test_split\n",
    "from sklearn.model_selection import KFold\n",
    "from sklearn.metrics import mean_squared_error\n",
    "\n",
    "import time\n",
    "import math"
   ]
  },
  {
   "cell_type": "code",
   "execution_count": 161,
   "metadata": {
    "autoscroll": "json-false",
    "collapsed": false,
    "ein.tags": [
     "worksheet-0"
    ],
    "slideshow": {
     "slide_type": "-"
    }
   },
   "outputs": [],
   "source": [
    "from sklearn.datasets import load_boston\n",
    "bdata = load_boston()"
   ]
  },
  {
   "cell_type": "markdown",
   "metadata": {},
   "source": [
    "---\n",
    "\n",
    "## Part 1: Getting oriented\n",
    "\n"
   ]
  },
  {
   "cell_type": "markdown",
   "metadata": {},
   "source": [
    "### 1.0 Understand the dataset "
   ]
  },
  {
   "cell_type": "code",
   "execution_count": 162,
   "metadata": {
    "autoscroll": "json-false",
    "collapsed": false,
    "ein.tags": [
     "worksheet-0"
    ],
    "slideshow": {
     "slide_type": "-"
    }
   },
   "outputs": [
    {
     "name": "stdout",
     "output_type": "stream",
     "text": [
      "keys: dict_keys(['data', 'target', 'feature_names', 'DESCR'])\n",
      "feature names: ['CRIM' 'ZN' 'INDUS' 'CHAS' 'NOX' 'RM' 'AGE' 'DIS' 'RAD' 'TAX' 'PTRATIO'\n",
      " 'B' 'LSTAT']\n",
      "data shape: (506, 13)\n",
      "target shape (506,)\n"
     ]
    }
   ],
   "source": [
    "# uncomment the following if you want to see a lengthy description of the dataset\n",
    "print(\"keys:\", bdata.keys())\n",
    "print(\"feature names:\",  bdata.feature_names)\n",
    "print(\"data shape:\", bdata.data.shape)\n",
    "print(\"target shape\", bdata.target.shape)\n",
    "#print(bdata.DESCR)\n",
    "#print (\"-\"*80)"
   ]
  },
  {
   "cell_type": "markdown",
   "metadata": {},
   "source": [
    "### Create Dataframes for predictors, response and combined data"
   ]
  },
  {
   "cell_type": "code",
   "execution_count": 163,
   "metadata": {
    "collapsed": false
   },
   "outputs": [
    {
     "name": "stdout",
     "output_type": "stream",
     "text": [
      "\n",
      "Predictor Data is of type <class 'numpy.ndarray'> \n",
      "Input shape:  (506, 13)\n",
      "\n",
      "Target is of type:  <class 'numpy.ndarray'> \n",
      "Target shape:  (506,)\n"
     ]
    }
   ],
   "source": [
    "print('\\nPredictor Data is of type' , type(bdata.data), '\\nInput shape: ', bdata.data.shape)\n",
    "print('\\nTarget is of type: ' , type(bdata.target) , '\\nTarget shape: ', bdata.target.shape)"
   ]
  },
  {
   "cell_type": "code",
   "execution_count": 164,
   "metadata": {
    "collapsed": false
   },
   "outputs": [
    {
     "name": "stdout",
     "output_type": "stream",
     "text": [
      "        0     1     2    3      4      5     6       7    8      9     10  \\\n",
      "0  0.00632  18.0  2.31  0.0  0.538  6.575  65.2  4.0900  1.0  296.0  15.3   \n",
      "1  0.02731   0.0  7.07  0.0  0.469  6.421  78.9  4.9671  2.0  242.0  17.8   \n",
      "2  0.02729   0.0  7.07  0.0  0.469  7.185  61.1  4.9671  2.0  242.0  17.8   \n",
      "3  0.03237   0.0  2.18  0.0  0.458  6.998  45.8  6.0622  3.0  222.0  18.7   \n",
      "4  0.06905   0.0  2.18  0.0  0.458  7.147  54.2  6.0622  3.0  222.0  18.7   \n",
      "\n",
      "       11    12  \n",
      "0  396.90  4.98  \n",
      "1  396.90  9.14  \n",
      "2  392.83  4.03  \n",
      "3  394.63  2.94  \n",
      "4  396.90  5.33  \n"
     ]
    }
   ],
   "source": [
    "#Create Dataframe from the ndarray of input data\n",
    "boston_df =  pd.DataFrame(bdata.data)\n",
    "print(boston_df.head())"
   ]
  },
  {
   "cell_type": "code",
   "execution_count": 165,
   "metadata": {
    "collapsed": false
   },
   "outputs": [
    {
     "name": "stdout",
     "output_type": "stream",
     "text": [
      "After adding Feature Names: \n",
      "       CRIM    ZN  INDUS  CHAS    NOX     RM   AGE     DIS  RAD    TAX  \\\n",
      "0  0.00632  18.0   2.31   0.0  0.538  6.575  65.2  4.0900  1.0  296.0   \n",
      "1  0.02731   0.0   7.07   0.0  0.469  6.421  78.9  4.9671  2.0  242.0   \n",
      "2  0.02729   0.0   7.07   0.0  0.469  7.185  61.1  4.9671  2.0  242.0   \n",
      "3  0.03237   0.0   2.18   0.0  0.458  6.998  45.8  6.0622  3.0  222.0   \n",
      "4  0.06905   0.0   2.18   0.0  0.458  7.147  54.2  6.0622  3.0  222.0   \n",
      "\n",
      "   PTRATIO       B  LSTAT  \n",
      "0     15.3  396.90   4.98  \n",
      "1     17.8  396.90   9.14  \n",
      "2     17.8  392.83   4.03  \n",
      "3     18.7  394.63   2.94  \n",
      "4     18.7  396.90   5.33  \n"
     ]
    }
   ],
   "source": [
    "#Add column names\n",
    "boston_df.columns = bdata.feature_names\n",
    "X_df = boston_df\n",
    "print('After adding Feature Names: \\n', boston_df.head())"
   ]
  },
  {
   "cell_type": "code",
   "execution_count": 166,
   "metadata": {
    "collapsed": false
   },
   "outputs": [
    {
     "name": "stdout",
     "output_type": "stream",
     "text": [
      "After adding Target column: \n",
      "       CRIM    ZN  INDUS  CHAS    NOX     RM   AGE     DIS  RAD    TAX  \\\n",
      "0  0.00632  18.0   2.31   0.0  0.538  6.575  65.2  4.0900  1.0  296.0   \n",
      "1  0.02731   0.0   7.07   0.0  0.469  6.421  78.9  4.9671  2.0  242.0   \n",
      "2  0.02729   0.0   7.07   0.0  0.469  7.185  61.1  4.9671  2.0  242.0   \n",
      "3  0.03237   0.0   2.18   0.0  0.458  6.998  45.8  6.0622  3.0  222.0   \n",
      "4  0.06905   0.0   2.18   0.0  0.458  7.147  54.2  6.0622  3.0  222.0   \n",
      "\n",
      "   PTRATIO       B  LSTAT  MEDV  \n",
      "0     15.3  396.90   4.98  24.0  \n",
      "1     17.8  396.90   9.14  21.6  \n",
      "2     17.8  392.83   4.03  34.7  \n",
      "3     18.7  394.63   2.94  33.4  \n",
      "4     18.7  396.90   5.33  36.2  \n"
     ]
    }
   ],
   "source": [
    "boston_df['MEDV'] = bdata.target\n",
    "print('After adding Target column: \\n', boston_df.head())"
   ]
  },
  {
   "cell_type": "markdown",
   "metadata": {
    "collapsed": true
   },
   "source": [
    "Note: boston_df is the main dataframe that contains all our data (both features and response). We will derive columns, Series and nparrays based on this dataframe."
   ]
  },
  {
   "cell_type": "markdown",
   "metadata": {
    "ein.tags": [
     "worksheet-0"
    ],
    "slideshow": {
     "slide_type": "-"
    }
   },
   "source": [
    "\n",
    "### 1.1 Use existing libraries\n",
    "\n",
    "Soon, you will write your own gradient descent algorithm, which you will then use to minimize the squared error cost function.  First, however, let's use the canned versions that come with Python, to make sure we understand what we're aiming to achieve.\n",
    "\n",
    "Using the same Boston housing prices dataset, use the [Linear Regression class](http://scikit-learn.org/stable/modules/generated/sklearn.linear_model.LinearRegression.html) from sklearn or the [OLS class](http://wiki.scipy.org/Cookbook/OLS) from SciPy to explore the relationship between  median housing price and number of rooms per house. Do this by first (a) regressing the housing price on the number of rooms per house, and then (b) regressing the housing price on the number of rooms per house and the (number of rooms per house) squared.  Interpret your results."
   ]
  },
  {
   "cell_type": "code",
   "execution_count": 167,
   "metadata": {
    "collapsed": false
   },
   "outputs": [
    {
     "name": "stdout",
     "output_type": "stream",
     "text": [
      "Features Dataframe X: \n",
      "       CRIM    ZN  INDUS  CHAS    NOX     RM   AGE     DIS  RAD    TAX  \\\n",
      "0  0.00632  18.0   2.31   0.0  0.538  6.575  65.2  4.0900  1.0  296.0   \n",
      "1  0.02731   0.0   7.07   0.0  0.469  6.421  78.9  4.9671  2.0  242.0   \n",
      "2  0.02729   0.0   7.07   0.0  0.469  7.185  61.1  4.9671  2.0  242.0   \n",
      "3  0.03237   0.0   2.18   0.0  0.458  6.998  45.8  6.0622  3.0  222.0   \n",
      "4  0.06905   0.0   2.18   0.0  0.458  7.147  54.2  6.0622  3.0  222.0   \n",
      "\n",
      "   PTRATIO       B  LSTAT  \n",
      "0     15.3  396.90   4.98  \n",
      "1     17.8  396.90   9.14  \n",
      "2     17.8  392.83   4.03  \n",
      "3     18.7  394.63   2.94  \n",
      "4     18.7  396.90   5.33  \n"
     ]
    }
   ],
   "source": [
    "#Run only once\n",
    "X = boston_df.drop('MEDV', axis=1)\n",
    "print('Features Dataframe X: \\n', X.head())"
   ]
  },
  {
   "cell_type": "markdown",
   "metadata": {},
   "source": [
    "#### _Define Helper_:  Call  Existing Library function (SKLearn's Linear Regression)"
   ]
  },
  {
   "cell_type": "code",
   "execution_count": 168,
   "metadata": {
    "collapsed": false
   },
   "outputs": [],
   "source": [
    "#### Function to call sklearn Linear Regression on dataframe columns\n",
    "#### No return value, simply prints the coefficients and other important parameters\n",
    "#X, y can be np arrays or dataframes\n",
    "def sk_ols(X, y, target_col=\"Response\", feature_list=[]): \n",
    "    if feature_list==[]:  #Regress on all features by default\n",
    "        feature_list = X.columns.tolist()\n",
    "    \n",
    "    x_df = X.ix[:,feature_list]\n",
    "    \n",
    "    #Create LinearRegression object, fit the data\n",
    "    lm= LinearRegression()\n",
    "    lm.fit(x_df, y)\n",
    "    \n",
    "    #Print findings. \n",
    "    print('\\nSKLearn Linear Regression\\n-------------------------')\n",
    "    print('Model :', target_col, ' vs ', feature_list, '\\n')\n",
    "    print('Number of Features               :' , len(feature_list))\n",
    "    print('Intercept Value                  :' , lm.intercept_)\n",
    "    print('Coefficient Values (No intercept):' , lm.coef_)\n",
    "    \n",
    "    return lm, lm.intercept_, lm.coef_"
   ]
  },
  {
   "cell_type": "markdown",
   "metadata": {},
   "source": [
    "#### Model 1 :  MEDV vs RM"
   ]
  },
  {
   "cell_type": "code",
   "execution_count": 169,
   "metadata": {
    "collapsed": false
   },
   "outputs": [
    {
     "name": "stdout",
     "output_type": "stream",
     "text": [
      "      RM\n",
      "0  6.575\n",
      "1  6.421\n",
      "2  7.185\n",
      "3  6.998\n",
      "4  7.147\n",
      "\n",
      "SKLearn Linear Regression\n",
      "-------------------------\n",
      "Model : MEDV  vs  ['RM'] \n",
      "\n",
      "Number of Features               : 1\n",
      "Intercept Value                  : -34.6706207764\n",
      "Coefficient Values (No intercept): [ 9.10210898]\n",
      "\n",
      "RMSE =  35.2938025267\n"
     ]
    }
   ],
   "source": [
    "#Prepare data\n",
    "X1 = pd.DataFrame(X['RM'], columns=['RM'])\n",
    "print(X1.head())\n",
    "y=boston_df['MEDV']\n",
    "\n",
    "#Fit the model\n",
    "lm1, _,  model_1_coefs = sk_ols(X1, y, target_col=\"MEDV\")\n",
    "model_1_beta = model_1_coefs[0]\n",
    "\n",
    "#Test RMSE\n",
    "print('\\nRMSE = ', np.sqrt(mean_squared_error(y, X1.dot(model_1_coefs))))"
   ]
  },
  {
   "cell_type": "markdown",
   "metadata": {},
   "source": [
    "**Interpretation:** Model 1 = (MEDV vs RM) \n",
    "\n",
    "This model says that the Number of Rooms (RM) feature is positively associated with the Median Price of a house in Boston. For every unit increase in the average number of rooms, the corresponding median value of the Boston house increases by 9102.1 USD. \n",
    "\n",
    "The RMSE value of 35.29 suggests that this a bad model. It is too simplistic. (Also, since RMSE is dependent on scale of y, and number of data points, we cannot say with certainty that this is a bad model)"
   ]
  },
  {
   "cell_type": "markdown",
   "metadata": {},
   "source": [
    "#### Model 2 :  MEDV vs RM and RM^2"
   ]
  },
  {
   "cell_type": "code",
   "execution_count": 170,
   "metadata": {
    "collapsed": false
   },
   "outputs": [
    {
     "name": "stdout",
     "output_type": "stream",
     "text": [
      "      RM  RMsquared\n",
      "0  6.575  43.230625\n",
      "1  6.421  41.229241\n",
      "2  7.185  51.624225\n",
      "3  6.998  48.972004\n",
      "4  7.147  51.079609\n",
      "\n",
      "SKLearn Linear Regression\n",
      "-------------------------\n",
      "Model : MEDV  vs  ['RM', 'RMsquared'] \n",
      "\n",
      "Number of Features               : 2\n",
      "Intercept Value                  : 66.0588474848\n",
      "Coefficient Values (No intercept): [-22.64326237   2.47012384]\n",
      "\n",
      "RMSE =  66.3467635856\n"
     ]
    }
   ],
   "source": [
    "#Prepare the data\n",
    "X2= pd.DataFrame(X['RM'], columns=['RM'])\n",
    "X2['RMsquared'] = X2['RM']**2\n",
    "print(X2.head())\n",
    "\n",
    "#y=boston_df['MEDV']  #Previously calculated for model 1\n",
    "\n",
    "#Fit the model\n",
    "lm2, _,model_2_coefs = sk_ols(X2, y, target_col=\"MEDV\")\n",
    "\n",
    "#Test RMSE\n",
    "print('\\nRMSE = ' , np.sqrt(mean_squared_error(y, X2.dot(model_2_coefs))))"
   ]
  },
  {
   "cell_type": "markdown",
   "metadata": {},
   "source": [
    "**Interpretation:** Model 2 = (MEDV vs RM, RM squared) \n",
    "\n",
    "This model says that the Number of Rooms (RM) feature is associated with the Median Price of a house in Boston. For every unit increase in the average number of rooms, the corresponding median value of the Boston house increases by  an amout -22.6 (RM) + 2.47(RM^2). The median value of the house is affected. \n",
    "\n",
    "However, based on the RMSE value of 66.34, we can say that this is possibly a bad model, and definitely worse than the previous model.\n",
    "(Also, since RMSE is dependent on scale of y, and number of data points, we cannot say with certainty that this is a bad model)"
   ]
  },
  {
   "cell_type": "code",
   "execution_count": 171,
   "metadata": {
    "collapsed": false
   },
   "outputs": [
    {
     "name": "stdout",
     "output_type": "stream",
     "text": [
      "Note: X1, X2 are Dataframes used for the previous models\n"
     ]
    },
    {
     "data": {
      "text/plain": [
       "pandas.core.frame.DataFrame"
      ]
     },
     "execution_count": 171,
     "metadata": {},
     "output_type": "execute_result"
    }
   ],
   "source": [
    "print('Note: X1, X2 are Dataframes used for the previous models')\n",
    "type(X1)"
   ]
  },
  {
   "cell_type": "markdown",
   "metadata": {
    "ein.tags": [
     "worksheet-0"
    ],
    "slideshow": {
     "slide_type": "-"
    }
   },
   "source": [
    "### 1.2 Training and testing\n",
    "\n",
    "Chances are, for the above problem you used all of your data to fit the regression line. In some circumstances this is a reasonable thing to do, but often this will result in overfitting. Let's redo the above results the ML way, using careful cross-validation.  Since you are now experts in cross-validation, and have written your own cross-validation algorithm from scratch, you can now take a shortcut and use the libraries that others have built for you.\n",
    "\n",
    "Using the [cross-validation functions](http://scikit-learn.org/stable/modules/cross_validation.html) from scikit-learn, use 250-fold cross-validation to fit regression (a) above, i.e. the linear fit of housing price on number of rooms per house.\n",
    "Each fold of cross-validation will give you one slope coefficient and one intercept coefficient.  Plot the distribution of the 250 slope coefficients, and draw a vertical line at the value of the slope coefficient that you estimated in 1.1 using the full dataset.  What do you notice?\n",
    "\n",
    "Note: please use 'random_state=1' and keep 'shuffle=False' when doing the KFold splitting to ensure reproducibility!"
   ]
  },
  {
   "cell_type": "code",
   "execution_count": 172,
   "metadata": {
    "autoscroll": "json-false",
    "collapsed": false,
    "ein.tags": [
     "worksheet-0"
    ],
    "slideshow": {
     "slide_type": "-"
    }
   },
   "outputs": [
    {
     "data": {
      "text/plain": [
       "250"
      ]
     },
     "execution_count": 172,
     "metadata": {},
     "output_type": "execute_result"
    }
   ],
   "source": [
    "#Prepare\n",
    "features = ['RM']\n",
    "X1 =boston_df[features]\n",
    "\n",
    "#Create the split\n",
    "kf = KFold(n_splits=250, shuffle=False, random_state=1)\n",
    "kf.get_n_splits(X1)"
   ]
  },
  {
   "cell_type": "code",
   "execution_count": 173,
   "metadata": {
    "collapsed": false
   },
   "outputs": [],
   "source": [
    "#Do K-fold Cross validation of sklearn OLS\n",
    "coefs = []\n",
    "cv_lm = LinearRegression()\n",
    "for train_index, test_index in kf.split(X1):\n",
    "    #print(\"TRAIN:\", train_index, \"TEST:\", test_index)         #ndarray type\n",
    "    \n",
    "    #Split into train and test data\n",
    "    X1_train, X1_test = X1.ix[train_index], X1.ix[test_index] #Fetch subset of df rows\n",
    "    y_train, y_test = y[train_index], y[test_index]           #Fetch subset of Series rows \n",
    "    \n",
    "    #Fit the model\n",
    "    cv_lm.fit(X1_train, y_train)\n",
    "    beta= cv_lm.coef_[0]#unbox coef array of 1 element before appending\n",
    "    coefs.append(beta)\n",
    "\n",
    "#print(coefs)"
   ]
  },
  {
   "cell_type": "code",
   "execution_count": 174,
   "metadata": {
    "collapsed": false
   },
   "outputs": [
    {
     "name": "stdout",
     "output_type": "stream",
     "text": [
      "Coefficient for RM in OLS (MEDV vs RM) =  9.10210898118\n"
     ]
    },
    {
     "data": {
      "image/png": "[encoded data removed]",
      "text/plain": [
       "<matplotlib.figure.Figure at 0x24bdf58a278>"
      ]
     },
     "metadata": {},
     "output_type": "display_data"
    }
   ],
   "source": [
    "#Plot HISTOGRAM - Coefficients\n",
    "#Prepare the data\n",
    "print('Coefficient for RM in OLS (MEDV vs RM) = ', model_1_beta)\n",
    "\n",
    "#Prepare the plot\n",
    "plt.figure(figsize=(10,8))\n",
    "plt.title('Histogram : Slope Coefficient for for Model 1    [MEDV = slope*RM + intercept]', fontsize=14)\n",
    "plt.xlabel('Estimated Slope Coefficient value(in 1000 USD per room) ', fontsize=12)\n",
    "plt.ylabel('Frequency', fontsize=12)\n",
    "plt.grid(False)\n",
    "#plt.xticks(bin_list)\n",
    "\n",
    "#Plot the data\n",
    "binwidth = 0.005\n",
    "bin_list = np.arange(min(coefs), 9.35 + binwidth, binwidth)\n",
    "plt.hist(coefs, bins= bin_list, facecolor='blue', alpha=0.5, label = 'Avg number of rooms (RM)')\n",
    "\n",
    "#Add a line\n",
    "ax = plt.gca()\n",
    "ax.axvline(model_1_beta, color='k', linestyle='dashed', linewidth=2, label = 'OLS Coefficient Estimate for RM')\n",
    "\n",
    "#Remove spines on right and top\n",
    "ax.spines['top'].set_visible(False)\n",
    "ax.spines['right'].set_visible(False)\n",
    "\n",
    "plt.legend()\n",
    "plt.show()"
   ]
  },
  {
   "cell_type": "markdown",
   "metadata": {},
   "source": [
    "#### Plot Interpretation: \n",
    "The above plot shows that the estimated coefficients (beta1) of the bivariate model follow a normal distribution as expected.\n",
    "Our model's estimation of 9.102 seems to be very close to the median value obtained across 250 Cross validated linear regression tests."
   ]
  },
  {
   "cell_type": "markdown",
   "metadata": {
    "ein.tags": [
     "worksheet-0"
    ],
    "slideshow": {
     "slide_type": "-"
    }
   },
   "source": [
    "### 1.3 Regression lines\n",
    "\n",
    "Create a scatterplot of housing price on rooms per house, and add the two regression lines from 1.1 (or 1.2 if you prefer to do so). Show the linear regression line in red, and the linear+quadratic regression line (which may have curvature) in blue.  Label these two regression lines with the corresponding regression equations (i.e. the slope and intercept of the line).\n",
    "\n",
    "\n",
    "Bonus: Add the 95% confidence bands (i.e.,  the area that has a 95% chance of containing the true regression line) to each of these lines."
   ]
  },
  {
   "cell_type": "code",
   "execution_count": 175,
   "metadata": {
    "autoscroll": "json-false",
    "collapsed": false,
    "ein.tags": [
     "worksheet-0"
    ],
    "slideshow": {
     "slide_type": "-"
    }
   },
   "outputs": [
    {
     "data": {
      "image/png": "[encoded data removed]",
      "text/plain": [
       "<matplotlib.figure.Figure at 0x24be0c53a90>"
      ]
     },
     "metadata": {},
     "output_type": "display_data"
    }
   ],
   "source": [
    "#Prepare the data\n",
    "x = X1['RM'].values\n",
    "actuals = y.values\n",
    "\n",
    "model1_preds = lm1.predict(X1)\n",
    "model2_preds = lm2.predict(X2)\n",
    "\n",
    "#Prepare the plot\n",
    "plt.figure(figsize=(10,8))\n",
    "plt.title('Linear and Quadratic fitted models : MEDV vs RM', fontsize = 14)\n",
    "plt.xlabel('RM   : Average number of rooms', fontsize = 12)\n",
    "plt.ylabel('MEDV : Median value of Boston house', fontsize = 12)\n",
    "\n",
    "#Add text blurbs\n",
    "model_1_text = \"MEDV = -34.67 + 9.102 RM\"\n",
    "model_2_text = \"MEDV = 66.06 -22.64 RM + 2.47 RM^2\"\n",
    "plt.text(s=model_1_text, x=4,  y= 0)\n",
    "plt.text(s=model_2_text, x=6.5, y= 55)\n",
    "\n",
    "#Plot the data\n",
    "plt.scatter(x, actuals, c='g', alpha = 0.4, label = 'Sample Observations')\n",
    "plt.scatter(x, model2_preds, c='b', alpha=0.4, label = 'Quadratic Model')\n",
    "plt.plot(x, model1_preds, 'r-o', alpha=0.4, label = 'Linear Model')\n",
    "\n",
    "\n",
    "# configure legend\n",
    "plt.legend(loc='best')\n",
    "\n",
    "#Remove spines on right and top\n",
    "ax = plt.gca()\n",
    "ax.spines['top'].set_visible(False)\n",
    "ax.spines['right'].set_visible(False)\n"
   ]
  },
  {
   "cell_type": "markdown",
   "metadata": {},
   "source": [
    "Let's jazz this plot up! \n",
    "\n",
    "1. Add confidence interval bands\n",
    "\n",
    "2. Add smooth lines instead of dots for predicted Curves for Linear and Quadratic Fit"
   ]
  },
  {
   "cell_type": "code",
   "execution_count": 176,
   "metadata": {
    "collapsed": false
   },
   "outputs": [
    {
     "data": {
      "image/png": "[encoded data removed]",
      "text/plain": [
       "<matplotlib.figure.Figure at 0x24bdef6c160>"
      ]
     },
     "metadata": {},
     "output_type": "display_data"
    }
   ],
   "source": [
    "# Prepare the data\n",
    "x = X1['RM'].values\n",
    "actuals = y.values\n",
    "model1_preds = lm1.predict(X1) \n",
    "model2_preds = lm2.predict(X2)\n",
    "##################################################\n",
    "#For Smooth plotting of linear and quadratic fit\n",
    "# create series of equally spaced test x-values for smooth plot\n",
    "p_x = np.arange(np.min(x),np.max(x)+1, 0.25)\n",
    "\n",
    "# now predict y based on test x-values\n",
    "p_y1 = 9.102 * p_x -34.67               #Model 1 = MEDV vs RM\n",
    "p_y2 = 66.06 -22.64*p_x + 2.47*p_x*p_x  #Model 2 = MEDV vs RM, RM^2\n",
    "\n",
    "###################################################\n",
    "#For Finding confidence intervals of the linear and quadratic fit\n",
    "\n",
    "# calculate the y-error (residuals)\n",
    "y_err1 = actuals - model1_preds\n",
    "y_err2 = actuals - model2_preds\n",
    "\n",
    "# sum of the squares of the residuals\n",
    "sq_err1 = np.sum(np.power(y_err1,2))   \n",
    "sq_err2 = np.sum(np.power(y_err2,2)) \n",
    "\n",
    "# now calculate confidence intervals for new test x-series\n",
    "mean_x = np.mean(x) # mean of x\n",
    "n = len(x)          # number of samples in original fit\n",
    "t = 1.96            # appropriate t value (where n=506, two tailed 95%)\n",
    "\n",
    "confs1 = t * np.sqrt((sq_err1/(n-2))*(1.0/n + (np.power((p_x - mean_x),2)/\n",
    "            ((np.sum(np.power(x,2)))-n*(np.power(mean_x,2))))))\n",
    "\n",
    "confs2 = t * np.sqrt((sq_err2/(n-2))*(1.0/n + (np.power((p_x - mean_x),2)/\n",
    "            ((np.sum(np.power(x,2)))-n*(np.power(mean_x,2))))))\n",
    "\n",
    "# get lower and upper confidence limits based on predicted y and confidence intervals\n",
    "lower1 = p_y1 - abs(confs1)\n",
    "upper1 = p_y1 + abs(confs1)\n",
    "\n",
    "lower2 = p_y2 - abs(confs2)\n",
    "upper2 = p_y2 + abs(confs2)\n",
    "####################################################\n",
    "\n",
    "#Prepare the plot\n",
    "plt.figure(figsize=(12,10))\n",
    "plt.title('Linear and Quadratic fitted models : MEDV vs RM ', fontsize = 14)\n",
    "plt.xlabel('RM   : Average number of rooms', fontsize = 12)\n",
    "plt.ylabel('MEDV : Median value of Boston house', fontsize = 12)\n",
    "\n",
    "#Add text blurbs\n",
    "model_1_text = \"MEDV = -34.67 + 9.102 RM\"\n",
    "model_2_text = \"MEDV = 66.06 -22.64 RM + 2.47 RM^2\"\n",
    "plt.text(s=('Linear Model :\\n' +model_1_text + '\\n\\nQuadratic Model :\\n' + model_2_text), x=7.5,  y= 0, fontsize=12)\n",
    "\n",
    " \n",
    "#Plot sample data and fitted models\n",
    "plt.scatter(x, actuals, c='g', alpha = 0.3 , label='Sample observations')\n",
    "\n",
    "#Plot smooth Linear Fit and confidence limits\n",
    "plt.plot(p_x, p_y1, 'r'  , alpha = 0.9 ,  label = 'Linear fit', linewidth =2)\n",
    "plt.plot(p_x,lower1,'r--', alpha = 0.4, label='Lower confidence limit (95%)')\n",
    "plt.plot(p_x,upper1,'r--', alpha = 0.4, label='Upper confidence limit (95%)')\n",
    "\n",
    "#Plot smooth Quadratic Fit and confidence limits\n",
    "plt.plot(p_x, p_y2, c='b', alpha = 0.9, label = 'Quadratic fit', linewidth =2)\n",
    "plt.plot(p_x,lower2,'b--', alpha = 0.4, label='Lower confidence limit (95%)')\n",
    "plt.plot(p_x,upper2,'b--', alpha = 0.4, label='Upper confidence limit (95%)')\n",
    "\n",
    "# configure legend\n",
    "plt.legend(loc='best')\n",
    " \n",
    "#Remove spines on right and top\n",
    "ax = plt.gca()\n",
    "ax.spines['top'].set_visible(False)\n",
    "ax.spines['right'].set_visible(False)\n",
    "\n",
    "# show the plot\n",
    "plt.show()\n"
   ]
  },
  {
   "cell_type": "markdown",
   "metadata": {},
   "source": [
    "#### Plot Interpretation\n",
    "The plot seems to suggest that both the models are good at certain portions of the input range. The quadratic model is more sensitive to outliers and extreme data, so it does a better job of fitting to the datapoints with low or high RM values. The linear regression model shows a higher bias, and is flat in the extreme regions, even when there are no datapoints close by.\n",
    "\n",
    "Both models do well in the central portion of the graph, as there are many sample data points there which give the model a better fit. The extreme ends of the graph have fewer sample observations, and hence don't have as much weightage in the fit.\n"
   ]
  },
  {
   "cell_type": "markdown",
   "metadata": {
    "ein.tags": [
     "worksheet-0"
    ],
    "slideshow": {
     "slide_type": "-"
    }
   },
   "source": [
    "---\n",
    "\n",
    "## Part 2: Gradient descent: Linear Regression\n",
    "\n",
    "This is where it gets fun!\n",
    "\n",
    "### 2.1 Implement gradient descent with one independent variable (Average rooms per house)\n",
    "\n",
    "Implement the batch gradient descent algorithm. Use the version you implement to regress the housing price on the number of rooms per house. Experiment with 3-4 different values of the learning rate *R*, and do the following:\n",
    "\n",
    "* Report the values of alpha and beta that minimize the loss function\n",
    "* Report the number of iterations it takes for your algorithm to converge (for each value of *R*)\n",
    "* Report the total running time of your algorithm, in seconds"
   ]
  },
  {
   "cell_type": "markdown",
   "metadata": {},
   "source": [
    "#### _Define Helper_:  Cost Function (Vanilla OLS)\n",
    "The following function helps calculate the value of OLS loss function for a given set of feature data, response data and coefficients."
   ]
  },
  {
   "cell_type": "code",
   "execution_count": 177,
   "metadata": {
    "collapsed": false
   },
   "outputs": [],
   "source": [
    "def compute_cost(X, y, theta):\n",
    "    err = X.dot(theta) - y\n",
    "    n = len(y)\n",
    "    J = np.sum((err**2))/2/n\n",
    "    return J"
   ]
  },
  {
   "cell_type": "markdown",
   "metadata": {},
   "source": [
    "#### _Define_ : Gradient Descent to minimize OLS for Bivariate Linear Regression"
   ]
  },
  {
   "cell_type": "code",
   "execution_count": 178,
   "metadata": {
    "autoscroll": "json-false",
    "collapsed": false,
    "ein.tags": [
     "worksheet-0"
    ],
    "slideshow": {
     "slide_type": "-"
    }
   },
   "outputs": [],
   "source": [
    "\"\"\"\n",
    "    Function\n",
    "    --------\n",
    "    bivariate_ols: Gradient Decent to minimize OLS. Used to find coefficients of bivariate OLS Linear regression\n",
    "\n",
    "    Parameters\n",
    "    ----------\n",
    "    xvalues, yvalues : narray xvalues: independent variable; yvalues: dependent variable\n",
    "    R: float, Learning rate\n",
    "    MaxIterations: Int, maximum number of iterations\n",
    "\n",
    "    Returns\n",
    "    -------\n",
    "    alpha: float, intercept\n",
    "    beta: float, co-efficient\n",
    "    ttaken: time taken\n",
    "    it: number of iterations\n",
    "    convergence: logical, convergence achieved?\n",
    "\"\"\"\n",
    "\n",
    "def bivariate_ols(xvalues, yvalues, R=0.01, MaxIterations=10000, init_alpha =0, init_beta=0, verbose=False):    \n",
    "    tic=time.time()\n",
    "    eps   = 0.00005 \n",
    "    n = len(yvalues)\n",
    "    p = len(xvalues[0])\n",
    "    \n",
    "    convergence = False\n",
    "    old_theta = np.array([init_alpha, init_beta]) #needed as np.array for computing cost    \n",
    "    old_cost=compute_cost(xvalues, yvalues, old_theta)\n",
    "    \n",
    "    if(verbose==True):\n",
    "        print('\\n Bivariate OLS \\n-----------------')\n",
    "        print('Learning rate        : ', R)\n",
    "        print('Initial coefficients : ', old_theta.tolist())\n",
    "        print('Maximum Iterations   : ', MaxIterations)\n",
    "        \n",
    "    \n",
    "    num_iter=  1  \n",
    "    cost_history  = []\n",
    "    theta_history = []\n",
    "    cost_history.append(old_cost)\n",
    "    theta_history.append(old_theta.tolist())\n",
    "\n",
    "    \n",
    "    for i in range(MaxIterations-1):         \n",
    "        #Calculate Gradient for OLS\n",
    "        err = yvalues - xvalues.dot(old_theta)\n",
    "        gradient = -xvalues.T.dot(err)/n        \n",
    "\n",
    "        #Update the coefficients\n",
    "        theta = old_theta - R*gradient\n",
    "\n",
    "        #Calculate current cost\n",
    "        cost= compute_cost(xvalues, yvalues, theta)        \n",
    "        \n",
    "        #Store the costs\n",
    "        cost_history.append(cost)\n",
    "        theta_history.append(theta.tolist())\n",
    "        num_iter+=1\n",
    "\n",
    "        #Check for convergence\n",
    "        if(old_cost - cost <= eps):\n",
    "            print('\\nThe loss function has leveled off.')\n",
    "            convergence= True\n",
    "            break\n",
    "        \n",
    "        theta_change = abs(theta - old_theta)\n",
    "        if all( diff <= eps for diff in theta_change) == True:\n",
    "            print('\\nThe coefficients have leveled off.')\n",
    "            convergence = True\n",
    "            break\n",
    "            \n",
    "        old_cost  = cost\n",
    "        old_theta = theta\n",
    "    \n",
    "    toc = time.time()\n",
    "    ttaken=toc-tic\n",
    "    if(verbose==True):\n",
    "        print('\\nalpha  (intercept)   : ', theta[0])\n",
    "        print('beta   (coefficient) : ', theta[1])\n",
    "        print('Time taken           : ', ttaken)\n",
    "        print('Iterations           : ', num_iter)\n",
    "        print('Convergence?         : ', convergence)\n",
    "        #print('\\nLoss history         : ', cost_history)\n",
    "        #print('\\nTheta history        : ', theta_history)\n",
    "        print(\"------------------------------------------\")\n",
    "\n",
    "    return theta[0], theta[1], ttaken, num_iter, convergence, cost_history, theta_history"
   ]
  },
  {
   "cell_type": "markdown",
   "metadata": {},
   "source": [
    "#### _Define Helper_: Standardize a dataframe, Series or np array before OLS\n",
    "\n",
    "- This function has been moved here from section 2.2, to be defined before helper function \"prepare_df_for_ols\" that follows.\n",
    "- CAUTION: This function returns a tuple of 3 values; the standardized data, mean and sd.\n",
    "- This method works on both dataframes and ndarrays."
   ]
  },
  {
   "cell_type": "code",
   "execution_count": 179,
   "metadata": {
    "autoscroll": "json-false",
    "collapsed": false,
    "ein.tags": [
     "worksheet-0"
    ],
    "slideshow": {
     "slide_type": "-"
    }
   },
   "outputs": [],
   "source": [
    "def standardize(raw_data):\n",
    "    \"\"\"\n",
    "    standardizes raw data and returns\n",
    "    standardized data, mean by column, sd by column\n",
    "    \"\"\"\n",
    "    mu = np.mean(raw_data, axis = 0)\n",
    "    sd = np.std(raw_data, axis = 0)\n",
    "    return (raw_data - mu) / sd, mu, sd\n"
   ]
  },
  {
   "cell_type": "markdown",
   "metadata": {},
   "source": [
    "#### _Define helper_: Convert input Dataframe to np.array, with added intercept column\n",
    "- This function takes care of all the pre-processing for a dataframe before feeding into a model fitting algorithm like Gradient Descent. \n",
    "- Options include: Choosing feature columns, Standardizing selected features, and adding an intercept column of 1s.\n",
    "- The returned array has dimensions (n , p+ 0/1) where n = number of rows in original df, p = number of selected features, and the 1 extra column added for intercept \n",
    "- The return type of this function is an ndarray because the algorithms written below are much more performant with matrix or array inputs as oppposed to Dataframes. "
   ]
  },
  {
   "cell_type": "code",
   "execution_count": 180,
   "metadata": {
    "collapsed": false
   },
   "outputs": [],
   "source": [
    "##Returns nd array from selected columns of a pandas DataFrame\n",
    "#Series not accepted as input\n",
    "def prepare_df_for_ols(df, feature_list=[], add_intercept = True, verbose = False, standardize_features=False):\n",
    "    if feature_list==[]: #All columns considered by default\n",
    "        feature_list= df.columns.tolist() \n",
    "    \n",
    "    #Keep only selected features\n",
    "    #standardize data if needed\n",
    "    if(standardize_features==False):\n",
    "        x_df = df.ix[:, feature_list]        \n",
    "    else:\n",
    "        x_df, _, _ = standardize(df.ix[:, feature_list])\n",
    "    \n",
    "    #add column of 1s to df at the front\n",
    "    #do this only after standardization(if needed)\n",
    "    if(add_intercept ==True):\n",
    "        x_df.insert(loc=0, column='intercept', value=1) \n",
    "    \n",
    "    if verbose ==True:\n",
    "        print('\\nPrepare DataFrame for OLS\\n------------------------')\n",
    "        print('Standardized features  ? : '   , standardize_features )\n",
    "        print('Intercept column added ? : '   , add_intercept )\n",
    "        print('Columns considered       : '   , feature_list)\n",
    "        print('\\nDataFrame to Array for   :\\n', x_df.head())\n",
    "    \n",
    "    return np.array(x_df)"
   ]
  },
  {
   "cell_type": "code",
   "execution_count": 181,
   "metadata": {
    "collapsed": false
   },
   "outputs": [
    {
     "name": "stdout",
     "output_type": "stream",
     "text": [
      "\n",
      "Prepare DataFrame for OLS\n",
      "------------------------\n",
      "Standardized features  ? :  False\n",
      "Intercept column added ? :  True\n",
      "Columns considered       :  ['RM']\n",
      "\n",
      "DataFrame to Array for   :\n",
      "    intercept     RM\n",
      "0          1  6.575\n",
      "1          1  6.421\n",
      "2          1  7.185\n",
      "3          1  6.998\n",
      "4          1  7.147\n"
     ]
    }
   ],
   "source": [
    "#Prepare the inputs\n",
    "x1_arr = prepare_df_for_ols(boston_df, feature_list=['RM'], verbose=True)\n",
    "y_arr = np.array(y)"
   ]
  },
  {
   "cell_type": "markdown",
   "metadata": {},
   "source": [
    "#### Test Bivariate OLS"
   ]
  },
  {
   "cell_type": "code",
   "execution_count": 182,
   "metadata": {
    "collapsed": false
   },
   "outputs": [
    {
     "name": "stdout",
     "output_type": "stream",
     "text": [
      "\n",
      "Models for predicting MEDV as a function of RM\n",
      "\n",
      " Bivariate OLS \n",
      "-----------------\n",
      "Learning rate        :  0.1\n",
      "Initial coefficients :  [0, 0]\n",
      "Maximum Iterations   :  20000\n",
      "\n",
      "The loss function has leveled off.\n",
      "\n",
      "alpha  (intercept)   :  2.25328063241\n",
      "beta   (coefficient) :  14.609501502\n",
      "Time taken           :  0.003997802734375\n",
      "Iterations           :  2\n",
      "Convergence?         :  True\n",
      "------------------------------------------\n",
      "\n",
      " Bivariate OLS \n",
      "-----------------\n",
      "Learning rate        :  0.048\n",
      "Initial coefficients :  [0, 0]\n",
      "Maximum Iterations   :  10000\n",
      "\n",
      "The loss function has leveled off.\n",
      "\n",
      "alpha  (intercept)   :  -32.0208764387\n",
      "beta   (coefficient) :  8.68555573791\n",
      "Time taken           :  0.2650024890899658\n",
      "Iterations           :  4483\n",
      "Convergence?         :  True\n",
      "------------------------------------------\n",
      "\n",
      " Bivariate OLS \n",
      "-----------------\n",
      "Learning rate        :  0.01\n",
      "Initial coefficients :  [0, 0]\n",
      "Maximum Iterations   :  20000\n",
      "\n",
      "The loss function has leveled off.\n",
      "\n",
      "alpha  (intercept)   :  -28.861938692\n",
      "beta   (coefficient) :  8.1889547093\n",
      "Time taken           :  0.7830941677093506\n",
      "Iterations           :  14992\n",
      "Convergence?         :  True\n",
      "------------------------------------------\n",
      "\n",
      " Bivariate OLS \n",
      "-----------------\n",
      "Learning rate        :  0.001\n",
      "Initial coefficients :  [0, 0]\n",
      "Maximum Iterations   :  60000\n",
      "\n",
      "The loss function has leveled off.\n",
      "\n",
      "alpha  (intercept)   :  -16.2992913233\n",
      "beta   (coefficient) :  6.21404285425\n",
      "Time taken           :  2.36525821685791\n",
      "Iterations           :  54155\n",
      "Convergence?         :  True\n",
      "------------------------------------------\n"
     ]
    }
   ],
   "source": [
    "print('\\nModels for predicting MEDV as a function of RM')\n",
    "\n",
    "a = bivariate_ols(x1_arr, y_arr, R=0.1,    MaxIterations= 20000, verbose=True)\n",
    "b = bivariate_ols(x1_arr, y_arr, R=0.048,  MaxIterations= 10000, verbose=True)\n",
    "c = bivariate_ols(x1_arr, y_arr, R=0.01,   MaxIterations= 20000, verbose=True)\n",
    "d=  bivariate_ols(x1_arr, y_arr, R=0.001,  MaxIterations= 60000, verbose=True)"
   ]
  },
  {
   "cell_type": "markdown",
   "metadata": {},
   "source": [
    "#### Results: Bivariate OLS\n",
    "The R value that was tried and found to take very little time and number of iterations was 0.048.\n",
    "The smaller the learning rate R, the smaller the step size, which leads to the gradient descent taking longer time and more number of iterations to find the optima.\n",
    "\n",
    "* Report the values of alpha and beta that minimize the loss function\n",
    "\n",
    "> The alpha and beta values are close to the expected estimates of -34, 9.1 from Sklearn Linear Regression.\n",
    "\n",
    "> The **closest estimated alpha, beta were: -32.02, 8.69** at R=0.048\n",
    "\n",
    "> R=0.1   \n",
    "alpha (intercept)  : 2.253   beta (coefficient) : 14.609    \n",
    "(Incorrect Model) This model has too large a step size and doesn't find the right coefficients.\n",
    "\n",
    "> R=0.048   \n",
    "alpha (intercept)  : -32.021   beta (coefficient) : 8.686\n",
    "\n",
    "> R=0.01   \n",
    "alpha (intercept)  : -28.861 beta (coefficient) :  8.189\n",
    "\n",
    "> R=0.001   \n",
    "alpha  (intercept) : -16.299 beta (coefficient) : 6.214\n",
    "\n",
    "\n",
    "* Report the number of iterations it takes for your algorithm to converge (for each value of R)\n",
    "\n",
    "> Higher R = lesser number of iterations for convergence.\n",
    "\n",
    "> R=0.1 , num_iter = 2\n",
    "\n",
    "> R=0.048 , num_iter = 4483\n",
    "\n",
    "> R=0.01 , num_iter = 14992\n",
    "\n",
    "> R=0.001, num_iter = 54155\n",
    "\n",
    "* Report the total running time of your algorithm, in seconds\n",
    "\n",
    "> Higher R = lesser time for algorithm\n",
    "\n",
    "> R=0.1 , time taken = 0.0 secs\n",
    "\n",
    "> R=0.048 , num_iter =  0.25 secs\n",
    "\n",
    "> R=0.01 , time taken = 0.70 secs\n",
    "\n",
    "> R=0.001, time taken = 2.7 seconds\n",
    "\n"
   ]
  },
  {
   "cell_type": "code",
   "execution_count": 183,
   "metadata": {
    "collapsed": true
   },
   "outputs": [],
   "source": [
    "#Plot all the R together!\n",
    "#Loss vs number of iterations (Cost_history) For all R\n",
    "\n",
    "#Choose 1 good, 1 bad R, and plot the alpha vs iteration,  beta vs iteration\n",
    "\n",
    "#TODO\n"
   ]
  },
  {
   "cell_type": "markdown",
   "metadata": {
    "ein.tags": [
     "worksheet-0"
    ],
    "slideshow": {
     "slide_type": "-"
    }
   },
   "source": [
    "### 2.2 Data normalization (done for you!)\n",
    "\n",
    "Soon, you will implement a version of gradient descent that can use an arbitrary number of independent variables. Before doing this, we want to give you some code in case you want to standardize your features.\n",
    "\n",
    "#### Note: Moved the standardize function to before  *\"prepare_df_for_ols ()\"*"
   ]
  },
  {
   "cell_type": "markdown",
   "metadata": {
    "ein.tags": [
     "worksheet-0"
    ],
    "slideshow": {
     "slide_type": "-"
    }
   },
   "source": [
    "### 2.3 Implement gradient descent with an arbitrary number of independent variables\n",
    "\n",
    "Now that you have a simple version of gradient descent working, create a version of gradient descent that can take more than one independent variable.  Assume all independent variables will be continuous.  Test your algorithm using CRIM and RM as independent variables. Standardize these variables before before inputting them to the gradient descent algorithm. \n",
    "\n",
    "As before,  report and interpret your estimated coefficients, the number of iterations before convergence, and the total running time of your algorithm. Experiment with the following values of R: 0.1, 0.01, and 0.001.\n",
    "\n",
    "* *Hint 1: Be careful to implement this efficiently, otherwise it might take a long time for your code to run. Commands like `np.dot` can be a good friend to you on this problem*"
   ]
  },
  {
   "cell_type": "markdown",
   "metadata": {},
   "source": [
    "#### _Define_ : Gradient Descent for Multivariate Linear Regression"
   ]
  },
  {
   "cell_type": "code",
   "execution_count": 184,
   "metadata": {
    "autoscroll": "json-false",
    "collapsed": false,
    "ein.tags": [
     "worksheet-0"
    ],
    "slideshow": {
     "slide_type": "-"
    }
   },
   "outputs": [],
   "source": [
    "\"\"\"\n",
    "Function\n",
    "--------\n",
    "multiple_ols\n",
    "    Gradient Decent to minimize OLS. Used to find co-efficients of bivariate OLS Linear regression\n",
    "\n",
    "Parameters\n",
    "----------\n",
    "xvalue_matrix, yvalues : narray\n",
    "    xvalue_matrix: independent variable\n",
    "    yvalues: dependent variable\n",
    "    \n",
    "R: float\n",
    "    Learning rate\n",
    "    \n",
    "MaxIterations: Int\n",
    "    maximum number of iterations\n",
    "\n",
    "Returns\n",
    "-------\n",
    "beta: array[float], coefficients\n",
    "\"\"\"\n",
    "\n",
    "def multivariate_ols(xvalues, yvalues, R=0.01, MaxIterations=1000, init_theta =[], verbose=False):\n",
    "    \n",
    "    tic=time.time()\n",
    "    eps   = 0.0001 \n",
    "    n = len(yvalues)\n",
    "    p = len(xvalues[0]) #array doesn't have shape\n",
    "    \n",
    "    #Initialize coefficients as all 0 by default\n",
    "    if(init_theta==[]):\n",
    "        old_theta = np.array([0]*p) #list of p 0's as np.array for computing cost    \n",
    "    else:\n",
    "        old_theta=np.array(init_theta)\n",
    "        \n",
    "    convergence = False    \n",
    "    old_cost=compute_cost(xvalues, yvalues, old_theta)\n",
    "    \n",
    "    if(verbose==True):\n",
    "        print('\\n Multivariate OLS \\n-----------------')\n",
    "        print('Number of features   : ', p-1)\n",
    "        print('Learning rate        : ', R)\n",
    "        print('Initial coefficients : ', old_theta.tolist())\n",
    "    \n",
    "    #Store inital cost and coefficients history\n",
    "    num_iter=  1  \n",
    "    cost_history  = []\n",
    "    theta_history = []\n",
    "    cost_history.append(old_cost)\n",
    "    theta_history.append(old_theta.tolist())\n",
    "    \n",
    "    for i in range(MaxIterations-1):         \n",
    "        #Calculate Gradient for OLS\n",
    "        err = yvalues - xvalues.dot(old_theta)\n",
    "        gradient = -xvalues.T.dot(err)/n        \n",
    "\n",
    "        #Update the coefficients\n",
    "        theta = old_theta - R*gradient\n",
    "\n",
    "        #Calculate current cost\n",
    "        cost= compute_cost(xvalues, yvalues, theta)        \n",
    "        \n",
    "        #Store the costs\n",
    "        cost_history.append(cost)\n",
    "        theta_history.append(theta.tolist())\n",
    "        num_iter+=1\n",
    "\n",
    "        #Check for convergence\n",
    "        if(old_cost - cost <= eps):\n",
    "            status=1 #loss leveled\n",
    "            convergence= True\n",
    "            break\n",
    "        \n",
    "        theta_change = abs(theta - old_theta)\n",
    "        if all( diff <= eps for diff in theta_change) == True:\n",
    "            status=2 #coefs leveled\n",
    "            convergence = True\n",
    "            break\n",
    "            \n",
    "        old_cost  = cost\n",
    "        old_theta = theta\n",
    "    \n",
    "    toc = time.time()\n",
    "    ttaken=toc-tic\n",
    "    if(verbose==True):\n",
    "        if(status ==1):\n",
    "            print('\\nThe loss function has leveled off.')\n",
    "        elif(status ==2):\n",
    "            print('\\nThe coefficients have leveled off.\\n')\n",
    "            \n",
    "        print('\\nintercept, coefficients : ', theta)\n",
    "        print('Time taken              : ', ttaken)\n",
    "        print('Iterations              : ', num_iter)\n",
    "        print('Convergence?            : ', convergence)\n",
    "        #print('\\nLoss history           : ', cost_history)\n",
    "        #print('\\nTheta history          : ', theta_history)\n",
    "        print(\"------------------------------------------\")\n",
    "\n",
    "    return theta, ttaken, num_iter, convergence, cost_history, theta_history"
   ]
  },
  {
   "cell_type": "markdown",
   "metadata": {},
   "source": [
    "#### Test Multivariate OLS\n",
    "Let's check what the coeffs with the SK learn OLS function for verification"
   ]
  },
  {
   "cell_type": "code",
   "execution_count": 185,
   "metadata": {
    "collapsed": false
   },
   "outputs": [
    {
     "name": "stdout",
     "output_type": "stream",
     "text": [
      "Standardized features\n",
      "\n",
      "SKLearn Linear Regression\n",
      "-------------------------\n",
      "Model : MEDV  vs  ['RM', 'CRIM'] \n",
      "\n",
      "Number of Features               : 2\n",
      "Intercept Value                  : 22.5328063241\n",
      "Coefficient Values (No intercept): [ 5.89441657 -2.24860926]\n"
     ]
    }
   ],
   "source": [
    "print('Standardized features')\n",
    "features=['RM', 'CRIM']\n",
    "x ,_,_     = standardize(boston_df)\n",
    "_, _, model_coefs  = sk_ols(x, y, target_col=\"MEDV\", feature_list=features)"
   ]
  },
  {
   "cell_type": "markdown",
   "metadata": {},
   "source": [
    "#### Prepare the columns for testing"
   ]
  },
  {
   "cell_type": "code",
   "execution_count": 186,
   "metadata": {
    "collapsed": false
   },
   "outputs": [
    {
     "name": "stdout",
     "output_type": "stream",
     "text": [
      "\n",
      "Prepare DataFrame for OLS\n",
      "------------------------\n",
      "Standardized features  ? :  True\n",
      "Intercept column added ? :  True\n",
      "Columns considered       :  ['RM', 'CRIM']\n",
      "\n",
      "DataFrame to Array for   :\n",
      "    intercept        RM      CRIM\n",
      "0          1  0.413672 -0.417713\n",
      "1          1  0.194274 -0.415269\n",
      "2          1  1.282714 -0.415272\n",
      "3          1  1.016303 -0.414680\n",
      "4          1  1.228577 -0.410409\n"
     ]
    }
   ],
   "source": [
    "#Prepare the standardized inputs\n",
    "features = ['RM', 'CRIM']\n",
    "x2_norm_arr = prepare_df_for_ols(boston_df, feature_list=features, standardize_features=True,  verbose=True)\n",
    "#no need to standardize y\n",
    "#print(y_arr[:5])"
   ]
  },
  {
   "cell_type": "code",
   "execution_count": 187,
   "metadata": {
    "collapsed": false,
    "scrolled": true
   },
   "outputs": [
    {
     "name": "stdout",
     "output_type": "stream",
     "text": [
      "\n",
      " Models for MEDV as a function of STANDARDIZED : ['RM', 'CRIM']\n",
      "\n",
      " Multivariate OLS \n",
      "-----------------\n",
      "Number of features   :  2\n",
      "Learning rate        :  0.001\n",
      "Initial coefficients :  [0, 0, 0]\n",
      "\n",
      "The loss function has leveled off.\n",
      "\n",
      "intercept, coefficients :  [ 22.2271146    5.80927673  -2.29086869]\n",
      "Time taken              :  0.25342631340026855\n",
      "Iterations              :  4299\n",
      "Convergence?            :  True\n",
      "------------------------------------------\n",
      "\n",
      " Multivariate OLS \n",
      "-----------------\n",
      "Number of features   :  2\n",
      "Learning rate        :  0.01\n",
      "Initial coefficients :  [0, 0, 0]\n",
      "\n",
      "The loss function has leveled off.\n",
      "\n",
      "intercept, coefficients :  [ 22.43861816   5.86381373  -2.26908356]\n",
      "Time taken              :  0.03125143051147461\n",
      "Iterations              :  546\n",
      "Convergence?            :  True\n",
      "------------------------------------------\n",
      "\n",
      " Multivariate OLS \n",
      "-----------------\n",
      "Number of features   :  2\n",
      "Learning rate        :  0.1\n",
      "Initial coefficients :  [0, 0, 0]\n",
      "\n",
      "The loss function has leveled off.\n",
      "\n",
      "intercept, coefficients :  [ 22.50623973   5.88335351  -2.2577016 ]\n",
      "Time taken              :  0.0\n",
      "Iterations              :  65\n",
      "Convergence?            :  True\n",
      "------------------------------------------\n"
     ]
    }
   ],
   "source": [
    "print('\\n Models for MEDV as a function of STANDARDIZED :', features)\n",
    "\n",
    "a = multivariate_ols(x2_norm_arr, y_arr, R=0.001, MaxIterations=10000,  verbose=True)\n",
    "b = multivariate_ols(x2_norm_arr, y_arr, R=0.01,  MaxIterations=10000,  verbose=True)\n",
    "c = multivariate_ols(x2_norm_arr, y_arr, R=0.1,   MaxIterations=10000,  verbose=True)"
   ]
  },
  {
   "cell_type": "markdown",
   "metadata": {},
   "source": [
    "#### Results: Standardized Multivariate OLS\n",
    "* The higher the learning rate R, the larger the step size, which leads to the gradient descent taking lesser time and fewer iterations to find the optima.\n",
    "\n",
    "* The 3 different R values were easily able to find the answers in a relatively small time. \n",
    "\n",
    "> Initial coefficients :  [0, 0, 0]    \n",
    "Features : ['RM', 'CRIM']    \n",
    "(SkLearn) Intercept, Coefficients: [22.533 5.894 -2.249]\n",
    "\n",
    "* Report the coefficient values, iterations, time for R = 0.001, 0.01, 0.1\n",
    "\n",
    "> Learning rate        :  0.001    \n",
    "intercept, coefficients :  [ 22.227    5.809  -2.291]    \n",
    "Time taken              :  0.2499    \n",
    "Iterations              :  4299    \n",
    "Convergence?            :  True\n",
    "\n",
    "> Learning rate        :  0.001     \n",
    "intercept, coefficients :  [ 22.439   5.864  -2.269]    \n",
    "Time taken              :  0.0280    \n",
    "Iterations              :  546    \n",
    "Convergence?            :  True\n",
    "\n",
    "\n",
    "> Learning rate        :  0.1    \n",
    "intercept, coefficients :  [ 22.506   5.883  -2.258 ]    \n",
    "Time taken              :  0.0    \n",
    "Iterations              :  65    \n",
    "Convergence?            :  True\n"
   ]
  },
  {
   "cell_type": "markdown",
   "metadata": {
    "ein.tags": [
     "worksheet-0"
    ],
    "slideshow": {
     "slide_type": "-"
    }
   },
   "source": [
    "### 2.4 Compare standardized vs. non-standardized results\n",
    "\n",
    "Repeat the analysis from 2.3, but this time do not standardize your variables - i.e., use the original data. Use the same three values of R (0.1, 0.01, and 0.001). What do you notice about the running time and convergence properties of your algorithm?"
   ]
  },
  {
   "cell_type": "markdown",
   "metadata": {},
   "source": [
    "#### Results : Non-standardized Mutivariate OLS"
   ]
  },
  {
   "cell_type": "code",
   "execution_count": 188,
   "metadata": {
    "collapsed": false
   },
   "outputs": [
    {
     "name": "stdout",
     "output_type": "stream",
     "text": [
      "No standardization\n",
      "\n",
      "SKLearn Linear Regression\n",
      "-------------------------\n",
      "Model : MEDV  vs  ['RM', 'CRIM'] \n",
      "\n",
      "Number of Features               : 2\n",
      "Intercept Value                  : -29.3016813467\n",
      "Coefficient Values (No intercept): [ 8.3975317 -0.2618229]\n"
     ]
    }
   ],
   "source": [
    "print('No standardization')\n",
    "p = sk_ols(boston_df, y, target_col=\"MEDV\", feature_list=['RM', 'CRIM'])"
   ]
  },
  {
   "cell_type": "markdown",
   "metadata": {},
   "source": [
    "#### Prepare the columns for testing"
   ]
  },
  {
   "cell_type": "code",
   "execution_count": 189,
   "metadata": {
    "collapsed": false
   },
   "outputs": [],
   "source": [
    "#Prepare the standardized inputs\n",
    "features = ['RM', 'CRIM']\n",
    "x2_arr = prepare_df_for_ols(boston_df, feature_list=features, standardize_features=False)\n",
    "#no need to standardize y\n",
    "#print(y_arr[:5])"
   ]
  },
  {
   "cell_type": "code",
   "execution_count": 190,
   "metadata": {
    "collapsed": false,
    "scrolled": true
   },
   "outputs": [
    {
     "name": "stdout",
     "output_type": "stream",
     "text": [
      "\n",
      "Models for predicting MEDV as a function of NON-STANDARDIZED: ['RM', 'CRIM']\n",
      "\n",
      " Multivariate OLS \n",
      "-----------------\n",
      "Number of features   :  2\n",
      "Learning rate        :  0.001\n",
      "Initial coefficients :  [0, 0, 0]\n",
      "\n",
      "The loss function has leveled off.\n",
      "\n",
      "intercept, coefficients :  [-1.41038131  4.0625107  -0.35498675]\n",
      "Time taken              :  0.3258087635040283\n",
      "Iterations              :  6160\n",
      "Convergence?            :  True\n",
      "------------------------------------------\n",
      "\n",
      " Multivariate OLS \n",
      "-----------------\n",
      "Number of features   :  2\n",
      "Learning rate        :  0.01\n",
      "Initial coefficients :  [0, 0, 0]\n",
      "\n",
      "The loss function has leveled off.\n",
      "\n",
      "intercept, coefficients :  [-20.48282836   7.02685651  -0.29128005]\n",
      "Time taken              :  0.4970524311065674\n",
      "Iterations              :  10894\n",
      "Convergence?            :  True\n",
      "------------------------------------------\n",
      "\n",
      " Multivariate OLS \n",
      "-----------------\n",
      "Number of features   :  2\n",
      "Learning rate        :  0.1\n",
      "Initial coefficients :  [0, 0, 0]\n",
      "\n",
      "The loss function has leveled off.\n",
      "\n",
      "intercept, coefficients :  [  2.25328063  14.6095015    5.05318254]\n",
      "Time taken              :  0.0\n",
      "Iterations              :  2\n",
      "Convergence?            :  True\n",
      "------------------------------------------\n"
     ]
    }
   ],
   "source": [
    "print('\\nModels for predicting MEDV as a function of NON-STANDARDIZED:', features)\n",
    "\n",
    "d = multivariate_ols(x2_arr, y_arr, R=0.001, MaxIterations=10000,  verbose=True)\n",
    "e = multivariate_ols(x2_arr, y_arr, R=0.01,  MaxIterations=20000,  verbose=True)\n",
    "f = multivariate_ols(x2_arr, y_arr, R=0.1,   MaxIterations=10000,  verbose=True)"
   ]
  },
  {
   "cell_type": "code",
   "execution_count": 191,
   "metadata": {
    "collapsed": true
   },
   "outputs": [],
   "source": [
    "#Plot the difference between the standardized and non standardized ones\n",
    "#TODO\n",
    "# Plot the convergence for different R"
   ]
  },
  {
   "cell_type": "markdown",
   "metadata": {},
   "source": [
    "#### _Comparison_:  Multivariate OLS with Standardized & Non-Standardized Inputs\n",
    "Running time and Convergence properties of the gradient descent change based on whether the inputs are standardized or not.\n",
    "\n",
    "- Non-standardized data tends to take longer time in the algorithm.\n",
    "- The coefficients are very wiggly and way different even when they do converge, their accuracy is not guaranteed, e.g. in case of R = 0.001.\n"
   ]
  },
  {
   "cell_type": "markdown",
   "metadata": {
    "ein.tags": [
     "worksheet-0"
    ],
    "slideshow": {
     "slide_type": "-"
    }
   },
   "source": [
    "---\n",
    "\n",
    "## 3. Prediction\n",
    "\n",
    "Let's use our fitted model to make predictions about housing prices. Since the focus is now on prediction rather than the interpretation of the coefficients, first standardize your features before proceeding.\n",
    "\n",
    "### 3.1 Cross-Validation\n",
    "\n",
    "Unless you were careful above, you probably overfit your data again. Let's fix that in one of two ways. If you're feeling confident, use k-fold cross-validation to re-fit the multiple regression from 2.3 above, and report your estimated coefficients (there should be three, corresponding to the intercept and the two coefficients for CRIM and RM). Or if you want to do the quick and dirty version, randomly divide your data into a training set (66%) and testing set (34%) and use the training set to re-fit the regression from 2.3 above. "
   ]
  },
  {
   "cell_type": "markdown",
   "metadata": {},
   "source": [
    "#### 10-fold Cross Validation : MEDV vs ['RM']"
   ]
  },
  {
   "cell_type": "code",
   "execution_count": 192,
   "metadata": {
    "autoscroll": "json-false",
    "collapsed": false,
    "ein.tags": [
     "worksheet-0"
    ],
    "slideshow": {
     "slide_type": "-"
    }
   },
   "outputs": [
    {
     "data": {
      "text/plain": [
       "10"
      ]
     },
     "execution_count": 192,
     "metadata": {},
     "output_type": "execute_result"
    }
   ],
   "source": [
    "num_splits = 10\n",
    "kf = KFold(n_splits=num_splits, shuffle=False, random_state=1)\n",
    "kf.get_n_splits(boston_df)"
   ]
  },
  {
   "cell_type": "code",
   "execution_count": 193,
   "metadata": {
    "collapsed": false
   },
   "outputs": [
    {
     "name": "stdout",
     "output_type": "stream",
     "text": [
      "Cross-validating Model: MEDV vs  ['RM'] \n",
      "----------------------\n",
      "Estimating coefficients for Training Split # :  1\n",
      "Estimated Coefficients : [ 22.66705077   6.50324666] \n",
      "\n",
      "Estimating coefficients for Training Split # :  2\n",
      "Estimated Coefficients : [ 22.23771876   6.49597983] \n",
      "\n",
      "Estimating coefficients for Training Split # :  3\n",
      "Estimated Coefficients : [ 22.93611887   6.55573644] \n",
      "\n",
      "Estimating coefficients for Training Split # :  4\n",
      "Estimated Coefficients : [ 21.46208844   5.56437983] \n",
      "\n",
      "Estimating coefficients for Training Split # :  5\n",
      "Estimated Coefficients : [ 21.85415606   5.97722791] \n",
      "\n",
      "Estimating coefficients for Training Split # :  6\n",
      "Estimated Coefficients : [ 21.44261485   5.5082732 ] \n",
      "\n",
      "Estimating coefficients for Training Split # :  7\n",
      "Estimated Coefficients : [ 22.5133927   6.598502 ] \n",
      "\n",
      "Estimating coefficients for Training Split # :  8\n",
      "Estimated Coefficients : [ 22.99684487   6.88394251] \n",
      "\n",
      "Estimating coefficients for Training Split # :  9\n",
      "Estimated Coefficients : [ 23.41560692   6.71057044] \n",
      "\n",
      "Estimating coefficients for Training Split # :  10\n",
      "Estimated Coefficients : [ 22.84607325   6.57783642] \n",
      "\n"
     ]
    }
   ],
   "source": [
    "coefs1 = []\n",
    "features=['RM']\n",
    "X3_df = boston_df[features] #Dataframe\n",
    "print('Cross-validating Model: MEDV vs ', features, '\\n----------------------')\n",
    "\n",
    "i=0\n",
    "for train_index, test_index in kf.split(X3_df):\n",
    "    print('Estimating coefficients for Training Split # : ', i+1)\n",
    "    #print(\"TRAIN:\", train_index, \"TEST:\", test_index)                #ndarray type\n",
    "    \n",
    "    #Fetch data into training set\n",
    "    X3_train = X3_df.ix[train_index]   #Fetch subset of df rows\n",
    "    y_train  = y[train_index]          #Fetch subset of Series rows \n",
    "    \n",
    "    #Prepare TRAIN data: Choose features, Standardize X, Add Intercept to X, convert to Array\n",
    "    x_train_norm_arr = prepare_df_for_ols(X3_train, feature_list=features, add_intercept=True, standardize_features=True)\n",
    "    y_train_arr = np.array(y_train)\n",
    "    \n",
    "    #Estimate parameters using Multivariate Gradient Descent\n",
    "    res = multivariate_ols(x_train_norm_arr, y_train_arr, R=0.01,   MaxIterations=10000,  verbose=False) \n",
    "    theta, ttaken, num_iter, convergence, cost_history, theta_history = res\n",
    "    print('Estimated Coefficients :', theta,'\\n')\n",
    "    \n",
    "    coefs1.append(theta)\n",
    "    i+=1"
   ]
  },
  {
   "cell_type": "code",
   "execution_count": 194,
   "metadata": {
    "collapsed": false,
    "scrolled": true
   },
   "outputs": [
    {
     "name": "stdout",
     "output_type": "stream",
     "text": [
      "Calculated coefficients for Bivariate OLS using CV :\n",
      " [[ 22.66705077   6.50324666]\n",
      " [ 22.23771876   6.49597983]\n",
      " [ 22.93611887   6.55573644]\n",
      " [ 21.46208844   5.56437983]\n",
      " [ 21.85415606   5.97722791]\n",
      " [ 21.44261485   5.5082732 ]\n",
      " [ 22.5133927    6.598502  ]\n",
      " [ 22.99684487   6.88394251]\n",
      " [ 23.41560692   6.71057044]\n",
      " [ 22.84607325   6.57783642]]\n"
     ]
    }
   ],
   "source": [
    "coefs1 = np.array(coefs1)\n",
    "print('Calculated coefficients for Bivariate OLS using CV :\\n', coefs1)"
   ]
  },
  {
   "cell_type": "markdown",
   "metadata": {},
   "source": [
    "#### 10-fold Cross Validation : MEDV vs ['RM', 'CRIM']"
   ]
  },
  {
   "cell_type": "code",
   "execution_count": 195,
   "metadata": {
    "autoscroll": "json-false",
    "collapsed": false,
    "ein.tags": [
     "worksheet-0"
    ],
    "slideshow": {
     "slide_type": "-"
    }
   },
   "outputs": [
    {
     "data": {
      "text/plain": [
       "10"
      ]
     },
     "execution_count": 195,
     "metadata": {},
     "output_type": "execute_result"
    }
   ],
   "source": [
    "num_splits = 10\n",
    "kf = KFold(n_splits=num_splits, shuffle=False, random_state=1)\n",
    "kf.get_n_splits(boston_df)"
   ]
  },
  {
   "cell_type": "code",
   "execution_count": 196,
   "metadata": {
    "collapsed": false
   },
   "outputs": [
    {
     "name": "stdout",
     "output_type": "stream",
     "text": [
      "Cross-validating Model: MEDV vs  ['RM', 'CRIM'] \n",
      "----------------------\n",
      "Estimating coefficients for Training Split # :  1\n",
      "Estimated Coefficients : [ 22.66800224   5.92424226  -2.44074315] \n",
      "\n",
      "Estimating coefficients for Training Split # :  2\n",
      "Estimated Coefficients : [ 22.23867125   5.97220126  -2.38516284] \n",
      "\n",
      "Estimating coefficients for Training Split # :  3\n",
      "Estimated Coefficients : [ 22.93801553   5.94917575  -2.47509783] \n",
      "\n",
      "Estimating coefficients for Training Split # :  4\n",
      "Estimated Coefficients : [ 21.46208844   5.07566341  -2.31270931] \n",
      "\n",
      "Estimating coefficients for Training Split # :  5\n",
      "Estimated Coefficients : [ 21.85415606   5.46139988  -2.33805823] \n",
      "\n",
      "Estimating coefficients for Training Split # :  6\n",
      "Estimated Coefficients : [ 21.44164892   5.03377867  -2.34548907] \n",
      "\n",
      "Estimating coefficients for Training Split # :  7\n",
      "Estimated Coefficients : [ 22.51433772   6.04504055  -2.42890709] \n",
      "\n",
      "Estimating coefficients for Training Split # :  8\n",
      "Estimated Coefficients : [ 22.99965466   6.53969103  -1.67096968] \n",
      "\n",
      "Estimating coefficients for Training Split # :  9\n",
      "Estimated Coefficients : [ 23.41750455   6.38838881  -1.75603575] \n",
      "\n",
      "Estimating coefficients for Training Split # :  10\n",
      "Estimated Coefficients : [ 22.8470226    6.03877827  -2.3778887 ] \n",
      "\n"
     ]
    }
   ],
   "source": [
    "coefs2 = []\n",
    "features=['RM', 'CRIM']\n",
    "X3_df = boston_df[features] #Dataframe\n",
    "print('Cross-validating Model: MEDV vs ', features, '\\n----------------------')\n",
    "\n",
    "i=0\n",
    "for train_index, test_index in kf.split(X3_df):\n",
    "    print('Estimating coefficients for Training Split # : ', i+1)\n",
    "    #print(\"TRAIN:\", train_index, \"TEST:\", test_index)                #ndarray type\n",
    "    \n",
    "    #Fetch data into training set\n",
    "    X3_train = X3_df.ix[train_index]   #Fetch subset of df rows\n",
    "    y_train  = y[train_index]          #Fetch subset of Series rows \n",
    "    \n",
    "    #Prepare TRAIN data: Choose features, Standardize X, Add Intercept to X, convert to Array\n",
    "    x_train_norm_arr = prepare_df_for_ols(X3_train, feature_list=['RM', 'CRIM'], add_intercept=True, standardize_features=True)\n",
    "    y_train_arr = np.array(y_train)\n",
    "    \n",
    "    #Estimate parameters using Multivariate Gradient Descent\n",
    "    res = multivariate_ols(x_train_norm_arr, y_train_arr, R=0.01,   MaxIterations=10000,  verbose=False) \n",
    "    theta, ttaken, num_iter, convergence, cost_history, theta_history = res\n",
    "    print('Estimated Coefficients :', theta,'\\n')\n",
    "    \n",
    "    coefs2.append(theta)\n",
    "    i+=1"
   ]
  },
  {
   "cell_type": "code",
   "execution_count": 197,
   "metadata": {
    "collapsed": false
   },
   "outputs": [
    {
     "name": "stdout",
     "output_type": "stream",
     "text": [
      "Calculated coefficients for Multivariate OLS using CV :\n",
      " [[ 22.66800224   5.92424226  -2.44074315]\n",
      " [ 22.23867125   5.97220126  -2.38516284]\n",
      " [ 22.93801553   5.94917575  -2.47509783]\n",
      " [ 21.46208844   5.07566341  -2.31270931]\n",
      " [ 21.85415606   5.46139988  -2.33805823]\n",
      " [ 21.44164892   5.03377867  -2.34548907]\n",
      " [ 22.51433772   6.04504055  -2.42890709]\n",
      " [ 22.99965466   6.53969103  -1.67096968]\n",
      " [ 23.41750455   6.38838881  -1.75603575]\n",
      " [ 22.8470226    6.03877827  -2.3778887 ]]\n"
     ]
    }
   ],
   "source": [
    "coefs2 = np.array(coefs2)\n",
    "print('Calculated coefficients for Multivariate OLS using CV :\\n', coefs2)"
   ]
  },
  {
   "cell_type": "markdown",
   "metadata": {
    "ein.tags": [
     "worksheet-0"
    ],
    "slideshow": {
     "slide_type": "-"
    }
   },
   "source": [
    "### 3.2 Predicted values and RMSE\n",
    "\n",
    "Let's figure out how accurate this predictive model turned out to be. Compute the RMSE on your test cases, i.e. take the model parameters that you found above and compare the actual to the predicted values for just the test instances. If you did this the k-fold way above, this will be the average RMSE across the k test sets. If you did this the quick and dirty way above, this will just be the RMSE on your single test set.\n",
    "\n",
    "What is your test RMSE?  How does it compare to the performance of your nearest neighbor algorithm from the last problem set?  How does it compare to RMSE from a simpler model where number of rooms is the only explanatory variable?"
   ]
  },
  {
   "cell_type": "markdown",
   "metadata": {},
   "source": [
    "#### _Define Helper_ : Compute RMSE"
   ]
  },
  {
   "cell_type": "code",
   "execution_count": 198,
   "metadata": {
    "autoscroll": "json-false",
    "collapsed": false,
    "ein.tags": [
     "worksheet-0"
    ],
    "slideshow": {
     "slide_type": "-"
    }
   },
   "outputs": [],
   "source": [
    "#Use Kfold to fit the model, and choose the coefficients\n",
    "def compute_rmse(predictions , yvalues):\n",
    "    if(len(predictions) !=len(yvalues)):\n",
    "        print('Lists of unequal lengths')\n",
    "        return -1\n",
    "    \n",
    "    sum_ee=0\n",
    "    for (pred, y) in zip(predictions , yvalues):\n",
    "        e = y - pred\n",
    "        e2= e*e\n",
    "        sum_ee = sum_ee+ e2\n",
    "        \n",
    "    mse=sum_ee/len(yvalues)\n",
    "    rmse = np.sqrt(mse)\n",
    "    return rmse"
   ]
  },
  {
   "cell_type": "markdown",
   "metadata": {},
   "source": [
    "#### Find mean test  RMSE from Cross-validation  (MEDV vs RM)"
   ]
  },
  {
   "cell_type": "code",
   "execution_count": 199,
   "metadata": {
    "autoscroll": "json-false",
    "collapsed": false,
    "ein.tags": [
     "worksheet-0"
    ],
    "slideshow": {
     "slide_type": "-"
    }
   },
   "outputs": [
    {
     "name": "stdout",
     "output_type": "stream",
     "text": [
      "Features  : ['RM'] \n",
      "\n",
      "Predicting for Test Split # :  1\n",
      "Predicting for Test Split # :  2\n",
      "Predicting for Test Split # :  3\n",
      "Predicting for Test Split # :  4\n",
      "Predicting for Test Split # :  5\n",
      "Predicting for Test Split # :  6\n",
      "Predicting for Test Split # :  7\n",
      "Predicting for Test Split # :  8\n",
      "Predicting for Test Split # :  9\n",
      "Predicting for Test Split # :  10\n",
      "\n",
      "Last Split in detail\n",
      "x      :  (50, 2)\n",
      "thetas :  (2,)\n",
      "y      :  (50,)\n",
      "preds  :  (50,)\n",
      "\n",
      "Test RMSE across 10 Cross-Validation splits:\n",
      " [  4.8092079    3.46529596   7.27373423  11.16985077   6.98482119\n",
      "  10.78106991   3.68031469  14.35472475  12.4371186    6.80411118]\n",
      "\n",
      "Mean Test RMSE of 10 Cross-Validation splits :\n",
      " 8.17602491663\n"
     ]
    }
   ],
   "source": [
    "#Predict y_hat using the various estimated parameters of CV (coefs)\n",
    "#Find error in each model\n",
    "#Compute RMSE\n",
    "\n",
    "rmse_list = []\n",
    "feature_cols = ['RM']\n",
    "X3_df = boston_df[feature_cols] #Dataframe\n",
    "print('Features  :', feature_cols, '\\n')\n",
    "\n",
    "i=0\n",
    "for train_index, test_index in kf.split(X3_df):\n",
    "    print('Predicting for Test Split # : ', i+1)\n",
    "    #print(\"TRAIN:\", train_index, \"TEST:\", test_index)                #ndarray type\n",
    "    \n",
    "    #Fetch data into test set\n",
    "    X3_test = X3_df.ix[test_index]   #Fetch subset of df rows\n",
    "    y_test  = y[test_index]          #Fetch subset of Series rows \n",
    "    \n",
    "    #Prepare TEST data: Choose features, Standardize X, Add Intercept to X, convert to Array\n",
    "    x_test_norm_arr = prepare_df_for_ols(X3_test, feature_list=feature_cols, add_intercept=True, standardize_features=True)\n",
    "    y_test_arr = np.array(y_test)\n",
    "    \n",
    "    #Use coefficient estimates to make TEST predictions\n",
    "    thetas = coefs1[i]\n",
    "    preds = x_test_norm_arr.dot(thetas)\n",
    "    \n",
    "    #Calculate prediction error\n",
    "    rmse = compute_rmse(preds, y_test_arr)\n",
    "    rmse_list.append(rmse)\n",
    "    i+=1\n",
    "\n",
    "print('\\nLast Split in detail')\n",
    "print('x      : ', x_test_norm_arr.shape)  # (51 or 50,3)\n",
    "print('thetas : ', thetas.shape)           # (3,)\n",
    "print('y      : ', y_test_arr.shape)       # (51 or 50,)\n",
    "print('preds  : ', preds.shape)           # (51 or 50,)\n",
    "\n",
    "#Calculate Mean RMSE\n",
    "rmse_list = np.array(rmse_list)\n",
    "print('\\nTest RMSE across', num_splits,'Cross-Validation splits:\\n', rmse_list)\n",
    "print('\\nMean Test RMSE of', num_splits , 'Cross-Validation splits :\\n', np.mean(rmse_list) )"
   ]
  },
  {
   "cell_type": "markdown",
   "metadata": {},
   "source": [
    "#### Find mean test  RMSE from Cross-validation  (MEDV vs RM, CRIM)"
   ]
  },
  {
   "cell_type": "code",
   "execution_count": 200,
   "metadata": {
    "autoscroll": "json-false",
    "collapsed": false,
    "ein.tags": [
     "worksheet-0"
    ],
    "slideshow": {
     "slide_type": "-"
    }
   },
   "outputs": [
    {
     "name": "stdout",
     "output_type": "stream",
     "text": [
      "Features  : ['RM', 'CRIM'] \n",
      "\n",
      "Predicting for Test Split # :  1\n",
      "Predicting for Test Split # :  2\n",
      "Predicting for Test Split # :  3\n",
      "Predicting for Test Split # :  4\n",
      "Predicting for Test Split # :  5\n",
      "Predicting for Test Split # :  6\n",
      "Predicting for Test Split # :  7\n",
      "Predicting for Test Split # :  8\n",
      "Predicting for Test Split # :  9\n",
      "Predicting for Test Split # :  10\n",
      "\n",
      "Last Split in detail\n",
      "x      :  (50, 3)\n",
      "thetas :  (3,)\n",
      "y      :  (50,)\n",
      "preds  :  (50,)\n",
      "\n",
      "Test RMSE across 10 Cross-Validation splits:\n",
      " [  4.28613042   3.97258148   7.97132401  11.19843003   7.78456061\n",
      "  11.37696348   4.9785493   13.77399116  12.61672667   6.73012843]\n",
      "\n",
      "Mean Test RMSE of 10 Cross-Validation splits :\n",
      " 8.4689385607\n"
     ]
    }
   ],
   "source": [
    "#Predict y_hat using the various estimated parameters of CV (coefs)\n",
    "# Find error in each model\n",
    "#Compute RMSE\n",
    "\n",
    "rmse_list = []\n",
    "feature_cols = ['RM', 'CRIM']\n",
    "X3_df = boston_df[feature_cols] #Dataframe\n",
    "print('Features  :', feature_cols,'\\n')\n",
    "\n",
    "i=0\n",
    "for train_index, test_index in kf.split(X3_df):\n",
    "    print('Predicting for Test Split # : ', i+1)\n",
    "    #print(\"TRAIN:\", train_index, \"TEST:\", test_index)                #ndarray type\n",
    "    \n",
    "    #Fetch data into test set\n",
    "    X3_test = X3_df.ix[test_index]   #Fetch subset of df rows\n",
    "    y_test  = y[test_index]          #Fetch subset of Series rows \n",
    "    \n",
    "    #Prepare TEST data: Choose features, Standardize X, Add Intercept to X, convert to Array\n",
    "    x_test_norm_arr = prepare_df_for_ols(X3_test, feature_list=feature_cols, add_intercept=True, standardize_features=True)\n",
    "    y_test_arr = np.array(y_test)\n",
    "    \n",
    "    #Use coefficient estimates to make TEST predictions\n",
    "    thetas = coefs2[i]\n",
    "    preds = x_test_norm_arr.dot(thetas)\n",
    "    \n",
    "    #Calculate prediction error\n",
    "    rmse = compute_rmse(preds, y_test_arr)\n",
    "    rmse_list.append(rmse)\n",
    "    i+=1\n",
    "\n",
    "print('\\nLast Split in detail')\n",
    "print('x      : ', x_test_norm_arr.shape)  # (51 or 50,3)\n",
    "print('thetas : ', thetas.shape)           # (3,)\n",
    "print('y      : ', y_test_arr.shape)       # (51 or 50,)\n",
    "print('preds  : ', preds.shape)           # (51 or 50,)\n",
    "\n",
    "#Calculate Mean RMSE\n",
    "rmse_list = np.array(rmse_list)\n",
    "print('\\nTest RMSE across', num_splits,'Cross-Validation splits:\\n', rmse_list)\n",
    "print('\\nMean Test RMSE of', num_splits , 'Cross-Validation splits :\\n', np.mean(rmse_list) )"
   ]
  },
  {
   "cell_type": "markdown",
   "metadata": {},
   "source": [
    "#### _Compare_ : RMSE from Multivariate OLS with other values\n",
    "What is your test RMSE?  How does it compare to the performance of your nearest neighbor algorithm from the last problem set?  How does it compare to RMSE from a simpler model where number of rooms is the only explanatory variable?\n",
    "\n",
    "Target = 'MEDV'\n",
    "Features = ['RM', 'CRIM']\n",
    "\n",
    "**Cross-validated test RMSE**\n",
    "The RMSE calculated above for multivariate gradient descent is below, along with other RMSE for comparison.\n",
    "No shuffle of data was done for Cross-validation.\n",
    "\n",
    "> Multivariate OLS Gradient Descent (10-fold CV) = 8.469\n",
    "\n",
    "> Bivariate OLS Gradient Descent (Only 'RM') (10-fold CV) = 8.176\n",
    "\n",
    "> 1-NN (3-fold CV) = 6.771\n",
    "\n",
    "> 3-NN (10-fold CV) = 5.811\n",
    "\n",
    "**Analysis** \n",
    "This seems to suggest that Nearest Neighbour Algorithms (both 1NN and KNN) were more general and proved better at predictions on the test data as opposed to the Linear Regression Algorithms.  The Bivariate OLS has an even lower Test error than Multivariate OLS, which suggests that CRIM and RM together may not be as good a pair of features as opposed to RM alone.\n",
    "Higher the test RMSE, worse the model is at prediction."
   ]
  },
  {
   "cell_type": "markdown",
   "metadata": {
    "ein.tags": [
     "worksheet-0"
    ],
    "slideshow": {
     "slide_type": "-"
    }
   },
   "source": [
    "---\n",
    "## 4 Regularization \n",
    "\n",
    "### 4.1 Get prepped\n",
    "\n",
    "**Step 1: **Create new interaction variables between each possible pair of the F_s features.  \n",
    "\n",
    "Note: as all the original features are numeric, you can just multiply.  If you originally had *K* features, you should now have K+(K*(K+1))/2 features. Standardize all of your features.\n",
    "\n",
    "NOTE: We choose to keep interaction terms between all pairs, including self interaction (quadratic term)."
   ]
  },
  {
   "cell_type": "markdown",
   "metadata": {},
   "source": [
    "#### _Define Helper_ : Add interaction term columns to some features of df"
   ]
  },
  {
   "cell_type": "code",
   "execution_count": 201,
   "metadata": {
    "autoscroll": "json-false",
    "collapsed": false,
    "ein.tags": [
     "worksheet-0"
    ],
    "slideshow": {
     "slide_type": "-"
    }
   },
   "outputs": [],
   "source": [
    "# create interaction terms \n",
    "from sklearn.preprocessing import PolynomialFeatures\n",
    "\n",
    "def df_with_interaction_terms(df, features_list=[], verbose= False):\n",
    "    if(features_list== []):\n",
    "        features_list = list(df) #Use all columns by default\n",
    "\n",
    "    x_df = df[features_list]\n",
    "    poly = PolynomialFeatures()\n",
    "    interact_arr = poly.fit_transform(x_df)\n",
    "\n",
    "    if(verbose==True):\n",
    "        print('Adding Interaction Variables\\n--------------------------')\n",
    "        print('Started with dataframe dims: ', x_df.shape)\n",
    "        print('Interaction Matrix    Shape: ', interact_arr.shape )\n",
    "        print('Interaction Matrix Type    : ', type(interact_arr) )\n",
    "        print('\\nInitial Feature Names    :\\n', features_list)\n",
    "        print('\\nInteraction Column Names   :\\n', poly.get_feature_names(features_list))\n",
    "        print('\\nFirst Row:\\n', interact_arr[:1])\n",
    "    \n",
    "    return interact_arr"
   ]
  },
  {
   "cell_type": "code",
   "execution_count": 202,
   "metadata": {
    "collapsed": false
   },
   "outputs": [],
   "source": [
    "#Prepare the data\n",
    "numeric_features= ['RM','CRIM','ZN', 'INDUS', 'NOX','AGE','DIS', 'RAD','TAX', 'PTRATIO', 'B','LSTAT']\n",
    "numeric_df = boston_df[numeric_features]\n",
    "interact_arr = df_with_interaction_terms(numeric_df, numeric_features, verbose = False)"
   ]
  },
  {
   "cell_type": "markdown",
   "metadata": {},
   "source": [
    "**Step 2:** For simplicity, generate a single training and testing set.  Randomly sample 66% of your data and call this the training set, and set aside the remaining 34% as your test set."
   ]
  },
  {
   "cell_type": "markdown",
   "metadata": {},
   "source": [
    "#### _Define Helper_ :  Functions to shuffle a df, and split a df/Series into two parts \n",
    "Same function as used in PS3, with additional capability to split Series into two."
   ]
  },
  {
   "cell_type": "code",
   "execution_count": 203,
   "metadata": {
    "collapsed": true
   },
   "outputs": [],
   "source": [
    "#Returns a shuffled form of the input dataframe for a given seed value\n",
    "#This works with only dataframes?\n",
    "def shuffle_df(df, seed=1):\n",
    "    shuffle_df = df.sample(frac=1, random_state=seed)\n",
    "    return shuffle_df\n",
    "    \n",
    "#Splits a given dataframe into two, without randomization, based on an input fraction (0-1)\n",
    "def split_df_into_two(df, split_pct=0.5, verbose= False):\n",
    "    if isinstance(df, pd.DataFrame) ==True:\n",
    "        (nrow, ncol) = df.shape\n",
    "        nrow1 = math.ceil(split_pct*nrow)\n",
    "        nrow2 = nrow-nrow1\n",
    "    \n",
    "        df1 = df.iloc[:nrow1, :] #Subser rows of dataframe\n",
    "        df2 = df.iloc[nrow1: ,:]\n",
    "\n",
    "        if(verbose==True):\n",
    "            print('Row Split Equation : ', nrow, ' = ' ,nrow1 , ' + ', nrow2 )\n",
    "            print('\\nOriginal  dataframe shape : ', df.shape)\n",
    "            print('First     dataframe shape : ', df1.shape)\n",
    "            print('Second    dataframe shape : ', df2.shape)\n",
    "        \n",
    "        return df1,df2\n",
    "    \n",
    "            \n",
    "    if isinstance(df, pd.Series) == True:\n",
    "        nrow = len(df)\n",
    "        nrow1 = math.ceil(split_pct*nrow)\n",
    "        nrow2 = nrow-nrow1\n",
    "    \n",
    "        s1 = df.iloc[:nrow1]  #Subset rows of Series\n",
    "        s2 = df.iloc[nrow1:]  #Subset rows of Series\n",
    "\n",
    "        if(verbose==True):\n",
    "            print('Row Split Equation : ', nrow, ' = ' ,nrow1 , ' + ', nrow2 )\n",
    "            print('\\nOriginal Series length : ', df.shape)\n",
    "            print('First  Series length   : ', df1.shape)\n",
    "            print('Second Series length   : ', df2.shape) \n",
    "    \n",
    "        return(s1, s2)"
   ]
  },
  {
   "cell_type": "markdown",
   "metadata": {},
   "source": [
    "#### _Define Helper_ :  \"prepare_df_for_overfit\", with options like- shuffle, train/test split, interaction terms, normalization"
   ]
  },
  {
   "cell_type": "code",
   "execution_count": 204,
   "metadata": {
    "collapsed": false
   },
   "outputs": [],
   "source": [
    "\"\"\"\n",
    "#### Steps: \n",
    "1. First randomize the dataframe (of only numeric features)\n",
    "2. Split the dataframe into test and training df\n",
    "3. Then add interaction terms (input is df, output is arr)\n",
    "4. Done :)\n",
    "\n",
    "Note: standardize is done on train and test data separately. \n",
    "However in case of test data, it is normalized with it's own mean, sd instead of trianing mean, sd. \n",
    "This is a limitation of standardize function.\n",
    "\"\"\"\n",
    "def prepare_df_for_overfit(df, features_list=[], standardize_data = False, add_interaction=False, \n",
    "                           shuffle_split_data = False, seed=1, split_pct = 0.5 ):\n",
    "    if(features_list== []):\n",
    "        features_list = list(df) #Use all columns by default\n",
    "    x_df = df[features_list]\n",
    "    \n",
    "    if(shuffle_split_data == True):\n",
    "        #Shuffle & Create random split\n",
    "        random_df = shuffle_df(x_df, seed)\n",
    "        train_df, test_df = split_df_into_two(random_df, split_pct, verbose= False)\n",
    "        \n",
    "        if(standardize_data == True):\n",
    "            train_df, _, _ = standardize(train_df)\n",
    "            test_df , _, _ = standardize(test_df)\n",
    "        \n",
    "        if(add_interaction == True): #Adds intercept automatically\n",
    "            interact_arr1 = df_with_interaction_terms(train_df, features_list, verbose=False)\n",
    "            interact_arr2 = df_with_interaction_terms(test_df, features_list)\n",
    "            return (interact_arr1, interact_arr2)\n",
    "        \n",
    "        else: #Need to add intercept\n",
    "            return np.array(train_df), np.array(test_df)\n",
    "    \n",
    "    else: #No train, test split\n",
    "        if(standardize_data == True):\n",
    "            x_df,_ ,_ = standardize(x_df)\n",
    "        \n",
    "        if(add_interaction == True):\n",
    "            interact_arr = df_with_interaction_terms(x_df, features_list, verbose=False)        \n",
    "            return interact_arr, -888\n",
    "        \n",
    "        elif(add_interaction == False):#Need to add intercept\n",
    "            x_df.insert(loc=0, column='intercept', value=1) \n",
    "            return np.array(x_df) , -999\n",
    "    "
   ]
  },
  {
   "cell_type": "markdown",
   "metadata": {},
   "source": [
    "#### Check \"prepare_df_for_overfit\""
   ]
  },
  {
   "cell_type": "code",
   "execution_count": 205,
   "metadata": {
    "collapsed": false
   },
   "outputs": [
    {
     "name": "stdout",
     "output_type": "stream",
     "text": [
      "Features =  ['RM', 'CRIM', 'ZN']\n",
      "Created  Interaction terms from  3  features.\n",
      "\n",
      "Train data : (334, 10)\n",
      "[[ 1.          0.77340325 -0.41039879  0.97443875  0.59815259 -0.31740376\n",
      "   0.7536341   0.16842717 -0.39990848  0.94953088]\n",
      " [ 1.          0.55086065 -0.41309843  1.94347055  0.30344746 -0.22755967\n",
      "   1.07058146  0.17065032 -0.80284464  3.77707777]]\n",
      "\n",
      "Test data : (172, 10)\n",
      "[[ 1.         -0.37141655  0.04354712 -0.50467782  0.13795025 -0.01617412\n",
      "   0.18744569  0.00189635 -0.02197727  0.2546997 ]\n",
      " [ 1.          0.16795952  1.34233759 -0.50467782  0.0282104   0.22545838\n",
      "  -0.08476544  1.8018702  -0.677448    0.2546997 ]]\n"
     ]
    }
   ],
   "source": [
    "#Let's randomize overall dataframe and split into two\n",
    "features = ['RM', 'CRIM', 'ZN']\n",
    "print('Features = ', features)\n",
    "a, b = prepare_df_for_overfit(numeric_df, features_list=features, standardize_data = True, add_interaction=True,\n",
    "                              shuffle_split_data = True, seed=1, split_pct = 0.66)\n",
    "\n",
    "print('Created  Interaction terms from ', len(features)  , ' features.')\n",
    "print('\\nTrain data :',a.shape)\n",
    "print(a[:2])\n",
    "\n",
    "print('\\nTest data :',b.shape)\n",
    "print(b[:2])"
   ]
  },
  {
   "cell_type": "markdown",
   "metadata": {
    "ein.tags": [
     "worksheet-0"
    ],
    "slideshow": {
     "slide_type": "-"
    }
   },
   "source": [
    "### 4.2 Let's overfit!\n",
    "Now, using your version of multiple regression from 2.3, let's overfit the training data. Using your training set, regress housing price on as many of those K+(K*(K+1))/2 features as you can.  If you get too greedy, it's possible this will take a long time to compute, so start with 5-10 features, and if you have the time, add more features."
   ]
  },
  {
   "cell_type": "markdown",
   "metadata": {},
   "source": [
    "#### _Define:_ Function to take a dataframe and run Multiple OLS with interaction terms, standardizing, shuffling and report RMSE"
   ]
  },
  {
   "cell_type": "code",
   "execution_count": 206,
   "metadata": {
    "autoscroll": "json-false",
    "collapsed": false,
    "ein.tags": [
     "worksheet-0"
    ],
    "slideshow": {
     "slide_type": "-"
    }
   },
   "outputs": [],
   "source": [
    "#Fit Multivariate Analysis on Training Data\n",
    "#Let's randomize overall dataframe and split into two\n",
    "\n",
    "def overfit_multivariate_ols(df, features_list = [], standardize_data=True, add_interact=True, \n",
    "                             shuffle_split_data= True, seed_val = 1, split_pct=0.5, \n",
    "                             R=0.01, maxIterations=10000, verbose = False):\n",
    "    if(features_list == []):\n",
    "        features_list = list(df)\n",
    "    if(shuffle_split_data == False):\n",
    "        print(\"Hey! We have to split the data to check the test RMSE. Sorry\")\n",
    "    \n",
    "    x_df = df[features_list]\n",
    "    if(verbose==True):\n",
    "        print('\\nFeatures :', features_list,'\\n')\n",
    "        print('Number of Features  :', len(features_list))\n",
    "        print('Standardize data  ? :', standardize_data)\n",
    "        print('Added Interaction ? :', add_interact)\n",
    "        print('Shuffle and then split data : ALWAYS TRUE')\n",
    "        print('Seed : ', seed_val, ' and split_pct : ', split_pct)\n",
    "        print('Learning Rate (R)   :', R)\n",
    "        print('Maximum Iterations  :', maxIterations)\n",
    "    \n",
    "    #Standardize df, add intercept, and interaction, and then split the data into train and test set\n",
    "    x_train_arr, x_test_arr = prepare_df_for_overfit(x_df, features_list = features, standardize_data= standardize_data, \n",
    "                                                     add_interaction = add_interact, \n",
    "                                                     shuffle_split_data = True, seed=seed_val, split_pct=split_pct)\n",
    "\n",
    "    #Prepare y data\n",
    "    random_y = shuffle_df(y, seed=1)\n",
    "    y_train_df, y_test_df = split_df_into_two(random_y, split_pct=split_pct, verbose=False)\n",
    "    y_train_arr = np.array(y_train_df)\n",
    "    y_test_arr = np.array(y_test_df)\n",
    "\n",
    "    #Estimate parameters using Multivariate Gradient Descent on TRAIN data\n",
    "    res = multivariate_ols(x_train_arr, y_train_arr, R, maxIterations, verbose=False)\n",
    "    (theta, ttaken, num_iter, convergence, cost_history, theta_history) = res\n",
    "    \n",
    "    # Use TRAIN data to find RMSE\n",
    "    preds_train = x_train_arr.dot(theta)\n",
    "    train_rmse = compute_rmse(y_train_arr, preds_train)\n",
    "    \n",
    "    # Use TEST data to find RMSE\n",
    "    preds_test = x_test_arr.dot(theta)\n",
    "    test_rmse = compute_rmse(y_test_arr, preds_test)\n",
    "    \n",
    "    if(verbose==True):\n",
    "        print('\\nResults:')\n",
    "        print('Estimated Coefficients :', theta,'\\n')\n",
    "        print('Test Data Shape        :', x_test_arr.shape)\n",
    "        print('Train Data Shape       :', x_train_arr.shape)\n",
    "        print('Coefficients Shape     :', theta.shape)\n",
    "        print('Actual Response values :', y_test_arr.shape)\n",
    "        print('Predicted Responses    :', preds_test.shape)\n",
    "        \n",
    "        print('\\nTrain RMSE = ', train_rmse)     \n",
    "        print('Test  RMSE = ', test_rmse)     \n",
    "        print('-----------------------------------------')"
   ]
  },
  {
   "cell_type": "markdown",
   "metadata": {},
   "source": [
    "#### Check Train and Test RMSE with Overfitting with interaction terms"
   ]
  },
  {
   "cell_type": "code",
   "execution_count": 207,
   "metadata": {
    "collapsed": false
   },
   "outputs": [
    {
     "name": "stdout",
     "output_type": "stream",
     "text": [
      "\n",
      "Features : ['CRIM', 'RM'] \n",
      "\n",
      "Number of Features  : 2\n",
      "Standardize data  ? : True\n",
      "Added Interaction ? : True\n",
      "Shuffle and then split data : ALWAYS TRUE\n",
      "Seed :  13579  and split_pct :  0.66\n",
      "Learning Rate (R)   : 0.01\n",
      "Maximum Iterations  : 10000\n",
      "\n",
      "Results:\n",
      "Estimated Coefficients : [ 22.03468887  -0.99322299  -0.0620398    0.16458216   0.4242656\n",
      "   0.42502358] \n",
      "\n",
      "Test Data Shape        : (172, 6)\n",
      "Train Data Shape       : (334, 6)\n",
      "Coefficients Shape     : (6,)\n",
      "Actual Response values : (172,)\n",
      "Predicted Responses    : (172,)\n",
      "\n",
      "Train RMSE =  8.97343623128\n",
      "Test  RMSE =  9.57684267765\n",
      "-----------------------------------------\n",
      "\n",
      "Features : ['CRIM', 'RM', 'TAX', 'LSTAT', 'PTRATIO'] \n",
      "\n",
      "Number of Features  : 5\n",
      "Standardize data  ? : True\n",
      "Added Interaction ? : True\n",
      "Shuffle and then split data : ALWAYS TRUE\n",
      "Seed :  13579  and split_pct :  0.66\n",
      "Learning Rate (R)   : 0.01\n",
      "Maximum Iterations  : 10000\n",
      "\n",
      "Results:\n",
      "Estimated Coefficients : [ 19.47019123  -5.17538437  -0.55688143   0.46126558   0.75193076\n",
      "  -0.83809223   0.12968238  -0.69753995   2.26081781  -0.53182089\n",
      "   0.9873833    0.81193726   2.0871235   -0.44218123  -0.39416312\n",
      "   2.46576619   1.17484128  -3.41551531  -1.23412145   0.43589208\n",
      "   0.13638161] \n",
      "\n",
      "Test Data Shape        : (172, 21)\n",
      "Train Data Shape       : (334, 21)\n",
      "Coefficients Shape     : (21,)\n",
      "Actual Response values : (172,)\n",
      "Predicted Responses    : (172,)\n",
      "\n",
      "Train RMSE =  8.75065696272\n",
      "Test  RMSE =  9.59492467553\n",
      "-----------------------------------------\n",
      "\n",
      "Features : ['CRIM', 'RM', 'TAX', 'LSTAT', 'PTRATIO', 'NOX', 'AGE', 'B'] \n",
      "\n",
      "Number of Features  : 8\n",
      "Standardize data  ? : True\n",
      "Added Interaction ? : True\n",
      "Shuffle and then split data : ALWAYS TRUE\n",
      "Seed :  13579  and split_pct :  0.66\n",
      "Learning Rate (R)   : 0.01\n",
      "Maximum Iterations  : 10000\n",
      "\n",
      "Results:\n",
      "Estimated Coefficients : [  1.90632595e+01  -6.19058335e+00  -7.49849823e-01  -5.24944265e-01\n",
      "   2.02350225e-01  -5.35901986e-01   1.89819895e+00  -7.15825070e-03\n",
      "  -1.06495274e+00   3.10735015e-01  -1.53080704e+00   4.45783438e-01\n",
      "  -2.06041735e+00   1.03750434e+00   2.49237420e+00   3.43684746e+00\n",
      "   8.20202906e-01   9.16452475e-01  -1.08760404e+00  -7.36651895e-01\n",
      "   6.90737606e-01   2.95866078e+00   1.02786484e+00  -1.00405672e+00\n",
      "   3.63199181e+00   3.26697231e-01  -3.74310998e+00  -4.36377867e+00\n",
      "  -7.16852886e-01  -9.83403286e-01  -1.69922561e+00   1.59752938e+00\n",
      "   5.51836940e-01   1.07869393e+00  -1.44623575e+00  -3.39280364e-01\n",
      "   2.08914900e+00  -1.05275835e+00   7.36719293e-01   2.90202119e+00\n",
      "  -2.65670570e+00   9.67040361e-01   1.50782438e+00   1.26750546e+00\n",
      "  -1.05382571e-02] \n",
      "\n",
      "Test Data Shape        : (172, 45)\n",
      "Train Data Shape       : (334, 45)\n",
      "Coefficients Shape     : (45,)\n",
      "Actual Response values : (172,)\n",
      "Predicted Responses    : (172,)\n",
      "\n",
      "Train RMSE =  8.34746125735\n",
      "Test  RMSE =  10.1193247457\n",
      "-----------------------------------------\n",
      "\n",
      "Features : ['CRIM', 'RM', 'TAX', 'LSTAT', 'PTRATIO', 'NOX', 'AGE', 'B', 'INDUS', 'ZN'] \n",
      "\n",
      "Number of Features  : 10\n",
      "Standardize data  ? : True\n",
      "Added Interaction ? : True\n",
      "Shuffle and then split data : ALWAYS TRUE\n",
      "Seed :  13579  and split_pct :  0.66\n",
      "Learning Rate (R)   : 0.01\n",
      "Maximum Iterations  : 10000\n",
      "\n",
      "Results:\n",
      "Estimated Coefficients : [ 18.00022271  -6.77652557  -0.52159588  -0.38745807  -0.38058264\n",
      "   0.32881752   0.62004088   0.68435208  -0.97155477  -1.14498684\n",
      "  -3.35824871   0.25692917  -1.89898292   0.02665694  -2.42933603\n",
      "   1.58890916   3.20445885   4.70198017   0.80234139   0.08109472\n",
      "   1.1373987    0.97738945  -1.04538903  -0.45390043   1.06735091\n",
      "   3.54942895   1.6964397   -1.03491089  -0.14696964   2.39977318\n",
      "   3.09040118   0.1216243   -2.53359897  -5.36260893  -1.75404807\n",
      "  -1.49475342   0.22063081  -2.07448622  -1.29940977   1.61617646\n",
      "   0.06523089   1.8837475   -1.49258211   1.06336442   1.61223901\n",
      "  -0.15096122   2.90047145  -0.49249284   0.66724038  -1.97796854\n",
      "   0.02374769   3.71315796  -1.02281446   0.45363513  -1.96361216\n",
      "  -1.54158345   1.0648784    2.20669643  -0.17207293   1.69819652\n",
      "  -0.22162743   1.16732916   2.32112411   0.34962192  -2.46456065\n",
      "  -0.72187635] \n",
      "\n",
      "Test Data Shape        : (172, 66)\n",
      "Train Data Shape       : (334, 66)\n",
      "Coefficients Shape     : (66,)\n",
      "Actual Response values : (172,)\n",
      "Predicted Responses    : (172,)\n",
      "\n",
      "Train RMSE =  8.07269024405\n",
      "Test  RMSE =  10.4629278207\n",
      "-----------------------------------------\n",
      "\n",
      "Features : ['CRIM', 'RM', 'TAX', 'LSTAT', 'PTRATIO', 'NOX', 'AGE', 'B', 'INDUS', 'ZN', 'RAD', 'DIS'] \n",
      "\n",
      "Number of Features  : 12\n",
      "Standardize data  ? : True\n",
      "Added Interaction ? : True\n",
      "Shuffle and then split data : ALWAYS TRUE\n",
      "Seed :  13579  and split_pct :  0.66\n",
      "Learning Rate (R)   : 0.01\n",
      "Maximum Iterations  : 10000\n",
      "\n",
      "Results:\n",
      "Estimated Coefficients : [  1.86156403e+01  -7.25053825e+00  -6.77819169e-01  -1.58750169e-01\n",
      "  -3.23086548e-01  -1.03495956e+00   9.52909054e-01   3.77914989e-01\n",
      "  -1.55348800e+00  -2.19183666e+00  -2.85946859e+00   2.16813021e+00\n",
      "   2.86707279e-01   2.89197194e-01  -2.01913109e+00   5.18575357e-03\n",
      "  -2.73246688e+00   2.17699186e+00   4.08565030e+00   3.89519480e+00\n",
      "   7.69482366e-01   4.78194904e-01   9.80810928e-01  -6.84454473e-01\n",
      "  -5.75881098e-01   8.79344260e-01  -1.04576018e+00  -4.18896478e-01\n",
      "   9.54452317e-01   3.63939636e+00   1.39681343e+00  -1.03200435e+00\n",
      "   3.41903284e-03   1.66799056e+00  -5.60706127e-02   8.62332350e-02\n",
      "   2.30335553e+00  -2.70713142e-01  -2.40881788e+00  -3.30776099e+00\n",
      "  -3.33673339e+00  -1.74712355e+00   9.38618137e-01  -3.13348526e+00\n",
      "   4.07665660e-01   1.14621627e+00  -1.11017459e+00   1.56457092e+00\n",
      "  -5.40773606e-01   1.91037262e+00  -1.50080952e+00   8.70636732e-01\n",
      "   2.57699852e+00   7.65899784e-02  -1.55022401e+00  -6.81730789e-02\n",
      "   3.59185878e+00  -8.35384710e-01   4.93653313e-01  -2.31684731e+00\n",
      "  -3.85643157e-01  -3.57105608e+00   4.32492713e-01   3.32781206e+00\n",
      "  -1.99659296e+00   3.45581476e-01  -8.87162282e-01  -2.41798059e+00\n",
      "  -3.10475637e+00  -8.55214831e-01   9.81330362e-01   2.79562755e+00\n",
      "  -4.90528677e-01   1.34537648e+00   3.80971258e+00  -1.28285312e-01\n",
      "  -2.60800332e-01   1.33190696e+00   1.78123794e+00   2.55771789e-01\n",
      "   3.49245545e-01   1.23796907e+00  -3.99728871e+00  -2.29553281e+00\n",
      "   2.13010425e+00  -3.11509864e-01   2.99376139e+00  -1.29144443e+00\n",
      "   2.42824849e+00  -1.02983088e+00  -1.64979198e-01] \n",
      "\n",
      "Test Data Shape        : (172, 91)\n",
      "Train Data Shape       : (334, 91)\n",
      "Coefficients Shape     : (91,)\n",
      "Actual Response values : (172,)\n",
      "Predicted Responses    : (172,)\n",
      "\n",
      "Train RMSE =  7.90905853617\n",
      "Test  RMSE =  10.6266820792\n",
      "-----------------------------------------\n"
     ]
    }
   ],
   "source": [
    "# 12 Numeric features: ['CRIM' 'ZN' 'INDUS' 'NOX' 'RM' 'AGE' 'DIS' 'RAD' 'TAX' 'PTRATIO' 'B' 'LSTAT']\n",
    "\n",
    "R=0.01\n",
    "split_pct = 0.66\n",
    "maxIterations = 10000\n",
    "seed_val= 13579\n",
    "\n",
    "features=['CRIM', 'RM'] \n",
    "overfit_multivariate_ols(boston_df, features_list = features, standardize_data=True, add_interact=True, \n",
    "                         shuffle_split_data = True, seed_val = seed_val, split_pct= split_pct, \n",
    "                         R=R, maxIterations= maxIterations, verbose = True)\n",
    "\n",
    "features=['CRIM', 'RM', 'TAX', 'LSTAT', 'PTRATIO'] \n",
    "overfit_multivariate_ols(boston_df, features_list = features, standardize_data=True, add_interact=True, \n",
    "                         shuffle_split_data = True, seed_val = seed_val, split_pct= split_pct, \n",
    "                         R=R, maxIterations= maxIterations, verbose = True)\n",
    "\n",
    "\n",
    "features=['CRIM', 'RM', 'TAX', 'LSTAT', 'PTRATIO', 'NOX', 'AGE', 'B'] \n",
    "overfit_multivariate_ols(boston_df, features_list = features, standardize_data=True, add_interact=True, \n",
    "                         shuffle_split_data = True, seed_val = seed_val, split_pct= split_pct, \n",
    "                         R=R, maxIterations= maxIterations, verbose = True)\n",
    "\n",
    "features=['CRIM', 'RM', 'TAX', 'LSTAT', 'PTRATIO', 'NOX', 'AGE', 'B', 'INDUS', 'ZN'] \n",
    "overfit_multivariate_ols(boston_df, features_list = features, standardize_data=True, add_interact=True, \n",
    "                         shuffle_split_data = True, seed_val = seed_val, split_pct= split_pct, \n",
    "                         R=R, maxIterations= maxIterations, verbose = True)\n",
    "\n",
    "features=['CRIM', 'RM', 'TAX', 'LSTAT', 'PTRATIO', 'NOX', 'AGE', 'B', 'INDUS', 'ZN', 'RAD', 'DIS'] \n",
    "overfit_multivariate_ols(boston_df, features_list = features, standardize_data=True, add_interact=True, \n",
    "                         shuffle_split_data = True, seed_val = seed_val, split_pct= split_pct, \n",
    "                         R=R, maxIterations= maxIterations, verbose = True)"
   ]
  },
  {
   "cell_type": "markdown",
   "metadata": {
    "collapsed": true
   },
   "source": [
    "\n",
    "|  Model Name | Number of Features   | Train RMSE   | Test RMSE  | CV ?   |\n",
    "|---|---|---|---|---|\n",
    "|  MultiOLS (Previous) |  2  (RM, CRIM) |  - | 8.469  | Y |\n",
    "| MultiOLS with interaction  | 2 (RM, CRIM)  | 8.973  | 9.577 | N |\n",
    "| MultiOLS with interaction  | 5  | 8.751 | 9.595  | N |\n",
    "| MultiOLS with interaction  | 8  |  8.347 | 10.119   | N |\n",
    "| MultiOLS with interaction  | 10 | 8.073  | 10.463  | N |\n",
    "| MultiOLS with interaction  | 12 |  7.909 | 10.627   | N |\n",
    "\n",
    "- We can see that by adding more interaction terms, we drastically bring down the TRAIN error, however, the test error keeps increasing and is higher than the training error, and shows that we have sacrificed some generalizability in the pursuit of a good fit. \n",
    "\n",
    "- We have a lower test error with the earlier models, and having more interaction terms has worsened the Test RMSE for the 2-feature model\n",
    "\n",
    "- This motivates the need for regularization, to ensure that we are not overfitting the data.\n",
    "\n",
    "\n"
   ]
  },
  {
   "cell_type": "markdown",
   "metadata": {
    "ein.tags": [
     "worksheet-0"
    ],
    "slideshow": {
     "slide_type": "-"
    }
   },
   "source": [
    "### 4.3 Ridge regularization\n",
    "**a) Incorporate L2 (Ridge) regularization into your multiple_ols regression. Write a new version of your gradient descent algorithm that includes a regularization term \"lambda\" to penalize excessive complexity. **"
   ]
  },
  {
   "cell_type": "markdown",
   "metadata": {},
   "source": [
    "#### _Define Helper:_ Compute Cost (Loss) function and gradient value for Ridge Regression"
   ]
  },
  {
   "cell_type": "code",
   "execution_count": 208,
   "metadata": {
    "collapsed": true
   },
   "outputs": [],
   "source": [
    "def compute_regularized_cost(X, y, theta, reg_type='OLS', lambda_val = 1):\n",
    "    n = len(y)\n",
    "    err = X.dot(theta) - y\n",
    "    J = np.sum((err**2))/2/n\n",
    "    \n",
    "    if(reg_type =='Ridge'):\n",
    "        J = J + lambda_val*(theta.T.dot(theta))/2\n",
    "    elif(reg_type =='Lasso'):\n",
    "        J = J + lambda_val(np.sum(abs(theta)))/2\n",
    "\n",
    "    return J\n",
    "\n",
    "\n",
    "def regularized_gradient(X, y, theta, reg_type = 'OLS', lambda_val = 1):\n",
    "    n= len(y)\n",
    "    err = X.dot(theta) - y\n",
    "    gradient = X.T.dot(err)/n        \n",
    "    \n",
    "    if(reg_type =='Ridge'):\n",
    "        gradient = gradient + (lambda_val*theta)\n",
    "    elif(reg_type =='Lasso'):\n",
    "        print('Lasso not implemented')\n",
    "\n",
    "    return gradient"
   ]
  },
  {
   "cell_type": "markdown",
   "metadata": {},
   "source": [
    "#### _Define:_  Perform Gradient Descent with L-2 regularization"
   ]
  },
  {
   "cell_type": "code",
   "execution_count": 209,
   "metadata": {
    "autoscroll": "json-false",
    "collapsed": false,
    "ein.tags": [
     "worksheet-0"
    ],
    "slideshow": {
     "slide_type": "-"
    }
   },
   "outputs": [],
   "source": [
    "\"\"\"\n",
    "Function\n",
    "--------\n",
    "regularized_ols\n",
    "    Gradient Decent to minimize OLS. Used to find co-efficients of bivariate OLS Linear regression\n",
    "\n",
    "Parameters\n",
    "----------\n",
    "xvalue_matrix, yvalues : narray\n",
    "    xvalue_matrix: independent variable\n",
    "    yvalues: dependent variable\n",
    "    \n",
    "R: float\n",
    "    Learning rate\n",
    "    \n",
    "MaxIterations: Int\n",
    "    maximum number of iterations\n",
    "\n",
    "Returns\n",
    "-------\n",
    "beta: array[float], coefficients\n",
    "\"\"\"\n",
    "\n",
    "def regularized_ols(xvalues, yvalues, R=0.01, lambda_val=1, reg_type='Ridge', MaxIterations=1000, init_theta =[], verbose=False):\n",
    "    tic=time.time()\n",
    "    eps   = 0.0001 \n",
    "    n = len(yvalues)\n",
    "    p = len(xvalues[0]) #array doesn't have shape\n",
    "    \n",
    "    #Initialize coefficients as all 0 by default\n",
    "    if(init_theta==[]):\n",
    "        old_theta = np.array([0]*p) #list of p 0's as np.array for computing cost    \n",
    "    else:\n",
    "        old_theta=np.array(init_theta)\n",
    "\n",
    "    #Find initial cost\n",
    "    convergence = False    \n",
    "    old_cost=compute_regularized_cost(xvalues, yvalues, old_theta, reg_type, lambda_val)\n",
    "    \n",
    "    if(verbose==True):\n",
    "        print('\\nRegularized OLS \\n-----------------')\n",
    "        print('Regularization Type  : ', reg_type)\n",
    "        print('Number of features   : ', p-1)\n",
    "        print('Learning rate        : ', R)\n",
    "        print('Initial coefficients : ', old_theta.tolist())\n",
    "    \n",
    "    #Store inital cost and coefficients history\n",
    "    num_iter=  1  \n",
    "    cost_history  = []\n",
    "    theta_history = []\n",
    "    cost_history.append(old_cost)\n",
    "    theta_history.append(old_theta.tolist())\n",
    "    \n",
    "    for i in range(MaxIterations-1):         \n",
    "        #Calculate Gradient\n",
    "        gradient = regularized_gradient(xvalues, yvalues, old_theta, reg_type, lambda_val)\n",
    "\n",
    "        #Update the coefficients\n",
    "        theta = old_theta - R*gradient\n",
    "\n",
    "        #Calculate current cost\n",
    "        cost= compute_regularized_cost(xvalues, yvalues, theta, reg_type, lambda_val)\n",
    "        \n",
    "        #Store the costs\n",
    "        cost_history.append(cost)\n",
    "        theta_history.append(theta.tolist())\n",
    "        num_iter+=1\n",
    "\n",
    "        #Check for convergence\n",
    "        if(old_cost - cost <= eps):\n",
    "            status=1 #loss has leveled\n",
    "            convergence= True\n",
    "            break\n",
    "        \n",
    "        theta_change = abs(theta - old_theta)\n",
    "        if all( diff <= eps for diff in theta_change) == True:\n",
    "            status =2 #coeffs have leveled\n",
    "            convergence = True\n",
    "            break\n",
    "            \n",
    "        old_cost  = cost\n",
    "        old_theta = theta\n",
    "    \n",
    "    toc = time.time()\n",
    "    ttaken=toc-tic\n",
    "    if(verbose==True):\n",
    "        print('\\nintercept, coefficients : ', theta)\n",
    "        print('Time taken              : ', ttaken)\n",
    "        print('Iterations              : ', num_iter)\n",
    "        print('Convergence?            : ', convergence)\n",
    "        if(status==1):\n",
    "            print('The loss function has leveled off.')\n",
    "        elif(status ==2):\n",
    "            print('\\nThe coefficients have leveled off.\\n')\n",
    "        #print('\\nLoss history           : ', cost_history)\n",
    "        #print('\\nTheta history          : ', theta_history)\n",
    "\n",
    "    return theta, ttaken, num_iter, convergence, cost_history, theta_history"
   ]
  },
  {
   "cell_type": "markdown",
   "metadata": {},
   "source": [
    "\n",
    "b) Use your regularized regression to re-fit the model from 4.2 above on your training data. Try this for several different values of lambda, and report your RMSE for each lambda separately for your training and testing data. How do these numbers compare to each other, to the RMSE from 4.2,  to the RMSE from 2.3, and to the RMSE from nearest neighbors?"
   ]
  },
  {
   "cell_type": "code",
   "execution_count": 210,
   "metadata": {
    "collapsed": false
   },
   "outputs": [],
   "source": [
    "def overfit_regularized_ols(df, features_list = [], standardize_data=True, add_interact=True, \n",
    "                             shuffle_split_data= True, seed_val = 1, split_pct=0.5, \n",
    "                             R=0.01, maxIterations=10000, \n",
    "                            lamda_val= 0.01, verbose = False):\n",
    "    if(features_list == []):\n",
    "        features_list = list(df)\n",
    "    if(shuffle_split_data == False):\n",
    "        print(\"Hey! We have to split the data to check the test RMSE. Sorry\")\n",
    "    \n",
    "    x_df = df[features_list]\n",
    "    \n",
    "    if(verbose==True):\n",
    "        print('\\nOverfitting Regularized OLS \\n-----------------------------')\n",
    "        print('\\nFeatures :', features_list,'\\n')\n",
    "        print('Number of Features  :', len(features_list))\n",
    "        print('Standardize data  ? :', standardize_data)\n",
    "        print('Added Interaction ? :', add_interact)\n",
    "        print('Shuffle and then split data : ALWAYS TRUE')\n",
    "        print('Seed : ', seed_val, ' and split_pct : ', split_pct)\n",
    "        print('Learning Rate (R)   :', R)\n",
    "        print('Maximum Iterations  :', maxIterations)\n",
    "        print('Lambda (Ridge)      :', lambda_val)\n",
    "\n",
    "    \n",
    "    #Standardize df, add intercept, and interaction, and then split the data into train and test set\n",
    "    x_train_arr, x_test_arr = prepare_df_for_overfit(x_df, features_list = features, standardize_data= standardize_data, \n",
    "                                                     add_interaction = add_interact, \n",
    "                                                     shuffle_split_data = True, seed=seed_val, split_pct=split_pct)\n",
    "\n",
    "    #Prepare y data\n",
    "    random_y = shuffle_df(y, seed=1)\n",
    "    y_train_df, y_test_df = split_df_into_two(random_y, split_pct=split_pct, verbose=False)\n",
    "    y_train_arr = np.array(y_train_df)\n",
    "    y_test_arr = np.array(y_test_df)\n",
    "\n",
    "    #Estimate parameters using Regularized Gradient Descent on TRAIN data\n",
    "    res = regularized_ols(x_train_arr, y_train_arr, R, lambda_val, reg_type='Ridge', MaxIterations=maxIterations, verbose=False)\n",
    "    (theta, ttaken, num_iter, convergence, cost_history, theta_history)= res\n",
    "\n",
    "    # Use TRAIN data to find RMSE\n",
    "    preds_train = x_train_arr.dot(theta)\n",
    "    train_rmse = compute_rmse(y_train_arr, preds_train)\n",
    "    \n",
    "    # Use TEST data to find RMSE\n",
    "    preds_test = x_test_arr.dot(theta)\n",
    "    test_rmse = compute_rmse(y_test_arr, preds_test)\n",
    "    \n",
    "    if(verbose==True):\n",
    "        print('\\nResults:')\n",
    "        print('Estimated Coefficients :', theta,'\\n')\n",
    "        print('Test Data Shape        :', x_test_arr.shape)\n",
    "        print('Train Data Shape       :', x_train_arr.shape)\n",
    "        print('Coefficients Shape     :', theta.shape)\n",
    "        print('Actual Response values :', y_test_arr.shape)\n",
    "        print('Predicted Responses    :', preds_test.shape)\n",
    "        \n",
    "        print('\\nTrain RMSE = ', train_rmse)     \n",
    "        print('Test  RMSE = ', test_rmse)     \n",
    "        print('-----------------------------------------')\n",
    "        \n",
    "    return train_rmse, test_rmse, theta"
   ]
  },
  {
   "cell_type": "code",
   "execution_count": 211,
   "metadata": {
    "collapsed": false
   },
   "outputs": [
    {
     "name": "stdout",
     "output_type": "stream",
     "text": [
      "\n",
      "Overfitting Regularized OLS \n",
      "-----------------------------\n",
      "\n",
      "Features : ['CRIM', 'RM', 'TAX', 'LSTAT', 'PTRATIO'] \n",
      "\n",
      "Number of Features  : 5\n",
      "Standardize data  ? : True\n",
      "Added Interaction ? : True\n",
      "Shuffle and then split data : ALWAYS TRUE\n",
      "Seed :  13579  and split_pct :  0.66\n",
      "Learning Rate (R)   : 0.01\n",
      "Maximum Iterations  : 10000\n",
      "Lambda (Ridge)      : 0\n",
      "\n",
      "Results:\n",
      "Estimated Coefficients : [ 19.47019123  -5.17538437  -0.55688143   0.46126558   0.75193076\n",
      "  -0.83809223   0.12968238  -0.69753995   2.26081781  -0.53182089\n",
      "   0.9873833    0.81193726   2.0871235   -0.44218123  -0.39416312\n",
      "   2.46576619   1.17484128  -3.41551531  -1.23412145   0.43589208\n",
      "   0.13638161] \n",
      "\n",
      "Test Data Shape        : (172, 21)\n",
      "Train Data Shape       : (334, 21)\n",
      "Coefficients Shape     : (21,)\n",
      "Actual Response values : (172,)\n",
      "Predicted Responses    : (172,)\n",
      "\n",
      "Train RMSE =  8.75065696272\n",
      "Test  RMSE =  9.59492467553\n",
      "-----------------------------------------\n",
      "\n",
      "Overfitting Regularized OLS \n",
      "-----------------------------\n",
      "\n",
      "Features : ['CRIM', 'RM', 'TAX', 'LSTAT', 'PTRATIO'] \n",
      "\n",
      "Number of Features  : 5\n",
      "Standardize data  ? : True\n",
      "Added Interaction ? : True\n",
      "Shuffle and then split data : ALWAYS TRUE\n",
      "Seed :  13579  and split_pct :  0.66\n",
      "Learning Rate (R)   : 0.01\n",
      "Maximum Iterations  : 10000\n",
      "Lambda (Ridge)      : 0.001\n",
      "\n",
      "Results:\n",
      "Estimated Coefficients : [ 19.35173154  -5.16324495  -0.57635868   0.4079146    0.71133508\n",
      "  -0.80115834   0.12946684  -0.67689004   2.26784775  -0.52512826\n",
      "   0.97162126   0.81462927   2.08310797  -0.45317584  -0.37028315\n",
      "   2.50412617   1.16292221  -3.37381563  -1.21904422   0.44540692\n",
      "   0.1666704 ] \n",
      "\n",
      "Test Data Shape        : (172, 21)\n",
      "Train Data Shape       : (334, 21)\n",
      "Coefficients Shape     : (21,)\n",
      "Actual Response values : (172,)\n",
      "Predicted Responses    : (172,)\n",
      "\n",
      "Train RMSE =  8.75260972285\n",
      "Test  RMSE =  9.59489905519\n",
      "-----------------------------------------\n",
      "\n",
      "Overfitting Regularized OLS \n",
      "-----------------------------\n",
      "\n",
      "Features : ['CRIM', 'RM', 'TAX', 'LSTAT', 'PTRATIO'] \n",
      "\n",
      "Number of Features  : 5\n",
      "Standardize data  ? : True\n",
      "Added Interaction ? : True\n",
      "Shuffle and then split data : ALWAYS TRUE\n",
      "Seed :  13579  and split_pct :  0.66\n",
      "Learning Rate (R)   : 0.01\n",
      "Maximum Iterations  : 10000\n",
      "Lambda (Ridge)      : 0.005\n",
      "\n",
      "Results:\n",
      "Estimated Coefficients : [ 18.9044493   -5.11365026  -0.64759043   0.20752651   0.55964982\n",
      "  -0.66341072   0.1288981   -0.60082831   2.29098932  -0.50103652\n",
      "   0.91183849   0.82501728   2.06806833  -0.49205545  -0.28167165\n",
      "   2.6485845    1.11941476  -3.21749146  -1.16028241   0.47941971\n",
      "   0.2808908 ] \n",
      "\n",
      "Test Data Shape        : (172, 21)\n",
      "Train Data Shape       : (334, 21)\n",
      "Coefficients Shape     : (21,)\n",
      "Actual Response values : (172,)\n",
      "Predicted Responses    : (172,)\n",
      "\n",
      "Train RMSE =  8.76256763885\n",
      "Test  RMSE =  9.59692842316\n",
      "-----------------------------------------\n",
      "\n",
      "Overfitting Regularized OLS \n",
      "-----------------------------\n",
      "\n",
      "Features : ['CRIM', 'RM', 'TAX', 'LSTAT', 'PTRATIO'] \n",
      "\n",
      "Number of Features  : 5\n",
      "Standardize data  ? : True\n",
      "Added Interaction ? : True\n",
      "Shuffle and then split data : ALWAYS TRUE\n",
      "Seed :  13579  and split_pct :  0.66\n",
      "Learning Rate (R)   : 0.01\n",
      "Maximum Iterations  : 10000\n",
      "Lambda (Ridge)      : 0.01\n",
      "\n",
      "Results:\n",
      "Estimated Coefficients : [  1.83946894e+01  -5.05088407e+00  -7.24449878e-01  -1.83815362e-02\n",
      "   3.89836467e-01  -5.09645424e-01   1.28673159e-01  -5.17389902e-01\n",
      "   2.31160717e+00  -4.75634215e-01   8.43391633e-01   8.37247492e-01\n",
      "   2.05097120e+00  -5.31670355e-01  -1.83606742e-01   2.81213142e+00\n",
      "   1.07251123e+00  -3.04137478e+00  -1.09003825e+00   5.14620213e-01\n",
      "   4.10710380e-01] \n",
      "\n",
      "Test Data Shape        : (172, 21)\n",
      "Train Data Shape       : (334, 21)\n",
      "Coefficients Shape     : (21,)\n",
      "Actual Response values : (172,)\n",
      "Predicted Responses    : (172,)\n",
      "\n",
      "Train RMSE =  8.77894091953\n",
      "Test  RMSE =  9.60334230231\n",
      "-----------------------------------------\n",
      "\n",
      "Overfitting Regularized OLS \n",
      "-----------------------------\n",
      "\n",
      "Features : ['CRIM', 'RM', 'TAX', 'LSTAT', 'PTRATIO'] \n",
      "\n",
      "Number of Features  : 5\n",
      "Standardize data  ? : True\n",
      "Added Interaction ? : True\n",
      "Shuffle and then split data : ALWAYS TRUE\n",
      "Seed :  13579  and split_pct :  0.66\n",
      "Learning Rate (R)   : 0.01\n",
      "Maximum Iterations  : 10000\n",
      "Lambda (Ridge)      : 0.05\n",
      "\n",
      "Results:\n",
      "Estimated Coefficients : [ 15.55962001  -4.60259323  -1.04856235  -1.18258721  -0.47763527\n",
      "   0.26770171   0.13483901  -0.10613094   2.32951611  -0.37188287\n",
      "   0.46831036   0.91253857   1.9424521   -0.65637552   0.290781\n",
      "   3.66906775   0.86629867  -2.10497091  -0.6312604    0.62557769\n",
      "   1.11866133] \n",
      "\n",
      "Test Data Shape        : (172, 21)\n",
      "Train Data Shape       : (334, 21)\n",
      "Coefficients Shape     : (21,)\n",
      "Actual Response values : (172,)\n",
      "Predicted Responses    : (172,)\n",
      "\n",
      "Train RMSE =  8.97090576574\n",
      "Test  RMSE =  9.71827551736\n",
      "-----------------------------------------\n",
      "\n",
      "Overfitting Regularized OLS \n",
      "-----------------------------\n",
      "\n",
      "Features : ['CRIM', 'RM', 'TAX', 'LSTAT', 'PTRATIO'] \n",
      "\n",
      "Number of Features  : 5\n",
      "Standardize data  ? : True\n",
      "Added Interaction ? : True\n",
      "Shuffle and then split data : ALWAYS TRUE\n",
      "Seed :  13579  and split_pct :  0.66\n",
      "Learning Rate (R)   : 0.01\n",
      "Maximum Iterations  : 10000\n",
      "Lambda (Ridge)      : 0.1\n",
      "\n",
      "Results:\n",
      "Estimated Coefficients : [ 13.53640826  -4.19503611  -1.14088986  -1.84262737  -0.98448172\n",
      "   0.71219467   0.1453721    0.14986767   2.25435     -0.33231447\n",
      "   0.22662949   0.973592     1.82586252  -0.64372207   0.53315985\n",
      "   4.16769082   0.77970696  -1.48566542  -0.22962236   0.59776149\n",
      "   1.59561187] \n",
      "\n",
      "Test Data Shape        : (172, 21)\n",
      "Train Data Shape       : (334, 21)\n",
      "Coefficients Shape     : (21,)\n",
      "Actual Response values : (172,)\n",
      "Predicted Responses    : (172,)\n",
      "\n",
      "Train RMSE =  9.224471597\n",
      "Test  RMSE =  9.89129938023\n",
      "-----------------------------------------\n",
      "\n",
      "Overfitting Regularized OLS \n",
      "-----------------------------\n",
      "\n",
      "Features : ['CRIM', 'RM', 'TAX', 'LSTAT', 'PTRATIO'] \n",
      "\n",
      "Number of Features  : 5\n",
      "Standardize data  ? : True\n",
      "Added Interaction ? : True\n",
      "Shuffle and then split data : ALWAYS TRUE\n",
      "Seed :  13579  and split_pct :  0.66\n",
      "Learning Rate (R)   : 0.01\n",
      "Maximum Iterations  : 10000\n",
      "Lambda (Ridge)      : 0.5\n",
      "\n",
      "Results:\n",
      "Estimated Coefficients : [ 8.33104636 -2.7782559  -0.69353085 -2.20688853 -1.47860924  1.08284679\n",
      "  0.17198035  0.68898267  1.721566   -0.30623575 -0.09089349  1.1570017\n",
      "  1.21779072 -0.37765728  0.63122895  4.39908813  0.7847131  -0.12709158\n",
      "  0.91004996  0.22475477  2.4954332 ] \n",
      "\n",
      "Test Data Shape        : (172, 21)\n",
      "Train Data Shape       : (334, 21)\n",
      "Coefficients Shape     : (21,)\n",
      "Actual Response values : (172,)\n",
      "Predicted Responses    : (172,)\n",
      "\n",
      "Train RMSE =  10.7347693797\n",
      "Test  RMSE =  11.1262701356\n",
      "-----------------------------------------\n",
      "\n",
      "Overfitting Regularized OLS \n",
      "-----------------------------\n",
      "\n",
      "Features : ['CRIM', 'RM', 'TAX', 'LSTAT', 'PTRATIO'] \n",
      "\n",
      "Number of Features  : 5\n",
      "Standardize data  ? : True\n",
      "Added Interaction ? : True\n",
      "Shuffle and then split data : ALWAYS TRUE\n",
      "Seed :  13579  and split_pct :  0.66\n",
      "Learning Rate (R)   : 0.01\n",
      "Maximum Iterations  : 10000\n",
      "Lambda (Ridge)      : 1\n",
      "\n",
      "Results:\n",
      "Estimated Coefficients : [ 6.24696882 -2.0543494  -0.35402982 -1.71384509 -1.23042994  0.8336032\n",
      "  0.16144174  0.7292002   1.38666448 -0.25731654 -0.03641941  1.22293745\n",
      "  0.86678712 -0.34249467  0.43223815  3.85864143  0.79989779  0.2770464\n",
      "  1.18896424  0.16768343  2.55770117] \n",
      "\n",
      "Test Data Shape        : (172, 21)\n",
      "Train Data Shape       : (334, 21)\n",
      "Coefficients Shape     : (21,)\n",
      "Actual Response values : (172,)\n",
      "Predicted Responses    : (172,)\n",
      "\n",
      "Train RMSE =  12.0844600302\n",
      "Test  RMSE =  12.3733641083\n",
      "-----------------------------------------\n",
      "\n",
      "Overfitting Regularized OLS \n",
      "-----------------------------\n",
      "\n",
      "Features : ['CRIM', 'RM', 'TAX', 'LSTAT', 'PTRATIO'] \n",
      "\n",
      "Number of Features  : 5\n",
      "Standardize data  ? : True\n",
      "Added Interaction ? : True\n",
      "Shuffle and then split data : ALWAYS TRUE\n",
      "Seed :  13579  and split_pct :  0.66\n",
      "Learning Rate (R)   : 0.01\n",
      "Maximum Iterations  : 10000\n",
      "Lambda (Ridge)      : 5\n",
      "\n",
      "Results:\n",
      "Estimated Coefficients : [ 2.49509862 -0.68187399  0.02716868 -0.50897622 -0.41584383  0.1754391\n",
      "  0.15045324  0.25014527  0.70099053  0.06365724  0.15183779  1.12793817\n",
      "  0.13335677 -0.45751807 -0.11646277  1.95981157  0.62375979  0.53121217\n",
      "  1.08122307  0.28594225  1.74912107] \n",
      "\n",
      "Test Data Shape        : (172, 21)\n",
      "Train Data Shape       : (334, 21)\n",
      "Coefficients Shape     : (21,)\n",
      "Actual Response values : (172,)\n",
      "Predicted Responses    : (172,)\n",
      "\n",
      "Train RMSE =  16.5718278938\n",
      "Test  RMSE =  16.7730785646\n",
      "-----------------------------------------\n"
     ]
    }
   ],
   "source": [
    "R=0.01\n",
    "lambda_val= 0\n",
    "split_pct = 0.66\n",
    "seed_val = 13579\n",
    "maxIterations = 10000\n",
    "\n",
    "features=['CRIM', 'RM', 'TAX', 'LSTAT', 'PTRATIO'] \n",
    "\n",
    "lambda_val = 0\n",
    "train_rmse, test_rmse,_= overfit_regularized_ols(boston_df, features_list = features, standardize_data=True, add_interact=True, \n",
    "                             shuffle_split_data= True, seed_val = seed_val, split_pct=split_pct, \n",
    "                             R=R, maxIterations=maxIterations, \n",
    "                            lamda_val= lambda_val, verbose = True)\n",
    "\n",
    "lambda_val = 0.001\n",
    "train_rmse, test_rmse,_= overfit_regularized_ols(boston_df, features_list = features, standardize_data=True, add_interact=True, \n",
    "                             shuffle_split_data= True, seed_val = seed_val, split_pct=split_pct, \n",
    "                             R=R, maxIterations=maxIterations, \n",
    "                            lamda_val= lambda_val, verbose = True)\n",
    "\n",
    "lambda_val = 0.005\n",
    "train_rmse, test_rmse,_= overfit_regularized_ols(boston_df, features_list = features, standardize_data=True, add_interact=True, \n",
    "                             shuffle_split_data= True, seed_val = seed_val, split_pct=split_pct, \n",
    "                             R=R, maxIterations=maxIterations, \n",
    "                            lamda_val= lambda_val, verbose = True)\n",
    "\n",
    "lambda_val = 0.01\n",
    "train_rmse, test_rmse,_= overfit_regularized_ols(boston_df, features_list = features, standardize_data=True, add_interact=True, \n",
    "                             shuffle_split_data= True, seed_val = seed_val, split_pct=split_pct, \n",
    "                             R=R, maxIterations=maxIterations, \n",
    "                            lamda_val= lambda_val, verbose = True)\n",
    "\n",
    "lambda_val = 0.05\n",
    "train_rmse, test_rmse,_= overfit_regularized_ols(boston_df, features_list = features, standardize_data=True, add_interact=True, \n",
    "                             shuffle_split_data= True, seed_val = seed_val, split_pct=split_pct, \n",
    "                             R=R, maxIterations=maxIterations, \n",
    "                            lamda_val= lambda_val, verbose = True)\n",
    "\n",
    "lambda_val = 0.1\n",
    "train_rmse, test_rmse, _= overfit_regularized_ols(boston_df, features_list = features, standardize_data=True, add_interact=True, \n",
    "                             shuffle_split_data= True, seed_val = seed_val, split_pct=split_pct, \n",
    "                             R=R, maxIterations=maxIterations, \n",
    "                            lamda_val= lambda_val, verbose = True)\n",
    "\n",
    "\n",
    "lambda_val = 0.5\n",
    "train_rmse, test_rmse, _= overfit_regularized_ols(boston_df, features_list = features, standardize_data=True, add_interact=True, \n",
    "                             shuffle_split_data= True, seed_val = seed_val, split_pct=split_pct, \n",
    "                             R=R, maxIterations=maxIterations, \n",
    "                            lamda_val= lambda_val, verbose = True)\n",
    "\n",
    "\n",
    "lambda_val = 1\n",
    "train_rmse, test_rmse, _ = overfit_regularized_ols(boston_df, features_list = features, standardize_data=True, add_interact=True, \n",
    "                             shuffle_split_data= True, seed_val = seed_val, split_pct=split_pct, \n",
    "                             R=R, maxIterations=maxIterations, \n",
    "                            lamda_val= lambda_val, verbose = True)\n",
    "\n",
    "\n",
    "lambda_val = 5\n",
    "train_rmse, test_rmse, _ = overfit_regularized_ols(boston_df, features_list = features, standardize_data=True, add_interact=True, \n",
    "                             shuffle_split_data= True, seed_val = seed_val, split_pct=split_pct, \n",
    "                             R=R, maxIterations=maxIterations, \n",
    "                            lamda_val= lambda_val, verbose = True)\n",
    "\n",
    "\n"
   ]
  },
  {
   "cell_type": "markdown",
   "metadata": {
    "collapsed": false
   },
   "source": [
    "#### Analysis:\n",
    "We can see that the Test RMSE obtained by the regularization is higher than before. This is partially because the lambda parameter is highly sensitive. We expect that after too much regularization, the test and training RMSE increase since the penalty term overpowers the RSS component in the cost function. When lambda is smaller, the test error can actually reduce because it adds generalizability to the model."
   ]
  },
  {
   "cell_type": "markdown",
   "metadata": {},
   "source": [
    "c) Go brag to your friends about how you just implemented ridge-regularized multiple regression using gradient descent optimization, from scratch (if you still have any friends left...)"
   ]
  },
  {
   "cell_type": "markdown",
   "metadata": {},
   "source": [
    "Look, ma! I did it."
   ]
  },
  {
   "cell_type": "markdown",
   "metadata": {
    "ein.tags": [
     "worksheet-0"
    ],
    "slideshow": {
     "slide_type": "-"
    }
   },
   "source": [
    "---\n",
    "## Extra Credit\n",
    "### Extra Credit 1: Logistic Regression\n",
    "\n",
    "For extra credit, implement logistic regression using gradient descent. Create a new variable (EXPENSIVE) to indicate whether the median housing price is more than $40,000. Use your model  a logistic regression of EXPENSIVE on CHAS and RM. Report your results."
   ]
  },
  {
   "cell_type": "code",
   "execution_count": 212,
   "metadata": {
    "autoscroll": "json-false",
    "collapsed": false,
    "ein.tags": [
     "worksheet-0"
    ],
    "slideshow": {
     "slide_type": "-"
    }
   },
   "outputs": [],
   "source": [
    "#logic"
   ]
  },
  {
   "cell_type": "code",
   "execution_count": 213,
   "metadata": {
    "collapsed": true
   },
   "outputs": [],
   "source": [
    "#RMSE"
   ]
  },
  {
   "cell_type": "markdown",
   "metadata": {
    "ein.tags": [
     "worksheet-0"
    ],
    "slideshow": {
     "slide_type": "-"
    }
   },
   "source": [
    "### Extra Credit 2: Cross-validate lambda\n",
    "\n",
    "Use k-fold cross-validation to select the optimal value of lambda. Report the average RMSE across all training sets, and the average RMSE across all testing sets. How do these numbers compare to each other, to the RMSE from your previous efforts?  Finally, create a plot that shows RMSE as a function of lambda."
   ]
  },
  {
   "cell_type": "markdown",
   "metadata": {
    "autoscroll": "json-false",
    "collapsed": false,
    "ein.tags": [
     "worksheet-0"
    ],
    "slideshow": {
     "slide_type": "-"
    }
   },
   "source": [
    "#### _Define_: Method to cross-validate regularized_ols test & train RMSE for a given lambda"
   ]
  },
  {
   "cell_type": "code",
   "execution_count": 214,
   "metadata": {
    "collapsed": false
   },
   "outputs": [],
   "source": [
    "\n",
    "def cross_validate_regularized_ols(df, feature_list = [], num_splits=10, lambda_val = 0.01, R=0.01, MaxIterations=10000, verbose = False):\n",
    "    if feature_list ==[]:\n",
    "        feature_list = list(df)\n",
    "    \n",
    "    x_df = df[feature_list]\n",
    "    \n",
    "    test_rmse_list = [] #rmse across all CV splits\n",
    "    train_rmse_list= [] #rmse across all CV splits\n",
    "    coefs=[]\n",
    "    \n",
    "    if(verbose == True):\n",
    "        print('Cross-validating Regularized Model: MEDV vs ', features, '\\n----------------------')\n",
    "    \n",
    "    #Generate folds for cross-validation\n",
    "    kf = KFold(n_splits=num_splits, shuffle=False, random_state=1)\n",
    "    kf.get_n_splits(boston_df)    \n",
    "    \n",
    "    i=0\n",
    "    #For each split of CV\n",
    "    for train_index, test_index in kf.split(X3_df):\n",
    "        #Split data into training set\n",
    "        X_train_df, X_test_df = x_df.ix[train_index], x_df.ix[test_index] #Fetch subset of df rows\n",
    "        y_train_df, y_test_df = y[train_index], y[test_index]             #Fetch subset of Series rows \n",
    "\n",
    "        #Prepare TRAIN data for Regularization: Standardize X, Add Intercept to X, convert to Array\n",
    "        x_train_arr = prepare_df_for_ols(X_train_df, feature_list=feature_list, standardize_features=True)\n",
    "        x_test_arr  = prepare_df_for_ols(X_test_df , feature_list=feature_list, standardize_features=True)\n",
    "        \n",
    "        y_train_arr = np.array(y_train_df)\n",
    "        y_test_arr  = np.array(y_test_df)\n",
    "\n",
    "        #Estimate parameters using Regularized Gradient Descent on TRAIN DATA\n",
    "        res = regularized_ols(x_train_arr, y_train_arr, R=R, lambda_val=lambda_val, \n",
    "                              reg_type='Ridge', MaxIterations=MaxIterations)\n",
    "        (theta, _, _, convergence, _, _) = res\n",
    "\n",
    "        #\n",
    "        cv_test_pred = x_test_arr.dot(theta)\n",
    "        cv_train_pred = x_train_arr.dot(theta)\n",
    "\n",
    "        test_rmse  = compute_rmse(cv_test_pred, y_test_arr)\n",
    "        train_rmse = compute_rmse(cv_train_pred, y_train_arr)\n",
    "        \n",
    "        test_rmse_list.append(test_rmse)\n",
    "        train_rmse_list.append(train_rmse)\n",
    "        coefs=[]\n",
    "        \n",
    "        if(verbose==True):\n",
    "            print('Estimating coefficients for Training Split # : ', i+1)\n",
    "            print('Estimated Coefficients :', theta,'\\n')\n",
    "            print('\\nTEST')\n",
    "            print('Shape of predictions : ', cv_test_pred.shape)\n",
    "            print('Shape of responses   : ', y_test_arr.shape)\n",
    "\n",
    "            print('\\nTRAIN')\n",
    "            print('Shape of predictions : ', cv_train_pred.shape)\n",
    "            print('Shape of responses   : ', y_train_arr.shape)\n",
    "                \n",
    "        i+=1\n",
    "    \n",
    "    test_rmse = np.array(test_rmse)\n",
    "    train_rmse = np.array(train_rmse)\n",
    "    \n",
    "    return np.mean(train_rmse), np.mean(test_rmse)\n"
   ]
  },
  {
   "cell_type": "markdown",
   "metadata": {},
   "source": [
    "#### Test Cross Validate Regularized OLS"
   ]
  },
  {
   "cell_type": "code",
   "execution_count": 215,
   "metadata": {
    "autoscroll": "json-false",
    "collapsed": false,
    "ein.tags": [
     "worksheet-0"
    ],
    "slideshow": {
     "slide_type": "-"
    }
   },
   "outputs": [
    {
     "data": {
      "text/plain": [
       "(6.4139027474901154, 6.5634121532675209)"
      ]
     },
     "execution_count": 215,
     "metadata": {},
     "output_type": "execute_result"
    }
   ],
   "source": [
    "features=['RM', 'CRIM']\n",
    "small_df = boston_df[features] #Dataframe\n",
    "cross_validate_regularized_ols(small_df, feature_list = features, num_splits=10, lambda_val = 0.01, R=0.01, MaxIterations=10000, verbose = False)"
   ]
  },
  {
   "cell_type": "markdown",
   "metadata": {
    "collapsed": false,
    "scrolled": true
   },
   "source": [
    "**Analysis:** We can see that the Training(6.414) and test error(6.563) have both come down for the 2 feature model! Regularization has worked its magic.\n",
    "\n",
    "\n",
    "Let's try out the 5 feature based RMSE caluclation for different lambda values!"
   ]
  },
  {
   "cell_type": "code",
   "execution_count": 218,
   "metadata": {
    "collapsed": false
   },
   "outputs": [],
   "source": [
    "#Takes a LONG TIME!\n",
    "mean_rmses_test  = []\n",
    "mean_rmses_train = []\n",
    "\n",
    "features=['CRIM', 'RM', 'TAX', 'LSTAT', 'PTRATIO'] \n",
    "small_df = boston_df[features] #Dataframe\n",
    "\n",
    "#Range of lambdas to test\n",
    "lambdas = np.arange(0.01,100,1)\n",
    "\n",
    "for lambda_val in lambdas:\n",
    "    #print('lambda = ', lambda_val)\n",
    "    (train_rmse, test_rmse) = cross_validate_regularized_ols(small_df, feature_list = features, \n",
    "                                                          num_splits=10, lambda_val = lambda_val, R=0.01, MaxIterations=10000 )\n",
    "    mean_rmses_test.append(test_rmse)\n",
    "    mean_rmses_train.append(train_rmse)\n"
   ]
  },
  {
   "cell_type": "code",
   "execution_count": 219,
   "metadata": {
    "collapsed": false,
    "scrolled": true
   },
   "outputs": [
    {
     "data": {
      "image/png": "[encoded data removed]",
      "text/plain": [
       "<matplotlib.figure.Figure at 0x24be1e45e48>"
      ]
     },
     "metadata": {},
     "output_type": "display_data"
    }
   ],
   "source": [
    "#Create Error Plot\n",
    "#Prepare the data\n",
    "x= np.log(lambdas)\n",
    "\n",
    "#Prepare the plot\n",
    "plt.figure(figsize=(12,10))\n",
    "plt.title('Log Lambda vs RMSE :Cross-Validated (L2) Regularized OLS', fontsize=16)\n",
    "plt.xlabel('Log Lambda', fontsize=14)\n",
    "plt.ylabel('RMSE', fontsize=14)\n",
    "\n",
    "#Plot the data\n",
    "plt.plot(x, mean_rmses_test, label = 'Test RMSE')\n",
    "plt.plot(x, mean_rmses_train, label = 'Train RMSE')\n",
    "\n",
    "#Remove spines on right and top\n",
    "ax= plt.gca()\n",
    "ax.spines['top'].set_visible(False)\n",
    "ax.spines['right'].set_visible(False)\n",
    "\n",
    "plt.legend(loc='best')\n",
    "plt.show()"
   ]
  },
  {
   "cell_type": "markdown",
   "metadata": {
    "ein.tags": [
     "worksheet-0"
    ],
    "slideshow": {
     "slide_type": "-"
    }
   },
   "source": [
    "### (Showoff) Extra Credit 3: Lambda and coefficients\n",
    "\n",
    "If you're feeling extra-special, create a parameter plot that shows how the different coefficient estimates change as a function of lambda. To make this graph intelligible, only include the *K* original F_s features in this plot"
   ]
  },
  {
   "cell_type": "code",
   "execution_count": 220,
   "metadata": {
    "autoscroll": "json-false",
    "collapsed": false,
    "ein.tags": [
     "worksheet-0"
    ],
    "slideshow": {
     "slide_type": "-"
    }
   },
   "outputs": [
    {
     "name": "stdout",
     "output_type": "stream",
     "text": [
      "(100, 13)\n"
     ]
    }
   ],
   "source": [
    "#For all the parameters!\n",
    "features = ['CRIM', 'ZN', 'INDUS', 'NOX', 'RM', 'AGE', 'DIS', 'RAD', 'TAX', 'PTRATIO', 'B', 'LSTAT']\n",
    "numeric_df = boston_df[features]\n",
    "\n",
    "coefs=[]\n",
    "all_theta=[]\n",
    "\n",
    "#Range of lambdas to test\n",
    "lambdas = np.arange(0.01,100, 1)\n",
    "\n",
    "for lambda_val in lambdas:\n",
    "    _, _, theta = overfit_regularized_ols(numeric_df, features_list = features, standardize_data=True, add_interact=False, \n",
    "                             shuffle_split_data= True, seed_val = 13579, split_pct=0.66, \n",
    "                             R=0.01, maxIterations=10000, lamda_val= 0.01, verbose = False)\n",
    "    coefs.append(theta)\n",
    "    row = np.hstack((np.log(lambda_val),theta))\n",
    "    all_theta.append(row)\n",
    "    \n",
    "all_theta = np.array(all_theta)\n",
    "\n",
    "print(all_theta.shape)"
   ]
  },
  {
   "cell_type": "code",
   "execution_count": 221,
   "metadata": {
    "collapsed": false
   },
   "outputs": [
    {
     "data": {
      "image/png": "[encoded data removed]",
      "text/plain": [
       "<matplotlib.figure.Figure at 0x24bdef6c198>"
      ]
     },
     "metadata": {},
     "output_type": "display_data"
    }
   ],
   "source": [
    "#Create Error Plot\n",
    "#Prepare the data\n",
    "x = all_theta[0:,0]\n",
    "\n",
    "#Labels\n",
    "labs = features\n",
    "#labs.insert(0,'INTERCEPT')\n",
    "\n",
    "#Prepare the plot\n",
    "plt.figure(figsize=(12,10))\n",
    "plt.title('Log Lambda vs Coefficient : 12 Features, Ridge-Regularized OLS', fontsize=16)\n",
    "plt.xlabel('Log-Lambda', fontsize=14)\n",
    "plt.ylabel('Coefficient', fontsize=14)\n",
    "\n",
    "#Plot the data\n",
    "#Plot the data\n",
    "for i in range(1,len(all_theta[0])):\n",
    "    col = np.random.rand(3,1)\n",
    "    plt.plot(x,all_theta[:,i], c= col,label= labs[i-1])\n",
    "\n",
    "#Remove spines on right and top\n",
    "ax= plt.gca()\n",
    "ax.axhline(0, linestyle='--') #Horizontal 0 line\n",
    "ax.spines['top'].set_visible(False)\n",
    "ax.spines['right'].set_visible(False)\n",
    "\n",
    "plt.legend(loc='best')\n",
    "plt.show()"
   ]
  },
  {
   "cell_type": "markdown",
   "metadata": {},
   "source": [
    "#### Let's make the graph intelligible"
   ]
  },
  {
   "cell_type": "code",
   "execution_count": 222,
   "metadata": {
    "autoscroll": "json-false",
    "collapsed": false,
    "ein.tags": [
     "worksheet-0"
    ],
    "slideshow": {
     "slide_type": "-"
    }
   },
   "outputs": [
    {
     "name": "stdout",
     "output_type": "stream",
     "text": [
      "(100, 6)\n"
     ]
    }
   ],
   "source": [
    "#For all the parameters!\n",
    "features=['CRIM', 'RM', 'TAX', 'LSTAT', 'PTRATIO'] \n",
    "numeric_df = boston_df[features]\n",
    "\n",
    "coefs=[]\n",
    "all_theta=[]\n",
    "\n",
    "#Range of lambdas to test\n",
    "lambdas = np.arange(0.01,100, 1)\n",
    "\n",
    "for lambda_val in lambdas:\n",
    "    _, _, theta = overfit_regularized_ols(numeric_df, features_list = features, standardize_data=True, add_interact=False, \n",
    "                             shuffle_split_data= True, seed_val = 13579, split_pct=0.66, \n",
    "                             R=0.01, maxIterations=10000, lamda_val= 0.01, verbose = False)\n",
    "    coefs.append(theta)\n",
    "    row = np.hstack((np.log(lambda_val),theta))\n",
    "    all_theta.append(row)\n",
    "    \n",
    "all_theta = np.array(all_theta)\n",
    "\n",
    "print(all_theta.shape)"
   ]
  },
  {
   "cell_type": "code",
   "execution_count": 223,
   "metadata": {
    "collapsed": false
   },
   "outputs": [
    {
     "data": {
      "image/png": "[encoded data removed]",
      "text/plain": [
       "<matplotlib.figure.Figure at 0x24bdf58aef0>"
      ]
     },
     "metadata": {},
     "output_type": "display_data"
    }
   ],
   "source": [
    "#Create Error Plot\n",
    "#Prepare the data\n",
    "x = all_theta[0:,0]\n",
    "\n",
    "#Labels\n",
    "labs = features\n",
    "#labs.insert(0,'INTERCEPT')\n",
    "\n",
    "#Prepare the plot\n",
    "plt.figure(figsize=(12,10))\n",
    "plt.title('Log Lambda vs Coefficient : 5 Features, Ridge-Regularized OLS', fontsize=16)\n",
    "plt.xlabel('Log-Lambda', fontsize=14)\n",
    "plt.ylabel('Coefficient', fontsize=14)\n",
    "\n",
    "#Plot the data\n",
    "#Plot the data\n",
    "for i in range(1,len(all_theta[0])):\n",
    "    col = np.random.rand(3,1)\n",
    "    plt.plot(x,all_theta[:,i], c= col,label= labs[i-1])\n",
    "\n",
    "#Remove spines on right and top\n",
    "ax= plt.gca()\n",
    "ax.axhline(0, linestyle='--') #Horizontal 0 line\n",
    "ax.spines['top'].set_visible(False)\n",
    "ax.spines['right'].set_visible(False)\n",
    "\n",
    "plt.legend(loc='best')\n",
    "plt.show()"
   ]
  },
  {
   "cell_type": "markdown",
   "metadata": {},
   "source": [
    "#### Let's make this the simplest possible model"
   ]
  },
  {
   "cell_type": "code",
   "execution_count": 224,
   "metadata": {
    "autoscroll": "json-false",
    "collapsed": false,
    "ein.tags": [
     "worksheet-0"
    ],
    "slideshow": {
     "slide_type": "-"
    }
   },
   "outputs": [
    {
     "name": "stdout",
     "output_type": "stream",
     "text": [
      "(100, 3)\n"
     ]
    }
   ],
   "source": [
    "#For all the parameters!\n",
    "features = ['CRIM', 'RM']\n",
    "numeric_df = boston_df[features]\n",
    "\n",
    "coefs=[]\n",
    "all_theta=[]\n",
    "\n",
    "#Range of lambdas to test\n",
    "lambdas = np.arange(0.01,100, 1)\n",
    "\n",
    "for lambda_val in lambdas:\n",
    "    _, _, theta = overfit_regularized_ols(numeric_df, features_list = features, standardize_data=True, add_interact=False, \n",
    "                             shuffle_split_data= True, seed_val = 13579, split_pct=0.66, \n",
    "                             R=0.01, maxIterations=10000, lamda_val= 0.01, verbose = False)\n",
    "    coefs.append(theta)\n",
    "    row = np.hstack((np.log(lambda_val),theta))\n",
    "    all_theta.append(row)\n",
    "    \n",
    "all_theta = np.array(all_theta)\n",
    "\n",
    "print(all_theta.shape)"
   ]
  },
  {
   "cell_type": "code",
   "execution_count": 227,
   "metadata": {
    "collapsed": false
   },
   "outputs": [
    {
     "data": {
      "image/png": "[encoded data removed]",
      "text/plain": [
       "<matplotlib.figure.Figure at 0x24be1711630>"
      ]
     },
     "metadata": {},
     "output_type": "display_data"
    }
   ],
   "source": [
    "#Create Error Plot\n",
    "#Prepare the data\n",
    "x = all_theta[0:,0]\n",
    "\n",
    "#Labels\n",
    "labs = features\n",
    "#labs.insert(0,'INTERCEPT')\n",
    "\n",
    "#Prepare the plot\n",
    "plt.figure(figsize=(12,10))\n",
    "plt.title('Log Lambda vs Coefficient : 2 Features, Ridge-Regularized OLS', fontsize=16)\n",
    "plt.xlabel('Log-Lambda', fontsize=14)\n",
    "plt.ylabel('Coefficient', fontsize=14)\n",
    "\n",
    "#Plot the data\n",
    "#Plot the data\n",
    "for i in range(1,len(all_theta[0])):\n",
    "    col = np.random.rand(3,1)\n",
    "    plt.plot(x,all_theta[:,i], c= col,label= labs[i-1])\n",
    "\n",
    "#Remove spines on right and top\n",
    "ax= plt.gca()\n",
    "ax.axhline(0, linestyle='--') #Horizontal 0 line\n",
    "ax.spines['top'].set_visible(False)\n",
    "ax.spines['right'].set_visible(False)\n",
    "\n",
    "plt.legend(loc='best')\n",
    "plt.show()"
   ]
  },
  {
   "cell_type": "code",
   "execution_count": null,
   "metadata": {
    "collapsed": true
   },
   "outputs": [],
   "source": []
  },
  {
   "cell_type": "code",
   "execution_count": null,
   "metadata": {
    "collapsed": true
   },
   "outputs": [],
   "source": []
  }
 ],
 "metadata": {
  "anaconda-cloud": {},
  "kernelspec": {
   "display_name": "Python 3",
   "language": "python",
   "name": "python3"
  },
  "language_info": {
   "codemirror_mode": {
    "name": "ipython",
    "version": 3
   },
   "file_extension": ".py",
   "mimetype": "text/x-python",
   "name": "python",
   "nbconvert_exporter": "python",
   "pygments_lexer": "ipython3",
   "version": "3.6.0"
  },
  "name": "INFX574-PS4-solutions.ipynb"
 },
 "nbformat": 4,
 "nbformat_minor": 0
}
