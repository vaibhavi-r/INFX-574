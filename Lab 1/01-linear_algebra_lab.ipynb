{
 "cells": [
  {
   "cell_type": "markdown",
   "metadata": {
    "ein.tags": [
     "worksheet-0"
    ],
    "slideshow": {
     "slide_type": "-"
    }
   },
   "source": [
    "### In-class exercise for Tue, 2017-04-12.  If submitted by midnight, Thu, April 13th, you will earn 3 participation credits."
   ]
  },
  {
   "cell_type": "code",
   "execution_count": 187,
   "metadata": {
    "autoscroll": "json-false",
    "collapsed": false,
    "ein.tags": [
     "worksheet-0"
    ],
    "slideshow": {
     "slide_type": "-"
    }
   },
   "outputs": [],
   "source": [
    "import numpy as np\n",
    "import pandas as pd"
   ]
  },
  {
   "cell_type": "markdown",
   "metadata": {
    "ein.tags": [
     "worksheet-0"
    ],
    "slideshow": {
     "slide_type": "-"
    }
   },
   "source": [
    "## 1. Solve the following system of equations:\n",
    "\n",
    "x1 + 2\\*x2 = 7\n",
    "-x2 + x3 = 6\n",
    "x1 - 4\\*x2 + x3 = -2\n",
    "\n",
    "Use linear algebra (feel free to check your LA result with other methods if you have nothing better to do ;-) \n"
   ]
  },
  {
   "cell_type": "code",
   "execution_count": 188,
   "metadata": {
    "autoscroll": "json-false",
    "collapsed": false,
    "ein.tags": [
     "worksheet-0"
    ],
    "slideshow": {
     "slide_type": "-"
    }
   },
   "outputs": [
    {
     "data": {
      "text/plain": [
       "array([ 1.,  3.,  9.])"
      ]
     },
     "execution_count": 188,
     "metadata": {},
     "output_type": "execute_result"
    }
   ],
   "source": [
    "a = np.array([[1,2,0], [0,-1, 1], [1, -4, 1]])\n",
    "b = np.array([7,6,-2])\n",
    "x = np.linalg.solve(a, b)\n",
    "x"
   ]
  },
  {
   "cell_type": "markdown",
   "metadata": {
    "ein.tags": [
     "worksheet-0"
    ],
    "slideshow": {
     "slide_type": "-"
    }
   },
   "source": [
    "## 2. Condition number\n",
    "Read the AmesHousing dataset documentation.  It is sales price data for Ames, IA, the variable 'SalePrice' represents the sale price in USD.  We are working toward predicting the price based on the observed features.  (but we don't get that far...)\n",
    "\n",
    "Determine the data type and import this data into python.  Ensure you imported it correctly."
   ]
  },
  {
   "cell_type": "markdown",
   "metadata": {},
   "source": [
    "Looking at the documentation, the sale price ($$) is a continuous variable."
   ]
  },
  {
   "cell_type": "code",
   "execution_count": 189,
   "metadata": {
    "autoscroll": "json-false",
    "collapsed": false,
    "ein.tags": [
     "worksheet-0"
    ],
    "slideshow": {
     "slide_type": "-"
    }
   },
   "outputs": [],
   "source": [
    "df = pd.read_csv('ameshousing.csv', sep='\\t', lineterminator='\\n')"
   ]
  },
  {
   "cell_type": "code",
   "execution_count": 190,
   "metadata": {
    "collapsed": false
   },
   "outputs": [
    {
     "name": "stdout",
     "output_type": "stream",
     "text": [
      "Shape : (2930, 82)\n",
      "Columns:\n",
      " Index(['Order', 'PID', 'MS SubClass', 'MS Zoning', 'Lot Frontage', 'Lot Area',\n",
      "       'Street', 'Alley', 'Lot Shape', 'Land Contour', 'Utilities',\n",
      "       'Lot Config', 'Land Slope', 'Neighborhood', 'Condition 1',\n",
      "       'Condition 2', 'Bldg Type', 'House Style', 'Overall Qual',\n",
      "       'Overall Cond', 'Year Built', 'Year Remod/Add', 'Roof Style',\n",
      "       'Roof Matl', 'Exterior 1st', 'Exterior 2nd', 'Mas Vnr Type',\n",
      "       'Mas Vnr Area', 'Exter Qual', 'Exter Cond', 'Foundation', 'Bsmt Qual',\n",
      "       'Bsmt Cond', 'Bsmt Exposure', 'BsmtFin Type 1', 'BsmtFin SF 1',\n",
      "       'BsmtFin Type 2', 'BsmtFin SF 2', 'Bsmt Unf SF', 'Total Bsmt SF',\n",
      "       'Heating', 'Heating QC', 'Central Air', 'Electrical', '1st Flr SF',\n",
      "       '2nd Flr SF', 'Low Qual Fin SF', 'Gr Liv Area', 'Bsmt Full Bath',\n",
      "       'Bsmt Half Bath', 'Full Bath', 'Half Bath', 'Bedroom AbvGr',\n",
      "       'Kitchen AbvGr', 'Kitchen Qual', 'TotRms AbvGrd', 'Functional',\n",
      "       'Fireplaces', 'Fireplace Qu', 'Garage Type', 'Garage Yr Blt',\n",
      "       'Garage Finish', 'Garage Cars', 'Garage Area', 'Garage Qual',\n",
      "       'Garage Cond', 'Paved Drive', 'Wood Deck SF', 'Open Porch SF',\n",
      "       'Enclosed Porch', '3Ssn Porch', 'Screen Porch', 'Pool Area', 'Pool QC',\n",
      "       'Fence', 'Misc Feature', 'Misc Val', 'Mo Sold', 'Yr Sold', 'Sale Type',\n",
      "       'Sale Condition', 'SalePrice\\r'],\n",
      "      dtype='object')\n",
      "Data Types:\n",
      " Order               int64\n",
      "PID                 int64\n",
      "MS SubClass         int64\n",
      "MS Zoning          object\n",
      "Lot Frontage      float64\n",
      "Lot Area            int64\n",
      "Street             object\n",
      "Alley              object\n",
      "Lot Shape          object\n",
      "Land Contour       object\n",
      "Utilities          object\n",
      "Lot Config         object\n",
      "Land Slope         object\n",
      "Neighborhood       object\n",
      "Condition 1        object\n",
      "Condition 2        object\n",
      "Bldg Type          object\n",
      "House Style        object\n",
      "Overall Qual        int64\n",
      "Overall Cond        int64\n",
      "Year Built          int64\n",
      "Year Remod/Add      int64\n",
      "Roof Style         object\n",
      "Roof Matl          object\n",
      "Exterior 1st       object\n",
      "Exterior 2nd       object\n",
      "Mas Vnr Type       object\n",
      "Mas Vnr Area      float64\n",
      "Exter Qual         object\n",
      "Exter Cond         object\n",
      "                   ...   \n",
      "Bedroom AbvGr       int64\n",
      "Kitchen AbvGr       int64\n",
      "Kitchen Qual       object\n",
      "TotRms AbvGrd       int64\n",
      "Functional         object\n",
      "Fireplaces          int64\n",
      "Fireplace Qu       object\n",
      "Garage Type        object\n",
      "Garage Yr Blt     float64\n",
      "Garage Finish      object\n",
      "Garage Cars       float64\n",
      "Garage Area       float64\n",
      "Garage Qual        object\n",
      "Garage Cond        object\n",
      "Paved Drive        object\n",
      "Wood Deck SF        int64\n",
      "Open Porch SF       int64\n",
      "Enclosed Porch      int64\n",
      "3Ssn Porch          int64\n",
      "Screen Porch        int64\n",
      "Pool Area           int64\n",
      "Pool QC            object\n",
      "Fence              object\n",
      "Misc Feature       object\n",
      "Misc Val            int64\n",
      "Mo Sold             int64\n",
      "Yr Sold             int64\n",
      "Sale Type          object\n",
      "Sale Condition     object\n",
      "SalePrice\\r         int64\n",
      "dtype: object\n"
     ]
    },
    {
     "data": {
      "text/html": [
       "<div>\n",
       "<table border=\"1\" class=\"dataframe\">\n",
       "  <thead>\n",
       "    <tr style=\"text-align: right;\">\n",
       "      <th></th>\n",
       "      <th>Order</th>\n",
       "      <th>PID</th>\n",
       "      <th>MS SubClass</th>\n",
       "      <th>MS Zoning</th>\n",
       "      <th>Lot Frontage</th>\n",
       "      <th>Lot Area</th>\n",
       "      <th>Street</th>\n",
       "      <th>Alley</th>\n",
       "      <th>Lot Shape</th>\n",
       "      <th>Land Contour</th>\n",
       "      <th>...</th>\n",
       "      <th>Pool Area</th>\n",
       "      <th>Pool QC</th>\n",
       "      <th>Fence</th>\n",
       "      <th>Misc Feature</th>\n",
       "      <th>Misc Val</th>\n",
       "      <th>Mo Sold</th>\n",
       "      <th>Yr Sold</th>\n",
       "      <th>Sale Type</th>\n",
       "      <th>Sale Condition</th>\n",
       "      <th>SalePrice</th>\n",
       "    </tr>\n",
       "  </thead>\n",
       "  <tbody>\n",
       "    <tr>\n",
       "      <th>0</th>\n",
       "      <td>1</td>\n",
       "      <td>526301100</td>\n",
       "      <td>20</td>\n",
       "      <td>RL</td>\n",
       "      <td>141.0</td>\n",
       "      <td>31770</td>\n",
       "      <td>Pave</td>\n",
       "      <td>NaN</td>\n",
       "      <td>IR1</td>\n",
       "      <td>Lvl</td>\n",
       "      <td>...</td>\n",
       "      <td>0</td>\n",
       "      <td>NaN</td>\n",
       "      <td>NaN</td>\n",
       "      <td>NaN</td>\n",
       "      <td>0</td>\n",
       "      <td>5</td>\n",
       "      <td>2010</td>\n",
       "      <td>WD</td>\n",
       "      <td>Normal</td>\n",
       "      <td>215000</td>\n",
       "    </tr>\n",
       "    <tr>\n",
       "      <th>1</th>\n",
       "      <td>2</td>\n",
       "      <td>526350040</td>\n",
       "      <td>20</td>\n",
       "      <td>RH</td>\n",
       "      <td>80.0</td>\n",
       "      <td>11622</td>\n",
       "      <td>Pave</td>\n",
       "      <td>NaN</td>\n",
       "      <td>Reg</td>\n",
       "      <td>Lvl</td>\n",
       "      <td>...</td>\n",
       "      <td>0</td>\n",
       "      <td>NaN</td>\n",
       "      <td>MnPrv</td>\n",
       "      <td>NaN</td>\n",
       "      <td>0</td>\n",
       "      <td>6</td>\n",
       "      <td>2010</td>\n",
       "      <td>WD</td>\n",
       "      <td>Normal</td>\n",
       "      <td>105000</td>\n",
       "    </tr>\n",
       "    <tr>\n",
       "      <th>2</th>\n",
       "      <td>3</td>\n",
       "      <td>526351010</td>\n",
       "      <td>20</td>\n",
       "      <td>RL</td>\n",
       "      <td>81.0</td>\n",
       "      <td>14267</td>\n",
       "      <td>Pave</td>\n",
       "      <td>NaN</td>\n",
       "      <td>IR1</td>\n",
       "      <td>Lvl</td>\n",
       "      <td>...</td>\n",
       "      <td>0</td>\n",
       "      <td>NaN</td>\n",
       "      <td>NaN</td>\n",
       "      <td>Gar2</td>\n",
       "      <td>12500</td>\n",
       "      <td>6</td>\n",
       "      <td>2010</td>\n",
       "      <td>WD</td>\n",
       "      <td>Normal</td>\n",
       "      <td>172000</td>\n",
       "    </tr>\n",
       "    <tr>\n",
       "      <th>3</th>\n",
       "      <td>4</td>\n",
       "      <td>526353030</td>\n",
       "      <td>20</td>\n",
       "      <td>RL</td>\n",
       "      <td>93.0</td>\n",
       "      <td>11160</td>\n",
       "      <td>Pave</td>\n",
       "      <td>NaN</td>\n",
       "      <td>Reg</td>\n",
       "      <td>Lvl</td>\n",
       "      <td>...</td>\n",
       "      <td>0</td>\n",
       "      <td>NaN</td>\n",
       "      <td>NaN</td>\n",
       "      <td>NaN</td>\n",
       "      <td>0</td>\n",
       "      <td>4</td>\n",
       "      <td>2010</td>\n",
       "      <td>WD</td>\n",
       "      <td>Normal</td>\n",
       "      <td>244000</td>\n",
       "    </tr>\n",
       "    <tr>\n",
       "      <th>4</th>\n",
       "      <td>5</td>\n",
       "      <td>527105010</td>\n",
       "      <td>60</td>\n",
       "      <td>RL</td>\n",
       "      <td>74.0</td>\n",
       "      <td>13830</td>\n",
       "      <td>Pave</td>\n",
       "      <td>NaN</td>\n",
       "      <td>IR1</td>\n",
       "      <td>Lvl</td>\n",
       "      <td>...</td>\n",
       "      <td>0</td>\n",
       "      <td>NaN</td>\n",
       "      <td>MnPrv</td>\n",
       "      <td>NaN</td>\n",
       "      <td>0</td>\n",
       "      <td>3</td>\n",
       "      <td>2010</td>\n",
       "      <td>WD</td>\n",
       "      <td>Normal</td>\n",
       "      <td>189900</td>\n",
       "    </tr>\n",
       "  </tbody>\n",
       "</table>\n",
       "<p>5 rows × 82 columns</p>\n",
       "</div>"
      ],
      "text/plain": [
       "   Order        PID  MS SubClass MS Zoning  Lot Frontage  Lot Area Street  \\\n",
       "0      1  526301100           20        RL         141.0     31770   Pave   \n",
       "1      2  526350040           20        RH          80.0     11622   Pave   \n",
       "2      3  526351010           20        RL          81.0     14267   Pave   \n",
       "3      4  526353030           20        RL          93.0     11160   Pave   \n",
       "4      5  527105010           60        RL          74.0     13830   Pave   \n",
       "\n",
       "  Alley Lot Shape Land Contour     ...      Pool Area Pool QC  Fence  \\\n",
       "0   NaN       IR1          Lvl     ...              0     NaN    NaN   \n",
       "1   NaN       Reg          Lvl     ...              0     NaN  MnPrv   \n",
       "2   NaN       IR1          Lvl     ...              0     NaN    NaN   \n",
       "3   NaN       Reg          Lvl     ...              0     NaN    NaN   \n",
       "4   NaN       IR1          Lvl     ...              0     NaN  MnPrv   \n",
       "\n",
       "  Misc Feature Misc Val Mo Sold Yr Sold Sale Type  Sale Condition  SalePrice\\r  \n",
       "0          NaN        0       5    2010       WD           Normal       215000  \n",
       "1          NaN        0       6    2010       WD           Normal       105000  \n",
       "2         Gar2    12500       6    2010       WD           Normal       172000  \n",
       "3          NaN        0       4    2010       WD           Normal       244000  \n",
       "4          NaN        0       3    2010       WD           Normal       189900  \n",
       "\n",
       "[5 rows x 82 columns]"
      ]
     },
     "execution_count": 190,
     "metadata": {},
     "output_type": "execute_result"
    }
   ],
   "source": [
    "print ('Shape :', df.shape)\n",
    "print ('Columns:\\n', df.columns)\n",
    "print ('Data Types:\\n',df.dtypes)\n",
    "\n",
    "df.head()"
   ]
  },
  {
   "cell_type": "markdown",
   "metadata": {
    "ein.tags": [
     "worksheet-0"
    ],
    "slideshow": {
     "slide_type": "-"
    }
   },
   "source": [
    "**2.1** The dataset includes a large number of variables.  Some of these are numeric (continuous), some are categoric (nominal) and others are ordered (ordinal).  However, many statistical methods can only handle numeric variables.\n",
    "\n",
    "Look at variable 'Street'.  Is it numeric, categorical, or ordered?"
   ]
  },
  {
   "cell_type": "code",
   "execution_count": 191,
   "metadata": {
    "autoscroll": "json-false",
    "collapsed": false,
    "ein.tags": [
     "worksheet-0"
    ],
    "slideshow": {
     "slide_type": "-"
    }
   },
   "outputs": [
    {
     "name": "stdout",
     "output_type": "stream",
     "text": [
      "['Pave' 'Grvl']\n"
     ]
    }
   ],
   "source": [
    "type(df.Street) #pandas Series\n",
    "print(df.Street.unique())"
   ]
  },
  {
   "cell_type": "markdown",
   "metadata": {},
   "source": [
    "The Street variable is a categorical (nominal) variable.The documentation mentions that 'Street' is a nominal variable as well."
   ]
  },
  {
   "cell_type": "markdown",
   "metadata": {
    "ein.tags": [
     "worksheet-0"
    ],
    "slideshow": {
     "slide_type": "-"
    }
   },
   "source": [
    "**2.2** A standard approach to handle categorical variables is to create *dummies* out of these.  This can be achieved by 'pd.get_dummies()' function.  Transform 'Street' into dummies.  How many of these do you need in your calculations?"
   ]
  },
  {
   "cell_type": "code",
   "execution_count": 192,
   "metadata": {
    "autoscroll": "json-false",
    "collapsed": false,
    "ein.tags": [
     "worksheet-0"
    ],
    "slideshow": {
     "slide_type": "-"
    }
   },
   "outputs": [
    {
     "name": "stdout",
     "output_type": "stream",
     "text": [
      "\n",
      " Street is a NOMINAL variable has  2  levels.\n",
      "\n",
      " Dataframe with Street dummies \n",
      "    Grvl  Pave\n",
      "0     0     1\n",
      "1     0     1\n",
      "2     0     1\n",
      "3     0     1\n",
      "4     0     1\n"
     ]
    }
   ],
   "source": [
    "street_dummies = pd.get_dummies(df.Street)\n",
    "print('\\n Street is a NOMINAL variable has ', len(street_dummies.columns), ' levels.')\n",
    "print('\\n Dataframe with Street dummies \\n', street_dummies.head())"
   ]
  },
  {
   "cell_type": "markdown",
   "metadata": {},
   "source": [
    "There are 2 dummy variables generated for the categorical column 'Street' because it has 2 levels. We only need at most 1 dummy variable in our calculations because we can infer the state of the original categorical variable with n levels with (n-1) level bits."
   ]
  },
  {
   "cell_type": "markdown",
   "metadata": {
    "ein.tags": [
     "worksheet-0"
    ],
    "slideshow": {
     "slide_type": "-"
    }
   },
   "source": [
    "**2.3** The statistical methods typically require to be fed the *design matrix*, a matrix that includes only numeric vectors for each observation.  In case of categorical features, the design matrix will contain the corresponding rows of dummies.  Create the design matrix of the 'Street' variable.  You may use 'pd.DataFrame.as_matrix()' function."
   ]
  },
  {
   "cell_type": "code",
   "execution_count": 193,
   "metadata": {
    "autoscroll": "json-false",
    "collapsed": false,
    "ein.tags": [
     "worksheet-0"
    ],
    "slideshow": {
     "slide_type": "-"
    }
   },
   "outputs": [
    {
     "name": "stdout",
     "output_type": "stream",
     "text": [
      "\n",
      "Design Matrix with One Feature (Street)\n"
     ]
    },
    {
     "data": {
      "text/plain": [
       "array([[0, 1],\n",
       "       [0, 1],\n",
       "       [0, 1],\n",
       "       ..., \n",
       "       [0, 1],\n",
       "       [0, 1],\n",
       "       [0, 1]], dtype=uint8)"
      ]
     },
     "execution_count": 193,
     "metadata": {},
     "output_type": "execute_result"
    }
   ],
   "source": [
    "print('\\nDesign Matrix with One Feature (Street)')\n",
    "street_matrix = pd.DataFrame.as_matrix(street_dummies)\n",
    "design_matrix = street_matrix  \n",
    "design_matrix"
   ]
  },
  {
   "cell_type": "markdown",
   "metadata": {
    "ein.tags": [
     "worksheet-0"
    ],
    "slideshow": {
     "slide_type": "-"
    }
   },
   "source": [
    "**2.4** Select another feature and add to the design matrix.  If you select a categorical one, it should be converted to dummies as above.  If it is numeric, you may take it as-is.  Ordered features may be transformed to ordered numbers (such as 1,2,3,4...).  Add the data from the new variable to your design matrix.  You may use 'numpy.hstack()' to concatenate matrices column-wise.\n"
   ]
  },
  {
   "cell_type": "code",
   "execution_count": 194,
   "metadata": {
    "autoscroll": "json-false",
    "collapsed": false,
    "ein.tags": [
     "worksheet-0"
    ],
    "slideshow": {
     "slide_type": "-"
    }
   },
   "outputs": [
    {
     "name": "stdout",
     "output_type": "stream",
     "text": [
      "\n",
      " Heating is a NOMINAL variable with  6  levels.\n",
      "\n",
      " Dataframe with Heating dummies \n",
      "    Floor  GasA  GasW  Grav  OthW  Wall\n",
      "0      0     1     0     0     0     0\n",
      "1      0     1     0     0     0     0\n",
      "2      0     1     0     0     0     0\n",
      "3      0     1     0     0     0     0\n",
      "4      0     1     0     0     0     0\n"
     ]
    }
   ],
   "source": [
    "\n",
    "heat_dummies = pd.get_dummies(df.Heating)\n",
    "print('\\n Heating is a NOMINAL variable with ', len(heat_dummies.columns), ' levels.')\n",
    "print('\\n Dataframe with Heating dummies \\n', heat_dummies.head())\n",
    "\n",
    "heat_matrix = pd.DataFrame.as_matrix(heat_dummies)"
   ]
  },
  {
   "cell_type": "code",
   "execution_count": 195,
   "metadata": {
    "collapsed": false
   },
   "outputs": [
    {
     "name": "stdout",
     "output_type": "stream",
     "text": [
      "\n",
      " Design Matrix Shape = (2930, 8)\n",
      "\n",
      " Design Matrix with Two Features (Street, Heating)\n"
     ]
    },
    {
     "data": {
      "text/plain": [
       "array([[0, 1, 0, ..., 0, 0, 0],\n",
       "       [0, 1, 0, ..., 0, 0, 0],\n",
       "       [0, 1, 0, ..., 0, 0, 0],\n",
       "       ..., \n",
       "       [0, 1, 0, ..., 0, 0, 0],\n",
       "       [0, 1, 0, ..., 0, 0, 0],\n",
       "       [0, 1, 0, ..., 0, 0, 0]], dtype=uint8)"
      ]
     },
     "execution_count": 195,
     "metadata": {},
     "output_type": "execute_result"
    }
   ],
   "source": [
    "#Create Design Matrix \n",
    "design_matrix = np.hstack((street_matrix, heat_matrix))\n",
    "print('\\n Design Matrix Shape =', design_matrix.shape)\n",
    "print('\\n Design Matrix with Two Features (Street, Heating)')\n",
    "design_matrix"
   ]
  },
  {
   "cell_type": "markdown",
   "metadata": {},
   "source": [
    "#### Creating Functions for repeatability"
   ]
  },
  {
   "cell_type": "code",
   "execution_count": 196,
   "metadata": {
    "collapsed": false
   },
   "outputs": [],
   "source": [
    "#Future Functions\n",
    "def create_feature_matrix (df, colname_str, col_type):\n",
    "    dummies = pd.get_dummies(df[colname_str])\n",
    "    \n",
    "    print('\\n ', colname_str,' is a ',col_type, ' variable with ', len(dummies.columns), ' levels.')\n",
    "    print('\\n Dataframe with ', colname_str ,' dummies \\n', dummies.head())\n",
    "    matrix = pd.DataFrame.as_matrix(dummies)\n",
    "    return matrix\n",
    "\n",
    "\n",
    "#This function needs to be edited\n",
    "\n",
    "def create_design_matrix(matrix_list):\n",
    "    n = len(matrix_list) \n",
    "    if(n<2):\n",
    "        return []\n",
    "    else:        \n",
    "        mat = matrix_list\n",
    "        for mat in matrix_list:\n",
    "            design_matrix = np.hstack((design_matrix, heat_matrix))\n",
    "            print('\\n Design Matrix Shape =', design_matrix.shape)\n",
    "        return design_matrix    "
   ]
  },
  {
   "cell_type": "markdown",
   "metadata": {
    "ein.tags": [
     "worksheet-0"
    ],
    "slideshow": {
     "slide_type": "-"
    }
   },
   "source": [
    "**2.5** Is this matrix (near) singular?  Which variables (if any) cause\n",
    "the singularity?  Proceed like this:\n",
    "\n",
    "a) take the first column from your design matrix.  You will have nx1 matrix. \n",
    "b) compute the condition number of it  (you may use 'np.linalg.cond()').\n",
    "c) print it\n",
    "d) add the next column and proceed to b)\n",
    "\n",
    "Now look how the condition number changes when you add the columns.  When it jump substantially, you have added a significant bit of multicollinearity into your design matrix.  However, condition numbers up to thousands is usually not a problem.\n",
    "\n",
    "Add 1-2 additional variables to your design matrix and repeat the process."
   ]
  },
  {
   "cell_type": "code",
   "execution_count": 197,
   "metadata": {
    "autoscroll": "json-false",
    "collapsed": false,
    "ein.tags": [
     "worksheet-0"
    ],
    "slideshow": {
     "slide_type": "-"
    }
   },
   "outputs": [],
   "source": [
    "def calculate_singularity(dm):\n",
    "    #input is a feature matrix (df.as_matrix)\n",
    "    nrows, ncols = dm.shape\n",
    "    print('\\n Calculating Singularity')\n",
    "    print('\\n -----------------------')\n",
    "    print('\\n Shape of Input Design Matrix :', nrows, ncols)\n",
    "    X = np.asmatrix(dm)\n",
    "    for i in range(1, ncols+1):\n",
    "        cond_num = np.linalg.cond(X[:, 0:i]) \n",
    "        if (cond_num < 10000):\n",
    "            print('With ', i, ' columns, condition number is ', cond_num)\n",
    "        else:\n",
    "            print('With ', i, ' columns, condition number is ', cond_num, '   <--- SINGULARITY')\n"
   ]
  },
  {
   "cell_type": "code",
   "execution_count": 198,
   "metadata": {
    "collapsed": false
   },
   "outputs": [
    {
     "name": "stdout",
     "output_type": "stream",
     "text": [
      "\n",
      " Calculating Singularity\n",
      "\n",
      " -----------------------\n",
      "\n",
      " Shape of Input Design Matrix : 2930 8\n",
      "With  1  columns, condition number is  1.0\n",
      "With  2  columns, condition number is  15.5938021876\n",
      "With  3  columns, condition number is  54.027780157\n",
      "With  4  columns, condition number is  76.9120230611\n",
      "With  5  columns, condition number is  78.8232053662\n",
      "With  6  columns, condition number is  85.2484931901\n",
      "With  7  columns, condition number is  95.0874309763\n",
      "With  8  columns, condition number is  2.5029639136e+15    <--- SINGULARITY\n"
     ]
    }
   ],
   "source": [
    "#Calculate Sigularity for current design matrix\n",
    "calculate_singularity(design_matrix)"
   ]
  },
  {
   "cell_type": "markdown",
   "metadata": {},
   "source": [
    "- Explanation (Street + Heating)\n",
    "\n",
    "Singularity is achieved when the 8th column of Design Matrix is added! (Value = Wall from Heating)\n"
   ]
  },
  {
   "cell_type": "markdown",
   "metadata": {},
   "source": [
    "#### Adding Kitchen Quality [Kitchen Qual]"
   ]
  },
  {
   "cell_type": "code",
   "execution_count": 199,
   "metadata": {
    "collapsed": false
   },
   "outputs": [
    {
     "name": "stdout",
     "output_type": "stream",
     "text": [
      "\n",
      "  Kitchen Qual  is a  ORDINAL  variable with  5  levels.\n",
      "\n",
      " Dataframe with  Kitchen Qual  dummies \n",
      "    Ex  Fa  Gd  Po  TA\n",
      "0   0   0   0   0   1\n",
      "1   0   0   0   0   1\n",
      "2   0   0   1   0   0\n",
      "3   1   0   0   0   0\n",
      "4   0   0   0   0   1\n",
      "\n",
      " Design Matrix with Two Features (Street, Kitchen Quality)\n",
      "[[0 1 0 ..., 0 0 1]\n",
      " [0 1 0 ..., 0 0 1]\n",
      " [0 1 0 ..., 1 0 0]\n",
      " ..., \n",
      " [0 1 0 ..., 0 0 1]\n",
      " [0 1 0 ..., 0 0 1]\n",
      " [0 1 0 ..., 0 0 1]]\n",
      "\n",
      " Calculating Singularity\n",
      "\n",
      " -----------------------\n",
      "\n",
      " Shape of Input Design Matrix : 2930 7\n",
      "With  1  columns, condition number is  1.0\n",
      "With  2  columns, condition number is  15.5938021876\n",
      "With  3  columns, condition number is  15.6349042862\n",
      "With  4  columns, condition number is  15.6856422148\n",
      "With  5  columns, condition number is  17.1442069404\n",
      "With  6  columns, condition number is  59.2290899975\n",
      "With  7  columns, condition number is  4.66361664563e+14    <--- SINGULARITY\n"
     ]
    }
   ],
   "source": [
    "kit_qual_matrix = create_feature_matrix(df, 'Kitchen Qual', 'ORDINAL')\n",
    "\n",
    "print('\\n Design Matrix with Two Features (Street, Kitchen Quality)')\n",
    "design_matrix =  np.hstack((street_matrix, kit_qual_matrix))\n",
    "print(design_matrix)\n",
    "\n",
    "calculate_singularity(design_matrix)"
   ]
  },
  {
   "cell_type": "markdown",
   "metadata": {},
   "source": [
    "- Explanation (Street + Kitchen Quality) :\n",
    "Singularity is achieved when the 7th column of Design Matrix is added! (Variable = TA 'Typical/Average' from Kitchen Quality)\n",
    "\n",
    "#### Adding Sale Type (NOMINAL)"
   ]
  },
  {
   "cell_type": "code",
   "execution_count": 200,
   "metadata": {
    "collapsed": false
   },
   "outputs": [
    {
     "name": "stdout",
     "output_type": "stream",
     "text": [
      "\n",
      "  Sale Type  is a  NOMINAL  variable with  10  levels.\n",
      "\n",
      " Dataframe with  Sale Type  dummies \n",
      "    COD  CWD  Con  ConLD  ConLI  ConLw  New  Oth  VWD  WD \n",
      "0    0    0    0      0      0      0    0    0    0    1\n",
      "1    0    0    0      0      0      0    0    0    0    1\n",
      "2    0    0    0      0      0      0    0    0    0    1\n",
      "3    0    0    0      0      0      0    0    0    0    1\n",
      "4    0    0    0      0      0      0    0    0    0    1\n",
      "\n",
      " Design Matrix with Two Features (Street, Sale Type)\n",
      "[[0 1 0 ..., 0 0 1]\n",
      " [0 1 0 ..., 0 0 1]\n",
      " [0 1 0 ..., 0 0 1]\n",
      " ..., \n",
      " [0 1 0 ..., 0 0 1]\n",
      " [0 1 0 ..., 0 0 1]\n",
      " [0 1 0 ..., 0 0 1]]\n",
      "\n",
      " Calculating Singularity\n",
      "\n",
      " -----------------------\n",
      "\n",
      " Shape of Input Design Matrix : 2930 12\n",
      "With  1  columns, condition number is  1.0\n",
      "With  2  columns, condition number is  15.5938021876\n",
      "With  3  columns, condition number is  15.6009377211\n",
      "With  4  columns, condition number is  15.6345461467\n",
      "With  5  columns, condition number is  24.1907160756\n",
      "With  6  columns, condition number is  24.1917592197\n",
      "With  7  columns, condition number is  24.192034772\n",
      "With  8  columns, condition number is  24.1922971619\n",
      "With  9  columns, condition number is  24.2817446851\n",
      "With  10  columns, condition number is  24.2820551629\n",
      "With  11  columns, condition number is  54.2519384113\n",
      "With  12  columns, condition number is  8.90158403725e+14    <--- SINGULARITY\n"
     ]
    }
   ],
   "source": [
    "sale_type_matrix = create_feature_matrix(df, 'Sale Type', 'NOMINAL' )\n",
    "\n",
    "print('\\n Design Matrix with Two Features (Street, Sale Type)')\n",
    "design_matrix =  np.hstack((street_matrix, sale_type_matrix))\n",
    "print(design_matrix)\n",
    "\n",
    "calculate_singularity(design_matrix)"
   ]
  },
  {
   "cell_type": "markdown",
   "metadata": {},
   "source": [
    "- Explanation:\n",
    "\n",
    "The WD Column is creating the singularity from Sale Type is causing Singularity!"
   ]
  },
  {
   "cell_type": "code",
   "execution_count": null,
   "metadata": {
    "collapsed": true
   },
   "outputs": [],
   "source": []
  }
 ],
 "metadata": {
  "anaconda-cloud": {},
  "kernelspec": {
   "display_name": "Python 3",
   "language": "python",
   "name": "python3"
  },
  "language_info": {
   "codemirror_mode": {
    "name": "ipython",
    "version": 3
   },
   "file_extension": ".py",
   "mimetype": "text/x-python",
   "name": "python",
   "nbconvert_exporter": "python",
   "pygments_lexer": "ipython3",
   "version": "3.6.0"
  }
 },
 "nbformat": 4,
 "nbformat_minor": 2
}
