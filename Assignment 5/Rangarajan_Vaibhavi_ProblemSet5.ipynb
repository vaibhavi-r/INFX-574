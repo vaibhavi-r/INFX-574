{
 "cells": [
  {
   "cell_type": "markdown",
   "metadata": {
    "ein.tags": [
     "worksheet-0"
    ],
    "slideshow": {
     "slide_type": "-"
    }
   },
   "source": [
    "# Problem Set 5"
   ]
  },
  {
   "cell_type": "code",
   "execution_count": 1,
   "metadata": {
    "autoscroll": "json-false",
    "ein.tags": [
     "worksheet-0"
    ],
    "slideshow": {
     "slide_type": "-"
    }
   },
   "outputs": [],
   "source": [
    "%matplotlib inline\n",
    "import pandas as pd\n",
    "import numpy as np\n",
    "import matplotlib.pyplot as plt\n",
    "\n",
    "#Part 2, 3 : Naive Bayes\n",
    "from sklearn.feature_extraction.text import CountVectorizer\n",
    "from sklearn.model_selection import cross_val_score\n",
    "from sklearn.model_selection import train_test_split\n",
    "\n",
    "#Part 4: PCA\n",
    "from sklearn.preprocessing import StandardScaler\n",
    "from sklearn.decomposition import PCA\n",
    "from sklearn.metrics import mean_squared_error\n",
    "\n",
    "import statsmodels.api as sm\n",
    "import statsmodels.formula.api as smf\n",
    "#from statsmodels.sandbox.regression.predstd import wls_prediction_std\n",
    "\n",
    "import os\n",
    "import warnings\n",
    "warnings.filterwarnings('ignore')\n",
    "\n",
    "pd.set_option('display.precision', 4)"
   ]
  },
  {
   "cell_type": "markdown",
   "metadata": {
    "ein.tags": [
     "worksheet-0"
    ],
    "slideshow": {
     "slide_type": "-"
    }
   },
   "source": [
    "# Introduction\n",
    "\n",
    "In this assignment, you'll be analyzing movie reviews in an attempt to\n",
    "determine whether movies are good or bad.  The file \"reviews.csv\",\n",
    "contains reviews from the [Rotten Tomatoes](http://www.rottentomatoes.com) website.  I've also put a file \"movies.dat\" on Canvas that contains metadata for ~65,000 different movies\n",
    "\n",
    "If you've never seen Rotten Tomatoes before, go spend a few minutes familiarizing yourself with the website.  It's a meta-review website that aggregates movie reviews from a large number of critics.  Note in particular the section on \"Critic Reviews\" at the bottom -- that's the content that has been scraped and put in the reviews.csv file.  Also note that each movie is given a quantitative score on the Tomatometer which is used to classify the movie as either Fresh or Rotten.\n",
    "\n",
    "Your mission is to develop a classifier to determine whether a movie is Fresh or Rotten based on the contents of the reviews given to the movie.  As before, we'll start out with some exploratory data analysis."
   ]
  },
  {
   "cell_type": "markdown",
   "metadata": {
    "ein.tags": [
     "worksheet-0"
    ],
    "slideshow": {
     "slide_type": "-"
    }
   },
   "source": [
    "# 1 Descriptive analysis\n",
    "\n",
    "Before beginning the \"real\" work, dig into the data a bit do see what you're dealing with.  Begin by loading the datasets and dropping rows that have missing data, either missing review or missing fresh/rotten indicator."
   ]
  },
  {
   "cell_type": "markdown",
   "metadata": {},
   "source": [
    "#### Read 'Movies' dataset"
   ]
  },
  {
   "cell_type": "code",
   "execution_count": 2,
   "metadata": {
    "autoscroll": "json-false",
    "ein.tags": [
     "worksheet-0"
    ],
    "slideshow": {
     "slide_type": "-"
    }
   },
   "outputs": [
    {
     "name": "stdout",
     "output_type": "stream",
     "text": [
      "\n",
      "Shape : (9423, 21)\n",
      "Columns : ['id', 'title', 'imdbID', 'spanishTitle', 'imdbPictureURL', 'year', 'rtID', 'rtAllCriticsRating', 'rtAllCriticsNumReviews', 'rtAllCriticsNumFresh', 'rtAllCriticsNumRotten', 'rtAllCriticsScore', 'rtTopCriticsRating', 'rtTopCriticsNumReviews', 'rtTopCriticsNumFresh', 'rtTopCriticsNumRotten', 'rtTopCriticsScore', 'rtAudienceRating', 'rtAudienceNumRatings', 'rtAudienceScore', 'rtPictureURL']\n",
      "\n",
      "Null Values:\n",
      "------------\n"
     ]
    },
    {
     "data": {
      "text/plain": [
       "id                          0\n",
       "title                       0\n",
       "imdbID                      0\n",
       "spanishTitle                0\n",
       "imdbPictureURL            176\n",
       "year                        0\n",
       "rtID                      297\n",
       "rtAllCriticsRating          0\n",
       "rtAllCriticsNumReviews      0\n",
       "rtAllCriticsNumFresh        0\n",
       "rtAllCriticsNumRotten       0\n",
       "rtAllCriticsScore           0\n",
       "rtTopCriticsRating          0\n",
       "rtTopCriticsNumReviews      0\n",
       "rtTopCriticsNumFresh        0\n",
       "rtTopCriticsNumRotten       0\n",
       "rtTopCriticsScore           0\n",
       "rtAudienceRating            0\n",
       "rtAudienceNumRatings        0\n",
       "rtAudienceScore             0\n",
       "rtPictureURL                0\n",
       "dtype: int64"
      ]
     },
     "execution_count": 2,
     "metadata": {},
     "output_type": "execute_result"
    }
   ],
   "source": [
    "movies=pd.read_table(\"movies.dat\")\n",
    "print('\\nShape :', movies.shape)\n",
    "print('Columns :', list(movies))\n",
    "print('\\nNull Values:\\n------------')\n",
    "movies.isnull().sum()"
   ]
  },
  {
   "cell_type": "markdown",
   "metadata": {},
   "source": [
    "#### Delete rows with non-numeric ratings \n",
    "Needed for 1.4"
   ]
  },
  {
   "cell_type": "code",
   "execution_count": 3,
   "metadata": {},
   "outputs": [
    {
     "name": "stdout",
     "output_type": "stream",
     "text": [
      "\n",
      "Shape (after cleanup) : (9203, 21)\n",
      "\n",
      "Null Values (after cleanup):\n",
      "------------\n"
     ]
    },
    {
     "data": {
      "text/plain": [
       "id                          0\n",
       "title                       0\n",
       "imdbID                      0\n",
       "spanishTitle                0\n",
       "imdbPictureURL            151\n",
       "year                        0\n",
       "rtID                       77\n",
       "rtAllCriticsRating          0\n",
       "rtAllCriticsNumReviews      0\n",
       "rtAllCriticsNumFresh        0\n",
       "rtAllCriticsNumRotten       0\n",
       "rtAllCriticsScore           0\n",
       "rtTopCriticsRating          0\n",
       "rtTopCriticsNumReviews      0\n",
       "rtTopCriticsNumFresh        0\n",
       "rtTopCriticsNumRotten       0\n",
       "rtTopCriticsScore           0\n",
       "rtAudienceRating            0\n",
       "rtAudienceNumRatings        0\n",
       "rtAudienceScore             0\n",
       "rtPictureURL                0\n",
       "dtype: int64"
      ]
     },
     "execution_count": 3,
     "metadata": {},
     "output_type": "execute_result"
    }
   ],
   "source": [
    "movies['rtAllCriticsRating']=movies['rtAllCriticsRating'].convert_objects(convert_numeric=True)\n",
    "movies.dropna(subset = ['rtAllCriticsRating'], inplace=True)\n",
    "\n",
    "print('\\nShape (after cleanup) :', movies.shape)\n",
    "print('\\nNull Values (after cleanup):\\n------------')\n",
    "movies.isnull().sum()"
   ]
  },
  {
   "cell_type": "markdown",
   "metadata": {},
   "source": [
    "#### Preview 'Movies' dataset"
   ]
  },
  {
   "cell_type": "code",
   "execution_count": 4,
   "metadata": {},
   "outputs": [
    {
     "data": {
      "text/html": [
       "<div>\n",
       "<table border=\"1\" class=\"dataframe\">\n",
       "  <thead>\n",
       "    <tr style=\"text-align: right;\">\n",
       "      <th></th>\n",
       "      <th>id</th>\n",
       "      <th>title</th>\n",
       "      <th>imdbID</th>\n",
       "      <th>spanishTitle</th>\n",
       "      <th>imdbPictureURL</th>\n",
       "      <th>year</th>\n",
       "      <th>rtID</th>\n",
       "      <th>rtAllCriticsRating</th>\n",
       "      <th>rtAllCriticsNumReviews</th>\n",
       "      <th>rtAllCriticsNumFresh</th>\n",
       "      <th>...</th>\n",
       "      <th>rtAllCriticsScore</th>\n",
       "      <th>rtTopCriticsRating</th>\n",
       "      <th>rtTopCriticsNumReviews</th>\n",
       "      <th>rtTopCriticsNumFresh</th>\n",
       "      <th>rtTopCriticsNumRotten</th>\n",
       "      <th>rtTopCriticsScore</th>\n",
       "      <th>rtAudienceRating</th>\n",
       "      <th>rtAudienceNumRatings</th>\n",
       "      <th>rtAudienceScore</th>\n",
       "      <th>rtPictureURL</th>\n",
       "    </tr>\n",
       "  </thead>\n",
       "  <tbody>\n",
       "    <tr>\n",
       "      <th>0</th>\n",
       "      <td>1</td>\n",
       "      <td>Toy story</td>\n",
       "      <td>114709</td>\n",
       "      <td>Toy story (juguetes)</td>\n",
       "      <td>http://ia.media-imdb.com/images/M/MV5BMTMwNDU0...</td>\n",
       "      <td>1995</td>\n",
       "      <td>toy_story</td>\n",
       "      <td>9.0</td>\n",
       "      <td>73</td>\n",
       "      <td>73</td>\n",
       "      <td>...</td>\n",
       "      <td>100</td>\n",
       "      <td>8.5</td>\n",
       "      <td>17</td>\n",
       "      <td>17</td>\n",
       "      <td>0</td>\n",
       "      <td>100</td>\n",
       "      <td>3.7</td>\n",
       "      <td>102338</td>\n",
       "      <td>81</td>\n",
       "      <td>http://content7.flixster.com/movie/10/93/63/10...</td>\n",
       "    </tr>\n",
       "    <tr>\n",
       "      <th>1</th>\n",
       "      <td>2</td>\n",
       "      <td>Jumanji</td>\n",
       "      <td>113497</td>\n",
       "      <td>Jumanji</td>\n",
       "      <td>http://ia.media-imdb.com/images/M/MV5BMzM5NjE1...</td>\n",
       "      <td>1995</td>\n",
       "      <td>1068044-jumanji</td>\n",
       "      <td>5.6</td>\n",
       "      <td>28</td>\n",
       "      <td>13</td>\n",
       "      <td>...</td>\n",
       "      <td>46</td>\n",
       "      <td>5.8</td>\n",
       "      <td>5</td>\n",
       "      <td>2</td>\n",
       "      <td>3</td>\n",
       "      <td>40</td>\n",
       "      <td>3.2</td>\n",
       "      <td>44587</td>\n",
       "      <td>61</td>\n",
       "      <td>http://content8.flixster.com/movie/56/79/73/56...</td>\n",
       "    </tr>\n",
       "    <tr>\n",
       "      <th>2</th>\n",
       "      <td>3</td>\n",
       "      <td>Grumpy Old Men</td>\n",
       "      <td>107050</td>\n",
       "      <td>Dos viejos gruñones</td>\n",
       "      <td>http://ia.media-imdb.com/images/M/MV5BMTI5MTgy...</td>\n",
       "      <td>1993</td>\n",
       "      <td>grumpy_old_men</td>\n",
       "      <td>5.9</td>\n",
       "      <td>36</td>\n",
       "      <td>24</td>\n",
       "      <td>...</td>\n",
       "      <td>66</td>\n",
       "      <td>7</td>\n",
       "      <td>6</td>\n",
       "      <td>5</td>\n",
       "      <td>1</td>\n",
       "      <td>83</td>\n",
       "      <td>3.2</td>\n",
       "      <td>10489</td>\n",
       "      <td>66</td>\n",
       "      <td>http://content6.flixster.com/movie/25/60/25602...</td>\n",
       "    </tr>\n",
       "  </tbody>\n",
       "</table>\n",
       "<p>3 rows × 21 columns</p>\n",
       "</div>"
      ],
      "text/plain": [
       "   id           title  imdbID          spanishTitle  \\\n",
       "0   1       Toy story  114709  Toy story (juguetes)   \n",
       "1   2         Jumanji  113497               Jumanji   \n",
       "2   3  Grumpy Old Men  107050   Dos viejos gruñones   \n",
       "\n",
       "                                      imdbPictureURL  year             rtID  \\\n",
       "0  http://ia.media-imdb.com/images/M/MV5BMTMwNDU0...  1995        toy_story   \n",
       "1  http://ia.media-imdb.com/images/M/MV5BMzM5NjE1...  1995  1068044-jumanji   \n",
       "2  http://ia.media-imdb.com/images/M/MV5BMTI5MTgy...  1993   grumpy_old_men   \n",
       "\n",
       "   rtAllCriticsRating rtAllCriticsNumReviews rtAllCriticsNumFresh  \\\n",
       "0                 9.0                     73                   73   \n",
       "1                 5.6                     28                   13   \n",
       "2                 5.9                     36                   24   \n",
       "\n",
       "                         ...                         rtAllCriticsScore  \\\n",
       "0                        ...                                       100   \n",
       "1                        ...                                        46   \n",
       "2                        ...                                        66   \n",
       "\n",
       "  rtTopCriticsRating rtTopCriticsNumReviews rtTopCriticsNumFresh  \\\n",
       "0                8.5                     17                   17   \n",
       "1                5.8                      5                    2   \n",
       "2                  7                      6                    5   \n",
       "\n",
       "  rtTopCriticsNumRotten rtTopCriticsScore rtAudienceRating  \\\n",
       "0                     0               100              3.7   \n",
       "1                     3                40              3.2   \n",
       "2                     1                83              3.2   \n",
       "\n",
       "  rtAudienceNumRatings rtAudienceScore  \\\n",
       "0               102338              81   \n",
       "1                44587              61   \n",
       "2                10489              66   \n",
       "\n",
       "                                        rtPictureURL  \n",
       "0  http://content7.flixster.com/movie/10/93/63/10...  \n",
       "1  http://content8.flixster.com/movie/56/79/73/56...  \n",
       "2  http://content6.flixster.com/movie/25/60/25602...  \n",
       "\n",
       "[3 rows x 21 columns]"
      ]
     },
     "execution_count": 4,
     "metadata": {},
     "output_type": "execute_result"
    }
   ],
   "source": [
    "movies.head(3)"
   ]
  },
  {
   "cell_type": "markdown",
   "metadata": {},
   "source": [
    "#### Read 'Reviews' dataset"
   ]
  },
  {
   "cell_type": "code",
   "execution_count": 5,
   "metadata": {},
   "outputs": [
    {
     "name": "stdout",
     "output_type": "stream",
     "text": [
      "\n",
      "Shape : (13442, 9)\n",
      "Columns : ['critic', 'fresh', 'imdb', 'link', 'publication', 'quote', 'review_date', 'rtid', 'title']\n",
      "\n",
      "Null Values:\n",
      "------------\n"
     ]
    },
    {
     "data": {
      "text/plain": [
       "critic         705\n",
       "fresh            0\n",
       "imdb             0\n",
       "link             0\n",
       "publication      0\n",
       "quote            0\n",
       "review_date      0\n",
       "rtid             0\n",
       "title            0\n",
       "dtype: int64"
      ]
     },
     "execution_count": 5,
     "metadata": {},
     "output_type": "execute_result"
    }
   ],
   "source": [
    "reviews = pd.read_csv(\"reviews.csv\")\n",
    "print('\\nShape :', reviews.shape)\n",
    "print('Columns :', list(reviews))\n",
    "print('\\nNull Values:\\n------------')\n",
    "reviews.isnull().sum()"
   ]
  },
  {
   "cell_type": "markdown",
   "metadata": {},
   "source": [
    "#### Drop rows from 'Reviews' \n",
    "0 rows dropped (Not Needed)"
   ]
  },
  {
   "cell_type": "code",
   "execution_count": 6,
   "metadata": {
    "collapsed": true
   },
   "outputs": [],
   "source": [
    "reviews.dropna(subset = ['quote','fresh'], inplace=True)"
   ]
  },
  {
   "cell_type": "code",
   "execution_count": 7,
   "metadata": {},
   "outputs": [
    {
     "name": "stdout",
     "output_type": "stream",
     "text": [
      "(13442, 9)\n"
     ]
    },
    {
     "data": {
      "text/html": [
       "<div>\n",
       "<table border=\"1\" class=\"dataframe\">\n",
       "  <thead>\n",
       "    <tr style=\"text-align: right;\">\n",
       "      <th></th>\n",
       "      <th>critic</th>\n",
       "      <th>fresh</th>\n",
       "      <th>imdb</th>\n",
       "      <th>link</th>\n",
       "      <th>publication</th>\n",
       "      <th>quote</th>\n",
       "      <th>review_date</th>\n",
       "      <th>rtid</th>\n",
       "      <th>title</th>\n",
       "    </tr>\n",
       "  </thead>\n",
       "  <tbody>\n",
       "    <tr>\n",
       "      <th>0</th>\n",
       "      <td>Derek Adams</td>\n",
       "      <td>fresh</td>\n",
       "      <td>114709</td>\n",
       "      <td>http://www.timeout.com/film/reviews/87745/toy-...</td>\n",
       "      <td>Time Out</td>\n",
       "      <td>So ingenious in concept, design and execution ...</td>\n",
       "      <td>2009-10-04 00:00:00</td>\n",
       "      <td>9559</td>\n",
       "      <td>Toy Story</td>\n",
       "    </tr>\n",
       "    <tr>\n",
       "      <th>1</th>\n",
       "      <td>Richard Corliss</td>\n",
       "      <td>fresh</td>\n",
       "      <td>114709</td>\n",
       "      <td>http://www.time.com/time/magazine/article/0,91...</td>\n",
       "      <td>TIME Magazine</td>\n",
       "      <td>The year's most inventive comedy.</td>\n",
       "      <td>2008-08-31 00:00:00</td>\n",
       "      <td>9559</td>\n",
       "      <td>Toy Story</td>\n",
       "    </tr>\n",
       "    <tr>\n",
       "      <th>2</th>\n",
       "      <td>David Ansen</td>\n",
       "      <td>fresh</td>\n",
       "      <td>114709</td>\n",
       "      <td>http://www.newsweek.com/id/104199</td>\n",
       "      <td>Newsweek</td>\n",
       "      <td>A winning animated feature that has something ...</td>\n",
       "      <td>2008-08-18 00:00:00</td>\n",
       "      <td>9559</td>\n",
       "      <td>Toy Story</td>\n",
       "    </tr>\n",
       "  </tbody>\n",
       "</table>\n",
       "</div>"
      ],
      "text/plain": [
       "            critic  fresh    imdb  \\\n",
       "0      Derek Adams  fresh  114709   \n",
       "1  Richard Corliss  fresh  114709   \n",
       "2      David Ansen  fresh  114709   \n",
       "\n",
       "                                                link    publication  \\\n",
       "0  http://www.timeout.com/film/reviews/87745/toy-...       Time Out   \n",
       "1  http://www.time.com/time/magazine/article/0,91...  TIME Magazine   \n",
       "2                  http://www.newsweek.com/id/104199       Newsweek   \n",
       "\n",
       "                                               quote          review_date  \\\n",
       "0  So ingenious in concept, design and execution ...  2009-10-04 00:00:00   \n",
       "1                  The year's most inventive comedy.  2008-08-31 00:00:00   \n",
       "2  A winning animated feature that has something ...  2008-08-18 00:00:00   \n",
       "\n",
       "   rtid      title  \n",
       "0  9559  Toy Story  \n",
       "1  9559  Toy Story  \n",
       "2  9559  Toy Story  "
      ]
     },
     "execution_count": 7,
     "metadata": {},
     "output_type": "execute_result"
    }
   ],
   "source": [
    "print(reviews.shape)\n",
    "reviews.head(3)"
   ]
  },
  {
   "cell_type": "markdown",
   "metadata": {
    "ein.tags": [
     "worksheet-0"
    ],
    "slideshow": {
     "slide_type": "-"
    }
   },
   "source": [
    "## 1.1 Basic features of the dataset\n",
    "\n",
    "Answer the following questions by having your code directly print the\n",
    "answers:\n",
    "\n",
    "* How many unique reviews (quotes) are in the `reviews` dataset?\n",
    "* How many unique reviewers (critics) are in the `reviews` dataset?\n",
    "* How many unique movies are in the `reviews` dataset?\n",
    "* How many unique movies are in the *`movies`* dataset?\n",
    "* How many different publications have reviews in the `reviews` dataset?\n"
   ]
  },
  {
   "cell_type": "code",
   "execution_count": 91,
   "metadata": {
    "autoscroll": "json-false",
    "ein.tags": [
     "worksheet-0"
    ],
    "slideshow": {
     "slide_type": "-"
    }
   },
   "outputs": [
    {
     "name": "stdout",
     "output_type": "stream",
     "text": [
      "Reviews dataset\n",
      "----------------------\n",
      "Unique Reviews (quotes)    : 12836\n",
      "Unique Reviewers (critics) : 541\n",
      "Unique Reviewed Movies     : 1720\n",
      "Unique Publications        : 64\n",
      "\n",
      "Movies dataset\n",
      "----------------------\n",
      "Unique Movies              : 9203\n"
     ]
    }
   ],
   "source": [
    "# enter your code below\n",
    "\n",
    "print(\"Reviews dataset\\n----------------------\")\n",
    "unique_quotes = reviews['quote'].unique() #list\n",
    "print( \"Unique Reviews (quotes)    :\", len(unique_quotes));\n",
    "\n",
    "unique_critics = reviews['critic'].unique() #list\n",
    "print( \"Unique Reviewers (critics) :\", len(unique_critics));\n",
    "\n",
    "unique_rev_movies = reviews['imdb'].unique() #list\n",
    "print( \"Unique Reviewed Movies     :\", len(unique_rev_movies));\n",
    "\n",
    "unique_publications = reviews['publication'].unique() #list\n",
    "print( \"Unique Publications        :\", len(unique_publications));\n",
    "\n",
    "print(\"\\nMovies dataset\\n----------------------\")\n",
    "unique_movies = movies['imdbID'].unique() #list\n",
    "print( \"Unique Movies              :\", len(unique_movies));\n"
   ]
  },
  {
   "cell_type": "markdown",
   "metadata": {
    "ein.tags": [
     "worksheet-0"
    ],
    "slideshow": {
     "slide_type": "-"
    }
   },
   "source": [
    "## 1.2 Number of reviews per reviewer\n",
    "\n",
    "Using the `reviews` dataset, create a histogram showing the distribution of the number of reviews per reviewer.  Create the bin width (x-axis) to be 1 unit wide, and the range of the axis to be from 0 to 30.  Scale the y-axis to show the logarithm of (count of) the number of reviews.  Label your axes and make your histogram look professional.\n",
    "\n",
    "Does the distribution look normal?  Is it what you expect?"
   ]
  },
  {
   "cell_type": "code",
   "execution_count": 92,
   "metadata": {
    "autoscroll": "json-false",
    "ein.tags": [
     "worksheet-0"
    ],
    "slideshow": {
     "slide_type": "-"
    }
   },
   "outputs": [
    {
     "data": {
      "text/plain": [
       "critic\n",
       "A.D. Murphy     14\n",
       "A.H. Weiler     17\n",
       "A.O. Scott      10\n",
       "Aaron Hillis     2\n",
       "Abel Green       5\n",
       "Name: count, dtype: int64"
      ]
     },
     "execution_count": 92,
     "metadata": {},
     "output_type": "execute_result"
    }
   ],
   "source": [
    "#Group reviews by reviewer\n",
    "temp = reviews\n",
    "temp['count'] = 1\n",
    "grouped = temp['count'].groupby(temp['critic']).sum()\n",
    "grouped.head(5)"
   ]
  },
  {
   "cell_type": "code",
   "execution_count": 93,
   "metadata": {},
   "outputs": [
    {
     "data": {
      "image/png": "[encoded data removed]",
      "text/plain": [
       "<matplotlib.figure.Figure at 0x227a32b1c50>"
      ]
     },
     "metadata": {},
     "output_type": "display_data"
    }
   ],
   "source": [
    "# Histogram - Reviews per reviewer\n",
    "\n",
    "#Prepare the data\n",
    "x = grouped[grouped.abs() <=30].values\n",
    "\n",
    "#Prepare the plot\n",
    "plt.figure(figsize=(8,6))\n",
    "plt.title('Histogram : Number of Reviews by Critic', fontsize=14)\n",
    "plt.xlabel('Number of Reviews by Critic', fontsize=12)\n",
    "plt.ylabel('Frequency (Logatithmic)', fontsize=12)\n",
    "plt.yscale('log') #Log scale on y axis\n",
    "plt.grid(False)\n",
    "\n",
    "#Plot the data\n",
    "plt.hist(x, 30, alpha = 0.8, facecolor='pink', edgecolor='black')\n",
    "#plt.xlim((0,30))\n",
    "\n",
    "#Remove axes and spline\n",
    "ax = plt.gca()\n",
    "ax.spines['top'].set_visible(False)\n",
    "ax.spines['right'].set_visible(False)"
   ]
  },
  {
   "cell_type": "markdown",
   "metadata": {},
   "source": [
    "#### Plot Interpretation\n",
    "- _Does the distribution look normal? _\n",
    "\n",
    "The distribution is very skewed towards the lower end, and the vast majority of critics have reviewed less than 5-10 movies.\n",
    "This is not a NORMAL distribution, and seems exponential. There are only a few outliers whose reviews are in the hundreds. (Not shown in histogram)\n",
    "\n",
    "- _Is it what you expect?_\n",
    "\n",
    "Yes, this is expected behavior, as many real-life situations are models as power-law distributions. There is a significant exponential relationship that we can observe. Practically speaking, it is tough to review movies, and provide feedback, so it is reaasonable to see only a few long-term critics with many hundred movies reviewed as compared to the other critics who would be working on a review on a weekly/monthly basis."
   ]
  },
  {
   "cell_type": "markdown",
   "metadata": {
    "ein.tags": [
     "worksheet-0"
    ],
    "slideshow": {
     "slide_type": "-"
    }
   },
   "source": [
    "## 1.3 Take a closer look of a few reviews\n",
    "\n",
    "Find the 30 critics with the most reviews, and list their names in a table along with (a) the name of the publication they work for, (b) the date of their first review, and (c) the date of their last review\n",
    "\n",
    "*hint: use the groupby function*"
   ]
  },
  {
   "cell_type": "code",
   "execution_count": 11,
   "metadata": {
    "autoscroll": "json-false",
    "ein.tags": [
     "worksheet-0"
    ],
    "slideshow": {
     "slide_type": "-"
    }
   },
   "outputs": [
    {
     "name": "stdout",
     "output_type": "stream",
     "text": [
      "[('review_date', 'min'), ('review_date', 'max'), ('count', 'sum')]\n",
      "\n",
      "CRITICS in focus\n",
      "                                        review_date                      count\n",
      "                                                min                  max   sum\n",
      "critic       publication                                                      \n",
      "A.D. Murphy  Variety            2001-02-13 00:00:00  2012-02-23 00:00:00    14\n",
      "A.H. Weiler  New York Times     2000-01-01 00:00:00  2006-10-31 00:00:00    17\n",
      "A.O. Scott   At the Movies      2009-11-30 00:00:00  2009-11-30 00:00:00     1\n",
      "             New York Times     2000-01-01 00:00:00  2008-12-05 00:00:00     9\n",
      "Aaron Hillis Time Out New York  2009-12-30 00:00:00  2009-12-30 00:00:00     1\n"
     ]
    }
   ],
   "source": [
    "fn_dict= {'review_date':['min','max'], 'count':['sum']}\n",
    "grouped = reviews.groupby(['critic', 'publication'], as_index = True).agg(fn_dict)\n",
    "\n",
    "#print(type(grouped)) #df\n",
    "print(list(grouped)) #grouped columns\n",
    "\n",
    "print('\\nCRITICS in focus')\n",
    "print(grouped.head(5))"
   ]
  },
  {
   "cell_type": "code",
   "execution_count": 12,
   "metadata": {},
   "outputs": [
    {
     "name": "stdout",
     "output_type": "stream",
     "text": [
      "\n",
      "TOP 30 CRITICS\n"
     ]
    },
    {
     "data": {
      "text/html": [
       "<div>\n",
       "<table border=\"1\" class=\"dataframe\">\n",
       "  <thead>\n",
       "    <tr>\n",
       "      <th></th>\n",
       "      <th></th>\n",
       "      <th colspan=\"2\" halign=\"left\">review_date</th>\n",
       "      <th>count</th>\n",
       "    </tr>\n",
       "    <tr>\n",
       "      <th></th>\n",
       "      <th></th>\n",
       "      <th>min</th>\n",
       "      <th>max</th>\n",
       "      <th>sum</th>\n",
       "    </tr>\n",
       "    <tr>\n",
       "      <th>critic</th>\n",
       "      <th>publication</th>\n",
       "      <th></th>\n",
       "      <th></th>\n",
       "      <th></th>\n",
       "    </tr>\n",
       "  </thead>\n",
       "  <tbody>\n",
       "    <tr>\n",
       "      <th>Roger Ebert</th>\n",
       "      <th>Chicago Sun-Times</th>\n",
       "      <td>2000-01-01 00:00:00</td>\n",
       "      <td>2013-06-11 00:00:00</td>\n",
       "      <td>1093</td>\n",
       "    </tr>\n",
       "    <tr>\n",
       "      <th>James Berardinelli</th>\n",
       "      <th>ReelViews</th>\n",
       "      <td>1800-01-01 00:00:00</td>\n",
       "      <td>2012-02-07 00:00:00</td>\n",
       "      <td>833</td>\n",
       "    </tr>\n",
       "    <tr>\n",
       "      <th>Janet Maslin</th>\n",
       "      <th>New York Times</th>\n",
       "      <td>2000-01-01 00:00:00</td>\n",
       "      <td>2010-09-07 00:00:00</td>\n",
       "      <td>526</td>\n",
       "    </tr>\n",
       "    <tr>\n",
       "      <th>Variety Staff</th>\n",
       "      <th>Variety</th>\n",
       "      <td>2001-02-13 00:00:00</td>\n",
       "      <td>2012-08-15 00:00:00</td>\n",
       "      <td>450</td>\n",
       "    </tr>\n",
       "    <tr>\n",
       "      <th>Jonathan Rosenbaum</th>\n",
       "      <th>Chicago Reader</th>\n",
       "      <td>1988-07-11 00:00:00</td>\n",
       "      <td>2013-10-22 00:00:00</td>\n",
       "      <td>420</td>\n",
       "    </tr>\n",
       "    <tr>\n",
       "      <th>Desson Thomson</th>\n",
       "      <th>Washington Post</th>\n",
       "      <td>2000-01-01 00:00:00</td>\n",
       "      <td>2012-10-08 00:00:00</td>\n",
       "      <td>375</td>\n",
       "    </tr>\n",
       "    <tr>\n",
       "      <th>Geoff Andrew</th>\n",
       "      <th>Time Out</th>\n",
       "      <td>2005-08-11 00:00:00</td>\n",
       "      <td>2012-04-05 00:00:00</td>\n",
       "      <td>361</td>\n",
       "    </tr>\n",
       "    <tr>\n",
       "      <th>Dave Kehr</th>\n",
       "      <th>Chicago Reader</th>\n",
       "      <td>2000-01-01 00:00:00</td>\n",
       "      <td>2013-11-06 00:00:00</td>\n",
       "      <td>318</td>\n",
       "    </tr>\n",
       "    <tr>\n",
       "      <th>Kenneth Turan</th>\n",
       "      <th>Los Angeles Times</th>\n",
       "      <td>2000-01-01 00:00:00</td>\n",
       "      <td>2013-10-05 00:00:00</td>\n",
       "      <td>282</td>\n",
       "    </tr>\n",
       "    <tr>\n",
       "      <th>Mick LaSalle</th>\n",
       "      <th>San Francisco Chronicle</th>\n",
       "      <td>2000-01-01 00:00:00</td>\n",
       "      <td>2009-11-25 00:00:00</td>\n",
       "      <td>282</td>\n",
       "    </tr>\n",
       "    <tr>\n",
       "      <th>Owen Gleiberman</th>\n",
       "      <th>Entertainment Weekly</th>\n",
       "      <td>1800-01-01 00:00:00</td>\n",
       "      <td>2011-09-07 00:00:00</td>\n",
       "      <td>241</td>\n",
       "    </tr>\n",
       "    <tr>\n",
       "      <th>Rita Kempley</th>\n",
       "      <th>Washington Post</th>\n",
       "      <td>2000-01-01 00:00:00</td>\n",
       "      <td>2013-11-02 00:00:00</td>\n",
       "      <td>239</td>\n",
       "    </tr>\n",
       "    <tr>\n",
       "      <th>Todd McCarthy</th>\n",
       "      <th>Variety</th>\n",
       "      <td>2000-01-01 00:00:00</td>\n",
       "      <td>2012-10-09 00:00:00</td>\n",
       "      <td>223</td>\n",
       "    </tr>\n",
       "    <tr>\n",
       "      <th>Joe Baltake</th>\n",
       "      <th>Sacramento Bee</th>\n",
       "      <td>2000-01-01 00:00:00</td>\n",
       "      <td>2004-12-22 00:00:00</td>\n",
       "      <td>221</td>\n",
       "    </tr>\n",
       "    <tr>\n",
       "      <th>Vincent Canby</th>\n",
       "      <th>New York Times</th>\n",
       "      <td>2000-01-01 00:00:00</td>\n",
       "      <td>2013-07-29 00:00:00</td>\n",
       "      <td>208</td>\n",
       "    </tr>\n",
       "    <tr>\n",
       "      <th>Hal Hinson</th>\n",
       "      <th>Washington Post</th>\n",
       "      <td>2000-01-01 00:00:00</td>\n",
       "      <td>2013-06-26 00:00:00</td>\n",
       "      <td>174</td>\n",
       "    </tr>\n",
       "    <tr>\n",
       "      <th>Susan Stark</th>\n",
       "      <th>Detroit News</th>\n",
       "      <td>2000-01-01 00:00:00</td>\n",
       "      <td>2002-10-25 00:00:00</td>\n",
       "      <td>167</td>\n",
       "    </tr>\n",
       "    <tr>\n",
       "      <th>Stephen Holden</th>\n",
       "      <th>New York Times</th>\n",
       "      <td>2000-01-01 00:00:00</td>\n",
       "      <td>2009-02-06 00:00:00</td>\n",
       "      <td>166</td>\n",
       "    </tr>\n",
       "    <tr>\n",
       "      <th>Derek Adams</th>\n",
       "      <th>Time Out</th>\n",
       "      <td>2006-01-26 00:00:00</td>\n",
       "      <td>2009-10-04 00:00:00</td>\n",
       "      <td>154</td>\n",
       "    </tr>\n",
       "    <tr>\n",
       "      <th>Kevin Thomas</th>\n",
       "      <th>Los Angeles Times</th>\n",
       "      <td>2000-01-01 00:00:00</td>\n",
       "      <td>2013-11-02 00:00:00</td>\n",
       "      <td>145</td>\n",
       "    </tr>\n",
       "    <tr>\n",
       "      <th>Peter Stack</th>\n",
       "      <th>San Francisco Chronicle</th>\n",
       "      <td>2000-01-01 00:00:00</td>\n",
       "      <td>2002-06-18 00:00:00</td>\n",
       "      <td>139</td>\n",
       "    </tr>\n",
       "    <tr>\n",
       "      <th>Bosley Crowther</th>\n",
       "      <th>New York Times</th>\n",
       "      <td>2000-01-01 00:00:00</td>\n",
       "      <td>2008-05-06 00:00:00</td>\n",
       "      <td>138</td>\n",
       "    </tr>\n",
       "    <tr>\n",
       "      <th>Rick Groen</th>\n",
       "      <th>Globe and Mail</th>\n",
       "      <td>2002-03-19 00:00:00</td>\n",
       "      <td>2009-08-14 00:00:00</td>\n",
       "      <td>129</td>\n",
       "    </tr>\n",
       "    <tr>\n",
       "      <th>Edward Guthmann</th>\n",
       "      <th>San Francisco Chronicle</th>\n",
       "      <td>2000-01-01 00:00:00</td>\n",
       "      <td>2003-04-04 00:00:00</td>\n",
       "      <td>122</td>\n",
       "    </tr>\n",
       "    <tr>\n",
       "      <th>Lisa Schwarzbaum</th>\n",
       "      <th>Entertainment Weekly</th>\n",
       "      <td>1979-01-01 00:00:00</td>\n",
       "      <td>2012-08-15 00:00:00</td>\n",
       "      <td>117</td>\n",
       "    </tr>\n",
       "    <tr>\n",
       "      <th>Liam Lacey</th>\n",
       "      <th>Globe and Mail</th>\n",
       "      <td>2001-08-24 00:00:00</td>\n",
       "      <td>2012-04-04 00:00:00</td>\n",
       "      <td>111</td>\n",
       "    </tr>\n",
       "    <tr>\n",
       "      <th>Emanuel Levy</th>\n",
       "      <th>Variety</th>\n",
       "      <td>2000-01-01 00:00:00</td>\n",
       "      <td>2010-08-06 00:00:00</td>\n",
       "      <td>110</td>\n",
       "    </tr>\n",
       "    <tr>\n",
       "      <th>Richard Schickel</th>\n",
       "      <th>TIME Magazine</th>\n",
       "      <td>2007-06-27 00:00:00</td>\n",
       "      <td>2013-08-05 00:00:00</td>\n",
       "      <td>105</td>\n",
       "    </tr>\n",
       "    <tr>\n",
       "      <th>Richard Corliss</th>\n",
       "      <th>TIME Magazine</th>\n",
       "      <td>2003-12-16 00:00:00</td>\n",
       "      <td>2013-11-06 00:00:00</td>\n",
       "      <td>105</td>\n",
       "    </tr>\n",
       "    <tr>\n",
       "      <th>Jay Boyar</th>\n",
       "      <th>Orlando Sentinel</th>\n",
       "      <td>2002-01-03 00:00:00</td>\n",
       "      <td>2013-11-20 00:00:00</td>\n",
       "      <td>95</td>\n",
       "    </tr>\n",
       "  </tbody>\n",
       "</table>\n",
       "</div>"
      ],
      "text/plain": [
       "                                                    review_date  \\\n",
       "                                                            min   \n",
       "critic             publication                                    \n",
       "Roger Ebert        Chicago Sun-Times        2000-01-01 00:00:00   \n",
       "James Berardinelli ReelViews                1800-01-01 00:00:00   \n",
       "Janet Maslin       New York Times           2000-01-01 00:00:00   \n",
       "Variety Staff      Variety                  2001-02-13 00:00:00   \n",
       "Jonathan Rosenbaum Chicago Reader           1988-07-11 00:00:00   \n",
       "Desson Thomson     Washington Post          2000-01-01 00:00:00   \n",
       "Geoff Andrew       Time Out                 2005-08-11 00:00:00   \n",
       "Dave Kehr          Chicago Reader           2000-01-01 00:00:00   \n",
       "Kenneth Turan      Los Angeles Times        2000-01-01 00:00:00   \n",
       "Mick LaSalle       San Francisco Chronicle  2000-01-01 00:00:00   \n",
       "Owen Gleiberman    Entertainment Weekly     1800-01-01 00:00:00   \n",
       "Rita Kempley       Washington Post          2000-01-01 00:00:00   \n",
       "Todd McCarthy      Variety                  2000-01-01 00:00:00   \n",
       "Joe Baltake        Sacramento Bee           2000-01-01 00:00:00   \n",
       "Vincent Canby      New York Times           2000-01-01 00:00:00   \n",
       "Hal Hinson         Washington Post          2000-01-01 00:00:00   \n",
       "Susan Stark        Detroit News             2000-01-01 00:00:00   \n",
       "Stephen Holden     New York Times           2000-01-01 00:00:00   \n",
       "Derek Adams        Time Out                 2006-01-26 00:00:00   \n",
       "Kevin Thomas       Los Angeles Times        2000-01-01 00:00:00   \n",
       "Peter Stack        San Francisco Chronicle  2000-01-01 00:00:00   \n",
       "Bosley Crowther    New York Times           2000-01-01 00:00:00   \n",
       "Rick Groen         Globe and Mail           2002-03-19 00:00:00   \n",
       "Edward Guthmann    San Francisco Chronicle  2000-01-01 00:00:00   \n",
       "Lisa Schwarzbaum   Entertainment Weekly     1979-01-01 00:00:00   \n",
       "Liam Lacey         Globe and Mail           2001-08-24 00:00:00   \n",
       "Emanuel Levy       Variety                  2000-01-01 00:00:00   \n",
       "Richard Schickel   TIME Magazine            2007-06-27 00:00:00   \n",
       "Richard Corliss    TIME Magazine            2003-12-16 00:00:00   \n",
       "Jay Boyar          Orlando Sentinel         2002-01-03 00:00:00   \n",
       "\n",
       "                                                                count  \n",
       "                                                            max   sum  \n",
       "critic             publication                                         \n",
       "Roger Ebert        Chicago Sun-Times        2013-06-11 00:00:00  1093  \n",
       "James Berardinelli ReelViews                2012-02-07 00:00:00   833  \n",
       "Janet Maslin       New York Times           2010-09-07 00:00:00   526  \n",
       "Variety Staff      Variety                  2012-08-15 00:00:00   450  \n",
       "Jonathan Rosenbaum Chicago Reader           2013-10-22 00:00:00   420  \n",
       "Desson Thomson     Washington Post          2012-10-08 00:00:00   375  \n",
       "Geoff Andrew       Time Out                 2012-04-05 00:00:00   361  \n",
       "Dave Kehr          Chicago Reader           2013-11-06 00:00:00   318  \n",
       "Kenneth Turan      Los Angeles Times        2013-10-05 00:00:00   282  \n",
       "Mick LaSalle       San Francisco Chronicle  2009-11-25 00:00:00   282  \n",
       "Owen Gleiberman    Entertainment Weekly     2011-09-07 00:00:00   241  \n",
       "Rita Kempley       Washington Post          2013-11-02 00:00:00   239  \n",
       "Todd McCarthy      Variety                  2012-10-09 00:00:00   223  \n",
       "Joe Baltake        Sacramento Bee           2004-12-22 00:00:00   221  \n",
       "Vincent Canby      New York Times           2013-07-29 00:00:00   208  \n",
       "Hal Hinson         Washington Post          2013-06-26 00:00:00   174  \n",
       "Susan Stark        Detroit News             2002-10-25 00:00:00   167  \n",
       "Stephen Holden     New York Times           2009-02-06 00:00:00   166  \n",
       "Derek Adams        Time Out                 2009-10-04 00:00:00   154  \n",
       "Kevin Thomas       Los Angeles Times        2013-11-02 00:00:00   145  \n",
       "Peter Stack        San Francisco Chronicle  2002-06-18 00:00:00   139  \n",
       "Bosley Crowther    New York Times           2008-05-06 00:00:00   138  \n",
       "Rick Groen         Globe and Mail           2009-08-14 00:00:00   129  \n",
       "Edward Guthmann    San Francisco Chronicle  2003-04-04 00:00:00   122  \n",
       "Lisa Schwarzbaum   Entertainment Weekly     2012-08-15 00:00:00   117  \n",
       "Liam Lacey         Globe and Mail           2012-04-04 00:00:00   111  \n",
       "Emanuel Levy       Variety                  2010-08-06 00:00:00   110  \n",
       "Richard Schickel   TIME Magazine            2013-08-05 00:00:00   105  \n",
       "Richard Corliss    TIME Magazine            2013-11-06 00:00:00   105  \n",
       "Jay Boyar          Orlando Sentinel         2013-11-20 00:00:00    95  "
      ]
     },
     "execution_count": 12,
     "metadata": {},
     "output_type": "execute_result"
    }
   ],
   "source": [
    "print('\\nTOP 30 CRITICS')\n",
    "sort_col_name = ('count', 'sum')\n",
    "top30 = grouped.sort_values([sort_col_name],ascending=False, inplace = False)\n",
    "top30.head(30)"
   ]
  },
  {
   "cell_type": "markdown",
   "metadata": {},
   "source": [
    "#### Note:\n",
    "Since the records are grouped by critic and publication, the number of reviews for a critic are distributed across the various publications they work with, and do not reflect the total number of reviews the person may have written overall.\n"
   ]
  },
  {
   "cell_type": "markdown",
   "metadata": {
    "ein.tags": [
     "worksheet-0"
    ],
    "slideshow": {
     "slide_type": "-"
    }
   },
   "source": [
    "## 1.4 Ratings over time\n",
    "\n",
    "Using the `movies` dataset, create a plot that shows how the average rating per movie (rtAllCriticsRating) has evolved over time.  Do this by creating a scatterplot where the x-axis is the year in which the movie was released and the y-axis is rtAllCriticsRating.  Drop movies with 0 or unknown values to avoid biasing your results.  Then, create a scatterplot that has one <year,rating> point for each remaining movie, and pick an appropriate size/color/transparency for these points to ensure that the graph looks professional.  In other words, do not simply use the default settings, as this will produce a dense mess of dots that will be hard to interpret.  Finally, overlay on this scatterplot a line graph in red showing how the average movie rating (the average of rtAllCriticsRating across all movies in a year) has changed over time.  Do you notice a trend?  What do you think it means?"
   ]
  },
  {
   "cell_type": "markdown",
   "metadata": {},
   "source": [
    "#### Drop movies with 0 or unknown ratings"
   ]
  },
  {
   "cell_type": "code",
   "execution_count": 13,
   "metadata": {},
   "outputs": [
    {
     "data": {
      "text/plain": [
       "(7752, 21)"
      ]
     },
     "execution_count": 13,
     "metadata": {},
     "output_type": "execute_result"
    }
   ],
   "source": [
    "ratings = movies[movies['rtAllCriticsRating'] > 0.0]\n",
    "ratings.shape\n"
   ]
  },
  {
   "cell_type": "markdown",
   "metadata": {},
   "source": [
    "#### Find individual and mean Movie ratings by year"
   ]
  },
  {
   "cell_type": "code",
   "execution_count": 14,
   "metadata": {
    "autoscroll": "json-false",
    "ein.tags": [
     "worksheet-0"
    ],
    "slideshow": {
     "slide_type": "-"
    }
   },
   "outputs": [
    {
     "name": "stdout",
     "output_type": "stream",
     "text": [
      "Movie Ratings\n",
      "   year  rtAllCriticsRating                        title\n",
      "0  1995                 9.0                    Toy story\n",
      "1  1995                 5.6                      Jumanji\n",
      "2  1993                 5.9               Grumpy Old Men\n",
      "3  1995                 5.6            Waiting to Exhale\n",
      "4  1995                 5.3  Father of the Bride Part II\n"
     ]
    }
   ],
   "source": [
    "ratings = ratings[['year', 'rtAllCriticsRating', 'title']]\n",
    "print('Movie Ratings')\n",
    "print(ratings.head())"
   ]
  },
  {
   "cell_type": "code",
   "execution_count": 15,
   "metadata": {},
   "outputs": [
    {
     "name": "stdout",
     "output_type": "stream",
     "text": [
      "(Yearly) Mean Movie Ratings\n",
      "   year  rtAllCriticsRating\n",
      "0  1903              7.6000\n",
      "1  1915              8.0000\n",
      "2  1916              7.8000\n",
      "3  1919              8.1000\n",
      "4  1920              8.3667\n"
     ]
    }
   ],
   "source": [
    "mean_ratings = ratings.groupby('year', as_index=False)['rtAllCriticsRating'].mean()\n",
    "print('(Yearly) Mean Movie Ratings')\n",
    "print(mean_ratings.head())"
   ]
  },
  {
   "cell_type": "code",
   "execution_count": 115,
   "metadata": {},
   "outputs": [
    {
     "data": {
      "image/png": "[encoded data removed]",
      "text/plain": [
       "<matplotlib.figure.Figure at 0x227a8fc5d68>"
      ]
     },
     "metadata": {},
     "output_type": "display_data"
    }
   ],
   "source": [
    "#Prepare the data\n",
    "x = ratings['year'].values\n",
    "y = ratings['rtAllCriticsRating'].values\n",
    "\n",
    "mean_x = mean_ratings['year'].values\n",
    "mean_y = mean_ratings['rtAllCriticsRating'].values\n",
    "\n",
    "#Prepare the plot\n",
    "plt.figure(figsize=(14,8))\n",
    "plt.title('Movie Rating vs Year\\nHow do mean Critic Ratings differ by Year of release?', fontsize=14)\n",
    "plt.xlabel('Year of Release (Movie)', fontsize=12)\n",
    "plt.ylabel('Mean Rating by Critics', fontsize=12)\n",
    "plt.grid(False)\n",
    "plt.grid()\n",
    "\n",
    "\n",
    "#Plot the data\n",
    "plt.scatter(x, y, alpha =0.1, c='g', label='Movie')\n",
    "plt.plot(mean_x, mean_y, alpha =0.7, c='r')\n",
    "#plt.legend(loc='best')\n",
    "\n",
    "#Add y label and ticks on right side\n",
    "ax = plt.gca()\n",
    "ax.yaxis.tick_right()\n",
    "ax.xaxis.tick_bottom()\n",
    "ax.yaxis.set_label_position(\"right\")\n",
    "\n",
    "#Remove spines on left and top\n",
    "ax.spines['top'].set_visible(False)\n",
    "ax.spines['left'].set_visible(False)\n"
   ]
  },
  {
   "cell_type": "markdown",
   "metadata": {},
   "source": [
    "#### Plot Interpretation\n",
    "- _Do you notice a trend?_\n",
    "\n",
    "> Yes, there is a clear and visible trend in the mean ratings and the number of movies rated across the years.\n",
    "1. We can see that there are a lot more movies from the recent past as compared to movies from earlier generations as denoted by the high density of green color from the 1980s to current times. \n",
    "2. Another trend is that the more recent the year considered, more the variability in the ratings as well. i.e. Movies from the earlier eras are clustered closer together in terms of ratings, whereas more recent movies have a wide variety in the ratings.\n",
    "3. The mean ratings seem to dip across the decades, with movies from the 2000s barely getting ratings of 6 and some older movies averaging 8!\n",
    "\n",
    "- _What do you think it means?_\n",
    "\n",
    "> This graph does not prove that movies from the older times were better.\n",
    "1. There are far fewer movies from the past, which suggests that the movies that have survived almost 100 years, or more than 50 years would be the ones which were universally acclaimed. Thus, the older movies in the dataset have higher mean ratings, and lower variability. \n",
    "2. Every year, there are good movies and bad movies, which is easily seen in the wide variation in the movies of the recent past.\n",
    "3. Recent movies may also divided responses, since public opinion is stil being formed and engaged constantly, and majority opinion may not be settled.\n",
    "4. Over deacades, the bad movies are forgotten, and only the agreed upon \"good movies\" tend to remain as they should be :P\n",
    "\n",
    "\n",
    "____\n"
   ]
  },
  {
   "cell_type": "markdown",
   "metadata": {
    "ein.tags": [
     "worksheet-0"
    ],
    "slideshow": {
     "slide_type": "-"
    }
   },
   "source": [
    "# Part 2: Naive Bayes\n",
    "\n",
    "Now it gets fun!  You are going to use a Naive Bayes classifier to build a prediction model for whether a review is fresh or rotten, depending on the text of the review. \n",
    "\n",
    "## 2.0 Using CountVectorizer\n",
    "\n",
    "One thing that may help you in the following problems is the _CountVectorizer_ object in Scikit-learn.  This will help you convert your raw text fields into \"bag of words\" vectors, i.e. a data structure that tells you how many times a particular word appears in the text.  (Note: the order of words is not preserved in the bag).   Here's a simple example, make sure you understand what's going on!"
   ]
  },
  {
   "cell_type": "code",
   "execution_count": 17,
   "metadata": {
    "autoscroll": "json-false",
    "ein.tags": [
     "worksheet-0"
    ],
    "slideshow": {
     "slide_type": "-"
    }
   },
   "outputs": [
    {
     "name": "stdout",
     "output_type": "stream",
     "text": [
      "Original text:\n",
      " Next morning when I awakened I found Jem and Dill in the back yard deep in conversation.\n",
      "When I joined them, as usual they said go away.\n",
      "Will not.\n",
      "This yard's as much mine as it is your, Jem Finch.\n",
      "I got just as much right to play in it as you have.\n",
      "Transformed text vector:\n",
      " [[1 0 1 0 1 1 1 1 0 1 0 0 0 2 0 0 1 0 0 0 1 0 1 0 0 0 0 1 0 0 0 0 0 1 0 1 0\n",
      "  0]\n",
      " [0 1 0 1 0 0 0 0 0 0 1 0 0 0 0 0 0 1 0 0 0 0 0 0 0 0 1 0 1 1 0 0 1 1 0 0 0\n",
      "  0]\n",
      " [0 0 0 0 0 0 0 0 0 0 0 0 0 0 0 0 0 0 0 0 0 0 0 1 0 0 0 0 0 0 0 0 0 0 1 0 0\n",
      "  0]\n",
      " [0 2 0 0 0 0 0 0 1 0 0 0 0 0 1 1 1 0 0 1 0 1 0 0 0 0 0 0 0 0 1 0 0 0 0 1 0\n",
      "  1]\n",
      " [0 2 0 0 0 0 0 0 0 0 0 1 1 1 0 1 0 0 1 0 0 1 0 0 1 1 0 0 0 0 0 1 0 0 0 0 1\n",
      "  0]]\n",
      "Words for each feature:\n",
      "['and', 'as', 'awakened', 'away', 'back', 'conversation', 'deep', 'dill', 'finch', 'found', 'go', 'got', 'have', 'in', 'is', 'it', 'jem', 'joined', 'just', 'mine', 'morning', 'much', 'next', 'not', 'play', 'right', 'said', 'the', 'them', 'they', 'this', 'to', 'usual', 'when', 'will', 'yard', 'you', 'your']\n"
     ]
    }
   ],
   "source": [
    "from sklearn.feature_extraction.text import CountVectorizer\n",
    "\n",
    "sentences = [\"Next morning when I awakened I found Jem and Dill in the back yard deep in conversation.\", \"When I joined them, as usual they said go away.\", \"Will not.\", \"This yard's as much mine as it is your, Jem Finch.\", \"I got just as much right to play in it as you have.\"]\n",
    "# Harper Lee \"To Kill a Mockingbrid\"\n",
    "print (\"Original text:\\n\", '\\n'.join(sentences))\n",
    "\n",
    "vectorizer = CountVectorizer(min_df=0)\n",
    "vectorizer.fit(sentences)\n",
    "# `fit` builds the vocabulary\n",
    "x = vectorizer.transform(sentences).toarray()\n",
    "# `transform` converts text to a bag of words\n",
    "print (\"Transformed text vector:\\n\", x)\n",
    "\n",
    "# get_feature_names` tracks which word is associated with each column of the transformed x\n",
    "print (\"Words for each feature:\")\n",
    "print (vectorizer.get_feature_names())"
   ]
  },
  {
   "cell_type": "markdown",
   "metadata": {
    "ein.tags": [
     "worksheet-0"
    ],
    "slideshow": {
     "slide_type": "-"
    }
   },
   "source": [
    "## 2.1 Create your X input and Y output\n",
    "\n",
    "Using the `reviews` dataframe, compute a pair of numerical X, Y arrays where:\n",
    "    \n",
    " * X is a `(nreview, nwords)` array. Each row is the bag-of-words representation for a single review.  This will be the *input* (features) of your model.\n",
    " * Y is a `nreview`-element 1/0 array, encoding whether a review is Fresh (1) or Rotten (0). This is the desired *output* (target) from your model.\n",
    " \n",
    " Make sure to remove items with no review text\n",
    "\n",
    "Feel free to use the _make\\_xy_ function below to achieve it, but you can also create your own parser."
   ]
  },
  {
   "cell_type": "code",
   "execution_count": 208,
   "metadata": {
    "autoscroll": "json-false",
    "ein.tags": [
     "worksheet-0"
    ],
    "slideshow": {
     "slide_type": "-"
    }
   },
   "outputs": [],
   "source": [
    "\"\"\"\n",
    "Function\n",
    "--------\n",
    "make_xy\n",
    "\n",
    "Build a bag-of-words training set for the review data\n",
    "\n",
    "Parameters\n",
    "-----------\n",
    "reviews : Pandas DataFrame\n",
    "    The review data from above\n",
    "    \n",
    "vectorizer : CountVectorizer object (optional)\n",
    "    A CountVectorizer object to use. If None,\n",
    "    then create and fit a new CountVectorizer.\n",
    "    Otherwise, re-fit the provided CountVectorizer\n",
    "    using the reviews data\n",
    "    \n",
    "Returns\n",
    "-------\n",
    "X : numpy array (dims: nreview, nwords)\n",
    "    Bag-of-words representation for each review.\n",
    "Y : numpy array (dims: nreview)\n",
    "    1/0 array. 1 = fresh review, 0 = rotten review\n",
    "\n",
    "Examples\n",
    "--------\n",
    "X, Y = make_xy(reviews)\n",
    "\"\"\"\n",
    "def make_xy(critics, min_df=0, vectorizer=None):\n",
    "    if vectorizer is None:\n",
    "        vectorizer = CountVectorizer(min_df=min_df)\n",
    "\n",
    "    X = vectorizer.fit_transform(critics.quote)\n",
    "    X = X.tocsc()  # some versions of sklearn return COO format\n",
    "    y = (critics.fresh == 'fresh').values.astype(np.int)\n",
    "    \n",
    "    feature_names = vectorizer.get_feature_names() \n",
    "    return X, y, feature_names"
   ]
  },
  {
   "cell_type": "code",
   "execution_count": 209,
   "metadata": {},
   "outputs": [
    {
     "name": "stdout",
     "output_type": "stream",
     "text": [
      "All Reviews (Vectorized)\n",
      "-------------------------\n",
      "\n",
      "Input Matrix = Sparse Bag of Words from Review quotes\n",
      "Dimensions :  (13442, 20890)\n",
      "<class 'scipy.sparse.csc.csc_matrix'>\n",
      "\n",
      "Target Column = Fresh(0/1) Review\n",
      "Length     :  13442\n",
      "<class 'numpy.ndarray'>\n"
     ]
    }
   ],
   "source": [
    "X, y, _ = make_xy(reviews)\n",
    "print('All Reviews (Vectorized)\\n-------------------------')\n",
    "print('\\nInput Matrix = Sparse Bag of Words from Review quotes')\n",
    "print('Dimensions : ', X.shape)\n",
    "print(type(X))\n",
    "\n",
    "print('\\nTarget Column = Fresh(0/1) Review')\n",
    "print('Length     : ', len(y))\n",
    "print(type(y))\n"
   ]
  },
  {
   "cell_type": "markdown",
   "metadata": {
    "ein.tags": [
     "worksheet-0"
    ],
    "slideshow": {
     "slide_type": "-"
    }
   },
   "source": [
    "## 2.2 Test-Train split\n",
    "\n",
    "Next, randomly split the data into two groups: a training (75%) set and a validation set (25%).  You can do this manually, as you have done earlier, but I recommend to use `train_test_split` in 'sklearn.model_selection'."
   ]
  },
  {
   "cell_type": "code",
   "execution_count": 210,
   "metadata": {
    "autoscroll": "json-false",
    "ein.tags": [
     "worksheet-0"
    ],
    "slideshow": {
     "slide_type": "-"
    }
   },
   "outputs": [
    {
     "name": "stdout",
     "output_type": "stream",
     "text": [
      "\n",
      "Bag of words Data Type =  <class 'numpy.ndarray'>\n",
      "Target column Data Type=  <class 'scipy.sparse.csr.csr_matrix'>\n",
      "Split Percent = 75-25\n",
      "\n",
      "Train\n",
      "--------\n",
      "Bag of words Dimensions :  (10081, 20890)\n",
      "Target Column length    :  10081\n",
      "\n",
      "Test\n",
      "--------\n",
      "Bag of words Dimensions  :  (3361, 20890)\n",
      "Target Column length    :  (3361,)\n"
     ]
    }
   ],
   "source": [
    "X_train, X_test, y_train, y_test = train_test_split(X, y, test_size=0.25, random_state=0)\n",
    "\n",
    "print('\\nBag of words Data Type = ', type(y_train))\n",
    "print('Target column Data Type= ', type(X_test))\n",
    "print('Split Percent = 75-25')\n",
    "\n",
    "print('\\nTrain\\n--------')\n",
    "print('Bag of words Dimensions : ', X_train.shape)\n",
    "print('Target Column length    : ', len(y_train))\n",
    "\n",
    "print('\\nTest\\n--------')\n",
    "print('Bag of words Dimensions  : ', X_test.shape)\n",
    "print('Target Column length    : ',  y_test.shape)\n"
   ]
  },
  {
   "cell_type": "markdown",
   "metadata": {
    "ein.tags": [
     "worksheet-0"
    ],
    "slideshow": {
     "slide_type": "-"
    }
   },
   "source": [
    "## 2.3 Naive Bayes with `MultinomialNB`\n",
    "Use the training set to train a Naive Bayes classifier using the `MultinomialNB` from 'sklearn'.  Play with _MultinomialNB_ parameters.  Report the accuracy of this model on both the training and testing data.  What do you observe?  Interpret these results!\n"
   ]
  },
  {
   "cell_type": "markdown",
   "metadata": {},
   "source": [
    "#### Naive Bayes"
   ]
  },
  {
   "cell_type": "code",
   "execution_count": 211,
   "metadata": {
    "autoscroll": "json-false",
    "ein.tags": [
     "worksheet-0"
    ],
    "slideshow": {
     "slide_type": "-"
    }
   },
   "outputs": [
    {
     "data": {
      "text/plain": [
       "MultinomialNB(alpha=1.0, class_prior=None, fit_prior=True)"
      ]
     },
     "execution_count": 211,
     "metadata": {},
     "output_type": "execute_result"
    }
   ],
   "source": [
    "# enter your code here\n",
    "from sklearn.naive_bayes import MultinomialNB\n",
    "\n",
    "classifier = MultinomialNB()\n",
    "classifier.fit(X_train, y_train)"
   ]
  },
  {
   "cell_type": "markdown",
   "metadata": {},
   "source": [
    "#### Evaluate Classifier 1 : Accuracy"
   ]
  },
  {
   "cell_type": "code",
   "execution_count": 212,
   "metadata": {},
   "outputs": [
    {
     "name": "stdout",
     "output_type": "stream",
     "text": [
      "\n",
      "TRAIN\n",
      "--------\n",
      "Number of test instances :  10081\n",
      "Correctly Classified     :  9306\n",
      "Accuracy of Classifer    :  0.923122706081\n",
      "\n",
      "Confusion Matrix:\n",
      " [[3245  564]\n",
      " [ 211 6061]]\n",
      "\n",
      "TEST\n",
      "--------\n",
      "Number of test instances :  3361\n",
      "Correctly Classified     :  2616\n",
      "Accuracy of Classifer    :  0.778339779827\n",
      "\n",
      "Confusion Matrix:\n",
      " [[ 774  470]\n",
      " [ 275 1842]]\n"
     ]
    }
   ],
   "source": [
    "from sklearn.metrics import confusion_matrix\n",
    "from sklearn.metrics import roc_curve\n",
    "from sklearn.metrics import accuracy_score\n",
    "\n",
    "\n",
    "print('\\nTRAIN\\n--------')\n",
    "print('Number of test instances : ', X_train.shape[0])\n",
    "preds_train = classifier.predict(X_train)  #binary predictions 0/1, not fractional\n",
    "print('Correctly Classified     : ', accuracy_score(y_train, preds_train, normalize=False))\n",
    "print('Accuracy of Classifer    : ', classifier.score(X_train, y_train))\n",
    "print('\\nConfusion Matrix:\\n', confusion_matrix(y_train, preds_train))\n",
    "\n",
    "print('\\nTEST\\n--------')\n",
    "print('Number of test instances : ', X_test.shape[0])\n",
    "preds_test = classifier.predict(X_test)  #binary predictions 0/1, not fractional\n",
    "print('Correctly Classified     : ', accuracy_score(y_test, preds_test, normalize=False))\n",
    "print('Accuracy of Classifer    : ', classifier.score(X_test, y_test))\n",
    "print('\\nConfusion Matrix:\\n', confusion_matrix(y_test, preds_test))"
   ]
  },
  {
   "cell_type": "markdown",
   "metadata": {},
   "source": [
    "#### Play with Parameters : alpha"
   ]
  },
  {
   "cell_type": "code",
   "execution_count": 213,
   "metadata": {},
   "outputs": [],
   "source": [
    "train_accuracy=[]\n",
    "test_accuracy=[]\n",
    "\n",
    "for i in range(0,10):\n",
    "    classifier = MultinomialNB(alpha = i)\n",
    "    classifier.fit(X_train, y_train)\n",
    "    \n",
    "    preds_train = classifier.predict(X_train)  \n",
    "    train_accuracy.append(classifier.score(X_train, y_train))\n",
    "    preds_test = classifier.predict(X_test)   \n",
    "    test_accuracy.append(classifier.score(X_test, y_test))"
   ]
  },
  {
   "cell_type": "code",
   "execution_count": 219,
   "metadata": {},
   "outputs": [
    {
     "data": {
      "image/png": "[encoded data removed]",
      "text/plain": [
       "<matplotlib.figure.Figure at 0x227a863c5f8>"
      ]
     },
     "metadata": {},
     "output_type": "display_data"
    }
   ],
   "source": [
    "# Plot- Effect of Alpha\n",
    "#Prepare the data\n",
    "y1 = train_accuracy\n",
    "y2 = test_accuracy\n",
    "x = range(0,10)\n",
    "\n",
    "#Prepare the plot\n",
    "plt.figure(figsize=(8,6))\n",
    "plt.title('Effect of alpha on Train & Test Accuracy', fontsize=14)\n",
    "plt.xlabel('Value of alpha (smoothing parameter)', fontsize=12)\n",
    "plt.ylabel('Accuracy', fontsize=12)\n",
    "plt.grid(False)\n",
    "\n",
    "#Plot the data\n",
    "plt.plot(x, y1, alpha = 0.8, color='blue',label='Train Accuracy')\n",
    "plt.plot(x, y2, alpha = 0.8, color='red', label='Test Accuracy')\n",
    "plt.ylim((0,1))\n",
    "plt.legend(loc='best')\n",
    "\n",
    "#Remove axes and spline\n",
    "ax = plt.gca()\n",
    "ax.spines['top'].set_visible(False)\n",
    "ax.spines['right'].set_visible(False)"
   ]
  },
  {
   "cell_type": "markdown",
   "metadata": {},
   "source": [
    "#### Interpretation - Parameters, and general accuracy"
   ]
  },
  {
   "cell_type": "markdown",
   "metadata": {},
   "source": [
    "- The training accuracy was 92.31% but the test accuracy was only 77.83%. for the basic model (alpha =1)\n",
    "- This suggests that the model is overfitting the training data, and is not that good of an approximation for the test data.\n",
    "\n",
    "- We can see that when alpha is 0, no smoothing is present, so test error is low, because rare words are not accounted for. With value of alpha =1, we thus see an improvement in the test error rate.\n",
    "- With more and more smoothing, the overfitting is reduced and both the test and the training accuracies are pulled towards the center of the plot."
   ]
  },
  {
   "cell_type": "markdown",
   "metadata": {
    "ein.tags": [
     "worksheet-0"
    ],
    "slideshow": {
     "slide_type": "-"
    }
   },
   "source": [
    "## 2.4 (EXTRA CREDIT) Naive Bayes from Scratch!\n",
    "\n",
    "That was almost too easy, right?  Right.\n",
    "\n",
    "Your next mission, if you feel you want to take an extra challenge, is to write your own Naive Bayes classifier without relying on `MultinomialNB` or a similar pre-written package.  In addition to the lecture notes and assigned readings, I highly recommend that you review Michael Collin’s lecture notes on Naïve Bayes before starting (available on Canvas).  \n",
    "\n",
    "**Note:** Do this *after* you have finished the rest of the problem set.  It is very rewarding, but can also be quite time-consuming!\n",
    "\n",
    "*Hint: You will benefit most from this exercise if you attempt to write the algorithm directly from the lecture notes.  That said, if you really get stuck, Krishnamurthy Viswanathan has written a simple version of [NB in python](http://ebiquity.umbc.edu/blogger/2010/12/07/naive-bayes-classifier-in-50-lines/), which you can peek at if you really get stuck.*"
   ]
  },
  {
   "cell_type": "code",
   "execution_count": 238,
   "metadata": {
    "autoscroll": "json-false",
    "ein.tags": [
     "worksheet-0"
    ],
    "slideshow": {
     "slide_type": "-"
    }
   },
   "outputs": [],
   "source": [
    "#Self-defined function :)\n",
    "# Currently only works in the order : fit -> predict_proba -> predict\n",
    "class BinaryNB:\n",
    "    \n",
    "    def __init__(self, alpha=1):\n",
    "        self.alpha = alpha\n",
    "        self.n=0\n",
    "        self.p=0\n",
    "        self.log_prob1 = 0\n",
    "        self.log_prob2 = 0    \n",
    "        self.log_prob_words_1 =0\n",
    "        self.log_prob_words_2 =0\n",
    "    \n",
    "    \n",
    "    def validate(self, X,y):\n",
    "        if(X.shape[0] != len(y)):\n",
    "            print('Validation Error!')\n",
    "        return False;   \n",
    "\n",
    "    def fit(self, X , y):\n",
    "        #Find Class Probabilities\n",
    "        #self.validate(X,y)\n",
    "        self.n  = len(y)\n",
    "        n1 = len(y[y==0])\n",
    "        n2 = len(y[y==1])\n",
    "        \n",
    "        prob1 = (n1 + self.alpha)/(self.n*2)\n",
    "        prob2 = (n2 + self.alpha)/(self.n*2)\n",
    "                                   \n",
    "        self.log_prob1 = np.log(prob1)\n",
    "        self.log_prob2 = np.log(prob2)\n",
    "        \n",
    "        #Find number of words (vocabulary)\n",
    "        self.p = X.shape[1] #shape[0] should be same as n\n",
    "        \n",
    "        #Divide Data into True Positives, True Negatives\n",
    "        z= np.c_[y, X]\n",
    "        set1 = z[z[:,0] == 0]  #True y =0        \n",
    "        set2 = z[z[:,0] == 1]  #True y =1\n",
    "        \n",
    "        #Find (word) counts per class\n",
    "        total_words = np.sum(X, axis=0)\n",
    "        \n",
    "        #Find (word) feature conditional probabilities\n",
    "        words_1 = np.sum(set1[:,1:], axis=0)\n",
    "        words_2 = np.sum(set2[:,1:], axis=0)\n",
    "        all_words = np.sum(X, axis=0)\n",
    "        \n",
    "        prob_words_1 = np.divide(words_1, all_words)\n",
    "        prob_words_2 = np.divide(words_2, all_words)\n",
    "        \n",
    "        self.log_prob_words_1 = np.log(prob_words_1)\n",
    "        self.log_prob_words_2 = np.log(prob_words_2)\n",
    "\n",
    "    def predict_proba(self, X):\n",
    "        self.mle1 = self.log_prob1 + np.sum(X*self.log_prob_words_1, axis=1)\n",
    "        self.mle2 = self.log_prob2 + np.sum(X*self.log_prob_words_2, axis=1)\n",
    "        print(self.mle1, self.mle2)\n",
    "        return (self.mle1, self.mle2) \n",
    "\n",
    "    def predict(self, X):\n",
    "        predictions = np.zeros(self.n)        \n",
    "        print(predictions)\n",
    "        predictions = np.where(self.mle1 > self.mle2 , 0, 1)\n",
    "        print(predictions)\n",
    "        return predictions    \n",
    "    \n",
    "    def score(X):\n",
    "        return 0\n"
   ]
  },
  {
   "cell_type": "markdown",
   "metadata": {},
   "source": [
    "____"
   ]
  },
  {
   "cell_type": "markdown",
   "metadata": {
    "ein.tags": [
     "worksheet-0"
    ],
    "slideshow": {
     "slide_type": "-"
    }
   },
   "source": [
    "# 3 Evaluation\n",
    "\n",
    "## 3.1 Estimate the likelihood of your data\n",
    "\n",
    "Calculate log-likelihood of a fitted model.  Log-likelihood is a way to assess the performance of your model.  Remeber -- likelihood is more-or-less the probability to observe your data (including your target).  Below is an example function that calculates the log-likelihood of an estimated model using `fitted_model.predict_logproba`.  You may use this function, or write your own.  "
   ]
  },
  {
   "cell_type": "markdown",
   "metadata": {},
   "source": [
    "#### Define : Function to estimate log-likelihood for a classifier model"
   ]
  },
  {
   "cell_type": "code",
   "execution_count": 24,
   "metadata": {
    "autoscroll": "json-false",
    "ein.tags": [
     "worksheet-0"
    ],
    "slideshow": {
     "slide_type": "-"
    }
   },
   "outputs": [],
   "source": [
    "\"\"\"\n",
    "Function\n",
    "--------\n",
    "log_likelihood\n",
    "\n",
    "Compute the log likelihood of a dataset according to a bayesian classifier. \n",
    "\n",
    "The Log Likelihood is defined by\n",
    "\n",
    "L = Sum_fresh(logP(fresh)) + Sum_rotten(logP(rotten))\n",
    "\n",
    "Where Sum_fresh indicates a sum over all fresh reviews, \n",
    "and Sum_rotten indicates a sum over rotten reviews.\n",
    "\n",
    "Parameters\n",
    "----------\n",
    "model : Bayesian classifier\n",
    "x : (nexample, nfeature) array\n",
    "    The input data\n",
    "y : (nexample) integer array\n",
    "    Whether each review is Fresh\n",
    "\"\"\"\n",
    "\n",
    "def log_likelihood(model, x, y):\n",
    "    prob = model.predict_log_proba(x)\n",
    "    # returns Nx2 array.  Columns are log(Pr(y == 0|x)), log(Pr(y==1|x))\n",
    "    ll = prob[y == 0, 0].sum() + prob[y == 1, 1].sum()\n",
    "    return ll"
   ]
  },
  {
   "cell_type": "markdown",
   "metadata": {},
   "source": [
    "#### Evaluate: Log-Likelihood function"
   ]
  },
  {
   "cell_type": "code",
   "execution_count": 25,
   "metadata": {},
   "outputs": [
    {
     "name": "stdout",
     "output_type": "stream",
     "text": [
      "Train Log Likelihood : -1942.92896336\n",
      "Test  Log Likelihood : -1864.05542662\n"
     ]
    }
   ],
   "source": [
    "print('Train Log Likelihood :', log_likelihood(classifier, X_train, y_train))\n",
    "print('Test  Log Likelihood :', log_likelihood(classifier, X_test, y_test))"
   ]
  },
  {
   "cell_type": "code",
   "execution_count": 26,
   "metadata": {},
   "outputs": [
    {
     "name": "stdout",
     "output_type": "stream",
     "text": [
      "Train Log Loss : 1942.92896336\n",
      "Test  Log Loss : 1864.05542662\n"
     ]
    }
   ],
   "source": [
    "from sklearn.metrics import log_loss\n",
    "pred_probs_train = classifier.predict_proba(X_train)\n",
    "pred_probs_test = classifier.predict_proba(X_test)\n",
    "\n",
    "#If normalize, returns mean loss per sample. Else, sum of per-sample losses\n",
    "print('Train Log Loss :', log_loss(y_train, pred_probs_train, normalize=False))\n",
    "print('Test  Log Loss :', log_loss(y_test, pred_probs_test, normalize=False))"
   ]
  },
  {
   "cell_type": "markdown",
   "metadata": {
    "ein.tags": [
     "worksheet-0"
    ],
    "slideshow": {
     "slide_type": "-"
    }
   },
   "source": [
    "## 3.2 Cross-Validation\n",
    "\n",
    "Why do we care about the log-likelihood of our data?  You guessed it: Cross-Validation.\n",
    "Our classifier has a few hyperparameters. The two most important are:\n",
    "\n",
    " 1. The `min_df` keyword in `CountVectorizer`, which will ignore words which appear in fewer than `min_df` fraction of reviews. Words that appear only once or twice can lead to overfitting, since words which occur only a few times might correlate very well with Fresh/Rotten reviews by chance in the training dataset.\n",
    " \n",
    " 2. The `alpha` keyword in the Bayesian classifier is a \"smoothing parameter\" -- increasing the value decreases the sensitivity to any single feature, and tends to pull prediction probabilities closer to 50%. \n",
    "\n",
    "We are going to use cross-validation to tune these hyperparameters.  The objective function we want to maximize is the log-likelihood of our data.  Fill in the remaining code in this block, to loop over many values of `alpha` and `min_df` to determine\n",
    "which settings are \"best\" in the sense of maximizing the cross-validated log-likelihood.\n",
    "\n",
    "*hint: sklearn has a built-in function, `sklearn.model_selection.cross_val_score`, that might save you a lot of time here...*"
   ]
  },
  {
   "cell_type": "markdown",
   "metadata": {},
   "source": [
    "#### Define: Grid search the parameter space to  optimize Naive Bayes classifier \n",
    "Default optimization-> Maximize Log-Likelihood"
   ]
  },
  {
   "cell_type": "code",
   "execution_count": 27,
   "metadata": {
    "autoscroll": "json-false",
    "ein.tags": [
     "worksheet-0"
    ],
    "slideshow": {
     "slide_type": "-"
    }
   },
   "outputs": [],
   "source": [
    "from sklearn.model_selection import cross_val_score\n",
    "\n",
    "#the grid of parameters to search over\n",
    "alphas = [0, .1, 1, 5, 10, 50]\n",
    "min_dfs = [1e-5, 1e-4, 1e-3, 1e-2, 1e-1]\n",
    "params = {'alpha' : alphas , 'min_df' : min_dfs}\n",
    "\n",
    "\n",
    "def grid_search_NB(alphas=[0], min_dfs=[0], num_splits=3, score_fn=log_likelihood):\n",
    "\n",
    "    print('NAIVE BAYES - Grid Search in parameter space\\n---------------------------------------------')\n",
    "    print('Min_dfs (Threshold)          :', min_dfs)\n",
    "    print('Alphas (Smoothing Parameter) :', alphas)\n",
    "    print('\\nNumber of CV Splits :', num_splits)\n",
    "    print('Scoring Function    :', score_fn)\n",
    "    print('\\n')\n",
    "\n",
    "    #1st row= colnames , #1st col= index\n",
    "    grid_arr =np.array(['', 'min_df', 'alpha' , 'Mean Score'], dtype=object)\n",
    "\n",
    "    i=0\n",
    "    for alpha in alphas:\n",
    "        for min_df in min_dfs:\n",
    "            #print('Iteration :', i)\n",
    "            i+=1     \n",
    "            X, y, _ = make_xy(reviews, min_df = min_df)\n",
    "            clf = MultinomialNB(alpha = alpha)\n",
    "            ll_score = np.mean(cross_val_score(clf, X, y, scoring=score_fn, cv=num_splits))\n",
    "            row = np.array([i, min_df, alpha, ll_score], dtype=object)\n",
    "            grid_arr = np.vstack((grid_arr, row))\n",
    "\n",
    "    grid_df = pd.DataFrame(data=grid_arr[1:,1:], columns =grid_arr[0,1:], index=grid_arr[1:,0])    \n",
    "    return grid_df"
   ]
  },
  {
   "cell_type": "markdown",
   "metadata": {
    "collapsed": true
   },
   "source": [
    "#### Naive Bayes - Find best min_df, alpha for max Log likelihood"
   ]
  },
  {
   "cell_type": "code",
   "execution_count": 28,
   "metadata": {},
   "outputs": [
    {
     "name": "stdout",
     "output_type": "stream",
     "text": [
      "NAIVE BAYES - Grid Search in parameter space\n",
      "---------------------------------------------\n",
      "Min_dfs (Threshold)          : [1e-05, 0.0001, 0.001, 0.01, 0.1]\n",
      "Alphas (Smoothing Parameter) : [0, 0.1, 1, 5, 10, 50]\n",
      "\n",
      "Number of CV Splits : 3\n",
      "Scoring Function    : <function log_likelihood at 0x00000227A2E7F378>\n",
      "\n",
      "\n",
      "    min_df alpha Mean Score\n",
      "1    1e-05     0        NaN\n",
      "2   0.0001     0        NaN\n",
      "3    0.001     0        NaN\n",
      "4     0.01     0      -2814\n",
      "5      0.1     0      -2916\n",
      "6    1e-05   0.1      -3944\n",
      "7   0.0001   0.1      -3942\n",
      "8    0.001   0.1      -2795\n",
      "9     0.01   0.1      -2814\n",
      "10     0.1   0.1      -2916\n",
      "11   1e-05     1      -2695\n",
      "12  0.0001     1      -2646\n",
      "13   0.001     1      -2618\n",
      "14    0.01     1      -2811\n",
      "15     0.1     1      -2916\n",
      "16   1e-05     5      -4554\n",
      "17  0.0001     5      -3270\n",
      "18   0.001     5      -2489\n",
      "19    0.01     5      -2803\n",
      "20     0.1     5      -2915\n",
      "21   1e-05    10      -6183\n",
      "22  0.0001    10      -4660\n",
      "23   0.001    10      -2540\n",
      "24    0.01    10      -2797\n",
      "25     0.1    10      -2915\n",
      "26   1e-05    50      -7704\n",
      "27  0.0001    50      -7039\n",
      "28   0.001    50      -4135\n",
      "29    0.01    50      -2825\n",
      "30     0.1    50      -2915\n"
     ]
    }
   ],
   "source": [
    "grid_df= grid_search_NB(alphas, min_dfs, num_splits=3, score_fn=log_likelihood)\n",
    "print(grid_df)"
   ]
  },
  {
   "cell_type": "code",
   "execution_count": 29,
   "metadata": {},
   "outputs": [
    {
     "name": "stdout",
     "output_type": "stream",
     "text": [
      "Log_Likelihood\n",
      "-----------------\n",
      "Highest Log Likelihood at Index : 18\n",
      "\n",
      "Best Parameters (min_df, alpha) :\n"
     ]
    },
    {
     "data": {
      "text/plain": [
       "min_df        0.001\n",
       "alpha             5\n",
       "Mean Score    -2489\n",
       "Name: 18, dtype: object"
      ]
     },
     "execution_count": 29,
     "metadata": {},
     "output_type": "execute_result"
    }
   ],
   "source": [
    "#Find index of highest log-likelihood (smallest negative number)\n",
    "print('Log_Likelihood\\n-----------------')\n",
    "idx = grid_df['Mean Score'].idxmax()\n",
    "print('Highest Log Likelihood at Index :', idx)\n",
    "\n",
    "print('\\nBest Parameters (min_df, alpha) :')\n",
    "grid_df.ix[idx]"
   ]
  },
  {
   "cell_type": "markdown",
   "metadata": {},
   "source": [
    "#### Optimal Parameters for Max Log-Likelihood\n",
    "The optimal parameters that maximize log likelihood have values as stated above.\n",
    "- Min_df (Threshold) = 0.001\n",
    "- Alpha (Smoothing) = 5"
   ]
  },
  {
   "cell_type": "markdown",
   "metadata": {
    "ein.tags": [
     "worksheet-0"
    ],
    "slideshow": {
     "slide_type": "-"
    }
   },
   "source": [
    "## 3.3 Putting it together\n",
    "\n",
    "Now that you've determined values for alpha and min_df that optimize the cross-validated log-likelihood, repeat the steps in 2.1-2.3 to train a final classifier with these parameters and re-evaluate the accuracy.  Discuss the various ways in which Cross-Validation has affected the model. Is the new model more or less accurate? Is overfitting better or worse?"
   ]
  },
  {
   "cell_type": "code",
   "execution_count": 87,
   "metadata": {},
   "outputs": [],
   "source": [
    "#For MAX log_likelihood\n",
    "best_min_df = 0.001\n",
    "best_alpha  = 5"
   ]
  },
  {
   "cell_type": "code",
   "execution_count": 88,
   "metadata": {
    "autoscroll": "json-false",
    "ein.tags": [
     "worksheet-0"
    ],
    "slideshow": {
     "slide_type": "-"
    }
   },
   "outputs": [
    {
     "data": {
      "text/plain": [
       "MultinomialNB(alpha=1.0, class_prior=None, fit_prior=True)"
      ]
     },
     "execution_count": 88,
     "metadata": {},
     "output_type": "execute_result"
    }
   ],
   "source": [
    "#Featurize text into X, y (using best min_df for threshold)\n",
    "X, y, _ = make_xy(reviews, min_df = best_min_df)\n",
    "\n",
    "#Create Test-Train Split\n",
    "X_train, X_test, y_train, y_test = train_test_split(X, y, test_size=0.25, random_state=0)\n",
    "\n",
    "#Fit the classifier on Train data (using best alpha for smoothing)\n",
    "classifier = MultinomialNB()\n",
    "classifier.fit(X_train, y_train)"
   ]
  },
  {
   "cell_type": "markdown",
   "metadata": {
    "collapsed": true
   },
   "source": [
    "#### Evaluate Classifier 2 : Accuracy  (Optimized for max log-likelihood)"
   ]
  },
  {
   "cell_type": "code",
   "execution_count": 32,
   "metadata": {},
   "outputs": [
    {
     "name": "stdout",
     "output_type": "stream",
     "text": [
      "\n",
      "TRAIN\n",
      "--------\n",
      "Number of test instances :  10081\n",
      "Correctly Classified     :  8085\n",
      "Accuracy of Classifer    :  0.802003769467\n",
      "\n",
      "Confusion Matrix:\n",
      " [[2740 1069]\n",
      " [ 927 5345]]\n",
      "\n",
      "TEST\n",
      "--------\n",
      "Number of test instances :  3361\n",
      "Correctly Classified     :  2516\n",
      "Accuracy of Classifer    :  0.74858673014\n",
      "\n",
      "Confusion Matrix:\n",
      " [[ 778  466]\n",
      " [ 379 1738]]\n"
     ]
    }
   ],
   "source": [
    "print('\\nTRAIN\\n--------')\n",
    "print('Number of test instances : ', X_train.shape[0])\n",
    "preds_train = classifier.predict(X_train)  #binary predictions 0/1, not fractional\n",
    "print('Correctly Classified     : ', accuracy_score(y_train, preds_train, normalize=False))\n",
    "print('Accuracy of Classifer    : ', classifier.score(X_train, y_train))\n",
    "print('\\nConfusion Matrix:\\n', confusion_matrix(y_train, preds_train))\n",
    "\n",
    "print('\\nTEST\\n--------')\n",
    "print('Number of test instances : ', X_test.shape[0])\n",
    "preds_test = classifier.predict(X_test)  #binary predictions 0/1, not fractional\n",
    "print('Correctly Classified     : ', accuracy_score(y_test, preds_test, normalize=False))\n",
    "print('Accuracy of Classifer    : ', classifier.score(X_test, y_test))\n",
    "print('\\nConfusion Matrix:\\n', confusion_matrix(y_test, preds_test))"
   ]
  },
  {
   "cell_type": "markdown",
   "metadata": {},
   "source": [
    "#### Effect of Cross Validation\n",
    "- By doing cross-validation, we get a more robust estimation of error.\n",
    "- We can be surer of our estimated accuracies, as we take the average estimated values across the splits.\n",
    "\n",
    "#### Evaluating Model Accuracy\n",
    "- By using the smoothing parameter and thresholds that maximize likelihood, we have generalizability, and have a worse accuracy metric. \n",
    "- The newer model is less accurate, and does worse on both the train and test data.\n",
    "- The possible reason for this worse performance, is that the data is optimized for the maximum log likelihood, which is not the same as the accuracy metric of classification error, and the data can be optimizing for the wrong metric.\n",
    "- We have a much worse model, and clearly we shouldn't use this model since test error is much lower.\n",
    "- The training accuracy has fallen down from 92% to 80% and test accuracy has fallen from 77% to 74%"
   ]
  },
  {
   "cell_type": "markdown",
   "metadata": {
    "ein.tags": [
     "worksheet-0"
    ],
    "slideshow": {
     "slide_type": "-"
    }
   },
   "source": [
    "### 3.4 (Extra Credit)\n",
    "\n",
    "What happens if you tried this again using a function besides the log-likelihood -- for example, the classification accuracy?  Interpret these results"
   ]
  },
  {
   "cell_type": "markdown",
   "metadata": {
    "collapsed": true
   },
   "source": [
    "#### Naive Bayes - Find best min_df, alpha for  highest Accuracy"
   ]
  },
  {
   "cell_type": "code",
   "execution_count": 33,
   "metadata": {
    "autoscroll": "json-false",
    "ein.tags": [
     "worksheet-0"
    ],
    "slideshow": {
     "slide_type": "-"
    }
   },
   "outputs": [
    {
     "name": "stdout",
     "output_type": "stream",
     "text": [
      "NAIVE BAYES - Grid Search in parameter space\n",
      "---------------------------------------------\n",
      "Min_dfs (Threshold)          : [1e-05, 0.0001, 0.001, 0.01, 0.1]\n",
      "Alphas (Smoothing Parameter) : [0, 0.1, 1, 5, 10, 50]\n",
      "\n",
      "Number of CV Splits : 3\n",
      "Scoring Function    : accuracy\n",
      "\n",
      "\n",
      "    min_df alpha Mean Score\n",
      "1    1e-05     0     0.5495\n",
      "2   0.0001     0     0.6002\n",
      "3    0.001     0     0.7336\n",
      "4     0.01     0     0.6617\n",
      "5      0.1     0     0.6257\n",
      "6    1e-05   0.1     0.7384\n",
      "7   0.0001   0.1     0.7378\n",
      "8    0.001   0.1      0.736\n",
      "9     0.01   0.1     0.6617\n",
      "10     0.1   0.1     0.6257\n",
      "11   1e-05     1     0.7603\n",
      "12  0.0001     1     0.7596\n",
      "13   0.001     1      0.737\n",
      "14    0.01     1     0.6615\n",
      "15     0.1     1     0.6257\n",
      "16   1e-05     5     0.6692\n",
      "17  0.0001     5     0.7093\n",
      "18   0.001     5     0.7311\n",
      "19    0.01     5     0.6596\n",
      "20     0.1     5     0.6256\n",
      "21   1e-05    10     0.6384\n",
      "22  0.0001    10     0.6541\n",
      "23   0.001    10     0.7212\n",
      "24    0.01    10      0.659\n",
      "25     0.1    10     0.6255\n",
      "26   1e-05    50     0.6245\n",
      "27  0.0001    50     0.6245\n",
      "28   0.001    50     0.6342\n",
      "29    0.01    50     0.6561\n",
      "30     0.1    50     0.6255\n"
     ]
    }
   ],
   "source": [
    "#Search parameter space with Accuracy Metric\n",
    "grid_df= grid_search_NB(alphas, min_dfs, num_splits=3, score_fn='accuracy')\n",
    "print(grid_df)"
   ]
  },
  {
   "cell_type": "code",
   "execution_count": 34,
   "metadata": {},
   "outputs": [
    {
     "name": "stdout",
     "output_type": "stream",
     "text": [
      "Accuracy\n",
      "---------\n",
      "Highest Accuracy at Index : 11\n",
      "\n",
      "Best Parameters (min_df, alpha) :\n"
     ]
    },
    {
     "data": {
      "text/plain": [
       "min_df         1e-05\n",
       "alpha              1\n",
       "Mean Score    0.7603\n",
       "Name: 11, dtype: object"
      ]
     },
     "execution_count": 34,
     "metadata": {},
     "output_type": "execute_result"
    }
   ],
   "source": [
    "#Find index of highest log-likelihood (smallest negative number)\n",
    "print('Accuracy\\n---------')\n",
    "idx = grid_df['Mean Score'].idxmax()\n",
    "print('Highest Accuracy at Index :', idx)\n",
    "\n",
    "print('\\nBest Parameters (min_df, alpha) :')\n",
    "grid_df.ix[idx]"
   ]
  },
  {
   "cell_type": "markdown",
   "metadata": {},
   "source": [
    "#### Optimal parameters for  maximum Naive Bayes Accuracy\n",
    "The best values of smoothing parameter and threshold for increasing the accuracy have been calculated as 1, and 1e-05 respectively."
   ]
  },
  {
   "cell_type": "code",
   "execution_count": 35,
   "metadata": {},
   "outputs": [],
   "source": [
    "#For MAX Accuracy\n",
    "best_min_df = 1e-05\n",
    "best_alpha  = 1"
   ]
  },
  {
   "cell_type": "code",
   "execution_count": 36,
   "metadata": {
    "autoscroll": "json-false",
    "ein.tags": [
     "worksheet-0"
    ],
    "slideshow": {
     "slide_type": "-"
    }
   },
   "outputs": [
    {
     "data": {
      "text/plain": [
       "MultinomialNB(alpha=1.0, class_prior=None, fit_prior=True)"
      ]
     },
     "execution_count": 36,
     "metadata": {},
     "output_type": "execute_result"
    }
   ],
   "source": [
    "#Featurize text into X, y (using best min_df for threshold)\n",
    "X, y, _ = make_xy(reviews, min_df = best_min_df)\n",
    "\n",
    "#Create Test-Train Split\n",
    "X_train, X_test, y_train, y_test = train_test_split(X, y, test_size=0.25, random_state=0)\n",
    "\n",
    "#Fit the classifier on Train data (using best alpha for smoothing)\n",
    "classifier = MultinomialNB()\n",
    "classifier.fit(X_train, y_train)"
   ]
  },
  {
   "cell_type": "markdown",
   "metadata": {
    "collapsed": true
   },
   "source": [
    "#### Evaluate Classifier 3 : Accuracy  (Optimized for Classification Error)"
   ]
  },
  {
   "cell_type": "code",
   "execution_count": 37,
   "metadata": {},
   "outputs": [
    {
     "name": "stdout",
     "output_type": "stream",
     "text": [
      "\n",
      "TRAIN\n",
      "--------\n",
      "Number of test instances :  10081\n",
      "Correctly Classified     :  9306\n",
      "Accuracy of Classifer    :  0.923122706081\n",
      "\n",
      "Confusion Matrix:\n",
      " [[3245  564]\n",
      " [ 211 6061]]\n",
      "\n",
      "TEST\n",
      "--------\n",
      "Number of test instances :  3361\n",
      "Correctly Classified     :  2616\n",
      "Accuracy of Classifer    :  0.778339779827\n",
      "\n",
      "Confusion Matrix:\n",
      " [[ 774  470]\n",
      " [ 275 1842]]\n"
     ]
    }
   ],
   "source": [
    "print('\\nTRAIN\\n--------')\n",
    "print('Number of test instances : ', X_train.shape[0])\n",
    "preds_train = classifier.predict(X_train)  #binary predictions 0/1, not fractional\n",
    "print('Correctly Classified     : ', accuracy_score(y_train, preds_train, normalize=False))\n",
    "print('Accuracy of Classifer    : ', classifier.score(X_train, y_train))\n",
    "print('\\nConfusion Matrix:\\n', confusion_matrix(y_train, preds_train))\n",
    "\n",
    "print('\\nTEST\\n--------')\n",
    "print('Number of test instances : ', X_test.shape[0])\n",
    "preds_test = classifier.predict(X_test)  #binary predictions 0/1, not fractional\n",
    "print('Correctly Classified     : ', accuracy_score(y_test, preds_test, normalize=False))\n",
    "print('Accuracy of Classifer    : ', classifier.score(X_test, y_test))\n",
    "print('\\nConfusion Matrix:\\n', confusion_matrix(y_test, preds_test))"
   ]
  },
  {
   "cell_type": "markdown",
   "metadata": {},
   "source": [
    "#### Interpretation: Effect of optimizing for Accuracy\n",
    "By optimizing the min_df and alpha for accuracy, we have create a better classifier than before, which performs better on both the training and test data. This is a more generalizable classifier than the previous models. This is seen by the increased accuracy in the test and training sets. We expect the training error to be better than test error usually."
   ]
  },
  {
   "cell_type": "markdown",
   "metadata": {
    "ein.tags": [
     "worksheet-0"
    ],
    "slideshow": {
     "slide_type": "-"
    }
   },
   "source": [
    "## 3.5 Interpretation\n",
    "\n",
    "What words best predict a fresh or rotten review?  Using your classifier and the `vectorizer.get_feature_names` method, determine which words best predict a positive or negative review. Print the 10 words that best predict a \"fresh\" review, and the 10 words that best predict a \"rotten\" review. For each word, what is the model's probability of freshness if the word appears one time?\n",
    "\n",
    "#### Hints\n",
    "* In thinking about how to measure the impact of a word on freshness rating, consider computing the classification probability for a feature vector which consists of all 0s, except for a single 1. What does this probability refer to?\n",
    "* `numpy.identity` generates an identity matrix, where all values are zero except the diagonal elements which have a value of one"
   ]
  },
  {
   "cell_type": "markdown",
   "metadata": {},
   "source": [
    "#### Logic: Which words best predict a fresh/rotten review\n",
    "- Let's use all the reviews to train our model, and get the vectorizer's features.\n",
    "- Then, the test data can be an identity matrix, meaning a sentence that contains only one word from the feature set. \n",
    "- The predicted fresh/rotten score will give the individual impact of a word on \"freshness\"."
   ]
  },
  {
   "cell_type": "markdown",
   "metadata": {},
   "source": [
    "#### Fit NB Classifier : ALL data, with threshold and smoothing"
   ]
  },
  {
   "cell_type": "code",
   "execution_count": 38,
   "metadata": {
    "autoscroll": "json-false",
    "ein.tags": [
     "worksheet-0"
    ],
    "slideshow": {
     "slide_type": "-"
    }
   },
   "outputs": [
    {
     "data": {
      "text/plain": [
       "MultinomialNB(alpha=1, class_prior=None, fit_prior=True)"
      ]
     },
     "execution_count": 38,
     "metadata": {},
     "output_type": "execute_result"
    }
   ],
   "source": [
    "#Featurize entire text into X, y\n",
    "X, y, feature_names = make_xy(reviews, min_df=1e-05)\n",
    "\n",
    "#Fit the classifier on ALL reviews\n",
    "classifier = MultinomialNB(alpha=1)\n",
    "classifier.fit(X, y)"
   ]
  },
  {
   "cell_type": "markdown",
   "metadata": {},
   "source": [
    "#### Test Identity Matrix with fitted Naive Bayes Classifier"
   ]
  },
  {
   "cell_type": "code",
   "execution_count": 77,
   "metadata": {},
   "outputs": [
    {
     "name": "stdout",
     "output_type": "stream",
     "text": [
      "Number of features (words) =  20890\n",
      "\n",
      "Probabilistic Predictions\n",
      "(20890, 2)\n",
      "[[ 0.60973026  0.39026974]\n",
      " [ 0.31912534  0.68087466]\n",
      " [ 0.23807554  0.76192446]\n",
      " ..., \n",
      " [ 0.65214928  0.34785072]\n",
      " [ 0.38458969  0.61541031]\n",
      " [ 0.65214928  0.34785072]]\n",
      "\n",
      "Prediction Confidence\n",
      "(20890,)\n",
      "[ 0.60973026  0.68087466  0.76192446 ...,  0.65214928  0.61541031\n",
      "  0.65214928]\n"
     ]
    }
   ],
   "source": [
    "num_features = len(feature_names)\n",
    "print('Number of features (words) = ', num_features)\n",
    "\n",
    "#Create Identity matrix for testing\n",
    "single_words = np.identity(num_features)\n",
    "\n",
    "#Classify Test data\n",
    "word_preds = classifier.predict(single_words)\n",
    "\n",
    "#Calculate word probabilstic predictions for all candidate classes\n",
    "word_proba = classifier.predict_proba(single_words)\n",
    "print('\\nProbabilistic Predictions')\n",
    "print(word_proba.shape)\n",
    "print(word_proba)\n",
    "\n",
    "#Test word probabilities for predicted classes (Maximum Likelihood)\n",
    "print('\\nPrediction Confidence')\n",
    "word_pred_prob = np.maximum(word_proba[:,0] ,  word_proba[:,1]) #Compare probs between Classes 1, 2\n",
    "print(word_pred_prob.shape)\n",
    "print(word_pred_prob)"
   ]
  },
  {
   "cell_type": "code",
   "execution_count": 78,
   "metadata": {},
   "outputs": [
    {
     "name": "stdout",
     "output_type": "stream",
     "text": [
      "Predictions for Individual Words\n",
      "   Test Word  Fresh Prediction (0/1)  Confidence  Rotten Prob  Fresh Prob\n",
      "0       000                       0      0.6097       0.6097      0.3903\n",
      "1      0014                       1      0.6809       0.3191      0.6809\n",
      "2       007                       1      0.7619       0.2381      0.7619\n",
      "3       044                       0      0.6521       0.6521      0.3479\n",
      "4        07                       1      0.6809       0.3191      0.6809\n"
     ]
    }
   ],
   "source": [
    "data_dict = {'Test Word': feature_names, \n",
    "             'Fresh Prediction (0/1)' : word_preds , \n",
    "             'Confidence'       : word_pred_prob , \n",
    "             'Rotten Prob'   : word_proba[:,0], \n",
    "             'Fresh Prob'    : word_proba[:,1]  }\n",
    "\n",
    "df = pd.DataFrame(data_dict, columns = ['Test Word', 'Fresh Prediction (0/1)', 'Confidence', 'Rotten Prob', 'Fresh Prob'])\n",
    "print('Predictions for Individual Words\\n', df.head())"
   ]
  },
  {
   "cell_type": "markdown",
   "metadata": {},
   "source": [
    "#### Which words best predict Fresh / Rotten reviews?"
   ]
  },
  {
   "cell_type": "code",
   "execution_count": 80,
   "metadata": {},
   "outputs": [
    {
     "name": "stdout",
     "output_type": "stream",
     "text": [
      "10 Predictive Words for FRESH Rating\n"
     ]
    },
    {
     "data": {
      "text/html": [
       "<div>\n",
       "<table border=\"1\" class=\"dataframe\">\n",
       "  <thead>\n",
       "    <tr style=\"text-align: right;\">\n",
       "      <th></th>\n",
       "      <th>Test Word</th>\n",
       "      <th>Fresh Prediction (0/1)</th>\n",
       "      <th>Confidence</th>\n",
       "      <th>Rotten Prob</th>\n",
       "      <th>Fresh Prob</th>\n",
       "    </tr>\n",
       "  </thead>\n",
       "  <tbody>\n",
       "    <tr>\n",
       "      <th>4755</th>\n",
       "      <td>delight</td>\n",
       "      <td>1</td>\n",
       "      <td>0.9787</td>\n",
       "      <td>0.0213</td>\n",
       "      <td>0.9787</td>\n",
       "    </tr>\n",
       "    <tr>\n",
       "      <th>9712</th>\n",
       "      <td>intimate</td>\n",
       "      <td>1</td>\n",
       "      <td>0.9664</td>\n",
       "      <td>0.0336</td>\n",
       "      <td>0.9664</td>\n",
       "    </tr>\n",
       "    <tr>\n",
       "      <th>2742</th>\n",
       "      <td>captures</td>\n",
       "      <td>1</td>\n",
       "      <td>0.9639</td>\n",
       "      <td>0.0361</td>\n",
       "      <td>0.9639</td>\n",
       "    </tr>\n",
       "    <tr>\n",
       "      <th>3118</th>\n",
       "      <td>childhood</td>\n",
       "      <td>1</td>\n",
       "      <td>0.9608</td>\n",
       "      <td>0.0392</td>\n",
       "      <td>0.9608</td>\n",
       "    </tr>\n",
       "    <tr>\n",
       "      <th>12183</th>\n",
       "      <td>myth</td>\n",
       "      <td>1</td>\n",
       "      <td>0.9608</td>\n",
       "      <td>0.0392</td>\n",
       "      <td>0.9608</td>\n",
       "    </tr>\n",
       "    <tr>\n",
       "      <th>15667</th>\n",
       "      <td>rousing</td>\n",
       "      <td>1</td>\n",
       "      <td>0.9591</td>\n",
       "      <td>0.0409</td>\n",
       "      <td>0.9591</td>\n",
       "    </tr>\n",
       "    <tr>\n",
       "      <th>16150</th>\n",
       "      <td>seductive</td>\n",
       "      <td>1</td>\n",
       "      <td>0.9573</td>\n",
       "      <td>0.0427</td>\n",
       "      <td>0.9573</td>\n",
       "    </tr>\n",
       "    <tr>\n",
       "      <th>19551</th>\n",
       "      <td>unforgettable</td>\n",
       "      <td>1</td>\n",
       "      <td>0.9552</td>\n",
       "      <td>0.0448</td>\n",
       "      <td>0.9552</td>\n",
       "    </tr>\n",
       "    <tr>\n",
       "      <th>6462</th>\n",
       "      <td>expertly</td>\n",
       "      <td>1</td>\n",
       "      <td>0.9552</td>\n",
       "      <td>0.0448</td>\n",
       "      <td>0.9552</td>\n",
       "    </tr>\n",
       "    <tr>\n",
       "      <th>1242</th>\n",
       "      <td>astonishing</td>\n",
       "      <td>1</td>\n",
       "      <td>0.9530</td>\n",
       "      <td>0.0470</td>\n",
       "      <td>0.9530</td>\n",
       "    </tr>\n",
       "  </tbody>\n",
       "</table>\n",
       "</div>"
      ],
      "text/plain": [
       "           Test Word  Fresh Prediction (0/1)  Confidence  Rotten Prob  \\\n",
       "4755         delight                       1      0.9787       0.0213   \n",
       "9712        intimate                       1      0.9664       0.0336   \n",
       "2742        captures                       1      0.9639       0.0361   \n",
       "3118       childhood                       1      0.9608       0.0392   \n",
       "12183           myth                       1      0.9608       0.0392   \n",
       "15667        rousing                       1      0.9591       0.0409   \n",
       "16150      seductive                       1      0.9573       0.0427   \n",
       "19551  unforgettable                       1      0.9552       0.0448   \n",
       "6462        expertly                       1      0.9552       0.0448   \n",
       "1242     astonishing                       1      0.9530       0.0470   \n",
       "\n",
       "       Fresh Prob  \n",
       "4755       0.9787  \n",
       "9712       0.9664  \n",
       "2742       0.9639  \n",
       "3118       0.9608  \n",
       "12183      0.9608  \n",
       "15667      0.9591  \n",
       "16150      0.9573  \n",
       "19551      0.9552  \n",
       "6462       0.9552  \n",
       "1242       0.9530  "
      ]
     },
     "execution_count": 80,
     "metadata": {},
     "output_type": "execute_result"
    }
   ],
   "source": [
    "print('10 Predictive Words for FRESH Rating')\n",
    "df.sort_values(by='Fresh Prob', ascending= False).head(10)"
   ]
  },
  {
   "cell_type": "code",
   "execution_count": 42,
   "metadata": {},
   "outputs": [
    {
     "name": "stdout",
     "output_type": "stream",
     "text": [
      "10 Predictive Words for ROTTEN Rating\n"
     ]
    },
    {
     "data": {
      "text/html": [
       "<div>\n",
       "<table border=\"1\" class=\"dataframe\">\n",
       "  <thead>\n",
       "    <tr style=\"text-align: right;\">\n",
       "      <th></th>\n",
       "      <th>Test Word</th>\n",
       "      <th>Fresh Prediction (0/1)</th>\n",
       "      <th>Confidence</th>\n",
       "      <th>Rotten Prob</th>\n",
       "      <th>Fresh Prob</th>\n",
       "    </tr>\n",
       "  </thead>\n",
       "  <tbody>\n",
       "    <tr>\n",
       "      <th>10378</th>\n",
       "      <td>lame</td>\n",
       "      <td>0</td>\n",
       "      <td>0.9620</td>\n",
       "      <td>0.9620</td>\n",
       "      <td>0.0380</td>\n",
       "    </tr>\n",
       "    <tr>\n",
       "      <th>13786</th>\n",
       "      <td>pointless</td>\n",
       "      <td>0</td>\n",
       "      <td>0.9606</td>\n",
       "      <td>0.9606</td>\n",
       "      <td>0.0394</td>\n",
       "    </tr>\n",
       "    <tr>\n",
       "      <th>19558</th>\n",
       "      <td>unfortunately</td>\n",
       "      <td>0</td>\n",
       "      <td>0.9538</td>\n",
       "      <td>0.9538</td>\n",
       "      <td>0.0462</td>\n",
       "    </tr>\n",
       "    <tr>\n",
       "      <th>19589</th>\n",
       "      <td>uninspired</td>\n",
       "      <td>0</td>\n",
       "      <td>0.9538</td>\n",
       "      <td>0.9538</td>\n",
       "      <td>0.0462</td>\n",
       "    </tr>\n",
       "    <tr>\n",
       "      <th>18806</th>\n",
       "      <td>tiresome</td>\n",
       "      <td>0</td>\n",
       "      <td>0.9410</td>\n",
       "      <td>0.9410</td>\n",
       "      <td>0.0590</td>\n",
       "    </tr>\n",
       "    <tr>\n",
       "      <th>15762</th>\n",
       "      <td>sadly</td>\n",
       "      <td>0</td>\n",
       "      <td>0.9410</td>\n",
       "      <td>0.9410</td>\n",
       "      <td>0.0590</td>\n",
       "    </tr>\n",
       "    <tr>\n",
       "      <th>5137</th>\n",
       "      <td>disappointingly</td>\n",
       "      <td>0</td>\n",
       "      <td>0.9292</td>\n",
       "      <td>0.9292</td>\n",
       "      <td>0.0708</td>\n",
       "    </tr>\n",
       "    <tr>\n",
       "      <th>16888</th>\n",
       "      <td>sluggish</td>\n",
       "      <td>0</td>\n",
       "      <td>0.9242</td>\n",
       "      <td>0.9242</td>\n",
       "      <td>0.0758</td>\n",
       "    </tr>\n",
       "    <tr>\n",
       "      <th>18502</th>\n",
       "      <td>tepid</td>\n",
       "      <td>0</td>\n",
       "      <td>0.9242</td>\n",
       "      <td>0.9242</td>\n",
       "      <td>0.0758</td>\n",
       "    </tr>\n",
       "    <tr>\n",
       "      <th>20598</th>\n",
       "      <td>witless</td>\n",
       "      <td>0</td>\n",
       "      <td>0.9242</td>\n",
       "      <td>0.9242</td>\n",
       "      <td>0.0758</td>\n",
       "    </tr>\n",
       "  </tbody>\n",
       "</table>\n",
       "</div>"
      ],
      "text/plain": [
       "             Test Word  Fresh Prediction (0/1)  Confidence  Rotten Prob  \\\n",
       "10378             lame                       0      0.9620       0.9620   \n",
       "13786        pointless                       0      0.9606       0.9606   \n",
       "19558    unfortunately                       0      0.9538       0.9538   \n",
       "19589       uninspired                       0      0.9538       0.9538   \n",
       "18806         tiresome                       0      0.9410       0.9410   \n",
       "15762            sadly                       0      0.9410       0.9410   \n",
       "5137   disappointingly                       0      0.9292       0.9292   \n",
       "16888         sluggish                       0      0.9242       0.9242   \n",
       "18502            tepid                       0      0.9242       0.9242   \n",
       "20598          witless                       0      0.9242       0.9242   \n",
       "\n",
       "       Fresh Prob  \n",
       "10378      0.0380  \n",
       "13786      0.0394  \n",
       "19558      0.0462  \n",
       "19589      0.0462  \n",
       "18806      0.0590  \n",
       "15762      0.0590  \n",
       "5137       0.0708  \n",
       "16888      0.0758  \n",
       "18502      0.0758  \n",
       "20598      0.0758  "
      ]
     },
     "execution_count": 42,
     "metadata": {},
     "output_type": "execute_result"
    }
   ],
   "source": [
    "print('10 Predictive Words for ROTTEN Rating')\n",
    "df.sort_values(by='Rotten Prob', ascending= False).head(10)"
   ]
  },
  {
   "cell_type": "markdown",
   "metadata": {},
   "source": [
    "#### Explanation\n",
    "\n",
    "#### a) Top 10 Fresh Words\n",
    "These words seem to be reasonable, and we would expect a reviewer to use words like 'captures', 'expertly', 'masterpiece' etc in good movies.\n",
    "\n",
    "#### b) Top 10 Rotten Words\n",
    "The words in this list do not need an explanation, as they signify dullness of a movie. E.g. lame, pointless, uninspired, sadly, all show the disappointment of a critic in this movie.\n",
    "\n",
    "####  c) What happens when a word appears only once?\n",
    "When a word occurs in only one class (e.g. Class 1), the simple Naive Bayes Classifier will predict the same class (Class 1) with a 100% confidence, since it has only seen it in one instance of the word.\n",
    "\n",
    "When we use add-one smoothing, as in this case (since alpha =1), we are better prepared to deal with rare words. In this case, the classifier sort of pretends to have a record of all words once in each class. Thus, the counts of the single-occurrence word will be 2 in the class 1, and 1 in the other. \n",
    "\n",
    "The predicted probability confidence will be 2/3.\n",
    "\n",
    "___"
   ]
  },
  {
   "cell_type": "markdown",
   "metadata": {
    "ein.tags": [
     "worksheet-0"
    ],
    "slideshow": {
     "slide_type": "-"
    }
   },
   "source": [
    "### 3.6 Error Analysis\n",
    "\n",
    "One of the best sources for inspiration when trying to improve a model is to look at examples where the model performs poorly.  Find 5 fresh and rotten reviews where your model performs particularly poorly. Print each review.\n",
    "\n",
    "What do you notice about these mis-predictions? Naive Bayes classifiers assume that every word affects the probability independently of other words. In what way is this a bad assumption? In your answer, report your classifier's Freshness probability for the review \"This movie is not remarkable, touching, or superb in any way\"."
   ]
  },
  {
   "cell_type": "markdown",
   "metadata": {},
   "source": [
    "#### Fit NB Model : All data, classifier optimized for accuracy"
   ]
  },
  {
   "cell_type": "code",
   "execution_count": 94,
   "metadata": {
    "autoscroll": "json-false",
    "ein.tags": [
     "worksheet-0"
    ],
    "slideshow": {
     "slide_type": "-"
    }
   },
   "outputs": [
    {
     "data": {
      "text/plain": [
       "MultinomialNB(alpha=1, class_prior=None, fit_prior=True)"
      ]
     },
     "execution_count": 94,
     "metadata": {},
     "output_type": "execute_result"
    }
   ],
   "source": [
    "#Featurize text into X, y (using best min_df for threshold)\n",
    "vectorizer = CountVectorizer(min_df=1e-05)\n",
    "X = vectorizer.fit_transform(reviews.quote)\n",
    "X = X.tocsc()  # some versions of sklearn return COO format\n",
    "y = (reviews.fresh == 'fresh').values.astype(np.int)\n",
    "\n",
    "feature_names = vectorizer.get_feature_names() \n",
    "\n",
    "#Fit the classifier on Train data (using best alpha for smoothing)\n",
    "classifier = MultinomialNB(alpha=1)\n",
    "classifier.fit(X, y)"
   ]
  },
  {
   "cell_type": "code",
   "execution_count": 95,
   "metadata": {},
   "outputs": [
    {
     "name": "stdout",
     "output_type": "stream",
     "text": [
      "Number of features (words) =  20890\n"
     ]
    }
   ],
   "source": [
    "num_features = len(feature_names)\n",
    "print('Number of features (words) = ', num_features)\n",
    "\n",
    "#Calculate word probabilities for all candidate classes\n",
    "preds_proba = classifier.predict_proba(X)\n",
    "#Test word probabilities for predicted classes (Maximum Likelihood)\n",
    "predicted_prob = np.maximum(preds_proba[:,0], preds_proba[:,1]) #Compare probs between Classes 1, 2\n"
   ]
  },
  {
   "cell_type": "code",
   "execution_count": 96,
   "metadata": {},
   "outputs": [
    {
     "data": {
      "text/html": [
       "<div>\n",
       "<table border=\"1\" class=\"dataframe\">\n",
       "  <thead>\n",
       "    <tr style=\"text-align: right;\">\n",
       "      <th></th>\n",
       "      <th>Movie</th>\n",
       "      <th>Quote</th>\n",
       "      <th>Actual Fresh (0/1)</th>\n",
       "      <th>Predict Fresh (0/1)</th>\n",
       "      <th>Rotten Prob</th>\n",
       "      <th>Fresh Prob</th>\n",
       "    </tr>\n",
       "  </thead>\n",
       "  <tbody>\n",
       "    <tr>\n",
       "      <th>0</th>\n",
       "      <td>Toy Story</td>\n",
       "      <td>So ingenious in concept, design and execution ...</td>\n",
       "      <td>1</td>\n",
       "      <td>1</td>\n",
       "      <td>0.0035</td>\n",
       "      <td>0.9965</td>\n",
       "    </tr>\n",
       "    <tr>\n",
       "      <th>1</th>\n",
       "      <td>Toy Story</td>\n",
       "      <td>The year's most inventive comedy.</td>\n",
       "      <td>1</td>\n",
       "      <td>1</td>\n",
       "      <td>0.0870</td>\n",
       "      <td>0.9130</td>\n",
       "    </tr>\n",
       "    <tr>\n",
       "      <th>2</th>\n",
       "      <td>Toy Story</td>\n",
       "      <td>A winning animated feature that has something ...</td>\n",
       "      <td>1</td>\n",
       "      <td>1</td>\n",
       "      <td>0.0066</td>\n",
       "      <td>0.9934</td>\n",
       "    </tr>\n",
       "    <tr>\n",
       "      <th>3</th>\n",
       "      <td>Toy Story</td>\n",
       "      <td>The film sports a provocative and appealing st...</td>\n",
       "      <td>1</td>\n",
       "      <td>1</td>\n",
       "      <td>0.0007</td>\n",
       "      <td>0.9993</td>\n",
       "    </tr>\n",
       "    <tr>\n",
       "      <th>4</th>\n",
       "      <td>Toy Story</td>\n",
       "      <td>An entertaining computer-generated, hyperreali...</td>\n",
       "      <td>1</td>\n",
       "      <td>1</td>\n",
       "      <td>0.0010</td>\n",
       "      <td>0.9990</td>\n",
       "    </tr>\n",
       "  </tbody>\n",
       "</table>\n",
       "</div>"
      ],
      "text/plain": [
       "       Movie                                              Quote  \\\n",
       "0  Toy Story  So ingenious in concept, design and execution ...   \n",
       "1  Toy Story                  The year's most inventive comedy.   \n",
       "2  Toy Story  A winning animated feature that has something ...   \n",
       "3  Toy Story  The film sports a provocative and appealing st...   \n",
       "4  Toy Story  An entertaining computer-generated, hyperreali...   \n",
       "\n",
       "   Actual Fresh (0/1)  Predict Fresh (0/1)  Rotten Prob  Fresh Prob  \n",
       "0                   1                    1       0.0035      0.9965  \n",
       "1                   1                    1       0.0870      0.9130  \n",
       "2                   1                    1       0.0066      0.9934  \n",
       "3                   1                    1       0.0007      0.9993  \n",
       "4                   1                    1       0.0010      0.9990  "
      ]
     },
     "execution_count": 96,
     "metadata": {},
     "output_type": "execute_result"
    }
   ],
   "source": [
    "reviews['is_fresh'] = np.where(reviews['fresh']=='fresh', 1,0)\n",
    "data_dict = {'Movie': reviews['title'].values, \n",
    "             'Quote': reviews['quote'].values, \n",
    "             'Actual Fresh (0/1)'   : reviews['is_fresh'].values , \n",
    "             'Predict Fresh (0/1)'   : classifier.predict(X) , \n",
    "             'Confidence': predicted_prob , \n",
    "             'Rotten Prob'   : preds_proba[:,0], \n",
    "             'Fresh Prob'    : preds_proba[:,1]  }\n",
    "\n",
    "df = pd.DataFrame(data_dict, columns = ['Movie', 'Quote', 'Actual Fresh (0/1)', 'Predict Fresh (0/1)',  'Rotten Prob', 'Fresh Prob'])\n",
    "df.head()"
   ]
  },
  {
   "cell_type": "code",
   "execution_count": 98,
   "metadata": {},
   "outputs": [
    {
     "name": "stdout",
     "output_type": "stream",
     "text": [
      "\n",
      "Poor Predictions on FRESH Reviews\n"
     ]
    },
    {
     "data": {
      "text/html": [
       "<div>\n",
       "<table border=\"1\" class=\"dataframe\">\n",
       "  <thead>\n",
       "    <tr style=\"text-align: right;\">\n",
       "      <th></th>\n",
       "      <th>Movie</th>\n",
       "      <th>Quote</th>\n",
       "      <th>Actual Fresh (0/1)</th>\n",
       "      <th>Predict Fresh (0/1)</th>\n",
       "      <th>Rotten Prob</th>\n",
       "      <th>Fresh Prob</th>\n",
       "    </tr>\n",
       "  </thead>\n",
       "  <tbody>\n",
       "    <tr>\n",
       "      <th>5400</th>\n",
       "      <td>Young Frankenstein</td>\n",
       "      <td>Some of the gags don't work, but fewer than in...</td>\n",
       "      <td>1</td>\n",
       "      <td>0</td>\n",
       "      <td>0.9981</td>\n",
       "      <td>0.0019</td>\n",
       "    </tr>\n",
       "    <tr>\n",
       "      <th>8621</th>\n",
       "      <td>Charlotte's Web</td>\n",
       "      <td>There's too much talent and too strong a story...</td>\n",
       "      <td>1</td>\n",
       "      <td>0</td>\n",
       "      <td>0.9967</td>\n",
       "      <td>0.0033</td>\n",
       "    </tr>\n",
       "    <tr>\n",
       "      <th>1715</th>\n",
       "      <td>The Mask</td>\n",
       "      <td>The gangland plot is flimsy (bad guy Peter Gre...</td>\n",
       "      <td>1</td>\n",
       "      <td>0</td>\n",
       "      <td>0.9905</td>\n",
       "      <td>0.0095</td>\n",
       "    </tr>\n",
       "    <tr>\n",
       "      <th>6357</th>\n",
       "      <td>Broken English</td>\n",
       "      <td>The fence-straddling would be fatal if it were...</td>\n",
       "      <td>1</td>\n",
       "      <td>0</td>\n",
       "      <td>0.9903</td>\n",
       "      <td>0.0097</td>\n",
       "    </tr>\n",
       "    <tr>\n",
       "      <th>11352</th>\n",
       "      <td>Monty Python's And Now for Something Completel...</td>\n",
       "      <td>A kind of insane logic seems to connect the sk...</td>\n",
       "      <td>1</td>\n",
       "      <td>0</td>\n",
       "      <td>0.9897</td>\n",
       "      <td>0.0103</td>\n",
       "    </tr>\n",
       "  </tbody>\n",
       "</table>\n",
       "</div>"
      ],
      "text/plain": [
       "                                                   Movie  \\\n",
       "5400                                  Young Frankenstein   \n",
       "8621                                     Charlotte's Web   \n",
       "1715                                            The Mask   \n",
       "6357                                      Broken English   \n",
       "11352  Monty Python's And Now for Something Completel...   \n",
       "\n",
       "                                                   Quote  Actual Fresh (0/1)  \\\n",
       "5400   Some of the gags don't work, but fewer than in...                   1   \n",
       "8621   There's too much talent and too strong a story...                   1   \n",
       "1715   The gangland plot is flimsy (bad guy Peter Gre...                   1   \n",
       "6357   The fence-straddling would be fatal if it were...                   1   \n",
       "11352  A kind of insane logic seems to connect the sk...                   1   \n",
       "\n",
       "       Predict Fresh (0/1)  Rotten Prob  Fresh Prob  \n",
       "5400                     0       0.9981      0.0019  \n",
       "8621                     0       0.9967      0.0033  \n",
       "1715                     0       0.9905      0.0095  \n",
       "6357                     0       0.9903      0.0097  \n",
       "11352                    0       0.9897      0.0103  "
      ]
     },
     "execution_count": 98,
     "metadata": {},
     "output_type": "execute_result"
    }
   ],
   "source": [
    "truly_fresh= df['Actual Fresh (0/1)']==1\n",
    "said_fresh = df['Predict Fresh (0/1)']==1\n",
    "\n",
    "#Poor predictions on FRESH reviews\n",
    "print('\\nPoor Predictions on FRESH Reviews')\n",
    "poor_fresh_preds = df[truly_fresh & ~said_fresh].sort_values(by='Rotten Prob', ascending=False)\n",
    "poor_fresh_preds.head()"
   ]
  },
  {
   "cell_type": "code",
   "execution_count": 99,
   "metadata": {},
   "outputs": [
    {
     "name": "stdout",
     "output_type": "stream",
     "text": [
      "\n",
      "Poor Predictions on ROTTEN Reviews\n"
     ]
    },
    {
     "data": {
      "text/html": [
       "<div>\n",
       "<table border=\"1\" class=\"dataframe\">\n",
       "  <thead>\n",
       "    <tr style=\"text-align: right;\">\n",
       "      <th></th>\n",
       "      <th>Movie</th>\n",
       "      <th>Quote</th>\n",
       "      <th>Actual Fresh (0/1)</th>\n",
       "      <th>Predict Fresh (0/1)</th>\n",
       "      <th>Rotten Prob</th>\n",
       "      <th>Fresh Prob</th>\n",
       "    </tr>\n",
       "  </thead>\n",
       "  <tbody>\n",
       "    <tr>\n",
       "      <th>9463</th>\n",
       "      <td>The Waterboy</td>\n",
       "      <td>The Waterboy is arguably Sandler's most enjoya...</td>\n",
       "      <td>0</td>\n",
       "      <td>1</td>\n",
       "      <td>0.0010</td>\n",
       "      <td>0.9990</td>\n",
       "    </tr>\n",
       "    <tr>\n",
       "      <th>6293</th>\n",
       "      <td>Grosse Pointe Blank</td>\n",
       "      <td>It's a sad day when an actor who's totally, be...</td>\n",
       "      <td>0</td>\n",
       "      <td>1</td>\n",
       "      <td>0.0012</td>\n",
       "      <td>0.9988</td>\n",
       "    </tr>\n",
       "    <tr>\n",
       "      <th>9384</th>\n",
       "      <td>Valkyrie</td>\n",
       "      <td>What if this lesser-known chapter of German re...</td>\n",
       "      <td>0</td>\n",
       "      <td>1</td>\n",
       "      <td>0.0013</td>\n",
       "      <td>0.9987</td>\n",
       "    </tr>\n",
       "    <tr>\n",
       "      <th>12515</th>\n",
       "      <td>Pokemon the First Movie - Mewtwo vs. Mew</td>\n",
       "      <td>This pacifist spirit of brotherhood echoes the...</td>\n",
       "      <td>0</td>\n",
       "      <td>1</td>\n",
       "      <td>0.0013</td>\n",
       "      <td>0.9987</td>\n",
       "    </tr>\n",
       "    <tr>\n",
       "      <th>8718</th>\n",
       "      <td>Return to Paradise</td>\n",
       "      <td>If it's to be experienced at all, Return to Pa...</td>\n",
       "      <td>0</td>\n",
       "      <td>1</td>\n",
       "      <td>0.0018</td>\n",
       "      <td>0.9982</td>\n",
       "    </tr>\n",
       "  </tbody>\n",
       "</table>\n",
       "</div>"
      ],
      "text/plain": [
       "                                          Movie  \\\n",
       "9463                               The Waterboy   \n",
       "6293                        Grosse Pointe Blank   \n",
       "9384                                   Valkyrie   \n",
       "12515  Pokemon the First Movie - Mewtwo vs. Mew   \n",
       "8718                         Return to Paradise   \n",
       "\n",
       "                                                   Quote  Actual Fresh (0/1)  \\\n",
       "9463   The Waterboy is arguably Sandler's most enjoya...                   0   \n",
       "6293   It's a sad day when an actor who's totally, be...                   0   \n",
       "9384   What if this lesser-known chapter of German re...                   0   \n",
       "12515  This pacifist spirit of brotherhood echoes the...                   0   \n",
       "8718   If it's to be experienced at all, Return to Pa...                   0   \n",
       "\n",
       "       Predict Fresh (0/1)  Rotten Prob  Fresh Prob  \n",
       "9463                     1       0.0010      0.9990  \n",
       "6293                     1       0.0012      0.9988  \n",
       "9384                     1       0.0013      0.9987  \n",
       "12515                    1       0.0013      0.9987  \n",
       "8718                     1       0.0018      0.9982  "
      ]
     },
     "execution_count": 99,
     "metadata": {},
     "output_type": "execute_result"
    }
   ],
   "source": [
    "#Poor predictions on ROTTEN reviews\n",
    "print('\\nPoor Predictions on ROTTEN Reviews')\n",
    "poor_rotten_preds = df[~truly_fresh & said_fresh].sort_values(by='Fresh Prob', ascending=False)\n",
    "poor_rotten_preds.head()"
   ]
  },
  {
   "cell_type": "markdown",
   "metadata": {},
   "source": [
    "#### Print:  Fresh Movie quotes that were predicted as Rotten"
   ]
  },
  {
   "cell_type": "code",
   "execution_count": 108,
   "metadata": {},
   "outputs": [
    {
     "data": {
      "text/plain": [
       "array([['Young Frankenstein',\n",
       "        \"Some of the gags don't work, but fewer than in any previous Brooks film that I've seen, and when the jokes are meant to be bad, they are riotously poor. What more can one ask of Mel Brooks?\"],\n",
       "       [\"Charlotte's Web\",\n",
       "        \"There's too much talent and too strong a story to mess it up. There was potential for more here, but this incarnation is nothing to be ashamed of, and some of the actors answer the bell.\"],\n",
       "       ['The Mask',\n",
       "        \"The gangland plot is flimsy (bad guy Peter Greene wears too much eyeliner), and the jokes are erratic, but it's a far better showcase for Carrey's comic-from-Uranus talent than Ace Ventura.\"],\n",
       "       ['Broken English',\n",
       "        \"The fence-straddling would be fatal if it weren't for Posey, who takes what's essentially a character sketch and turns it into a three-dimensional mess in a dress.\"],\n",
       "       [\"Monty Python's And Now for Something Completely Different\",\n",
       "        'A kind of insane logic seems to connect the sketches, if you look hard enough, but mostly the movie seems to exist in the present and be willing to try anything for a laugh.']], dtype=object)"
      ]
     },
     "execution_count": 108,
     "metadata": {},
     "output_type": "execute_result"
    }
   ],
   "source": [
    "poor_fresh_preds.head()[['Movie','Quote']].values"
   ]
  },
  {
   "cell_type": "markdown",
   "metadata": {},
   "source": [
    "#### Print: Rotten Movie quotes that were predicted as Fresh"
   ]
  },
  {
   "cell_type": "code",
   "execution_count": 109,
   "metadata": {},
   "outputs": [
    {
     "data": {
      "text/plain": [
       "array([['The Waterboy',\n",
       "        \"The Waterboy is arguably Sandler's most enjoyable motion picture to date, but it's still far from a masterpiece.\"],\n",
       "       ['Grosse Pointe Blank',\n",
       "        \"It's a sad day when an actor who's totally, beautifully in touch with his dark side finds himself stuck in a movie that's scared of its own shadow.\"],\n",
       "       ['Valkyrie',\n",
       "        'What if this lesser-known chapter of German resistance had been more deeply captured? What if the moral conflicts running through this movie about love of country and revolt said more about Germany, war and, yes, genocide?'],\n",
       "       ['Pokemon the First Movie - Mewtwo vs. Mew',\n",
       "        'This pacifist spirit of brotherhood echoes the heroics in Princess Mononoke and other anime titles, but the artistic gap between the Miyazaki masterpiece and this project is huge.'],\n",
       "       ['Return to Paradise',\n",
       "        \"If it's to be experienced at all, Return to Paradise is best seen as a lively piece of pulp, not a profound exploration of the vagaries of the human soul.\"]], dtype=object)"
      ]
     },
     "execution_count": 109,
     "metadata": {},
     "output_type": "execute_result"
    }
   ],
   "source": [
    "poor_rotten_preds.head()[['Movie','Quote']].values"
   ]
  },
  {
   "cell_type": "markdown",
   "metadata": {},
   "source": [
    "#### Interpretation: What's special about the mis-predictions?\n",
    "We can see that many of the top predictors for Fresh ratings are present in the actual Rotten movie reviews. E.g. Waterboy review contains masterpiece and enjoyable. \n",
    "Similarly, actual Fresh movies contain words that were found to be good predictors of Rotten movies, E.g.The Mask contains 'erratic' and 'flimsy' which would be considered negative words. \n",
    "\n",
    "Another aspect to consider is that there is often not a strong positive or negative opinion about the movie by the critic, so there are more chances to be confused for the classifier. E.g. Charlotte's Web has a MIXED review - \"There was potential for more here, but this incarnation is nothing to be ashamed of, and some of the actors answer the bell.\" This was considered Fresh, but predicted as rotten, and the nuances of the mixed review are lost on the classifier.\n",
    "\n",
    "\n",
    "#### Naive Bayes Assumption\n",
    "The assumption of the classifier that every word's effect is independent leads to many errors in classification because, this immediately discounts any possibility of parsing phrases that have different meanings from the original. E.g. \"far from a masterpiece\" (Waterboy) implies the opposite of being a \"masterpiece\" however, since n-grams are not used by the classifier, we are bound to mis-predict."
   ]
  },
  {
   "cell_type": "markdown",
   "metadata": {
    "collapsed": true
   },
   "source": [
    "#### b) Testing a user-defined quote"
   ]
  },
  {
   "cell_type": "code",
   "execution_count": 105,
   "metadata": {},
   "outputs": [
    {
     "data": {
      "text/html": [
       "<div>\n",
       "<table border=\"1\" class=\"dataframe\">\n",
       "  <thead>\n",
       "    <tr style=\"text-align: right;\">\n",
       "      <th></th>\n",
       "      <th>Quote</th>\n",
       "      <th>Predicted Fresh (0/1)</th>\n",
       "      <th>Confidence</th>\n",
       "      <th>Rotten Prob</th>\n",
       "      <th>Fresh Prob</th>\n",
       "    </tr>\n",
       "  </thead>\n",
       "  <tbody>\n",
       "    <tr>\n",
       "      <th>0</th>\n",
       "      <td>This movie is not remarkable, touching, or sup...</td>\n",
       "      <td>1</td>\n",
       "      <td>0.9994</td>\n",
       "      <td>0.0006</td>\n",
       "      <td>0.9994</td>\n",
       "    </tr>\n",
       "  </tbody>\n",
       "</table>\n",
       "</div>"
      ],
      "text/plain": [
       "                                               Quote  Predicted Fresh (0/1)  \\\n",
       "0  This movie is not remarkable, touching, or sup...                      1   \n",
       "\n",
       "   Confidence  Rotten Prob  Fresh Prob  \n",
       "0      0.9994       0.0006      0.9994  "
      ]
     },
     "execution_count": 105,
     "metadata": {},
     "output_type": "execute_result"
    }
   ],
   "source": [
    "#X.shape\n",
    "test_quote=['This movie is not remarkable, touching, or superb in any way']\n",
    "X_test_quote = vectorizer.transform(test_quote)\n",
    "\n",
    "test_pred = classifier.predict(X_test_quote)\n",
    "preds_proba = classifier.predict_proba(X_test_quote)\n",
    "\n",
    "#Test word probabilities for predicted classes (Maximum Likelihood)\n",
    "predicted_prob = np.maximum(preds_proba[:,0] ,  preds_proba[:,1]) #Compare probs between Classes 1, 2\n",
    "data_dict = {'Quote': test_quote,\n",
    "             'Predicted Fresh (0/1)' : test_pred,\n",
    "             'Confidence': predicted_prob , \n",
    "             'Rotten Prob'   : preds_proba[:,0], \n",
    "             'Fresh Prob'    : preds_proba[:,1]  }\n",
    "\n",
    "df = pd.DataFrame(data_dict, columns = ['Quote', 'Predicted Fresh (0/1)','Confidence', 'Rotten Prob', 'Fresh Prob'])\n",
    "df"
   ]
  },
  {
   "cell_type": "markdown",
   "metadata": {},
   "source": [
    "#### User-Defined Quote Prediction:\n",
    "We can see that this quote would lead to a Fresh prediction with over 99% confidence, which is highly wrong!\n",
    "This is because the words used in this quote very highly correlate with the words that are good predictors of \"FRESH\" reviews, but the negation of the words in the review is not picked up by the algorithm. \n",
    "\n",
    "This is a major problem, and highlights how relatively easy tasks for humans can prove difficult for a machine to classify.\n",
    "____"
   ]
  },
  {
   "cell_type": "markdown",
   "metadata": {
    "ein.tags": [
     "worksheet-0"
    ],
    "slideshow": {
     "slide_type": "-"
    }
   },
   "source": [
    "## Part 4: Principal Component Analysis\n",
    "\n",
    "Just when you thought you were *finally* done with the [Boston Housing Prices Data Set](http://archive.ics.uci.edu/ml/datasets/Housing), it has come back to haunt you for a few more minutes.  Make sure you're up and running as you were on the previous problem set:"
   ]
  },
  {
   "cell_type": "markdown",
   "metadata": {
    "collapsed": true
   },
   "source": [
    "#### Load the 'Boston' dataset"
   ]
  },
  {
   "cell_type": "code",
   "execution_count": 127,
   "metadata": {
    "autoscroll": "json-false",
    "ein.tags": [
     "worksheet-0"
    ],
    "slideshow": {
     "slide_type": "-"
    }
   },
   "outputs": [],
   "source": [
    "from sklearn.datasets import load_boston\n",
    "bdata = load_boston()"
   ]
  },
  {
   "cell_type": "code",
   "execution_count": 133,
   "metadata": {},
   "outputs": [],
   "source": [
    "boston =  pd.DataFrame(bdata.data)\n",
    "boston.columns = bdata.feature_names\n",
    "X_df = boston"
   ]
  },
  {
   "cell_type": "code",
   "execution_count": 134,
   "metadata": {},
   "outputs": [
    {
     "data": {
      "text/html": [
       "<div>\n",
       "<table border=\"1\" class=\"dataframe\">\n",
       "  <thead>\n",
       "    <tr style=\"text-align: right;\">\n",
       "      <th></th>\n",
       "      <th>CRIM</th>\n",
       "      <th>ZN</th>\n",
       "      <th>INDUS</th>\n",
       "      <th>CHAS</th>\n",
       "      <th>NOX</th>\n",
       "      <th>RM</th>\n",
       "      <th>AGE</th>\n",
       "      <th>DIS</th>\n",
       "      <th>RAD</th>\n",
       "      <th>TAX</th>\n",
       "      <th>PTRATIO</th>\n",
       "      <th>B</th>\n",
       "      <th>LSTAT</th>\n",
       "      <th>MEDV</th>\n",
       "    </tr>\n",
       "  </thead>\n",
       "  <tbody>\n",
       "    <tr>\n",
       "      <th>0</th>\n",
       "      <td>0.0063</td>\n",
       "      <td>18.0</td>\n",
       "      <td>2.31</td>\n",
       "      <td>0.0</td>\n",
       "      <td>0.538</td>\n",
       "      <td>6.575</td>\n",
       "      <td>65.2</td>\n",
       "      <td>4.0900</td>\n",
       "      <td>1.0</td>\n",
       "      <td>296.0</td>\n",
       "      <td>15.3</td>\n",
       "      <td>396.90</td>\n",
       "      <td>4.98</td>\n",
       "      <td>24.0</td>\n",
       "    </tr>\n",
       "    <tr>\n",
       "      <th>1</th>\n",
       "      <td>0.0273</td>\n",
       "      <td>0.0</td>\n",
       "      <td>7.07</td>\n",
       "      <td>0.0</td>\n",
       "      <td>0.469</td>\n",
       "      <td>6.421</td>\n",
       "      <td>78.9</td>\n",
       "      <td>4.9671</td>\n",
       "      <td>2.0</td>\n",
       "      <td>242.0</td>\n",
       "      <td>17.8</td>\n",
       "      <td>396.90</td>\n",
       "      <td>9.14</td>\n",
       "      <td>21.6</td>\n",
       "    </tr>\n",
       "    <tr>\n",
       "      <th>2</th>\n",
       "      <td>0.0273</td>\n",
       "      <td>0.0</td>\n",
       "      <td>7.07</td>\n",
       "      <td>0.0</td>\n",
       "      <td>0.469</td>\n",
       "      <td>7.185</td>\n",
       "      <td>61.1</td>\n",
       "      <td>4.9671</td>\n",
       "      <td>2.0</td>\n",
       "      <td>242.0</td>\n",
       "      <td>17.8</td>\n",
       "      <td>392.83</td>\n",
       "      <td>4.03</td>\n",
       "      <td>34.7</td>\n",
       "    </tr>\n",
       "    <tr>\n",
       "      <th>3</th>\n",
       "      <td>0.0324</td>\n",
       "      <td>0.0</td>\n",
       "      <td>2.18</td>\n",
       "      <td>0.0</td>\n",
       "      <td>0.458</td>\n",
       "      <td>6.998</td>\n",
       "      <td>45.8</td>\n",
       "      <td>6.0622</td>\n",
       "      <td>3.0</td>\n",
       "      <td>222.0</td>\n",
       "      <td>18.7</td>\n",
       "      <td>394.63</td>\n",
       "      <td>2.94</td>\n",
       "      <td>33.4</td>\n",
       "    </tr>\n",
       "    <tr>\n",
       "      <th>4</th>\n",
       "      <td>0.0691</td>\n",
       "      <td>0.0</td>\n",
       "      <td>2.18</td>\n",
       "      <td>0.0</td>\n",
       "      <td>0.458</td>\n",
       "      <td>7.147</td>\n",
       "      <td>54.2</td>\n",
       "      <td>6.0622</td>\n",
       "      <td>3.0</td>\n",
       "      <td>222.0</td>\n",
       "      <td>18.7</td>\n",
       "      <td>396.90</td>\n",
       "      <td>5.33</td>\n",
       "      <td>36.2</td>\n",
       "    </tr>\n",
       "  </tbody>\n",
       "</table>\n",
       "</div>"
      ],
      "text/plain": [
       "     CRIM    ZN  INDUS  CHAS    NOX     RM   AGE     DIS  RAD    TAX  PTRATIO  \\\n",
       "0  0.0063  18.0   2.31   0.0  0.538  6.575  65.2  4.0900  1.0  296.0     15.3   \n",
       "1  0.0273   0.0   7.07   0.0  0.469  6.421  78.9  4.9671  2.0  242.0     17.8   \n",
       "2  0.0273   0.0   7.07   0.0  0.469  7.185  61.1  4.9671  2.0  242.0     17.8   \n",
       "3  0.0324   0.0   2.18   0.0  0.458  6.998  45.8  6.0622  3.0  222.0     18.7   \n",
       "4  0.0691   0.0   2.18   0.0  0.458  7.147  54.2  6.0622  3.0  222.0     18.7   \n",
       "\n",
       "        B  LSTAT  MEDV  \n",
       "0  396.90   4.98  24.0  \n",
       "1  396.90   9.14  21.6  \n",
       "2  392.83   4.03  34.7  \n",
       "3  394.63   2.94  33.4  \n",
       "4  396.90   5.33  36.2  "
      ]
     },
     "execution_count": 134,
     "metadata": {},
     "output_type": "execute_result"
    }
   ],
   "source": [
    "boston['MEDV'] = bdata.target\n",
    "boston.head()"
   ]
  },
  {
   "cell_type": "markdown",
   "metadata": {
    "ein.tags": [
     "worksheet-0"
    ],
    "slideshow": {
     "slide_type": "-"
    }
   },
   "source": [
    "### 4.1 Remember the last problem set?\n",
    "\n",
    "Use matplotlib to create a scatter plot that shows the relationship between the median value of the home (y-axis) and the per-capita crime rate (x-axis).  Properly label your axes, and make sure that your graphic looks polished and professional.  If you didn't get full credit for this on the first problem set, get full credit this time!\n",
    "\n",
    "Then, just as you did on the previous problem set, use the [Linear Regression class](http://scikit-learn.org/stable/modules/generated/sklearn.linear_model.LinearRegression.html) from sklearn or the [OLS class](http://wiki.scipy.org/Cookbook/OLS) from SciPy to regress median housing price on average number of rooms per house.  Use a training set consisting of 66% of your instances to fit your regression model.  Report the RMSE on the training and test set."
   ]
  },
  {
   "cell_type": "code",
   "execution_count": 111,
   "metadata": {
    "autoscroll": "json-false",
    "ein.tags": [
     "worksheet-0"
    ],
    "slideshow": {
     "slide_type": "-"
    }
   },
   "outputs": [
    {
     "data": {
      "image/png": "[encoded data removed]",
      "text/plain": [
       "<matplotlib.figure.Figure at 0x227a6c6d710>"
      ]
     },
     "metadata": {},
     "output_type": "display_data"
    }
   ],
   "source": [
    "#Prepare the data\n",
    "x=boston['CRIM'].values \n",
    "y=boston['MEDV'].values\n",
    "\n",
    "#Prepare the plot\n",
    "plt.figure(figsize=(10,8))\n",
    "plt.title('MEDV vs CRIM : Median Value of Home vs Crime Rate in Neighbourhood', fontsize=16)\n",
    "plt.xlabel('CRIM: Per-capita Crime Rate in town(%)', fontsize=14)\n",
    "plt.ylabel('MEDV: Median Value of Boston Home (1000 USD)', fontsize=14)\n",
    "plt.grid(False)\n",
    "\n",
    "#Plot the data\n",
    "plt.scatter(x,y, c='r', alpha = 0.4, label = 'Sample Observations')\n",
    "\n",
    "#Remove axes and spline\n",
    "ax=plt.gca()\n",
    "ax.spines['top'].set_visible(False)\n",
    "ax.spines['right'].set_visible(False)"
   ]
  },
  {
   "cell_type": "markdown",
   "metadata": {},
   "source": [
    "#### Plot Interpretation\n",
    "We can see that the per-capita crime rate in most towns is really high. The towns with high median value of homes tend to have lower crime levels. The towns with low per-capita crime rate tend to have a high variability in median home values. Overall the trend is downward linear, with higher home values associated with lower crime rates.\n",
    "\n",
    "We could possibly fit a linear regression line, but looking at the graph, we should expect the graph to not do well in portions of the data. E.g. there is high variance (in the lower crime neighborhoods)."
   ]
  },
  {
   "cell_type": "markdown",
   "metadata": {},
   "source": [
    "#### Train & Test "
   ]
  },
  {
   "cell_type": "code",
   "execution_count": 135,
   "metadata": {},
   "outputs": [],
   "source": [
    "#Train and test 66% using OLS\n",
    "X_train, X_test, y_train, y_test = train_test_split(X_df, boston['MEDV'], train_size=0.66, random_state=0)\n",
    "boston_train, boston_test = X_train, X_test\n",
    "boston_train['MEDV'], boston_test['MEDV'] = y_train, y_test"
   ]
  },
  {
   "cell_type": "markdown",
   "metadata": {},
   "source": [
    "#### Linear Regression (MEDV vs RM)"
   ]
  },
  {
   "cell_type": "code",
   "execution_count": 136,
   "metadata": {},
   "outputs": [
    {
     "name": "stdout",
     "output_type": "stream",
     "text": [
      "Intercept   -35.6203\n",
      "RM            9.2633\n",
      "dtype: float64\n"
     ]
    }
   ],
   "source": [
    "all_cols = list(boston)\n",
    "linear_model = smf.ols(formula=\"MEDV ~ RM\", data=boston_train)\n",
    "res = linear_model.fit()\n",
    "print(res.params)"
   ]
  },
  {
   "cell_type": "code",
   "execution_count": 137,
   "metadata": {},
   "outputs": [],
   "source": [
    "preds_test = res.predict(boston_test)\n",
    "preds_train = res.predict(boston_train)"
   ]
  },
  {
   "cell_type": "markdown",
   "metadata": {},
   "source": [
    "#### Evaluate RMSE (MEDV vs RM1)"
   ]
  },
  {
   "cell_type": "code",
   "execution_count": 138,
   "metadata": {},
   "outputs": [
    {
     "name": "stdout",
     "output_type": "stream",
     "text": [
      "Train RMSE = 6.60572149527\n",
      "Test RMSE  = 6.60169540079\n"
     ]
    }
   ],
   "source": [
    "train_rmse = np.sqrt(mean_squared_error(preds_train, y_train))\n",
    "print('Train RMSE =', train_rmse)\n",
    "test_rmse = np.sqrt(mean_squared_error(preds_test, y_test))\n",
    "print('Test RMSE  =', test_rmse)"
   ]
  },
  {
   "cell_type": "markdown",
   "metadata": {},
   "source": [
    "Clearly the train and test RMSE are decent. The test RMSE is even lower than the Train Error, which is a plausible occurrence. It does not imply that we are underfitting or overfitting. "
   ]
  },
  {
   "cell_type": "markdown",
   "metadata": {
    "ein.tags": [
     "worksheet-0"
    ],
    "slideshow": {
     "slide_type": "-"
    }
   },
   "source": [
    "### 4.2 So many scatterplots!\n",
    "\n",
    "Choose 8 out of the of the 14 features of the housing data that you think are most interesting to study.  Create an 8x8 grid of scatterplots showing how each of these variables relate to each other.  You want to produce something that looks generally like [this image](http://iogas.net/wp-content/gallery/iogas-evaluation/scatterplot-matrix-point-density.png)."
   ]
  },
  {
   "cell_type": "code",
   "execution_count": 139,
   "metadata": {
    "autoscroll": "json-false",
    "ein.tags": [
     "worksheet-0"
    ],
    "slideshow": {
     "slide_type": "-"
    }
   },
   "outputs": [
    {
     "name": "stdout",
     "output_type": "stream",
     "text": [
      "All Features    :  ['CRIM', 'ZN', 'INDUS', 'CHAS', 'NOX', 'RM', 'AGE', 'DIS', 'RAD', 'TAX', 'PTRATIO', 'B', 'LSTAT', 'MEDV']\n",
      "Chosen Features :  ['CRIM', 'CHAS', 'NOX', 'RM', 'AGE', 'DIS', 'PTRATIO', 'LSTAT']\n"
     ]
    }
   ],
   "source": [
    "features = ['CRIM','CHAS', 'NOX', 'RM', 'AGE', 'DIS','PTRATIO','LSTAT']\n",
    "print('All Features    : ', all_cols)\n",
    "print('Chosen Features : ', features)"
   ]
  },
  {
   "cell_type": "code",
   "execution_count": 140,
   "metadata": {},
   "outputs": [
    {
     "data": {
      "text/plain": [
       "<matplotlib.text.Text at 0x2279d00c2b0>"
      ]
     },
     "execution_count": 140,
     "metadata": {},
     "output_type": "execute_result"
    },
    {
     "data": {
      "image/png": "[encoded data removed]",
      "text/plain": [
       "<matplotlib.figure.Figure at 0x227a2f9b828>"
      ]
     },
     "metadata": {},
     "output_type": "display_data"
    }
   ],
   "source": [
    "from pandas.tools.plotting import scatter_matrix\n",
    "\n",
    "#Plot the data\n",
    "scatter_matrix(boston[features], c= 'k', alpha=0.15, figsize=(12, 12), diagonal='kde')\n",
    "plt.suptitle('MEDV vs CRIM : Median Value of Home vs Crime Rate in Neighbourhood', fontsize=14)"
   ]
  },
  {
   "cell_type": "markdown",
   "metadata": {},
   "source": [
    "#### Plot Interpretation\n",
    "This is an easy way to look at multiple histograms and scatter plots at once. \n",
    "We can quicly spot some correlations between some of our features. E.g. RM is a normal distribution, LSTAT is a skewed normal distribution, but RM vs LSTAT shows a strong pattern. \n",
    "\n",
    "Similarly, we can see other correlated pairs such as - NOX and AGE, AGE and DIS, AGE and LSTAT, NOX and LSTAT, DIS and NOX, PTRATIO and LSTAT etc."
   ]
  },
  {
   "cell_type": "markdown",
   "metadata": {
    "ein.tags": [
     "worksheet-0"
    ],
    "slideshow": {
     "slide_type": "-"
    }
   },
   "source": [
    "### 4.3 PCA to the rescue\n",
    "\n",
    "Run principal component analysis using [PCA](http://scikit-learn.org/stable/modules/generated/sklearn.decomposition.PCA.html) from sklearn to find the first 12 principal components of your data.  Use only your training set (66% of the data), and use all features *except* the median housing price.  Create a figure showing how the amount of variance explained by your components increases as you increase the number of components from 1 to 12."
   ]
  },
  {
   "cell_type": "markdown",
   "metadata": {},
   "source": [
    "#### Scaling the Data\n",
    "PCA is sensitive to scaling, so standardization is very important, unless all features are already measured in the same units"
   ]
  },
  {
   "cell_type": "code",
   "execution_count": 141,
   "metadata": {},
   "outputs": [
    {
     "name": "stdout",
     "output_type": "stream",
     "text": [
      "StandardScaler(copy=True, with_mean=True, with_std=True)\n",
      "\n",
      "Scaler Means :\n",
      " [  3.59376071e+00   1.13636364e+01   1.11367787e+01   6.91699605e-02\n",
      "   5.54695059e-01   6.28463439e+00   6.85749012e+01   3.79504269e+00\n",
      "   9.54940711e+00   4.08237154e+02   1.84555336e+01   3.56674032e+02\n",
      "   1.26530632e+01   2.25328063e+01]\n",
      "\n",
      "Scaler Scale :\n",
      " [  8.58828355e+00   2.32993957e+01   6.85357058e+00   2.53742935e-01\n",
      "   1.15763115e-01   7.01922514e-01   2.81210326e+01   2.10362836e+00\n",
      "   8.69865112e+00   1.68370495e+02   2.16280519e+00   9.12046075e+01\n",
      "   7.13400164e+00   9.18801155e+00]\n"
     ]
    }
   ],
   "source": [
    "#STANDARDIZE\n",
    "scaler = StandardScaler().fit(X_df)\n",
    "print(scaler)\n",
    "print('\\nScaler Means :\\n',  scaler.mean_ )\n",
    "print('\\nScaler Scale :\\n', scaler.scale_)                                 \n"
   ]
  },
  {
   "cell_type": "code",
   "execution_count": 142,
   "metadata": {},
   "outputs": [],
   "source": [
    "X_train_scaled = scaler.transform(X_train)\n",
    "X_test_scaled = scaler.transform(X_test)                             "
   ]
  },
  {
   "cell_type": "markdown",
   "metadata": {},
   "source": [
    "#### Fit PCA"
   ]
  },
  {
   "cell_type": "code",
   "execution_count": 143,
   "metadata": {
    "autoscroll": "json-false",
    "ein.tags": [
     "worksheet-0"
    ],
    "slideshow": {
     "slide_type": "-"
    }
   },
   "outputs": [
    {
     "data": {
      "text/plain": [
       "PCA(copy=True, iterated_power='auto', n_components=12, random_state=None,\n",
       "  svd_solver='auto', tol=0.0, whiten=False)"
      ]
     },
     "execution_count": 143,
     "metadata": {},
     "output_type": "execute_result"
    }
   ],
   "source": [
    "# Enter your code here\n",
    "pca = PCA(n_components=12)\n",
    "pca.fit(X_train_scaled)"
   ]
  },
  {
   "cell_type": "code",
   "execution_count": 144,
   "metadata": {},
   "outputs": [
    {
     "name": "stdout",
     "output_type": "stream",
     "text": [
      "<class 'numpy.ndarray'>\n",
      "[ 0.45972476  0.12285571  0.0951565   0.069266    0.05923376  0.04734517\n",
      "  0.03956171  0.02816343  0.02078201  0.01744159  0.01471639  0.01233764]\n"
     ]
    }
   ],
   "source": [
    "#Individual PCA Component Explained Variance\n",
    "variance= pca.explained_variance_ratio_\n",
    "print(type(variance))\n",
    "print(variance)"
   ]
  },
  {
   "cell_type": "code",
   "execution_count": 145,
   "metadata": {},
   "outputs": [
    {
     "name": "stdout",
     "output_type": "stream",
     "text": [
      "<class 'numpy.ndarray'>\n",
      "[ 0.45972476  0.58258047  0.67773697  0.74700297  0.80623673  0.8535819\n",
      "  0.89314361  0.92130704  0.94208905  0.95953064  0.97424703  0.98658467]\n"
     ]
    }
   ],
   "source": [
    "#Find cumulative variance\n",
    "cum_variance = np.cumsum(variance)\n",
    "print(type(cum_variance))\n",
    "print(cum_variance)"
   ]
  },
  {
   "cell_type": "code",
   "execution_count": 146,
   "metadata": {},
   "outputs": [
    {
     "data": {
      "image/png": "[encoded data removed]",
      "text/plain": [
       "<matplotlib.figure.Figure at 0x227aed2a390>"
      ]
     },
     "metadata": {},
     "output_type": "display_data"
    }
   ],
   "source": [
    "#Prepare the data\n",
    "x=range(1,13)\n",
    "y=cum_variance\n",
    "\n",
    "#Prepare the plot\n",
    "plt.figure(figsize=(10,8))\n",
    "plt.title('Explained Variance Ratio with PCA Components', fontsize=14)\n",
    "plt.xlabel('Number of Principal Components Used', fontsize=12)\n",
    "plt.ylabel('Total Explained Variance Ratio (%)', fontsize=12)\n",
    "plt.grid(False)\n",
    "\n",
    "#Plot the data\n",
    "plt.plot(x,y, c='c', marker='o', alpha = 0.9, label = 'Principal Components')\n",
    "plt.axhline(y=1, color='r', alpha = 0.5, linestyle='--')\n",
    "plt.legend(loc='best')\n",
    "\n",
    "# set axes range\n",
    "plt.xlim(0, 12.5)\n",
    "plt.ylim(0.4, 1.1)\n",
    "\n",
    "#Remove axes and spline\n",
    "ax=plt.gca()\n",
    "ax.spines['top'].set_visible(False)\n",
    "ax.spines['right'].set_visible(False)"
   ]
  },
  {
   "cell_type": "markdown",
   "metadata": {},
   "source": [
    "#### Variance Plot Explained:\n",
    "The 1st principal component out of 12 explains ~45% of the total variance of the data. After scaling, we can see that each new PC added to the model explains more variance until eventually all PC together explain all the variance in the Boston housing features.\n",
    "\n",
    "We hope to be able to use these Principal Components instead of existing features."
   ]
  },
  {
   "cell_type": "markdown",
   "metadata": {
    "ein.tags": [
     "worksheet-0"
    ],
    "slideshow": {
     "slide_type": "-"
    }
   },
   "source": [
    "### 4.4 Visualizing the components\n",
    "\n",
    "Create a 1X3 grid containing three scatter plots of your training data:\n",
    "\n",
    "1. PCA 1 vs. PCA 2 (you will need to use `fit_transform` to project your training data onto these two components)\n",
    "2. PCA 1 (x-axis) vs. median housing value\n",
    "3. PCA 2 vs. median housing value"
   ]
  },
  {
   "cell_type": "code",
   "execution_count": 66,
   "metadata": {
    "autoscroll": "json-false",
    "ein.tags": [
     "worksheet-0"
    ],
    "slideshow": {
     "slide_type": "-"
    }
   },
   "outputs": [
    {
     "name": "stdout",
     "output_type": "stream",
     "text": [
      "<class 'numpy.ndarray'>\n",
      "[[  2.47760252e-01   3.00817931e+00  -1.30260687e+00   1.67807629e+00\n",
      "    2.30075974e+00  -3.33655294e-01  -1.49303241e-01   7.86995884e-01\n",
      "    6.13243846e-01  -2.38895926e-01  -5.97739259e-01  -7.78893325e-01]\n",
      " [  1.66082871e+00  -6.67687297e-01   1.05294078e+00   8.25727450e-01\n",
      "   -6.75018865e-01  -3.19757805e-01  -1.18048022e+00   1.12884571e+00\n",
      "   -3.58074685e-01  -7.09458023e-02   6.49343584e-01   5.18007686e-02]\n",
      " [  3.78368692e+00  -4.85922645e-02   8.37727531e-01   1.37353995e-01\n",
      "   -3.76877433e-01   1.30130065e+00  -4.71305345e-04  -4.27575803e-01\n",
      "   -1.28533616e-01  -3.20297526e-01   3.01909891e-01   7.51455221e-02]]\n"
     ]
    }
   ],
   "source": [
    "Z_tr= pca.fit_transform(X_train_scaled)\n",
    "print(type(Z_tr))\n",
    "print(Z_tr[:3])"
   ]
  },
  {
   "cell_type": "markdown",
   "metadata": {},
   "source": [
    "#### Plot PC1, PC2, Response (MEDV)"
   ]
  },
  {
   "cell_type": "code",
   "execution_count": 83,
   "metadata": {},
   "outputs": [
    {
     "data": {
      "image/png": "[encoded data removed]",
      "text/plain": [
       "<matplotlib.figure.Figure at 0x227a516fc18>"
      ]
     },
     "metadata": {},
     "output_type": "display_data"
    }
   ],
   "source": [
    "#Prepare the data\n",
    "pca1 = Z_tr[:,0]     #all rows, 1st column\n",
    "pca2 = Z_tr[:,1]     #all rows, 2nd column\n",
    "medv = y_train.values  #MEDV\n",
    "\n",
    "#Prepare the plot\n",
    "fig = plt.figure(figsize=(15,5))\n",
    "ax1 = fig.add_subplot(1,3,1)\n",
    "ax2 = fig.add_subplot(1,3,2)\n",
    "ax3 = fig.add_subplot(1,3,3)\n",
    "\n",
    "ax1.set_title('PC1 vs PC2', fontsize=14)\n",
    "ax1.set_xlabel('PC1', fontsize=12)\n",
    "ax1.set_ylabel('PC2', fontsize=12)\n",
    "\n",
    "ax2.set_title('MEDV vs PC1', fontsize=14)\n",
    "ax2.set_xlabel('PC1', fontsize=12)\n",
    "ax2.set_ylabel('MEDV', fontsize=12)\n",
    "\n",
    "ax3.set_title('MEDV vs PC2', fontsize=14)\n",
    "ax3.set_xlabel('PC2', fontsize=12)\n",
    "ax3.set_ylabel('MEDV', fontsize=12)\n",
    "\n",
    "#Plot the data\n",
    "ax1.scatter(pca1, pca2, c='r', alpha = 0.5, label = 'PC1 vs PC2')\n",
    "ax2.scatter(pca1, medv, c='b', alpha = 0.5, label = 'MEDV vs PC1')\n",
    "ax3.scatter(pca2, medv, c='g', alpha = 0.5, label = 'MEDV vs PC2')\n",
    "\n",
    "#Remove axes and spline\n",
    "ax1.spines['top'].set_visible(False)\n",
    "ax1.spines['right'].set_visible(False)\n",
    "\n",
    "ax2.spines['top'].set_visible(False)\n",
    "ax2.spines['right'].set_visible(False)\n",
    "\n",
    "ax3.spines['top'].set_visible(False)\n",
    "ax3.spines['right'].set_visible(False)"
   ]
  },
  {
   "cell_type": "markdown",
   "metadata": {},
   "source": [
    "#### Plot Interpretation\n",
    "**Plot 1 : PC1 vs PC2**\n",
    "This plot compares the new transformed axes. we can see that Principal Components are showing an arc like shape, with both PC1 and PC2 spreading our data points well across the entire plane with high variance along both PC1 and PC2 axis.\n",
    "\n",
    "**Plot 2 : MEDV vs PC1**\n",
    "PC1 seems to be a combination of all features that contribute to lower prices as the value of PC1 increases. E.g. CRIM, LSTAT, PTRATIO etc. could contribute heavily to such a relationship.\n",
    "\n",
    "**Plot 3 : MEDV vs PC2**\n",
    "PC2 seems to be a combination of features that had a positive correlation with MEDV. E.g. RM tends to positively increase with MEDV. "
   ]
  },
  {
   "cell_type": "markdown",
   "metadata": {
    "ein.tags": [
     "worksheet-0"
    ],
    "slideshow": {
     "slide_type": "-"
    }
   },
   "source": [
    "### 4.5 Regression and PCA\n",
    "\n",
    "Using just the first Principal Component learned on the training data, project all of your data (including the test data) onto this 1-dimensional subspace using the `fit_transform` function.  Now, using your training data, fit a regression of median housing price on this first principal component of your data.  Report the RMSE of this regression for both the training and test set.  How do these results compare to your results from 4.1?  Interpret your results!"
   ]
  },
  {
   "cell_type": "code",
   "execution_count": 68,
   "metadata": {
    "collapsed": true
   },
   "outputs": [],
   "source": [
    "#Scale, Apply PCA & Transform\n",
    "Z_train = pca.fit_transform(X_train_scaled)  #Data already scaled\n",
    "Z_test  = pca.transform(X_test_scaled) #No need to fit pca, already fit on train data"
   ]
  },
  {
   "cell_type": "code",
   "execution_count": 69,
   "metadata": {
    "collapsed": true
   },
   "outputs": [],
   "source": [
    "#Use only PC1\n",
    "z1_train = Z_train[:,0]  #1st column \n",
    "z1_test  = Z_test[:,0]   #1st column"
   ]
  },
  {
   "cell_type": "code",
   "execution_count": 70,
   "metadata": {},
   "outputs": [
    {
     "name": "stdout",
     "output_type": "stream",
     "text": [
      "(333,)\n",
      "(173,)\n",
      "(333,)\n",
      "(173,)\n"
     ]
    }
   ],
   "source": [
    "print(z1_train.shape)\n",
    "print(z1_test.shape)\n",
    "\n",
    "print(y_train.shape)\n",
    "print(y_test.shape)"
   ]
  },
  {
   "cell_type": "code",
   "execution_count": 71,
   "metadata": {},
   "outputs": [
    {
     "name": "stdout",
     "output_type": "stream",
     "text": [
      "(333, 1)\n",
      "(173, 1)\n"
     ]
    }
   ],
   "source": [
    "#To avoid value error in LinearRegression().fit()\n",
    "#Reshape your data either using X.reshape(-1, 1) if it contains a single sample for X.\n",
    "z1_train= z1_train.reshape(-1, 1)\n",
    "z1_test = z1_test.reshape(-1, 1)\n",
    "\n",
    "print(z1_train.shape)\n",
    "print(z1_test.shape)"
   ]
  },
  {
   "cell_type": "markdown",
   "metadata": {},
   "source": [
    "#### Principal Components Regression"
   ]
  },
  {
   "cell_type": "code",
   "execution_count": 72,
   "metadata": {
    "autoscroll": "json-false",
    "ein.tags": [
     "worksheet-0"
    ],
    "slideshow": {
     "slide_type": "-"
    }
   },
   "outputs": [
    {
     "name": "stdout",
     "output_type": "stream",
     "text": [
      "\n",
      "SKLearn Linear Regression\n",
      "-------------------------\n",
      "Model : ['MEDV']  vs  ['PC1'] \n",
      "\n",
      "Number of Features               : 1\n",
      "Intercept Value                  : 22.8702702703\n",
      "Coefficient Values (No intercept): [-2.5861062]\n"
     ]
    }
   ],
   "source": [
    "from sklearn.linear_model import LinearRegression\n",
    "target_col=['MEDV']\n",
    "feature_list = ['PC1']\n",
    "\n",
    "#Create LinearRegression object, fit the train data\n",
    "lm= LinearRegression()\n",
    "lm.fit(z1_train, y_train)\n",
    "    \n",
    "#Print findings. \n",
    "print('\\nSKLearn Linear Regression\\n-------------------------')\n",
    "print('Model :', target_col, ' vs ', feature_list, '\\n')\n",
    "print('Number of Features               :' , len(feature_list))\n",
    "print('Intercept Value                  :' , lm.intercept_)\n",
    "print('Coefficient Values (No intercept):' , lm.coef_)"
   ]
  },
  {
   "cell_type": "code",
   "execution_count": 73,
   "metadata": {},
   "outputs": [],
   "source": [
    "preds_train = lm.predict(z1_train)\n",
    "preds_test  = lm.predict(z1_test)"
   ]
  },
  {
   "cell_type": "markdown",
   "metadata": {},
   "source": [
    "#### RMSE (MEDV vs PC1)"
   ]
  },
  {
   "cell_type": "code",
   "execution_count": 74,
   "metadata": {},
   "outputs": [
    {
     "name": "stdout",
     "output_type": "stream",
     "text": [
      "Train RMSE = 6.61223998353\n",
      "Test RMSE  = 6.83297706214\n"
     ]
    }
   ],
   "source": [
    "train_rmse = np.sqrt(mean_squared_error(preds_train, y_train))\n",
    "test_rmse = np.sqrt(mean_squared_error(preds_test, y_test))\n",
    "print('Train RMSE =', train_rmse)\n",
    "print('Test RMSE  =', test_rmse)"
   ]
  },
  {
   "cell_type": "markdown",
   "metadata": {},
   "source": [
    "#### Compare RMSE: PC Regression vs OLS Linear Regression\n",
    "_Initial Model (With 1 features (RM))_\n",
    "- Train RMSE = 6.606\n",
    "- Test RMSE  = 6.602\n",
    "\n",
    "_Principal Components Regression (With 1 Principal Component)_\n",
    "- Train RMSE = 6.648\n",
    "- Test RMSE  = 6.852\n",
    "\n",
    "\n",
    ">With only 1 Pricipal component, as opposed to the previous feature of RM, we suffer a very small increase in RMSE for pretty similar and accurate results in this single trial. \n",
    "\n",
    ">However, this model is more generalizable as the Principal Components seem to show a good correlation with the MEDV(target) value.\n",
    "\n",
    "> We are guaranteed that the Principal components are orthogonal to each other, and so we will not overestimate the effects of any single feature.\n",
    "\n",
    ">In general, usink K Principal components ensures better performance than a model with any K original features."
   ]
  },
  {
   "cell_type": "markdown",
   "metadata": {},
   "source": [
    "#### Extra Plot : Can PC1 predict MEDV?"
   ]
  },
  {
   "cell_type": "code",
   "execution_count": 81,
   "metadata": {},
   "outputs": [
    {
     "data": {
      "image/png": "[encoded data removed]",
      "text/plain": [
       "<matplotlib.figure.Figure at 0x22876b3c4a8>"
      ]
     },
     "metadata": {},
     "output_type": "display_data"
    }
   ],
   "source": [
    "#Prepare the data\n",
    "x1 = z1_train\n",
    "y1 = y_train\n",
    "\n",
    "x2 = z1_test\n",
    "y2 = y_test\n",
    "\n",
    "#Prepare the plot\n",
    "plt.figure(figsize=(10,8))\n",
    "plt.title('MEDV vs PC1: Linear Regression with 1 Principal Component', fontsize=14)\n",
    "plt.xlabel('PC1 value', fontsize=12)\n",
    "plt.ylabel('MEDV: Median Value of Boston Home (1000 USD) ', fontsize=12)\n",
    "plt.grid(False)\n",
    "\n",
    "#Plot the data\n",
    "plt.scatter(x1,y1, c='b', marker='o', alpha = 0.3, label = 'Train sample')\n",
    "plt.scatter(x2,y2, c='r', marker='o', alpha = 0.5, label = 'Test sample')\n",
    "plt.plot(x1, preds_train, c='k', alpha=0.5, label = 'Linear Model')\n",
    "\n",
    "plt.legend(loc='best')\n",
    "\n",
    "#Remove axes and spline\n",
    "ax=plt.gca()\n",
    "ax.spines['top'].set_visible(False)\n",
    "ax.spines['right'].set_visible(False)"
   ]
  },
  {
   "cell_type": "markdown",
   "metadata": {},
   "source": [
    "#### Plot Interpretation\n",
    "As compared to the previous graph for MEDV vs RM, we can see a much stronger correlation between PC1 and the predicted MEDV.\n",
    "This graph definitely has a higher R-squared value and would be more generalizable."
   ]
  },
  {
   "cell_type": "markdown",
   "metadata": {},
   "source": [
    "                  -----------------------------------------*THE END *-----------------------------------------"
   ]
  },
  {
   "cell_type": "markdown",
   "metadata": {},
   "source": [
    "#### Useful Links \n",
    "Pipeline\n",
    "- http://scikit-learn.org/stable/modules/pipeline.html\n",
    "- http://scikit-learn.org/stable/modules/preprocessing.html\n",
    "\n",
    "Grid Search\n",
    "- http://scikit-learn.org/stable/modules/generated/sklearn.model_selection.GridSearchCV.html\n",
    "- https://chrisalbon.com/machine-learning/cross_validation_parameter_tuning_grid_search.html\n",
    "\n",
    "Cross Validation with Score\n",
    "- http://scikit-learn.org/stable/modules/generated/sklearn.model_selection.cross_val_score.html\n",
    "\n",
    "Evaluating Classifiers\n",
    "- http://machinelearningmastery.com/metrics-evaluate-machine-learning-algorithms-python/"
   ]
  },
  {
   "cell_type": "markdown",
   "metadata": {},
   "source": [
    "Sklearn's   Log Loss /Cross-Entropy Loss\n",
    "- http://scikit-learn.org/stable/modules/generated/sklearn.metrics.log_loss.html\n",
    "- This is defined as the negative log-likelihood of the true labels given a probabilistic classifier’s predictions.\n",
    "- y_true = True label (0/1)\n",
    "- y_pred = Predicted probabilities, as returned by a classifier’s predict_proba method\n",
    "- For a single sample with true label yt in {0,1} and estimated probability yp that yt = 1, the log loss is\n",
    "-log P(yt|yp) = -(yt log(yp) + (1 - yt) log(1 - yp))"
   ]
  }
 ],
 "metadata": {
  "anaconda-cloud": {},
  "kernelspec": {
   "display_name": "Python 3",
   "language": "python",
   "name": "python3"
  },
  "language_info": {
   "codemirror_mode": {
    "name": "ipython",
    "version": 3
   },
   "file_extension": ".py",
   "mimetype": "text/x-python",
   "name": "python",
   "nbconvert_exporter": "python",
   "pygments_lexer": "ipython3",
   "version": "3.6.1"
  },
  "name": "pset5_solutions.ipynb"
 },
 "nbformat": 4,
 "nbformat_minor": 1
}
