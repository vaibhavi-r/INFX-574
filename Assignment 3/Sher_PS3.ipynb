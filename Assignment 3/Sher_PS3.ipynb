{
 "cells": [
  {
   "cell_type": "markdown",
   "metadata": {
    "ein.tags": [
     "worksheet-0"
    ],
    "slideshow": {
     "slide_type": "-"
    }
   },
   "source": [
    "# Problem Set 3, due May 9th at 3:30pm.\n",
    "\n",
    "### Before You Start\n",
    "\n",
    "Make sure the following libraries load correctly (hit Ctrl-Enter). Note that while you are loading several powerful libraries, including machine learning libraries, the goal of this problem set is to implement several algorithms from scratch. In particular, you should *not* be using any built-in libraries for nearest neighbors, distance metrics, or cross-validation -- your mission is to write those algorithms in Python!\n",
    "\n",
    "*Also note:* For this assignment we are requiring you to use base **matplotlib** - no more Seaborn or other packages. This will help you become familiar with techniques for maintaining fine-grained control over your data visualizations. It will also help our graders, who spent countless hours trying to make various versions import for grading."
   ]
  },
  {
   "cell_type": "code",
   "execution_count": 675,
   "metadata": {
    "autoscroll": "json-false",
    "collapsed": true,
    "ein.tags": [
     "worksheet-0"
    ],
    "scrolled": false,
    "slideshow": {
     "slide_type": "-"
    }
   },
   "outputs": [],
   "source": [
    "import IPython\n",
    "import numpy as np\n",
    "import scipy as sp\n",
    "import pandas as pd\n",
    "import matplotlib.pyplot as plt\n",
    "import sklearn\n",
    "%matplotlib inline"
   ]
  },
  {
   "cell_type": "markdown",
   "metadata": {
    "ein.tags": [
     "worksheet-0"
    ],
    "slideshow": {
     "slide_type": "-"
    }
   },
   "source": [
    "---\n",
    "\n",
    "## Introduction to the assignment\n",
    "\n",
    "For this assignment, you will be using the [Boston Housing Prices Data Set](http://archive.ics.uci.edu/ml/datasets/Housing).  Please read about the dataset carefully before continuing.  Use the following commands to load the dataset and print some descriptive information\n"
   ]
  },
  {
   "cell_type": "code",
   "execution_count": 676,
   "metadata": {
    "autoscroll": "json-false",
    "collapsed": true,
    "ein.tags": [
     "worksheet-0"
    ],
    "scrolled": false,
    "slideshow": {
     "slide_type": "-"
    }
   },
   "outputs": [],
   "source": [
    "from sklearn.datasets import load_boston\n",
    "bdata = load_boston()"
   ]
  },
  {
   "cell_type": "markdown",
   "metadata": {
    "ein.tags": [
     "worksheet-0"
    ],
    "slideshow": {
     "slide_type": "-"
    }
   },
   "source": [
    "The following commands will provide some basic information about the shape of the data:"
   ]
  },
  {
   "cell_type": "code",
   "execution_count": 677,
   "metadata": {
    "autoscroll": "json-false",
    "collapsed": false,
    "ein.tags": [
     "worksheet-0"
    ],
    "scrolled": false,
    "slideshow": {
     "slide_type": "-"
    }
   },
   "outputs": [
    {
     "name": "stdout",
     "output_type": "stream",
     "text": [
      "dict_keys(['data', 'target', 'feature_names', 'DESCR'])\n",
      "['CRIM' 'ZN' 'INDUS' 'CHAS' 'NOX' 'RM' 'AGE' 'DIS' 'RAD' 'TAX' 'PTRATIO'\n",
      " 'B' 'LSTAT']\n",
      "(506, 13)\n",
      "(506,)\n"
     ]
    }
   ],
   "source": [
    "print(bdata.keys())\n",
    "print(bdata.feature_names)\n",
    "print(bdata.data.shape)\n",
    "print(bdata.target.shape)\n",
    "# uncomment the following if you want to see a lengthy description of the dataset\n",
    "# print bdata.DESCR\n",
    "features = bdata.feature_names"
   ]
  },
  {
   "cell_type": "markdown",
   "metadata": {
    "ein.tags": [
     "worksheet-0"
    ],
    "slideshow": {
     "slide_type": "-"
    }
   },
   "source": [
    "---\n",
    "\n",
    "## Part 1: Descriptive analysis\n",
    "\n",
    "The goal of this section is to explore the data and make a few nice\n",
    "visualizations -- before beginning the \"real\" work, we should dig into\n",
    "the data a bit do see what we are dealing with.  If you're new to data visualization, [this guide](http://pubs.aeaweb.org/doi/pdfplus/10.1257/jep.28.1.209) is a good place to start.\n",
    "  \n",
    "\n",
    "### 1.1: Histogram of housing prices\n",
    "\n",
    "Your first task is to make a histogram of 'MEDV' (the median hose\n",
    "                                                  value, your target\n",
    "                                                  variable), and make this graph look pretty by doing the following:\n",
    "\n",
    "1. Add appropriate labels to the x and y axes, make sure to include units\n",
    "2. Change the bin width on the histogram to be $1000\n",
    "3. Remove the axes on the top and right side of the plot window\n",
    "4. Change the color of the bars to be green, and remove the black borders from the bars\n"
   ]
  },
  {
   "cell_type": "code",
   "execution_count": 678,
   "metadata": {
    "autoscroll": "json-false",
    "collapsed": false,
    "ein.tags": [
     "worksheet-0"
    ],
    "scrolled": false,
    "slideshow": {
     "slide_type": "-"
    }
   },
   "outputs": [
    {
     "data": {
      "image/png": "[encoded data removed]",
      "text/plain": [
       "<matplotlib.figure.Figure at 0x11d3de1d0>"
      ]
     },
     "metadata": {},
     "output_type": "display_data"
    }
   ],
   "source": [
    "input_features = pd.DataFrame(bdata.data, columns = bdata.feature_names)\n",
    "\n",
    "output = pd.DataFrame(bdata.target, columns = [\"MEDV\"])\n",
    "boston_data = pd.concat([input_features,output],axis =1)\n",
    "#boston_data.head()\n",
    "\n",
    "#Plots\n",
    "\n",
    "#Fetch the data\n",
    "x = output.values\n",
    "bins = (max(output.values)-min(output.values))+1\n",
    "\n",
    "#Prepare the plot and axis\n",
    "plt.figure(figsize =(13,7))\n",
    "plt.ylabel(\"Frequency\")\n",
    "plt.xlabel(\"Median House Value (in Thousand Dollars)\")\n",
    "plt.title(\"Histogram of Median House Value (in Thousand Dollars)\",size=16)\n",
    "\n",
    "#Plot the data\n",
    "bins = (max(output.values)-min(output.values))+1\n",
    "plt.hist(x,color='green',bins = 46)\n",
    "\n",
    "#Removing the axes\n",
    "ax = plt.gca()\n",
    "ax.spines['right'].set_visible(False)\n",
    "ax.spines['top'].set_visible(False)\n",
    "\n"
   ]
  },
  {
   "cell_type": "markdown",
   "metadata": {
    "ein.tags": [
     "worksheet-0"
    ],
    "slideshow": {
     "slide_type": "-"
    }
   },
   "source": [
    "### 1.2: Scatter plot of housing prices and crime\n",
    "\n",
    "Use matplotlib to create a scatter plot that shows the relationship\n",
    "between the median value of the home (y-axis) and the per-capita crime\n",
    "rate (x-axis).  Properly label your axes, and make sure that your\n",
    "graphic looks polished and professional.  \n"
   ]
  },
  {
   "cell_type": "code",
   "execution_count": 679,
   "metadata": {
    "autoscroll": "json-false",
    "collapsed": false,
    "ein.tags": [
     "worksheet-0"
    ],
    "scrolled": false,
    "slideshow": {
     "slide_type": "-"
    }
   },
   "outputs": [
    {
     "data": {
      "image/png": "[encoded data removed]",
      "text/plain": [
       "<matplotlib.figure.Figure at 0x11dacf4e0>"
      ]
     },
     "metadata": {},
     "output_type": "display_data"
    }
   ],
   "source": [
    "#Plots\n",
    "\n",
    "#Fetch the data\n",
    "y = boston_data[\"MEDV\"].values\n",
    "x = boston_data.CRIM.values\n",
    "\n",
    "#Prepare the plot and axis\n",
    "plt.figure(figsize =(13,7))\n",
    "plt.xlabel(\"Per Capita Crime rate\")\n",
    "plt.ylabel(\"Median House Value (in Thousand Dollars)\")\n",
    "plt.title(\"Median House Value v/s Per Capita Crime in Boston\",size=18)\n",
    "\n",
    "#Plot the data\n",
    "plt.scatter(x,y,color='red')\n",
    "\n",
    "#Removing the axes\n",
    "ax = plt.gca()\n",
    "ax.spines['right'].set_visible(False)\n",
    "ax.spines['top'].set_visible(False)\n"
   ]
  },
  {
   "cell_type": "markdown",
   "metadata": {
    "ein.tags": [
     "worksheet-0"
    ],
    "slideshow": {
     "slide_type": "-"
    }
   },
   "source": [
    "### 1.3 Create your own (creative and effective) visualization\n",
    "\n",
    "Use another type of graph or chart to illustrate an interesting pattern in the data.  Be creative in your visualization, and make sure to produce a \"publication-quality\" graph.  Points will be given for useful and creative graphs; points will be deducted for confusing issues like unlabeled axes.  "
   ]
  },
  {
   "cell_type": "code",
   "execution_count": 680,
   "metadata": {
    "autoscroll": "json-false",
    "collapsed": false,
    "ein.tags": [
     "worksheet-0"
    ],
    "scrolled": false,
    "slideshow": {
     "slide_type": "-"
    }
   },
   "outputs": [
    {
     "data": {
      "image/png": "[encoded data removed]",
      "text/plain": [
       "<matplotlib.figure.Figure at 0x11dacf9b0>"
      ]
     },
     "metadata": {},
     "output_type": "display_data"
    }
   ],
   "source": [
    "#Plots\n",
    "\n",
    "#Fetch the data\n",
    "y1 = boston_data[boston_data[\"CHAS\"]==1].NOX.values\n",
    "y2 = boston_data[boston_data[\"CHAS\"]==0].NOX.values\n",
    "x1 = boston_data[boston_data[\"CHAS\"]==1].AGE.values\n",
    "x2 = boston_data[boston_data[\"CHAS\"]==0].AGE.values\n",
    "\n",
    "#Prepare the plot and axis\n",
    "plt.figure(figsize =(13,7))\n",
    "plt.xlabel(\"Proportion of owner-occupied units built prior to 1940 \")\n",
    "plt.ylabel(\"Nitric oxides concentration (parts per 10 million) \")\n",
    "plt.title(\"Nitric Oxide Concentration v/s Age of Houses\",size=18)\n",
    "\n",
    "#Plot the data\n",
    "plt.scatter(x1,y1,color='blue', alpha =0.8)\n",
    "plt.scatter(x2,y2,color='green', alpha =0.5)\n",
    "plt.legend([\"Bounds river\",\"No river\"])\n",
    "\n",
    "#Removing the axes\n",
    "ax = plt.gca()\n",
    "ax.spines['right'].set_visible(False)\n",
    "ax.spines['top'].set_visible(False)"
   ]
  },
  {
   "cell_type": "markdown",
   "metadata": {
    "ein.tags": [
     "worksheet-0"
    ],
    "slideshow": {
     "slide_type": "-"
    }
   },
   "source": [
    "---\n",
    "\n",
    "## Part 2: Experimental Setup\n",
    "\n",
    "The goal of the next few sections is to design an experiment to predict the median home value for an instance in the data.\n",
    "\n",
    "### 2.1 Begin by writing a function to compute the Root Mean Squared Error for a list of numbers\n",
    "\n",
    "You can find the sqrt function in the Numpy package. \n",
    "Details of RMSE can be found in Hastie, Tibishrani, Friedman _The\n",
    "Elements of Statistical Learning_, Ch 2.5.  (Available on the web)\n",
    "\n"
   ]
  },
  {
   "cell_type": "code",
   "execution_count": 681,
   "metadata": {
    "autoscroll": "json-false",
    "collapsed": false,
    "ein.tags": [
     "worksheet-0"
    ],
    "scrolled": false,
    "slideshow": {
     "slide_type": "-"
    }
   },
   "outputs": [
    {
     "name": "stdout",
     "output_type": "stream",
     "text": [
      "2.08166599947\n"
     ]
    }
   ],
   "source": [
    "\"\"\"\n",
    "Function\n",
    "--------\n",
    "compute_rmse\n",
    "\n",
    "Given two arrays, one of actual values and one of predicted values,\n",
    "compute the Roote Mean Squared Error\n",
    "\n",
    "Parameters\n",
    "----------\n",
    "predictions : array\n",
    "    Array of numerical values corresponding to predictions for each of the N observations\n",
    "\n",
    "yvalues : array\n",
    "    Array of numerical values corresponding to the actual values for each of the N observations\n",
    "\n",
    "Returns\n",
    "-------\n",
    "rmse : int\n",
    "    Root Mean Squared Error of the prediction\n",
    "\n",
    "Example\n",
    "-------\n",
    ">>> print compute_rmse((2,2,3),(0,2,6)\n",
    "2.08\n",
    "\"\"\"\n",
    "def compute_rmse(predictions, yvalues):\n",
    "    N = len(predictions)\n",
    "    error = np.array(predictions) - np.array(yvalues)\n",
    "    rmse = np.sqrt(np.mean(error**2))\n",
    "    return(rmse)\n",
    "\n",
    "\n",
    "print(compute_rmse((2,2,3),(0,2,6)))"
   ]
  },
  {
   "cell_type": "markdown",
   "metadata": {
    "ein.tags": [
     "worksheet-0"
    ],
    "slideshow": {
     "slide_type": "-"
    }
   },
   "source": [
    "### 2.2 Divide your data into training and testing datasets\n",
    "\n",
    "\n",
    "Randomly select 66% of the data and put this in a training dataset\n",
    "(call this \"bdata_train\"), and place the remaining 34% in a testing\n",
    "dataset (call this \"bdata_test\").  Please us 'np.random' for random numbers.\n"
   ]
  },
  {
   "cell_type": "code",
   "execution_count": 682,
   "metadata": {
    "autoscroll": "json-false",
    "collapsed": false,
    "ein.tags": [
     "worksheet-0"
    ],
    "scrolled": false,
    "slideshow": {
     "slide_type": "-"
    }
   },
   "outputs": [
    {
     "name": "stdout",
     "output_type": "stream",
     "text": [
      "       CRIM    ZN  INDUS  CHAS    NOX     RM   AGE     DIS   RAD    TAX  \\\n",
      "0  22.05110   0.0  18.10   0.0  0.740  5.818  92.4  1.8662  24.0  666.0   \n",
      "1   0.19802   0.0  10.59   0.0  0.489  6.182  42.4  3.9454   4.0  277.0   \n",
      "2   0.21719   0.0  10.59   1.0  0.489  5.807  53.8  3.6526   4.0  277.0   \n",
      "3   0.04666  80.0   1.52   0.0  0.404  7.107  36.6  7.3090   2.0  329.0   \n",
      "4   1.46336   0.0  19.58   0.0  0.605  7.489  90.8  1.9709   5.0  403.0   \n",
      "\n",
      "   PTRATIO       B  LSTAT  MEDV  \n",
      "0     20.2  391.45  22.11  10.5  \n",
      "1     18.6  393.63   9.47  25.0  \n",
      "2     18.6  390.94  16.03  22.4  \n",
      "3     12.6  354.31   8.61  30.3  \n",
      "4     14.7  374.43   1.73  50.0  \n",
      "      CRIM    ZN  INDUS  CHAS    NOX     RM   AGE     DIS   RAD    TAX  \\\n",
      "0  6.44405   0.0  18.10   0.0  0.584  6.425  74.8  2.2004  24.0  666.0   \n",
      "1  0.36894  22.0   5.86   0.0  0.431  8.259   8.4  8.9067   7.0  330.0   \n",
      "2  5.66998   0.0  18.10   1.0  0.631  6.683  96.8  1.3567  24.0  666.0   \n",
      "3  5.82401   0.0  18.10   0.0  0.532  6.242  64.7  3.4242  24.0  666.0   \n",
      "4  0.06888   0.0   2.46   0.0  0.488  6.144  62.2  2.5979   3.0  193.0   \n",
      "\n",
      "   PTRATIO       B  LSTAT  MEDV  \n",
      "0     20.2   97.95  12.03  16.1  \n",
      "1     19.1  396.90   3.54  42.8  \n",
      "2     20.2  375.33   3.73  50.0  \n",
      "3     20.2  396.90  10.74  23.0  \n",
      "4     17.8  396.90   9.45  36.2  \n"
     ]
    }
   ],
   "source": [
    "# leave the following line untouched, it will help ensure that your \"random\" split is the same \"random\" split used by the rest of the class\n",
    "np.random.seed(seed=13579)\n",
    "\n",
    "N = len(boston_data)\n",
    "#Last index for the train set\n",
    "train_index = round(N*0.66)\n",
    "\n",
    "#Shuffles the dataset\n",
    "np.random.shuffle(np.asarray(boston_data))\n",
    "\n",
    "bdata_train= boston_data[0:train_index]\n",
    "bdata_test = boston_data[train_index:N]\n",
    "bdata_test = bdata_test.reset_index(drop=True)\n",
    "\n",
    "print(bdata_train.head())\n",
    "print(bdata_test.head())\n"
   ]
  },
  {
   "cell_type": "markdown",
   "metadata": {
    "ein.tags": [
     "worksheet-0"
    ],
    "slideshow": {
     "slide_type": "-"
    }
   },
   "source": [
    "### 2.3 Use a trivial baseline model for prediction, and compute RMSE\n",
    "Create a model that predicts, for every observation x_i, that the median home value is the average (mean) of the median values for all instances in the training set.  Compute the RMSE on the training set.  Now compute the RMSE on the test data set (but use the model you trained on the training set!).  How does RMSE compare for training vs. testing datasets? Is this what you expected, and why?"
   ]
  },
  {
   "cell_type": "code",
   "execution_count": 683,
   "metadata": {
    "autoscroll": "json-false",
    "collapsed": false,
    "ein.tags": [
     "worksheet-0"
    ],
    "scrolled": false,
    "slideshow": {
     "slide_type": "-"
    }
   },
   "outputs": [
    {
     "name": "stdout",
     "output_type": "stream",
     "text": [
      "RMSE: 8.57443441541\n",
      "RMSE: 10.2092270187\n"
     ]
    }
   ],
   "source": [
    "def baseline_model(data):\n",
    "    \n",
    "    outputs = data.MEDV\n",
    "    mean_value = np.mean(outputs)\n",
    "    N = len(data)\n",
    "    \n",
    "    predictions = np.empty(N)\n",
    "    predictions.fill(mean_value)\n",
    "    \n",
    "    rmse = compute_rmse(predictions,outputs)\n",
    "    print(\"RMSE:\",rmse)\n",
    "\n",
    "baseline_model(bdata_train)\n",
    "baseline_model(bdata_test)"
   ]
  },
  {
   "cell_type": "markdown",
   "metadata": {
    "collapsed": false
   },
   "source": [
    "The RMSE for the test dataset is much higher than the training dataset (8.57 v/s 10.209) This is what I expected since we trained the model on the mean value  of the training dataset. The model generated would perform significantly better on training set compared to the test set about which the model does not have any idea."
   ]
  },
  {
   "cell_type": "markdown",
   "metadata": {
    "ein.tags": [
     "worksheet-0"
    ],
    "slideshow": {
     "slide_type": "-"
    }
   },
   "source": [
    "\n"
   ]
  },
  {
   "cell_type": "markdown",
   "metadata": {
    "ein.tags": [
     "worksheet-0"
    ],
    "slideshow": {
     "slide_type": "-"
    }
   },
   "source": [
    "##Part 3: Nearest Neighbors\n"
   ]
  },
  {
   "cell_type": "markdown",
   "metadata": {
    "ein.tags": [
     "worksheet-0"
    ],
    "slideshow": {
     "slide_type": "-"
    }
   },
   "source": [
    "### 3.1 Nearest Neighbors: Distance function\n",
    "Let's try and build a machine learning algorithm to beat the \"Average\n",
    "Value\" baseline that you computed above.  Soon you will implement the\n",
    "Nearest Neighbor algorithm, but first you need to create a distance\n",
    "metric to measure the distance (and similarity) between two instances.\n",
    "Write a generic function to compute the Lp-Norm distance. Verify that\n",
    "your function works by computing the L-2 (Euclidean) distance and L-1 (Manhattan) distance between the points (3,4) and (6,8), and between (6,8) and (3,4).  Ensure that your distance is correct and positive in both cases!\n"
   ]
  },
  {
   "cell_type": "code",
   "execution_count": 684,
   "metadata": {
    "autoscroll": "json-false",
    "collapsed": false,
    "ein.tags": [
     "worksheet-0"
    ],
    "scrolled": false,
    "slideshow": {
     "slide_type": "-"
    }
   },
   "outputs": [
    {
     "name": "stdout",
     "output_type": "stream",
     "text": [
      "7.0\n"
     ]
    }
   ],
   "source": [
    "\"\"\"\n",
    "Function\n",
    "--------\n",
    "distance\n",
    "\n",
    "Given two instances and a value for L, return the L-Norm distance between them\n",
    "\n",
    "Parameters\n",
    "----------\n",
    "x1, x2 : array\n",
    "    Array of numerical values corresponding to predictions for each of the N observations\n",
    "\n",
    "L: int\n",
    "    Value of L to use in computing distances\n",
    "\n",
    "Returns\n",
    "-------\n",
    "dist : int\n",
    "    The L-norm distance between instances\n",
    "\n",
    "Example\n",
    "-------\n",
    ">>> print distance((3,4),(5,9),1)\n",
    "7\n",
    "\n",
    "\"\"\"\n",
    "def distance(x1, x2, l=2):\n",
    "    a1 =np.asarray(x1)\n",
    "    a2 =np.asarray(x2)\n",
    "    \n",
    "    ax = 1 if a1.ndim >1  else 0 \n",
    "    norm = np.power(np.sum(np.abs((a1 - a2)**l),ax),1/l)\n",
    "   \n",
    "    return(norm)\n",
    "\n",
    "print(distance((3,4),(5,9),1))"
   ]
  },
  {
   "cell_type": "markdown",
   "metadata": {
    "ein.tags": [
     "worksheet-0"
    ],
    "slideshow": {
     "slide_type": "-"
    }
   },
   "source": [
    "### 3.2 Basic Nearest Neighbor algorithm\n",
    "\n",
    "Now things get fun.  Your task is to implement a basic nearest neighbor algorithm from scratch.  Your simple model will use two input features (CRIM and RM) and a single output (MEDV).  In other words, you are modelling the relationship between median home value and crime rates and house size.\n",
    "\n",
    "Use your training data (bdata_train) to \"fit\" your model, although as\n",
    "you know, with Nearest Neighbors there is no real training, you just\n",
    "need to keep your training data in memory.  Write a function that\n",
    "predicts, for each instance in the testing data (bdata_test), the\n",
    "median home value using the nearest neighbor algorithm we discussed in\n",
    "class.  Since this is a small dataset, you can simply compare your\n",
    "test instance to every instance in the training set, and return the\n",
    "MEDV value of the closest training instance.  You can just loop over\n",
    "the instances to find the nearest neighbor.  Have your function take L as an input, where L is passed to the distance function.\n",
    "\n",
    "Compute the RMSE for the Nearest Neighbor predictions on the test set, using the Euclidean distance.  Report an estimate of the total time taken by your code to predict the nearest neighbors for all the values in the test data set.\n",
    "\n",
    "Plot the true vs predicted price for your test data\n"
   ]
  },
  {
   "cell_type": "code",
   "execution_count": 685,
   "metadata": {
    "autoscroll": "json-false",
    "collapsed": false,
    "ein.tags": [
     "worksheet-0"
    ],
    "scrolled": false,
    "slideshow": {
     "slide_type": "-"
    }
   },
   "outputs": [
    {
     "name": "stdout",
     "output_type": "stream",
     "text": [
      "RMSE Error: 7.40172041598\n",
      "Time taken: 1.2894351482391357 Seconds\n"
     ]
    }
   ],
   "source": [
    "\"\"\"\n",
    "# write your function specification here!\n",
    "\"\"\"\n",
    "import time\n",
    "#Calculates the closest neighbor for a given test point and training data\n",
    "def find_neighbor(points, train_data,features,l):\n",
    "    \n",
    "    \n",
    "    feature_data = train_data.loc[:,features]\n",
    "    \n",
    "    temp_dist = distance(points,feature_data, l) \n",
    "    \n",
    "    #Extracts the minimum value and stores the Median price for that index\n",
    "    \n",
    "    return(temp_dist)\n",
    "\n",
    "def nearest_neighbor(train_data,test_data,features,l):\n",
    "    \n",
    "    predictions = []\n",
    "    N1 = len(train_data)\n",
    "    train_outputs = train_data.loc[:][\"MEDV\"]\n",
    "    for index, element in test_data.iterrows():\n",
    "        #Create a dataframe the size of training data with the test point repeated\n",
    "        temp_df = pd.DataFrame(pd.concat([element.loc[features]]*N1,ignore_index=True,axis=1)).T\n",
    "        \n",
    "        #Fetches the distance list of test point from each training point\n",
    "        distance_arr = find_neighbor(temp_df, train_data,features,l)\n",
    "        \n",
    "        #Gets the minimum distance point\n",
    "        min_dist = np.min(distance_arr)\n",
    "        index = np.where(distance_arr == distance_arr.min())\n",
    "        \n",
    "        neighbor = train_data.iloc[index[0]][\"MEDV\"].values[0]\n",
    "        \n",
    "        predictions.append(neighbor)\n",
    "    return(predictions)\n",
    "    \n",
    "features = [\"CRIM\",\"RM\"]\n",
    "target = [\"MEDV\"]\n",
    "\n",
    "train_data = bdata_train.loc[:,features+target]\n",
    "test_data = bdata_test.loc[:,features+target]\n",
    "\n",
    "outputs = test_data.loc[:][\"MEDV\"]\n",
    "\n",
    "start = time.time()\n",
    "predictions =  nearest_neighbor(train_data,test_data,features,l=2)\n",
    "end = time.time()\n",
    "\n",
    "test_error = compute_rmse(predictions, outputs)\n",
    "print(\"RMSE Error:\",test_error)\n",
    "print(\"Time taken:\", end-start,\"Seconds\")\n"
   ]
  },
  {
   "cell_type": "code",
   "execution_count": 686,
   "metadata": {
    "collapsed": false,
    "scrolled": false
   },
   "outputs": [
    {
     "data": {
      "image/png": "[encoded data removed]",
      "text/plain": [
       "<matplotlib.figure.Figure at 0x11dacfa58>"
      ]
     },
     "metadata": {},
     "output_type": "display_data"
    }
   ],
   "source": [
    "#Plotting true v/s predicted price\n",
    "#Fetch the data\n",
    "x = list(outputs)\n",
    "y = list(predictions)\n",
    "\n",
    "#Prepare the plot and axis\n",
    "plt.figure(figsize =(13,7))\n",
    "plt.xlabel(\"True Value (in Thousand Dollars) \")\n",
    "plt.ylabel(\"Predicted Values (in Thousand Dollars) \")\n",
    "plt.title(\"Predict v/s True Value\",size=18)\n",
    "\n",
    "#Plot the data\n",
    "plt.scatter(x,y,color='purple', alpha =0.8)\n",
    "\n",
    "#Removing the axes\n",
    "ax = plt.gca()\n",
    "ax.spines['right'].set_visible(False)\n",
    "ax.spines['top'].set_visible(False)"
   ]
  },
  {
   "cell_type": "markdown",
   "metadata": {
    "ein.tags": [
     "worksheet-0"
    ],
    "slideshow": {
     "slide_type": "-"
    }
   },
   "source": [
    "### 3.3 Results and Normalization\n",
    "\n",
    "If you were being astute, you would have noticed that we never normalized our features -- a big no-no with Nearest Neighbor algorithms.  Normalization is similar to Mahalanobis disctance (if the features are independent).  Read more in Daume (2017), _A Course in Machine Learning_ Chapter 4.3.  Write a simple generic normalization function that takes as input an array of values for a given feature, and returns the normalized array.  Do it well, you will need it in the future as well ;-)\n",
    "\n",
    "Re-run the Nearest Neighbor algorithm on the normalized dataset (still just using CRIM and RM as input), and compare the RMSE from this method with your previous RMSE evaluations.\n",
    "\n",
    "*NOTE*: To normalize properly, best practice is to compute the mean and standard deviation on the training set, and use these values to normalize the testing dataset. However, for this problem set, it is okay if you separately normalize each dataset using the respective mean and standard deviation."
   ]
  },
  {
   "cell_type": "code",
   "execution_count": 687,
   "metadata": {
    "autoscroll": "json-false",
    "collapsed": false,
    "ein.tags": [
     "worksheet-0"
    ],
    "scrolled": false,
    "slideshow": {
     "slide_type": "-"
    }
   },
   "outputs": [
    {
     "name": "stdout",
     "output_type": "stream",
     "text": [
      "RMSE Error: 7.72427086948\n",
      "Time taken: 1.2852399349212646 Seconds\n"
     ]
    }
   ],
   "source": [
    "\"\"\"\n",
    "# write your function specification here!\n",
    "\"\"\"\n",
    "def normalize_feature(feature, mean, sd):\n",
    "    return((feature-mean)/sd)\n",
    "\n",
    "def normalize_dataset(train_data, test_data,features):\n",
    "    num_columns = train_data.shape[1]\n",
    "    for feature in features:\n",
    "        feature_mean = np.mean(train_data.loc[:,feature])\n",
    "        feature_sd = np.std(train_data.loc[:,feature])\n",
    "        #Normalize each feature for training and test data\n",
    "        test_data.loc[:,feature] = normalize_feature(test_data.loc[:,feature],feature_mean,feature_sd)\n",
    "        train_data.loc[:,feature] = normalize_feature(train_data.loc[:,feature],feature_mean,feature_sd)\n",
    "    return(train_data, test_data)\n",
    "\n",
    "#Prepare the data\n",
    "features = [\"CRIM\",\"RM\"]\n",
    "target = [\"MEDV\"]\n",
    "train_data = bdata_train.loc[:,features+target]\n",
    "test_data = bdata_test.loc[:,features+target]\n",
    "outputs = test_data.iloc[:][\"MEDV\"]\n",
    "#Normalize the dataset\n",
    "normalized_train_data, normalized_test_data = normalize_dataset(train_data,test_data,features)\n",
    "\n",
    "start = time.time()\n",
    "predictions =  nearest_neighbor(normalized_train_data,normalized_test_data,features,l=2)\n",
    "end = time.time()\n",
    "\n",
    "test_error = compute_rmse(predictions, outputs)\n",
    "print(\"RMSE Error:\",test_error)\n",
    "print(\"Time taken:\", end-start,\"Seconds\")\n",
    "\n"
   ]
  },
  {
   "cell_type": "markdown",
   "metadata": {},
   "source": [
    "The RMSE of the normalized dataset has increased from 7.4 to 7.72"
   ]
  },
  {
   "cell_type": "markdown",
   "metadata": {
    "ein.tags": [
     "worksheet-0"
    ],
    "slideshow": {
     "slide_type": "-"
    }
   },
   "source": [
    "### 3.4 Optimization\n",
    "\n",
    "\n",
    "A lot of the decisions we've made so far have been arbitrary.  Try to increase the performance of your nearest neighbor algorithm by adding features that you think might be relevant, and by using different values of L in the distance function.  Try a model that uses a different set of 2 features, then try at least one model that uses more than 4 features, then try using a different value of L.  If you're having fun, try a few different combinations of features and L!  \n",
    "\n",
    "What combination of features and distance function provide the lowest RMSE?  Compre RMSEs with the corresponding true-predicted plots.\n",
    "\n",
    "Do your decisions affect the running time of the algorithm?"
   ]
  },
  {
   "cell_type": "code",
   "execution_count": 688,
   "metadata": {
    "autoscroll": "json-false",
    "collapsed": false,
    "ein.tags": [
     "worksheet-0"
    ],
    "scrolled": false,
    "slideshow": {
     "slide_type": "-"
    }
   },
   "outputs": [
    {
     "name": "stdout",
     "output_type": "stream",
     "text": [
      "RMSE Error: 12.0926895079\n",
      "Time taken: 1.262887954711914 Seconds\n"
     ]
    },
    {
     "data": {
      "image/png": "[encoded data removed]",
      "text/plain": [
       "<matplotlib.figure.Figure at 0x11c2a4a90>"
      ]
     },
     "metadata": {},
     "output_type": "display_data"
    }
   ],
   "source": [
    "'''\n",
    "6 - AGE      proportion of owner-occupied units built prior to 1940\n",
    "11 - B        1000(Bk - 0.63)^2 where Bk is the proportion of blacks by town\n",
    "9 - TAX      full-value property-tax rate per $10,000\n",
    "3 - CHAS     Charles River dummy variable (= 1 if tract bounds river; 0 otherwise)\n",
    "5 - NOX      nitric oxides concentration (parts per 10 million)\n",
    "'''\n",
    "#Model 1 : AGE and B\n",
    "features = [\"AGE\",\"B\"]\n",
    "target = [\"MEDV\"]\n",
    "\n",
    "train_data = bdata_train.loc[:,features+target]\n",
    "test_data = bdata_test.loc[:,features+target]\n",
    "\n",
    "outputs = test_data.iloc[:][\"MEDV\"]\n",
    "\n",
    "normalized_train_data, normalized_test_data = normalize_dataset(train_data,test_data,features)\n",
    "\n",
    "start = time.time()\n",
    "predictions =  nearest_neighbor(normalized_train_data,normalized_test_data,features,l=2)\n",
    "end = time.time()\n",
    "\n",
    "test_error = compute_rmse(predictions, outputs)\n",
    "print(\"RMSE Error:\",test_error)\n",
    "print(\"Time taken:\", end-start,\"Seconds\")\n",
    "\n",
    "#Plotting true v/s predicted price\n",
    "#Fetch the data\n",
    "x = list(outputs)\n",
    "y = list(predictions)\n",
    "\n",
    "#Prepare the plot and axis\n",
    "plt.figure(figsize =(13,7))\n",
    "plt.xlabel(\"True Value (in Thousand Dollars) \")\n",
    "plt.ylabel(\"Predicted Values (in Thousand Dollars) \")\n",
    "plt.title(\"Predict v/s True Value\",size=18)\n",
    "\n",
    "#Plot the data\n",
    "plt.scatter(x,y,color='purple', alpha =0.8)\n",
    "\n",
    "#Removing the axes\n",
    "ax = plt.gca()\n",
    "ax.spines['right'].set_visible(False)\n",
    "ax.spines['top'].set_visible(False)"
   ]
  },
  {
   "cell_type": "code",
   "execution_count": 689,
   "metadata": {
    "collapsed": false,
    "scrolled": false
   },
   "outputs": [
    {
     "name": "stdout",
     "output_type": "stream",
     "text": [
      "RMSE Error: 8.18830703461\n",
      "Time taken: 1.2637879848480225 Seconds\n"
     ]
    },
    {
     "data": {
      "image/png": "[encoded data removed]",
      "text/plain": [
       "<matplotlib.figure.Figure at 0x11ce9ca58>"
      ]
     },
     "metadata": {},
     "output_type": "display_data"
    }
   ],
   "source": [
    "#Model 2: AGE, B, TAX, CHAS, NOX\n",
    "features = [\"AGE\",\"B\",\"TAX\",\"CHAS\",\"NOX\"]\n",
    "target = [\"MEDV\"]\n",
    "\n",
    "train_data = bdata_train.loc[:,features+target]\n",
    "test_data = bdata_test.loc[:,features+target]\n",
    "\n",
    "outputs = test_data.iloc[:][\"MEDV\"]\n",
    "\n",
    "normalized_train_data, normalized_test_data = normalize_dataset(train_data,test_data,features)\n",
    "\n",
    "start = time.time()\n",
    "predictions =  nearest_neighbor(normalized_train_data,normalized_test_data,features,l=2)\n",
    "end = time.time()\n",
    "\n",
    "test_error = compute_rmse(predictions, outputs)\n",
    "print(\"RMSE Error:\",test_error)\n",
    "print(\"Time taken:\", end-start,\"Seconds\")\n",
    "\n",
    "#Plotting true v/s predicted price\n",
    "#Fetch the data\n",
    "x = list(outputs)\n",
    "y = list(predictions)\n",
    "\n",
    "#Prepare the plot and axis\n",
    "plt.figure(figsize =(13,7))\n",
    "plt.xlabel(\"True Value (in Thousand Dollars) \")\n",
    "plt.ylabel(\"Predicted Values (in Thousand Dollars) \")\n",
    "plt.title(\"Predict v/s True Value\",size=18)\n",
    "\n",
    "#Plot the data\n",
    "plt.scatter(x,y,color='purple', alpha =0.8)\n",
    "\n",
    "#Removing the axes\n",
    "ax = plt.gca()\n",
    "ax.spines['right'].set_visible(False)\n",
    "ax.spines['top'].set_visible(False)"
   ]
  },
  {
   "cell_type": "code",
   "execution_count": 690,
   "metadata": {
    "collapsed": false,
    "scrolled": false
   },
   "outputs": [
    {
     "name": "stdout",
     "output_type": "stream",
     "text": [
      "RMSE Error: 5.78400963362\n",
      "Time taken: 1.3735599517822266 Seconds\n"
     ]
    },
    {
     "data": {
      "image/png": "[encoded data removed]",
      "text/plain": [
       "<matplotlib.figure.Figure at 0x11d5027b8>"
      ]
     },
     "metadata": {},
     "output_type": "display_data"
    }
   ],
   "source": [
    "#Model 3 : AGE and B and L=3 --Best Model amongst the three\n",
    "features = [\"CRIM\",\"RM\",\"PTRATIO\", \"LSTAT\"]\n",
    "target = [\"MEDV\"]\n",
    "\n",
    "train_data = bdata_train.loc[:,features+target]\n",
    "test_data = bdata_test.loc[:,features+target]\n",
    "\n",
    "outputs = test_data.iloc[:][\"MEDV\"]\n",
    "\n",
    "normalized_train_data, normalized_test_data = normalize_dataset(train_data,test_data,features)\n",
    "\n",
    "start = time.time()\n",
    "predictions =  nearest_neighbor(normalized_train_data,normalized_test_data,features,l=2)\n",
    "end = time.time()\n",
    "\n",
    "test_error = compute_rmse(predictions, outputs)\n",
    "print(\"RMSE Error:\",test_error)\n",
    "print(\"Time taken:\", end-start,\"Seconds\")\n",
    "\n",
    "#Plotting true v/s predicted price\n",
    "#Fetch the data\n",
    "x = list(outputs)\n",
    "y = list(predictions)\n",
    "\n",
    "#Prepare the plot and axis\n",
    "plt.figure(figsize =(13,7))\n",
    "plt.xlabel(\"True Value (in Thousand Dollars) \")\n",
    "plt.ylabel(\"Predicted Values (in Thousand Dollars) \")\n",
    "plt.title(\"Predict v/s True Value\",size=18)\n",
    "\n",
    "#Plot the data\n",
    "plt.scatter(x,y,color='purple', alpha =0.8)\n",
    "\n",
    "#Removing the axes\n",
    "ax = plt.gca()\n",
    "ax.spines['right'].set_visible(False)\n",
    "ax.spines['top'].set_visible(False)"
   ]
  },
  {
   "cell_type": "markdown",
   "metadata": {},
   "source": [
    "What combination of features and distance function provide the lowest RMSE? Compre RMSEs with the corresponding true-predicted plots.\n",
    "Do your decisions affect the running time of the algorithm?\n",
    "\n",
    "Based on my trials feature set [\"CRIM\",\"RM\",\"PTRATIO\", \"LSTAT\"] with L=1 provides the lowest RMSE of 5.69. From the true-predicted plots we can see for the Model 3, the relationship between true and predicted values is the most correlated.\n",
    "Increasing the number of features or L increases the running time of the algorithm marginally. "
   ]
  },
  {
   "cell_type": "markdown",
   "metadata": {
    "ein.tags": [
     "worksheet-0"
    ],
    "slideshow": {
     "slide_type": "-"
    }
   },
   "source": [
    "### 3.5 Cross-Validation\n",
    "\n",
    "The more you tinkered with your features and distance function, the higher the risk that you overfit your training data.  To prevent this sort of overfitting, you need to use cross-validation (see Daume (2017) _A Course in Machine Learning_, Ch 4.6).  Here you must implement a simple k-fold cross-validation algorithm yourself.  Essentially you have to partition your dataset into 10 equally-sized samples, and for each of 10 iterations (the \"folds\"), use 9 samples as \"training data\" (even though there is no training in k-NN!), and the remaining 1 sample for testing.  The function you write here will be used several more times in this problem set, so do your best to write efficient code! (Note that the sklearn package has a built-in K-fold iterator -- do *not* use that here.)\n",
    "\n",
    "Use Euclidean distance with CRIM and RM (0 and 5) as features.  Compute the RMSE of that particular test set, then move on to the next iteration.  Report the average RMSE across the 10 iterations, and the total running time for all 10 iterations.  Compare the k-fold RMSE with the training-testing split RMSE above for the same hyperparameter values."
   ]
  },
  {
   "cell_type": "code",
   "execution_count": 691,
   "metadata": {
    "autoscroll": "json-false",
    "collapsed": false,
    "ein.tags": [
     "worksheet-0"
    ],
    "scrolled": false,
    "slideshow": {
     "slide_type": "-"
    }
   },
   "outputs": [
    {
     "name": "stdout",
     "output_type": "stream",
     "text": [
      "Final RMSE: 7.47881385057\n",
      "Time taken: 4.2392799854278564 seconds\n"
     ]
    }
   ],
   "source": [
    "def kfold_cross_validation(data,features,k,neighbors=1,l=2,fold_type='nearest'):\n",
    "    rows = data.shape[0]    \n",
    "    test_error =0\n",
    "    \n",
    "    for i in range(k):\n",
    "        #Calculate start and end index for the fold\n",
    "        start_index = i*rows//k\n",
    "        end_index = (i+1)*rows//k\n",
    "        \n",
    "        test_data = data.iloc[start_index:end_index,:]\n",
    "        train_data = data[~data.index.isin(test_data.index)]\n",
    "        \n",
    "        train_data = train_data.reset_index(drop=True)\n",
    "        test_data = test_data.reset_index(drop=True)\n",
    "        \n",
    "        outputs = test_data.iloc[:][\"MEDV\"]\n",
    "        \n",
    "        normalized_train_data, normalized_test_data = normalize_dataset(train_data,test_data,features)\n",
    "        \n",
    "        \n",
    "        if fold_type == 'nearest':          \n",
    "            predictions =  nearest_neighbor(normalized_train_data,normalized_test_data,features,l)    \n",
    "            fold_error =  compute_rmse(predictions, outputs)\n",
    "             \n",
    "        elif fold_type == 'knn':\n",
    "            predictions, fold_error = knn(normalized_train_data,normalized_test_data,features,l=l,k=neighbors)\n",
    "           \n",
    "              \n",
    "        #print(\"RMSE fold\",i+1,\":\",fold_error)\n",
    "        test_error = test_error +fold_error\n",
    "        \n",
    "    final_error = test_error/k\n",
    "    print(\"Final RMSE:\",final_error )\n",
    "    return(final_error)\n",
    "       \n",
    "start = time.time()\n",
    "kfold_cross_validation(boston_data,[\"CRIM\",\"RM\"],k=10)\n",
    "end = time.time()\n",
    "print(\"Time taken:\", end-start,\"seconds\")\n",
    "        "
   ]
  },
  {
   "cell_type": "markdown",
   "metadata": {},
   "source": [
    "The RMSE for kfold: 7.47 is lower than the RMSE for the training-test split model after normalizing the data which is 7.72 "
   ]
  },
  {
   "cell_type": "markdown",
   "metadata": {
    "ein.tags": [
     "worksheet-0"
    ],
    "slideshow": {
     "slide_type": "-"
    }
   },
   "source": [
    "### 3.6 K-Nearest Neighbors Algorithm\n",
    "\n",
    "Implement the K-Nearest Neighbors algorithm.  Using 10-fold cross validation, report the RMSE for K=3 and the running time of the algorithm."
   ]
  },
  {
   "cell_type": "code",
   "execution_count": 692,
   "metadata": {
    "autoscroll": "json-false",
    "collapsed": false,
    "ein.tags": [
     "worksheet-0"
    ],
    "scrolled": true,
    "slideshow": {
     "slide_type": "-"
    }
   },
   "outputs": [
    {
     "name": "stdout",
     "output_type": "stream",
     "text": [
      "Final RMSE: 5.55348243869\n",
      "Time taken: 5.30764627456665  seconds\n"
     ]
    }
   ],
   "source": [
    "def knn(train_data,test_data,features,l=2,k=2):\n",
    "    predictions = []\n",
    "    outputs = train_data.loc[:][\"MEDV\"]\n",
    "    N1 = len(train_data)\n",
    "    for index, elem in test_data.iterrows():\n",
    "        \n",
    "        temp_df = pd.DataFrame(pd.concat([elem.loc[features]]*N1,ignore_index=True,axis=1)).T\n",
    "        \n",
    "        #Fetch Distance array\n",
    "       \n",
    "        distance_arr = pd.Series(find_neighbor(temp_df, train_data,features,l=2))\n",
    "        \n",
    "        #Concatenates the train target and distance dataframes and sort them to find the k nearest neighbors\n",
    "        dist_output = pd.concat([distance_arr,outputs],axis=1)\n",
    "        dist_output.columns = [\"Distance\",\"MEDV\"]\n",
    "        dist_output = dist_output.sort_values('Distance',ascending=True)\n",
    "        \n",
    "        pred = np.mean(dist_output.iloc[:k,1])\n",
    "        predictions.append(pred)\n",
    "  \n",
    "    predictions = np.array(predictions)\n",
    "    truevals = test_data.loc[:][\"MEDV\"]\n",
    "    rmse_error = compute_rmse(predictions,truevals)\n",
    "    return(predictions,rmse_error)\n",
    "        \n",
    "features = [\"CRIM\",\"RM\"]\n",
    "start = time.time()\n",
    "rmse = kfold_cross_validation(boston_data,features,k=10,neighbors = 3, l=2,fold_type='knn')\n",
    "end = time.time()\n",
    "print(\"Time taken:\", end-start,\" seconds\")"
   ]
  },
  {
   "cell_type": "markdown",
   "metadata": {
    "ein.tags": [
     "worksheet-0"
    ],
    "slideshow": {
     "slide_type": "-"
    }
   },
   "source": [
    "### 3.7 Using cross validation to find K\n",
    "\n",
    "What is the best choice of K?  Compute the RMSE for values of K between 1 and 25 using 10-fold cross-validation.  Use the following features in your model, and don't forget to normalize: CRIM, ZN, RM, AGE, DIS, TAX.  Create a graph that shows how RMSE changes as K increases from 1 to 25.  Label your axes, and summarize what you see.  What do you think is a reasonable choice of K for this model?"
   ]
  },
  {
   "cell_type": "code",
   "execution_count": 693,
   "metadata": {
    "autoscroll": "json-false",
    "collapsed": false,
    "ein.tags": [
     "worksheet-0"
    ],
    "scrolled": false,
    "slideshow": {
     "slide_type": "-"
    }
   },
   "outputs": [
    {
     "name": "stdout",
     "output_type": "stream",
     "text": [
      "Final RMSE: 5.96666659446\n",
      "Final RMSE: 5.25312945451\n",
      "Final RMSE: 4.87821420271\n",
      "Final RMSE: 4.8520214365\n",
      "Final RMSE: 4.87971347304\n",
      "Final RMSE: 4.90943986486\n",
      "Final RMSE: 4.95344737522\n",
      "Final RMSE: 4.96752152497\n",
      "Final RMSE: 5.01450407037\n",
      "Final RMSE: 5.02006993399\n",
      "Final RMSE: 5.05450997592\n",
      "Final RMSE: 5.06591327969\n",
      "Final RMSE: 5.09143724759\n",
      "Final RMSE: 5.1364972407\n",
      "Final RMSE: 5.14390942009\n",
      "Final RMSE: 5.16746045325\n",
      "Final RMSE: 5.21477939163\n",
      "Final RMSE: 5.23927489859\n",
      "Final RMSE: 5.26738775554\n",
      "Final RMSE: 5.2723605849\n",
      "Final RMSE: 5.27509556726\n",
      "Final RMSE: 5.28640135101\n",
      "Final RMSE: 5.30691133664\n",
      "Final RMSE: 5.31521512336\n",
      "Final RMSE: 5.34715736767\n"
     ]
    }
   ],
   "source": [
    "'''\n",
    "CRIM - 0\n",
    "ZN - 1\n",
    "RM - 5\n",
    "AGE - 6\n",
    "DIS - 7\n",
    "TAX - 9\n",
    "'''\n",
    "\n",
    "features = [\"CRIM\",\"ZN\",\"RM\",\"AGE\",\"DIS\",\"TAX\"]\n",
    "rmse =[]\n",
    "for i in range(1,26):\n",
    "    error = kfold_cross_validation(boston_data,features,k=10,neighbors =i, l=2,fold_type='knn')\n",
    "    rmse.append(error)\n"
   ]
  },
  {
   "cell_type": "code",
   "execution_count": 695,
   "metadata": {
    "collapsed": false,
    "scrolled": false
   },
   "outputs": [
    {
     "data": {
      "image/png": "[encoded data removed]",
      "text/plain": [
       "<matplotlib.figure.Figure at 0x11c944668>"
      ]
     },
     "metadata": {},
     "output_type": "display_data"
    }
   ],
   "source": [
    "#Plotting true v/s predicted price\n",
    "#Fetch the data\n",
    "x = list(range(1,26))\n",
    "y = rmse\n",
    "\n",
    "#Prepare the plot and axis\n",
    "plt.figure(figsize =(13,7))\n",
    "plt.xlabel(\"K value \")\n",
    "plt.ylabel(\"RMSE \")\n",
    "plt.title(\"RMSE v/s K\",size=18)\n",
    "\n",
    "#Plot the data\n",
    "plt.plot(x,y,color='blue', alpha =0.8)\n",
    "\n",
    "#Removing the axes\n",
    "ax = plt.gca()\n",
    "ax.spines['right'].set_visible(False)\n",
    "ax.spines['top'].set_visible(False)"
   ]
  },
  {
   "cell_type": "markdown",
   "metadata": {},
   "source": [
    "Reviewing the plot, I notice the error is at a maximum of 5.96 at k=1 and drops dramatically when k is increased initially. The plot above shows that the ideal value of K for the K nearest neighbor model is for K=4 when the RMSE has a minimum value of 4.852. After k =4 the error term rises steadily again upwards again till 25."
   ]
  },
  {
   "cell_type": "markdown",
   "metadata": {
    "ein.tags": [
     "worksheet-0"
    ],
    "slideshow": {
     "slide_type": "-"
    }
   },
   "source": [
    "### Extra-Credit: Forward selection\n",
    "\n",
    "Thus far the choice of predictor variables has been rather arbitrary. For extra credit, implement a basic [forward selection](http://www.stat.ubc.ca/~rollin/teach/643w04/lec/node41.html) algorithm to progressively include features that decrease the cross-validated RMSE of the model. Note that the optimal value of K may be different for each model, so you may want to use cross-validation to choose K each time (but it is also fine if you fix K at the optimal value from 2.7).  Create a graph that shows RMSE as a function of the number of features in the model. Label each point on the x-axis with the name of the feature that is added at that step in the forward selection algorithm. *(For instance, if the optimal single-feature model has CRIM with RMSE = 10, and the optimal two-feature model has CRIM+ZN with RMSE=9, the first x-axis label will say CRIM and the second x-axis lable with say ZN)*"
   ]
  },
  {
   "cell_type": "code",
   "execution_count": null,
   "metadata": {
    "collapsed": false,
    "scrolled": false
   },
   "outputs": [],
   "source": [
    "\n",
    "    \n",
    "        "
   ]
  }
 ],
 "metadata": {
  "anaconda-cloud": {},
  "kernelspec": {
   "display_name": "Python 3",
   "language": "python",
   "name": "python3"
  },
  "language_info": {
   "codemirror_mode": {
    "name": "ipython",
    "version": 3
   },
   "file_extension": ".py",
   "mimetype": "text/x-python",
   "name": "python",
   "nbconvert_exporter": "python",
   "pygments_lexer": "ipython3",
   "version": "3.6.0"
  },
  "name": "infx573-ps3-solutions.ipynb"
 },
 "nbformat": 4,
 "nbformat_minor": 0
}
