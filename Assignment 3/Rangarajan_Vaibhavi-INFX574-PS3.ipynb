{
 "cells": [
  {
   "cell_type": "markdown",
   "metadata": {
    "ein.tags": [
     "worksheet-0"
    ],
    "slideshow": {
     "slide_type": "-"
    }
   },
   "source": [
    "# Problem Set 3, due May 9th at 3:30pm.\n",
    "\n",
    "### Before You Start\n",
    "\n",
    "Make sure the following libraries load correctly (hit Ctrl-Enter). Note that while you are loading several powerful libraries, including machine learning libraries, the goal of this problem set is to implement several algorithms from scratch. In particular, you should *not* be using any built-in libraries for nearest neighbors, distance metrics, or cross-validation -- your mission is to write those algorithms in Python!\n",
    "\n",
    "*Also note:* For this assignment we are requiring you to use base **matplotlib** - no more Seaborn or other packages. This will help you become familiar with techniques for maintaining fine-grained control over your data visualizations. It will also help our graders, who spent countless hours trying to make various versions import for grading."
   ]
  },
  {
   "cell_type": "code",
   "execution_count": 9,
   "metadata": {
    "autoscroll": "json-false",
    "collapsed": true,
    "ein.tags": [
     "worksheet-0"
    ],
    "slideshow": {
     "slide_type": "-"
    }
   },
   "outputs": [],
   "source": [
    "import IPython\n",
    "import numpy as np\n",
    "import pandas as pd\n",
    "\n",
    "import matplotlib\n",
    "import matplotlib.pyplot as plt\n",
    "%matplotlib inline\n",
    "\n",
    "import sklearn\n",
    "import scipy as sp\n",
    "from scipy.stats.stats import pearsonr   \n",
    "\n",
    "import sys\n",
    "import operator\n",
    "import time\n",
    "import math\n",
    "\n",
    "import warnings\n",
    "warnings.filterwarnings('ignore')"
   ]
  },
  {
   "cell_type": "markdown",
   "metadata": {
    "ein.tags": [
     "worksheet-0"
    ],
    "slideshow": {
     "slide_type": "-"
    }
   },
   "source": [
    "---\n",
    "\n",
    "## Introduction to the assignment\n",
    "\n",
    "For this assignment, you will be using the [Boston Housing Prices Data Set](http://archive.ics.uci.edu/ml/datasets/Housing).  Please read about the dataset carefully before continuing.  Use the following commands to load the dataset and print some descriptive information\n"
   ]
  },
  {
   "cell_type": "code",
   "execution_count": 10,
   "metadata": {
    "autoscroll": "json-false",
    "collapsed": true,
    "ein.tags": [
     "worksheet-0"
    ],
    "slideshow": {
     "slide_type": "-"
    }
   },
   "outputs": [],
   "source": [
    "from sklearn.datasets import load_boston\n",
    "bdata = load_boston()"
   ]
  },
  {
   "cell_type": "markdown",
   "metadata": {
    "ein.tags": [
     "worksheet-0"
    ],
    "slideshow": {
     "slide_type": "-"
    }
   },
   "source": [
    "The following commands will provide some basic information about the shape of the data:"
   ]
  },
  {
   "cell_type": "code",
   "execution_count": 11,
   "metadata": {
    "autoscroll": "json-false",
    "ein.tags": [
     "worksheet-0"
    ],
    "slideshow": {
     "slide_type": "-"
    }
   },
   "outputs": [
    {
     "name": "stdout",
     "output_type": "stream",
     "text": [
      "<class 'sklearn.datasets.base.Bunch'>\n",
      "dict_keys(['data', 'target', 'feature_names', 'DESCR'])\n",
      "['CRIM' 'ZN' 'INDUS' 'CHAS' 'NOX' 'RM' 'AGE' 'DIS' 'RAD' 'TAX' 'PTRATIO'\n",
      " 'B' 'LSTAT']\n",
      "(506, 13)\n",
      "(506,)\n"
     ]
    }
   ],
   "source": [
    "print(type(bdata))\n",
    "print (bdata.keys())\n",
    "print (bdata.feature_names)\n",
    "print (bdata.data.shape)\n",
    "print (bdata.target.shape)\n",
    "# uncomment the following if you want to see a lengthy description of the dataset\n",
    "#print (bdata.DESCR)"
   ]
  },
  {
   "cell_type": "markdown",
   "metadata": {},
   "source": [
    "#### Comment on Boston sklearn dataset\n",
    "The sklearn dataset by default is of the type: _sklearn.datasets.base.Bunch_. This must to be converted to dataframes for easy manipulation."
   ]
  },
  {
   "cell_type": "code",
   "execution_count": 12,
   "metadata": {},
   "outputs": [
    {
     "name": "stdout",
     "output_type": "stream",
     "text": [
      "Data (Input) is of type <class 'numpy.ndarray'> \n",
      "Input shape:  (506, 13)\n",
      "\n",
      "PREDICTOR variables\n"
     ]
    },
    {
     "data": {
      "text/html": [
       "<div>\n",
       "<table border=\"1\" class=\"dataframe\">\n",
       "  <thead>\n",
       "    <tr style=\"text-align: right;\">\n",
       "      <th></th>\n",
       "      <th>CRIM</th>\n",
       "      <th>ZN</th>\n",
       "      <th>INDUS</th>\n",
       "      <th>CHAS</th>\n",
       "      <th>NOX</th>\n",
       "      <th>RM</th>\n",
       "      <th>AGE</th>\n",
       "      <th>DIS</th>\n",
       "      <th>RAD</th>\n",
       "      <th>TAX</th>\n",
       "      <th>PTRATIO</th>\n",
       "      <th>B</th>\n",
       "      <th>LSTAT</th>\n",
       "    </tr>\n",
       "  </thead>\n",
       "  <tbody>\n",
       "    <tr>\n",
       "      <th>0</th>\n",
       "      <td>0.00632</td>\n",
       "      <td>18.0</td>\n",
       "      <td>2.31</td>\n",
       "      <td>0.0</td>\n",
       "      <td>0.538</td>\n",
       "      <td>6.575</td>\n",
       "      <td>65.2</td>\n",
       "      <td>4.0900</td>\n",
       "      <td>1.0</td>\n",
       "      <td>296.0</td>\n",
       "      <td>15.3</td>\n",
       "      <td>396.90</td>\n",
       "      <td>4.98</td>\n",
       "    </tr>\n",
       "    <tr>\n",
       "      <th>1</th>\n",
       "      <td>0.02731</td>\n",
       "      <td>0.0</td>\n",
       "      <td>7.07</td>\n",
       "      <td>0.0</td>\n",
       "      <td>0.469</td>\n",
       "      <td>6.421</td>\n",
       "      <td>78.9</td>\n",
       "      <td>4.9671</td>\n",
       "      <td>2.0</td>\n",
       "      <td>242.0</td>\n",
       "      <td>17.8</td>\n",
       "      <td>396.90</td>\n",
       "      <td>9.14</td>\n",
       "    </tr>\n",
       "    <tr>\n",
       "      <th>2</th>\n",
       "      <td>0.02729</td>\n",
       "      <td>0.0</td>\n",
       "      <td>7.07</td>\n",
       "      <td>0.0</td>\n",
       "      <td>0.469</td>\n",
       "      <td>7.185</td>\n",
       "      <td>61.1</td>\n",
       "      <td>4.9671</td>\n",
       "      <td>2.0</td>\n",
       "      <td>242.0</td>\n",
       "      <td>17.8</td>\n",
       "      <td>392.83</td>\n",
       "      <td>4.03</td>\n",
       "    </tr>\n",
       "    <tr>\n",
       "      <th>3</th>\n",
       "      <td>0.03237</td>\n",
       "      <td>0.0</td>\n",
       "      <td>2.18</td>\n",
       "      <td>0.0</td>\n",
       "      <td>0.458</td>\n",
       "      <td>6.998</td>\n",
       "      <td>45.8</td>\n",
       "      <td>6.0622</td>\n",
       "      <td>3.0</td>\n",
       "      <td>222.0</td>\n",
       "      <td>18.7</td>\n",
       "      <td>394.63</td>\n",
       "      <td>2.94</td>\n",
       "    </tr>\n",
       "    <tr>\n",
       "      <th>4</th>\n",
       "      <td>0.06905</td>\n",
       "      <td>0.0</td>\n",
       "      <td>2.18</td>\n",
       "      <td>0.0</td>\n",
       "      <td>0.458</td>\n",
       "      <td>7.147</td>\n",
       "      <td>54.2</td>\n",
       "      <td>6.0622</td>\n",
       "      <td>3.0</td>\n",
       "      <td>222.0</td>\n",
       "      <td>18.7</td>\n",
       "      <td>396.90</td>\n",
       "      <td>5.33</td>\n",
       "    </tr>\n",
       "  </tbody>\n",
       "</table>\n",
       "</div>"
      ],
      "text/plain": [
       "      CRIM    ZN  INDUS  CHAS    NOX     RM   AGE     DIS  RAD    TAX  \\\n",
       "0  0.00632  18.0   2.31   0.0  0.538  6.575  65.2  4.0900  1.0  296.0   \n",
       "1  0.02731   0.0   7.07   0.0  0.469  6.421  78.9  4.9671  2.0  242.0   \n",
       "2  0.02729   0.0   7.07   0.0  0.469  7.185  61.1  4.9671  2.0  242.0   \n",
       "3  0.03237   0.0   2.18   0.0  0.458  6.998  45.8  6.0622  3.0  222.0   \n",
       "4  0.06905   0.0   2.18   0.0  0.458  7.147  54.2  6.0622  3.0  222.0   \n",
       "\n",
       "   PTRATIO       B  LSTAT  \n",
       "0     15.3  396.90   4.98  \n",
       "1     17.8  396.90   9.14  \n",
       "2     17.8  392.83   4.03  \n",
       "3     18.7  394.63   2.94  \n",
       "4     18.7  396.90   5.33  "
      ]
     },
     "execution_count": 12,
     "metadata": {},
     "output_type": "execute_result"
    }
   ],
   "source": [
    "#Create Dataframe from the ndarray of input data\n",
    "print('Data (Input) is of type' , type(bdata.data), '\\nInput shape: ', bdata.data.shape)\n",
    "print('\\nPREDICTOR variables')\n",
    "X_df = pd.DataFrame(data =bdata.data, columns = bdata.feature_names)\n",
    "X_df.head()"
   ]
  },
  {
   "cell_type": "code",
   "execution_count": 13,
   "metadata": {},
   "outputs": [
    {
     "name": "stdout",
     "output_type": "stream",
     "text": [
      "Target is of type:  <class 'numpy.ndarray'> \n",
      "Target shape:  (506,)\n",
      "\n",
      "RESPONSE variable\n"
     ]
    },
    {
     "data": {
      "text/html": [
       "<div>\n",
       "<table border=\"1\" class=\"dataframe\">\n",
       "  <thead>\n",
       "    <tr style=\"text-align: right;\">\n",
       "      <th></th>\n",
       "      <th>MEDV</th>\n",
       "    </tr>\n",
       "  </thead>\n",
       "  <tbody>\n",
       "    <tr>\n",
       "      <th>0</th>\n",
       "      <td>24.0</td>\n",
       "    </tr>\n",
       "    <tr>\n",
       "      <th>1</th>\n",
       "      <td>21.6</td>\n",
       "    </tr>\n",
       "    <tr>\n",
       "      <th>2</th>\n",
       "      <td>34.7</td>\n",
       "    </tr>\n",
       "    <tr>\n",
       "      <th>3</th>\n",
       "      <td>33.4</td>\n",
       "    </tr>\n",
       "    <tr>\n",
       "      <th>4</th>\n",
       "      <td>36.2</td>\n",
       "    </tr>\n",
       "  </tbody>\n",
       "</table>\n",
       "</div>"
      ],
      "text/plain": [
       "   MEDV\n",
       "0  24.0\n",
       "1  21.6\n",
       "2  34.7\n",
       "3  33.4\n",
       "4  36.2"
      ]
     },
     "execution_count": 13,
     "metadata": {},
     "output_type": "execute_result"
    }
   ],
   "source": [
    "#Create Dataframe from the response variable ndarray\n",
    "print('Target is of type: ' , type(bdata.target) , '\\nTarget shape: ', bdata.target.shape)\n",
    "print('\\nRESPONSE variable')\n",
    "y_df = pd.DataFrame(data =bdata.target, columns = ['MEDV'])\n",
    "y_df.head()"
   ]
  },
  {
   "cell_type": "code",
   "execution_count": 14,
   "metadata": {},
   "outputs": [
    {
     "name": "stdout",
     "output_type": "stream",
     "text": [
      "Overall (predictor and response) dataframe shape:  (506, 14)\n",
      "\n",
      "COMBINED dataframe\n"
     ]
    },
    {
     "data": {
      "text/html": [
       "<div>\n",
       "<table border=\"1\" class=\"dataframe\">\n",
       "  <thead>\n",
       "    <tr style=\"text-align: right;\">\n",
       "      <th></th>\n",
       "      <th>CRIM</th>\n",
       "      <th>ZN</th>\n",
       "      <th>INDUS</th>\n",
       "      <th>CHAS</th>\n",
       "      <th>NOX</th>\n",
       "      <th>RM</th>\n",
       "      <th>AGE</th>\n",
       "      <th>DIS</th>\n",
       "      <th>RAD</th>\n",
       "      <th>TAX</th>\n",
       "      <th>PTRATIO</th>\n",
       "      <th>B</th>\n",
       "      <th>LSTAT</th>\n",
       "      <th>MEDV</th>\n",
       "    </tr>\n",
       "  </thead>\n",
       "  <tbody>\n",
       "    <tr>\n",
       "      <th>0</th>\n",
       "      <td>0.00632</td>\n",
       "      <td>18.0</td>\n",
       "      <td>2.31</td>\n",
       "      <td>0.0</td>\n",
       "      <td>0.538</td>\n",
       "      <td>6.575</td>\n",
       "      <td>65.2</td>\n",
       "      <td>4.0900</td>\n",
       "      <td>1.0</td>\n",
       "      <td>296.0</td>\n",
       "      <td>15.3</td>\n",
       "      <td>396.90</td>\n",
       "      <td>4.98</td>\n",
       "      <td>24.0</td>\n",
       "    </tr>\n",
       "    <tr>\n",
       "      <th>1</th>\n",
       "      <td>0.02731</td>\n",
       "      <td>0.0</td>\n",
       "      <td>7.07</td>\n",
       "      <td>0.0</td>\n",
       "      <td>0.469</td>\n",
       "      <td>6.421</td>\n",
       "      <td>78.9</td>\n",
       "      <td>4.9671</td>\n",
       "      <td>2.0</td>\n",
       "      <td>242.0</td>\n",
       "      <td>17.8</td>\n",
       "      <td>396.90</td>\n",
       "      <td>9.14</td>\n",
       "      <td>21.6</td>\n",
       "    </tr>\n",
       "    <tr>\n",
       "      <th>2</th>\n",
       "      <td>0.02729</td>\n",
       "      <td>0.0</td>\n",
       "      <td>7.07</td>\n",
       "      <td>0.0</td>\n",
       "      <td>0.469</td>\n",
       "      <td>7.185</td>\n",
       "      <td>61.1</td>\n",
       "      <td>4.9671</td>\n",
       "      <td>2.0</td>\n",
       "      <td>242.0</td>\n",
       "      <td>17.8</td>\n",
       "      <td>392.83</td>\n",
       "      <td>4.03</td>\n",
       "      <td>34.7</td>\n",
       "    </tr>\n",
       "    <tr>\n",
       "      <th>3</th>\n",
       "      <td>0.03237</td>\n",
       "      <td>0.0</td>\n",
       "      <td>2.18</td>\n",
       "      <td>0.0</td>\n",
       "      <td>0.458</td>\n",
       "      <td>6.998</td>\n",
       "      <td>45.8</td>\n",
       "      <td>6.0622</td>\n",
       "      <td>3.0</td>\n",
       "      <td>222.0</td>\n",
       "      <td>18.7</td>\n",
       "      <td>394.63</td>\n",
       "      <td>2.94</td>\n",
       "      <td>33.4</td>\n",
       "    </tr>\n",
       "    <tr>\n",
       "      <th>4</th>\n",
       "      <td>0.06905</td>\n",
       "      <td>0.0</td>\n",
       "      <td>2.18</td>\n",
       "      <td>0.0</td>\n",
       "      <td>0.458</td>\n",
       "      <td>7.147</td>\n",
       "      <td>54.2</td>\n",
       "      <td>6.0622</td>\n",
       "      <td>3.0</td>\n",
       "      <td>222.0</td>\n",
       "      <td>18.7</td>\n",
       "      <td>396.90</td>\n",
       "      <td>5.33</td>\n",
       "      <td>36.2</td>\n",
       "    </tr>\n",
       "  </tbody>\n",
       "</table>\n",
       "</div>"
      ],
      "text/plain": [
       "      CRIM    ZN  INDUS  CHAS    NOX     RM   AGE     DIS  RAD    TAX  \\\n",
       "0  0.00632  18.0   2.31   0.0  0.538  6.575  65.2  4.0900  1.0  296.0   \n",
       "1  0.02731   0.0   7.07   0.0  0.469  6.421  78.9  4.9671  2.0  242.0   \n",
       "2  0.02729   0.0   7.07   0.0  0.469  7.185  61.1  4.9671  2.0  242.0   \n",
       "3  0.03237   0.0   2.18   0.0  0.458  6.998  45.8  6.0622  3.0  222.0   \n",
       "4  0.06905   0.0   2.18   0.0  0.458  7.147  54.2  6.0622  3.0  222.0   \n",
       "\n",
       "   PTRATIO       B  LSTAT  MEDV  \n",
       "0     15.3  396.90   4.98  24.0  \n",
       "1     17.8  396.90   9.14  21.6  \n",
       "2     17.8  392.83   4.03  34.7  \n",
       "3     18.7  394.63   2.94  33.4  \n",
       "4     18.7  396.90   5.33  36.2  "
      ]
     },
     "execution_count": 14,
     "metadata": {},
     "output_type": "execute_result"
    }
   ],
   "source": [
    "#Combine X (input) & y (output) into single dataframe\n",
    "all_df =  pd.concat([X_df, y_df], axis =1)\n",
    "print('Overall (predictor and response) dataframe shape: ', all_df.shape)\n",
    "print('\\nCOMBINED dataframe')\n",
    "all_df.head()"
   ]
  },
  {
   "cell_type": "markdown",
   "metadata": {},
   "source": [
    "#### Comment on Overall Dataframes:\n",
    "These dataframes are *not* to be edited throughout the analysis. They will be used to derive slices for testing, training, validation and model selection.\n",
    "* X_df   : Contains all the 13 predictor variables (CRIM, ZN, INDUS, CHAS, NOX, RM, AGE, DIS, RAD, TAX, PTRATIO, B, LSTAT) \n",
    "* y_df   : Contains the 1 response variable (MEDV)\n",
    "* all_df : Contains the combined instances of features and response"
   ]
  },
  {
   "cell_type": "markdown",
   "metadata": {
    "ein.tags": [
     "worksheet-0"
    ],
    "slideshow": {
     "slide_type": "-"
    }
   },
   "source": [
    "---\n",
    "\n",
    "## Part 1: Descriptive analysis\n",
    "\n",
    "The goal of this section is to explore the data and make a few nice\n",
    "visualizations -- before beginning the \"real\" work, we should dig into\n",
    "the data a bit do see what we are dealing with.  If you're new to data visualization, [this guide](http://pubs.aeaweb.org/doi/pdfplus/10.1257/jep.28.1.209) is a good place to start.\n",
    "  \n",
    "\n",
    "### 1.1: Histogram of housing prices\n",
    "\n",
    "Your first task is to make a histogram of 'MEDV' (the median hose\n",
    "                                                  value, your target\n",
    "                                                  variable), and make this graph look pretty by doing the following:\n",
    "\n",
    "1. Add appropriate labels to the x and y axes, make sure to include units\n",
    "2. Change the bin width on the histogram to be $1000\n",
    "3. Remove the axes on the top and right side of the plot window\n",
    "4. Change the color of the bars to be green, and remove the black borders from the bars\n"
   ]
  },
  {
   "cell_type": "code",
   "execution_count": 1,
   "metadata": {
    "autoscroll": "json-false",
    "ein.tags": [
     "worksheet-0"
    ],
    "slideshow": {
     "slide_type": "-"
    }
   },
   "outputs": [
    {
     "ename": "NameError",
     "evalue": "name 'y_df' is not defined",
     "output_type": "error",
     "traceback": [
      "\u001b[0;31m---------------------------------------------------------------------------\u001b[0m",
      "\u001b[0;31mNameError\u001b[0m                                 Traceback (most recent call last)",
      "\u001b[0;32m<ipython-input-1-197cc534a6d3>\u001b[0m in \u001b[0;36m<module>\u001b[0;34m()\u001b[0m\n\u001b[1;32m      3\u001b[0m \u001b[1;33m\u001b[0m\u001b[0m\n\u001b[1;32m      4\u001b[0m \u001b[1;31m#Prepare the data\u001b[0m\u001b[1;33m\u001b[0m\u001b[1;33m\u001b[0m\u001b[0m\n\u001b[0;32m----> 5\u001b[0;31m \u001b[0my\u001b[0m \u001b[1;33m=\u001b[0m \u001b[0my_df\u001b[0m\u001b[1;33m.\u001b[0m\u001b[0mvalues\u001b[0m\u001b[1;33m\u001b[0m\u001b[0m\n\u001b[0m\u001b[1;32m      6\u001b[0m \u001b[1;33m\u001b[0m\u001b[0m\n\u001b[1;32m      7\u001b[0m \u001b[1;31m#Prepare the plot\u001b[0m\u001b[1;33m\u001b[0m\u001b[1;33m\u001b[0m\u001b[0m\n",
      "\u001b[0;31mNameError\u001b[0m: name 'y_df' is not defined"
     ]
    }
   ],
   "source": [
    "#Plot Histogram - MEDV\n",
    "%matplotlib inline\n",
    "\n",
    "#Prepare the data\n",
    "y = y_df.values\n",
    "\n",
    "#Prepare the plot\n",
    "plt.figure(figsize=(10,8))\n",
    "plt.title('Histogram : Median Value of Boston houses (MEDV)', fontsize=14)\n",
    "plt.xlabel('Median value of Boston house(in 1000 USD)', fontsize=12)\n",
    "plt.ylabel('Frequency (number of towns)', fontsize=12)\n",
    "plt.grid(False)\n",
    "\n",
    "#Plot the data\n",
    "binwidth = 1 #MEDV is measured in units of 1000$\n",
    "bin_list = np.arange(min(y), max(y) + binwidth, binwidth)\n",
    "plt.hist(y, bins= bin_list, facecolor='green', alpha=0.7)\n",
    "\n",
    "#Remove spines on right and top\n",
    "ax = plt.gca()\n",
    "ax.spines['top'].set_visible(False)\n",
    "ax.spines['right'].set_visible(False)\n",
    "\n",
    "plt.show()"
   ]
  },
  {
   "cell_type": "markdown",
   "metadata": {},
   "source": [
    "#### Interpretation of histogram\n",
    "Seems like there are quite a few houses in the 20-30k USD range. Houses were cheaper in 1978! The mdeian house value seems to follow a normal distribution across the tows, except for a few outlier towns with very high prices."
   ]
  },
  {
   "cell_type": "markdown",
   "metadata": {
    "ein.tags": [
     "worksheet-0"
    ],
    "slideshow": {
     "slide_type": "-"
    }
   },
   "source": [
    "### 1.2: Scatter plot of housing prices and crime\n",
    "\n",
    "Use matplotlib to create a scatter plot that shows the relationship\n",
    "between the median value of the home (y-axis) and the per-capita crime\n",
    "rate (x-axis).  Properly label your axes, and make sure that your\n",
    "graphic looks polished and professional.  \n"
   ]
  },
  {
   "cell_type": "code",
   "execution_count": 16,
   "metadata": {
    "autoscroll": "json-false",
    "ein.tags": [
     "worksheet-0"
    ],
    "slideshow": {
     "slide_type": "-"
    }
   },
   "outputs": [
    {
     "data": {
      "image/png": "[encoded data removed]",
      "text/plain": [
       "<matplotlib.figure.Figure at 0x157b7e86d30>"
      ]
     },
     "metadata": {},
     "output_type": "display_data"
    },
    {
     "name": "stdout",
     "output_type": "stream",
     "text": [
      "\n",
      "Correlation between house price (MEDV) and Crime Rate (CRIM)\n",
      "          MEDV      CRIM\n",
      "MEDV  1.000000 -0.385832\n",
      "CRIM -0.385832  1.000000\n"
     ]
    }
   ],
   "source": [
    "#Plot Scatter= MEDV vs CRIM\n",
    "\n",
    "#Prepare the data\n",
    "#y = MEDV values already fetched previously\n",
    "crim = X_df['CRIM'].values\n",
    "\n",
    "#Prepare the plot\n",
    "plt.figure(figsize=(8,6))\n",
    "plt.title('Median Value of Boston houses (MEDV) vs Per-Capita Crime Rate in town (CRIM)', fontsize=14)\n",
    "plt.xlabel('Per-capita crime rate in town', fontsize=12)\n",
    "plt.ylabel('Median value of Boston house (in 1000 $)', fontsize=12)\n",
    "plt.grid(False)\n",
    "\n",
    "#Plot the data\n",
    "plt.scatter(crim, y, color='orange',  alpha=0.5)\n",
    "\n",
    "#Remove spines on right and top\n",
    "ax = plt.gca()\n",
    "ax.spines['top'].set_visible(False)\n",
    "ax.spines['right'].set_visible(False)\n",
    "\n",
    "plt.show()\n",
    "\n",
    "#Check for correlation using pandas corr() function \n",
    "#Alternate functions np.corrcoef, sp.stats.pearsonr\n",
    "print('\\nCorrelation between house price (MEDV) and Crime Rate (CRIM)')\n",
    "print(pd.concat([y_df, X_df['CRIM']], axis=1).corr())"
   ]
  },
  {
   "cell_type": "markdown",
   "metadata": {},
   "source": [
    "#### Interpretation of scatter plot\n",
    "The correlation in the plot is negative, and has a value of -0.38. This means that a high per-capita crime rate is associated with a smaller median house value in the town. \n",
    "The graph also tells us that most tows have very low per-capita crime. The towns that do have high crime rates invariably have very low median house prices. This is logical."
   ]
  },
  {
   "cell_type": "markdown",
   "metadata": {
    "ein.tags": [
     "worksheet-0"
    ],
    "slideshow": {
     "slide_type": "-"
    }
   },
   "source": [
    "### 1.3 Create your own (creative and effective) visualization\n",
    "\n",
    "Use another type of graph or chart to illustrate an interesting pattern in the data.  Be creative in your visualization, and make sure to produce a \"publication-quality\" graph.  Points will be given for useful and creative graphs; points will be deducted for confusing issues like unlabeled axes.  "
   ]
  },
  {
   "cell_type": "markdown",
   "metadata": {},
   "source": [
    "#### Aim of visualization:\n",
    "- Let's see how the median house value is a town can be affected by variables related to **education** and **poverty**.\n",
    "- For Education, we look at Pupil-Teacher-ratio (PTRATIO) as a metric. Higher PTRATIO is bad because a teacher has to handle many more kids. \n",
    "- For Poverty, we choose LSTAT, i,e, percentage of lower status population as a metric.\n",
    "- Thus, the graph will be faceted in color by PTRATIO, and have LSTAT as the x-axis\n",
    "- PTRATIO is a continuous variable, so we can categorize a town as HIGH, LOW or MEDIUM in PTRATIO based on the quantiles of the column"
   ]
  },
  {
   "cell_type": "code",
   "execution_count": 17,
   "metadata": {},
   "outputs": [
    {
     "name": "stdout",
     "output_type": "stream",
     "text": [
      "count    506.000000\n",
      "mean      18.455534\n",
      "std        2.164946\n",
      "min       12.600000\n",
      "25%       17.400000\n",
      "50%       19.050000\n",
      "75%       20.200000\n",
      "max       22.000000\n",
      "Name: PTRATIO, dtype: float64\n"
     ]
    }
   ],
   "source": [
    "print(all_df['PTRATIO'].describe())"
   ]
  },
  {
   "cell_type": "markdown",
   "metadata": {},
   "source": [
    "#### PTRATIO Levels:\n",
    "(Low    =  < 25%  = 17.4)    \n",
    "(Medium = 25-75% = 17.4 to 20.2)    \n",
    "(High   =  > 75% =  20.2)"
   ]
  },
  {
   "cell_type": "code",
   "execution_count": 18,
   "metadata": {
    "autoscroll": "json-false",
    "ein.tags": [
     "worksheet-0"
    ],
    "slideshow": {
     "slide_type": "-"
    }
   },
   "outputs": [
    {
     "data": {
      "image/png": "[encoded data removed]",
      "text/plain": [
       "<matplotlib.figure.Figure at 0x157b80397b8>"
      ]
     },
     "metadata": {},
     "output_type": "display_data"
    }
   ],
   "source": [
    "#Awesome Plot\n",
    "#Plot Scatter= MEDV vs CRIM\n",
    "\n",
    "#Subset the data\n",
    "#lstat   = all_df['LSTAT'].values\n",
    "low_ptr  = all_df.loc[all_df['PTRATIO'] <=17.4]\n",
    "mid_ptr  = all_df.loc[(all_df['PTRATIO'] >17.4) & (all_df['PTRATIO'] <=20.2)]\n",
    "high_ptr = all_df.loc[all_df['PTRATIO'] >20.2]\n",
    "\n",
    "#Prepare the data\n",
    "x1=low_ptr['LSTAT'].values\n",
    "y1=low_ptr['MEDV'].values\n",
    "\n",
    "x2=mid_ptr['LSTAT'].values\n",
    "y2=mid_ptr['MEDV'].values\n",
    "\n",
    "x3=high_ptr['LSTAT'].values\n",
    "y3=high_ptr['MEDV'].values\n",
    "\n",
    "\n",
    "#Prepare the plot\n",
    "plt.figure(figsize=(10,8))\n",
    "plt.title('Effect of Poverty and Education on Median Value of Boston houses (MEDV)', fontsize=14)\n",
    "plt.xlabel('Percentage of lower status households (Poverty)', fontsize=12)\n",
    "plt.ylabel('Median value of Boston house (in 1000 $)', fontsize=12)\n",
    "plt.grid(False)\n",
    "\n",
    "#Plot the data\n",
    "plt.scatter(x1, y1, c='blue', alpha=0.6, label='Low (Better)')\n",
    "plt.scatter(x2, y2, c='purple', alpha=0.2,  label='Medium')\n",
    "plt.scatter(x3, y3, c='red', alpha=0.6, label='High (Worse)')\n",
    "plt.legend(loc='best', title='Education(Pupil-Teacher Ratio)')\n",
    "\n",
    "#Remove spines on right and top\n",
    "ax = plt.gca()\n",
    "ax.spines['top'].set_visible(False)\n",
    "ax.spines['right'].set_visible(False)\n",
    "\n",
    "plt.show()"
   ]
  },
  {
   "cell_type": "markdown",
   "metadata": {},
   "source": [
    "#### Interpretation \n",
    "- Looking at the shape of the data cluster, we can immediately see a strong negative correlation between LSTAT i.e. percentage of lower status households and the Median House Price in an area. \n",
    "- Towns with higher fraction of lower status population tend to have lower median house prices.\n",
    "- Education is a more subtle difference as denoted with colors.\n",
    "- Looking at the colors that denote the pupil teacher ratio in a town, the colors chosen are BLUE for top 25% towns (Low pupil to teacher ratio), RED is for bottom 25% towns(High PTRATIO) and lilac color is for the middle 50% of the towns.\n",
    "- We can see when looking at the top 25% towns(BLUE dots), that they are more densely located in the left of the graph.Hence, towns with good pupil-teacher ratios also seem to have lower Poverty scores.\n",
    "- Looking at the RED dots, we can see that most of the bottom 25% towns in terms of education have a fair bit of population that is of lower status. \n",
    "- In particular, we can see that NONE of the educationally worse-off towns (RED dots) have high median prices.\n",
    "- This graph thus allows us to understand how both Poverty and Education metrics in a town can have an impact on house prices."
   ]
  },
  {
   "cell_type": "markdown",
   "metadata": {
    "ein.tags": [
     "worksheet-0"
    ],
    "slideshow": {
     "slide_type": "-"
    }
   },
   "source": [
    "---\n",
    "\n",
    "## Part 2: Experimental Setup\n",
    "\n",
    "The goal of the next few sections is to design an experiment to predict the median home value for an instance in the data.\n",
    "\n",
    "### 2.1 Begin by writing a function to compute the Root Mean Squared Error for a list of numbers\n",
    "\n",
    "You can find the sqrt function in the Numpy package. \n",
    "Details of RMSE can be found in Hastie, Tibishrani, Friedman _The\n",
    "Elements of Statistical Learning_, Ch 2.5.  (Available on the web)\n",
    "\n"
   ]
  },
  {
   "cell_type": "code",
   "execution_count": 19,
   "metadata": {
    "autoscroll": "json-false",
    "ein.tags": [
     "worksheet-0"
    ],
    "slideshow": {
     "slide_type": "-"
    }
   },
   "outputs": [
    {
     "name": "stdout",
     "output_type": "stream",
     "text": [
      "Verfying RMSE function \n",
      "For predictions(2,2,3) and actual values(0,2,6) \n",
      "RMSE = \n",
      "2.08166599947\n"
     ]
    }
   ],
   "source": [
    "\"\"\"\n",
    "Function\n",
    "--------\n",
    "compute_rmse\n",
    "\n",
    "Given two arrays, one of actual values and one of predicted values,\n",
    "compute the Root Mean Squared Error\n",
    "\n",
    "Parameters\n",
    "----------\n",
    "predictions : array\n",
    "    Array of numerical values corresponding to predictions for each of the N observations\n",
    "\n",
    "yvalues : array\n",
    "    Array of numerical values corresponding to the actual values for each of the N observations\n",
    "\n",
    "Returns\n",
    "-------\n",
    "rmse : FLOAT\n",
    "    Root Mean Squared Error of the prediction\n",
    "\n",
    "Example\n",
    "-------\n",
    ">>> print compute_rmse((2,2,3),(0,2,6))\n",
    "2.08\n",
    "\"\"\"\n",
    "\n",
    "def compute_rmse(predictions , yvalues):\n",
    "    if(len(predictions) !=len(yvalues)):\n",
    "        print('Lists of unequal lengths')\n",
    "        return -1\n",
    "    \n",
    "    sum_ee=0\n",
    "    for (pred, y) in zip(predictions , yvalues):\n",
    "        e = y - pred\n",
    "        e2= e*e\n",
    "        sum_ee = sum_ee+ e2\n",
    "        \n",
    "    mse=sum_ee/len(yvalues)\n",
    "    rmse = np.sqrt(mse)\n",
    "    return rmse\n",
    "\n",
    "#Check it out, yo!\n",
    "print('Verfying RMSE function \\nFor predictions(2,2,3) and actual values(0,2,6) \\nRMSE = ')\n",
    "print(compute_rmse((2,2,3),(0,2,6)))"
   ]
  },
  {
   "cell_type": "markdown",
   "metadata": {
    "ein.tags": [
     "worksheet-0"
    ],
    "slideshow": {
     "slide_type": "-"
    }
   },
   "source": [
    "### 2.2 Divide your data into training and testing datasets\n",
    "\n",
    "\n",
    "Randomly select 66% of the data and put this in a training dataset\n",
    "(call this \"bdata_train\"), and place the remaining 34% in a testing\n",
    "dataset (call this \"bdata_test\").  Please us 'np.random' for random numbers.\n"
   ]
  },
  {
   "cell_type": "code",
   "execution_count": 20,
   "metadata": {
    "collapsed": true
   },
   "outputs": [],
   "source": [
    "# leave the following line untouched, it will help ensure that your \"random\" split is the same \"random\" split used by the rest of the class\n",
    "np.random.seed(seed=13579)"
   ]
  },
  {
   "cell_type": "code",
   "execution_count": 21,
   "metadata": {
    "autoscroll": "json-false",
    "collapsed": true,
    "ein.tags": [
     "worksheet-0"
    ],
    "slideshow": {
     "slide_type": "-"
    }
   },
   "outputs": [],
   "source": [
    "#Returns a shuffled form of the input dataframe for a given seed value\n",
    "def shuffle_df(df, seed=1):\n",
    "    shuffle_df = df.sample(frac=1, random_state=seed)\n",
    "    return shuffle_df\n",
    "    \n",
    "#Splits a given dataframe into two, without randomization, based on an input fraction (0-1)\n",
    "def split_df_into_two(df, split_pct=0.5, verbose= False):\n",
    "    (nrow, ncol) = df.shape\n",
    "    nrow1 = math.ceil(split_pct*nrow)\n",
    "    nrow2 = nrow-nrow1\n",
    "    \n",
    "    df1 = df.iloc[:nrow1, :]\n",
    "    df2 = df.iloc[nrow1: ,:]\n",
    "    \n",
    "    if(verbose==True):\n",
    "        print('Row Split Equation : ', nrow, ' = ' ,nrow1 , ' + ', nrow2 )\n",
    "        print('\\nOriginal  dataframe shape : ', df.shape)\n",
    "        print('First     dataframe shape : ', df1.shape)\n",
    "        print('Second    dataframe shape : ', df2.shape)    \n",
    "    return(df1, df2)"
   ]
  },
  {
   "cell_type": "code",
   "execution_count": 22,
   "metadata": {},
   "outputs": [
    {
     "name": "stdout",
     "output_type": "stream",
     "text": [
      "\n",
      "Train data : \n",
      " (334, 14)\n",
      "\n",
      "Train data : \n",
      "          CRIM    ZN  INDUS  CHAS    NOX     RM   AGE     DIS   RAD    TAX  \\\n",
      "440  22.05110   0.0  18.10   0.0  0.740  5.818  92.4  1.8662  24.0  666.0   \n",
      "215   0.19802   0.0  10.59   0.0  0.489  6.182  42.4  3.9454   4.0  277.0   \n",
      "212   0.21719   0.0  10.59   1.0  0.489  5.807  53.8  3.6526   4.0  277.0   \n",
      "197   0.04666  80.0   1.52   0.0  0.404  7.107  36.6  7.3090   2.0  329.0   \n",
      "161   1.46336   0.0  19.58   0.0  0.605  7.489  90.8  1.9709   5.0  403.0   \n",
      "\n",
      "     PTRATIO       B  LSTAT  MEDV  \n",
      "440     20.2  391.45  22.11  10.5  \n",
      "215     18.6  393.63   9.47  25.0  \n",
      "212     18.6  390.94  16.03  22.4  \n",
      "197     12.6  354.31   8.61  30.3  \n",
      "161     14.7  374.43   1.73  50.0  \n",
      "\n",
      "Test  data: \n",
      " (172, 14)\n",
      "\n",
      "Test  data: \n",
      "         CRIM    ZN  INDUS  CHAS    NOX     RM   AGE     DIS   RAD    TAX  \\\n",
      "432  6.44405   0.0  18.10   0.0  0.584  6.425  74.8  2.2004  24.0  666.0   \n",
      "253  0.36894  22.0   5.86   0.0  0.431  8.259   8.4  8.9067   7.0  330.0   \n",
      "369  5.66998   0.0  18.10   1.0  0.631  6.683  96.8  1.3567  24.0  666.0   \n",
      "480  5.82401   0.0  18.10   0.0  0.532  6.242  64.7  3.4242  24.0  666.0   \n",
      "181  0.06888   0.0   2.46   0.0  0.488  6.144  62.2  2.5979   3.0  193.0   \n",
      "\n",
      "     PTRATIO       B  LSTAT  MEDV  \n",
      "432     20.2   97.95  12.03  16.1  \n",
      "253     19.1  396.90   3.54  42.8  \n",
      "369     20.2  375.33   3.73  50.0  \n",
      "480     20.2  396.90  10.74  23.0  \n",
      "181     17.8  396.90   9.45  36.2  \n"
     ]
    }
   ],
   "source": [
    "#Let's randomize overall dataframe and split into two\n",
    "new_df = shuffle_df(all_df, 13579)\n",
    "bdata_train, bdata_test= split_df_into_two(new_df, 0.66)\n",
    "\n",
    "print('\\nTrain data : \\n',bdata_train.shape)\n",
    "print('\\nTrain data : \\n',bdata_train.head())\n",
    "\n",
    "print('\\nTest  data: \\n',bdata_test.shape)\n",
    "print('\\nTest  data: \\n',bdata_test.head())"
   ]
  },
  {
   "cell_type": "markdown",
   "metadata": {},
   "source": [
    "#### Comment on Splitting data into training and test set\n",
    "The aim with the two functions is to create a re-usable and effective way to create test/train splits.\n",
    "Note that both the features and output an\n",
    "* shuffle_df() : Takes a dataframe and seed value (default=1) to return the shuffled version of the dataframe . The indexes of the original rows are shuffled along with the row data.\n",
    "\n",
    "* split_df_into_two() : Takes a dataframe and split_percentage(default = 50-50) and two dataframes with rows sliced in the expected ratio.\n",
    "\n",
    "* bdata_train: Dataframe with input features and response variable for \"Training\" set = 334 rows\n",
    "* bdata_test : Dataframe with input features and response variable for \"Test\"  set = 172 rows"
   ]
  },
  {
   "cell_type": "markdown",
   "metadata": {
    "ein.tags": [
     "worksheet-0"
    ],
    "slideshow": {
     "slide_type": "-"
    }
   },
   "source": [
    "### 2.3 Use a trivial baseline model for prediction, and compute RMSE\n",
    "Create a model that predicts, for every observation x_i, that the median home value is the average (mean) of the median values for all instances in the training set.  Compute the RMSE on the training set.  Now compute the RMSE on the test data set (but use the model you trained on the training set!).  How does RMSE compare for training vs. testing datasets? Is this what you expected, and why?\n",
    "\n",
    "#### Create Baseline Model"
   ]
  },
  {
   "cell_type": "code",
   "execution_count": 23,
   "metadata": {
    "autoscroll": "json-false",
    "ein.tags": [
     "worksheet-0"
    ],
    "slideshow": {
     "slide_type": "-"
    }
   },
   "outputs": [
    {
     "name": "stdout",
     "output_type": "stream",
     "text": [
      "BASELINE MODEL\n",
      "Always predicts  :  22.045808383233524\n",
      "Number of training data instances: 334\n",
      "Shape of Baseline Model Predictions : (334, 1)\n",
      "        MEDV\n",
      "0  22.045808\n",
      "1  22.045808\n",
      "2  22.045808\n",
      "3  22.045808\n",
      "4  22.045808\n"
     ]
    }
   ],
   "source": [
    "#Create baseline data\n",
    "mean_train_response = bdata_train['MEDV'].mean()   #Always predict average value of training response \n",
    "(nrow_train, _) = bdata_train.shape\n",
    "\n",
    "y_baseline_df = pd.DataFrame(mean_train_response, index=list(range(nrow_train)), columns=['MEDV'])\n",
    "\n",
    "print('BASELINE MODEL\\nAlways predicts  : ',mean_train_response)\n",
    "print('Number of training data instances:', nrow_train)\n",
    "print('Shape of Baseline Model Predictions :' , y_baseline_df.shape)\n",
    "print(y_baseline_df.head())"
   ]
  },
  {
   "cell_type": "markdown",
   "metadata": {},
   "source": [
    "#### Baseline Model Evaluation : RMSE"
   ]
  },
  {
   "cell_type": "code",
   "execution_count": 24,
   "metadata": {},
   "outputs": [
    {
     "name": "stdout",
     "output_type": "stream",
     "text": [
      "Train error  :  8.57443441541\n",
      "Test error   :  10.3092622563\n"
     ]
    }
   ],
   "source": [
    "#Use RMSE on Training and Testing data\n",
    "baseline_train_error = compute_rmse(bdata_train['MEDV'].values, [mean_train_response]*nrow_train)\n",
    "print('Train error  : ', baseline_train_error)\n",
    "\n",
    "nrow_test, _ = bdata_test.shape\n",
    "baseline_test_error = compute_rmse(bdata_test['MEDV'].values, [mean_train_response]*nrow_test)\n",
    "print('Test error   : ', baseline_test_error)"
   ]
  },
  {
   "cell_type": "markdown",
   "metadata": {},
   "source": [
    "#### Comments on Baseline Model Performance\n",
    "We expect the test error to be much higher than training error, as the model is fit on the seen training data, and cannot perform as well on the test data. In general, we should try to do better than the baseline model, since it is a good benchmark to check our model's performance"
   ]
  },
  {
   "cell_type": "markdown",
   "metadata": {
    "ein.tags": [
     "worksheet-0"
    ],
    "slideshow": {
     "slide_type": "-"
    }
   },
   "source": [
    "## Part 3: Nearest Neighbors\n"
   ]
  },
  {
   "cell_type": "markdown",
   "metadata": {
    "ein.tags": [
     "worksheet-0"
    ],
    "slideshow": {
     "slide_type": "-"
    }
   },
   "source": [
    "### 3.1 Nearest Neighbors: Distance function\n",
    "Let's try and build a machine learning algorithm to beat the \"Average\n",
    "Value\" baseline that you computed above.  Soon you will implement the\n",
    "Nearest Neighbor algorithm, but first you need to create a distance\n",
    "metric to measure the distance (and similarity) between two instances.\n",
    "\n",
    "Write a generic function to compute the Lp-Norm distance. Verify that\n",
    "your function works by computing the L-2 (Euclidean) distance and L-1 (Manhattan) distance between the points (3,4) and (6,8), and between (6,8) and (3,4).  Ensure that your distance is correct and positive in both cases!\n"
   ]
  },
  {
   "cell_type": "code",
   "execution_count": 192,
   "metadata": {
    "autoscroll": "json-false",
    "ein.tags": [
     "worksheet-0"
    ],
    "slideshow": {
     "slide_type": "-"
    }
   },
   "outputs": [
    {
     "name": "stdout",
     "output_type": "stream",
     "text": [
      "\n",
      "Testing distance function\n",
      "7.0\n",
      "5.385164807134504\n",
      "7.0\n"
     ]
    }
   ],
   "source": [
    "\"\"\"\n",
    "Function\n",
    "--------\n",
    "distance\n",
    "\n",
    "Given two instances and a value for L, return the L-Norm distance between them\n",
    "\n",
    "Parameters\n",
    "----------\n",
    "x1, x2 : array\n",
    "    Array of numerical values corresponding to predictions for each of the N observations\n",
    "\n",
    "L: int\n",
    "    Value of L to use in computing distances\n",
    "\n",
    "Returns\n",
    "-------\n",
    "dist : int\n",
    "    The L-norm distance between instances\n",
    "\n",
    "Example\n",
    "-------\n",
    ">>> print distance((3,4),(5,9),1)\n",
    "7\n",
    "\n",
    "\"\"\"\n",
    "def distance(x1, x2, L=1):\n",
    "    sum_dist=0\n",
    "    for(ai,bi) in zip(x1, x2):\n",
    "         sum_dist += pow(abs(ai-bi) ,L)\n",
    "\n",
    "    dist= pow(sum_dist,float(1)/L)\n",
    "    return np.asarray(dist)\n",
    "\n",
    "print('\\nTesting distance function')\n",
    "print (distance((3,4),(5,9),1) )\n",
    "print (distance((3,4),(5,9),2) )\n",
    "print (distance([3,4],[5,9],1) )\n",
    "\n"
   ]
  },
  {
   "cell_type": "markdown",
   "metadata": {},
   "source": [
    "#### Distance Function for KNN Algorithm"
   ]
  },
  {
   "cell_type": "code",
   "execution_count": 193,
   "metadata": {
    "collapsed": true
   },
   "outputs": [],
   "source": [
    "def good_distance(x1, x2, l=2):\n",
    "    arr1 =np.asarray(x1)\n",
    "    arr2 =np.asarray(x2)\n",
    "    \n",
    "    ax = 1 if arr1.ndim >1  else 0 \n",
    "    dist = np.power(np.sum(np.abs((arr1 - arr2)**l),ax),1/l)\n",
    "   \n",
    "    return(dist)"
   ]
  },
  {
   "cell_type": "markdown",
   "metadata": {},
   "source": [
    "#### Comment on  distance function\n",
    "* The distance function works as long as the inputs are lists, tuples etc. \n",
    "* The lists are expected to have the same length, i.e. same number of dimensions in hyperspace. \n",
    "* Since the above function cannot find the distance between Series or DataFrame objects, we will write an improved custom function to find the L-norm distance between two dataframes with same column names.\n",
    "* We will use good_distance function for KNN algorithm"
   ]
  },
  {
   "cell_type": "markdown",
   "metadata": {
    "ein.tags": [
     "worksheet-0"
    ],
    "slideshow": {
     "slide_type": "-"
    }
   },
   "source": [
    "### 3.2 Basic Nearest Neighbor algorithm\n",
    "\n",
    "Now things get fun.  Your task is to implement a basic nearest neighbor algorithm from scratch.  Your simple model will use two input features (CRIM and RM) and a single output (MEDV).  In other words, you are modelling the relationship between median home value and crime rates and house size.\n",
    "\n",
    "Use your training data (bdata_train) to \"fit\" your model, although as\n",
    "you know, with Nearest Neighbors there is no real training, you just\n",
    "need to keep your training data in memory.  Write a function that\n",
    "predicts, for each instance in the testing data (bdata_test), the\n",
    "median home value using the nearest neighbor algorithm we discussed in\n",
    "class.  Since this is a small dataset, you can simply compare your\n",
    "test instance to every instance in the training set, and return the\n",
    "MEDV value of the closest training instance.  You can just loop over\n",
    "the instances to find the nearest neighbor.  Have your function take L as an input, where L is passed to the distance function.\n",
    "\n",
    "Compute the RMSE for the Nearest Neighbor predictions on the test set, using the Euclidean distance.  Report an estimate of the total time taken by your code to predict the nearest neighbors for all the values in the test data set.\n",
    "\n",
    "Plot the true vs predicted price for your test data\n"
   ]
  },
  {
   "cell_type": "markdown",
   "metadata": {},
   "source": [
    "#### Basic Nearest Neighbor Algorithm (1-NN)\n",
    "1. Create a function to find the nearest neighbor\n",
    "2. Create a function to map the nearest neighbors index to the corresponding response value\n",
    "3. Calculate RMSE"
   ]
  },
  {
   "cell_type": "markdown",
   "metadata": {},
   "source": [
    "#### Find Nearest Neighbor's Index from Training Set for a given Test Set Instance"
   ]
  },
  {
   "cell_type": "code",
   "execution_count": 32,
   "metadata": {
    "collapsed": true
   },
   "outputs": [],
   "source": [
    "#Returns index of the closest element to a given point 'q' in a m-Dimensional space of points 'p' based on L-norm distance metric\n",
    "#p and q are lists of m-dimensions (m features) (equivalent to vectors with m dimensions)\n",
    "#Shortcut: df.values.tolist() converts rows into lists, but doesn't contain index\n",
    "def find_nearest_index(points_df, q, L=1, verbose = False):\n",
    "    if(verbose==True):\n",
    "        print('\\nUsing L-' , L, ' norm distance metric')\n",
    "        print('\\nTest q type:', type(q))\n",
    "        print('\\nTest q:', q)\n",
    "        print('\\nTrain points_df type:\\n', type(points_df))\n",
    "        #print('\\n and Train points_df:\\n', points_df) #too much\n",
    "        print('\\nSeries    => Single Column Predictor')\n",
    "        print('\\nDataFrame => Multi  Column Predictor')\n",
    "    \n",
    "    min_dist = sys.maxsize  #Minimum must be smaller than this\n",
    "    nearest = 0\n",
    "    \n",
    "    if isinstance(points_df, pd.Series):\n",
    "        for row in points_df.iteritems(): #Iterate over rows of Series\n",
    "            index, data = row\n",
    "            p = [data]  #Convert Series row's values to list \n",
    "            #print('\\np = ', p)\n",
    "            #print(type(p)) gives list\n",
    "            dist = distance(p, q, L) #print(type(p)) Both p and q should be list of Float!\n",
    "            if(dist < min_dist):\n",
    "                min_dist = dist\n",
    "                nearest = index\n",
    "    else:\n",
    "        if isinstance(points_df, pd.DataFrame):\n",
    "            #print('About to process distances! \\n')\n",
    "            #print('\\nTest point q is : ' , q) #q is a list\n",
    "            #print(type(q))\n",
    "            for row in points_df.iterrows(): #Iterate over rows of dataframe\n",
    "                index, data = row\n",
    "                p = data.tolist() #Convert df row's values to list \n",
    "                #print('\\nTraining point p = ', p)\n",
    "                #print(type(p)) #gives list\n",
    "                dist = distance(p, q, L)\n",
    "                if(dist < min_dist):\n",
    "                    min_dist = dist\n",
    "                    nearest = index\n",
    "    #print('\\nNearest for : ' , q, ' is at index ', nearest ,' with value: ', points_df.loc[nearest])\n",
    "    return nearest"
   ]
  },
  {
   "cell_type": "markdown",
   "metadata": {},
   "source": [
    "#### 1- Nearest Neighbor Method"
   ]
  },
  {
   "cell_type": "code",
   "execution_count": 33,
   "metadata": {},
   "outputs": [],
   "source": [
    "#Finds nearest neighbour based on a more than one feature \n",
    "#returns Test predictors df, and nearest neighbours for given test_index\n",
    "#No response variables required, yet!\n",
    "def basic_nearest_neighbor(X_train, X_test, predictors, nn_col='NearestIndex', L=1, verbose=False, time_it=False): #x is a single    \n",
    "    if(time_it == True): #Show time to run only when needed\n",
    "        print('\\nBasic 1-Nearest Neighbour L-', L )\n",
    "        tic=time.time()\n",
    "    \n",
    "    if len(predictors) == 0:\n",
    "        predictors = X_train.columns.tolist()\n",
    "    p=len(predictors)\n",
    "    \n",
    "    #Single feature based prediction\n",
    "    if p == 1:\n",
    "        input_col = predictors[0]\n",
    "        result_df = X_test[[input_col]].copy()\n",
    "        \n",
    "        #Find nearest neighbors for each test instance among all training points using simple_search\n",
    "        points_df = X_train[input_col]\n",
    "        nn_function = lambda x : find_nearest_index(points_df, [x], L=L, verbose = False)\n",
    "        \n",
    "        result_df[nn_col]= X_test[input_col].apply(nn_function)#No need for axis=1, since it's a single column            \n",
    "        result_cols = [input_col, nn_col] \n",
    "    \n",
    "    #Multi feature based prediction\n",
    "    else:\n",
    "        points_df = X_train.ix[:,predictors]\n",
    "        result_df = X_test[predictors].copy()\n",
    "        #print('Type of input : ' , type(points_df), ' ', type(result_df))\n",
    "        \n",
    "        #list(row) is list, row is Series \n",
    "        nn_multi_function = lambda row : find_nearest_index(points_df, list(row), L=L, verbose = False)\n",
    "        result_df[nn_col]= result_df.apply(nn_multi_function, axis=1) #Needs axis=1        \n",
    "        result_cols = predictors + [nn_col]\n",
    "\n",
    "    #Print results and return\n",
    "    if(verbose == True):\n",
    "            print('\\nUsing L-' , L, ' norm distance metric')\n",
    "            print('Predictor column(s) : ' , predictors)  \n",
    "            print('\\n Here is the output header! \\n')\n",
    "            print(result_df.head())\n",
    "    \n",
    "    if(time_it == True):\n",
    "        toc = time.time()\n",
    "        print(\"1-NN with \", p , \" features, Test set:\", X_test.shape, ', Train set:', X_train.shape , \" took \", (toc-tic), \"seconds.\")\n",
    "    \n",
    "    return result_df, predictors"
   ]
  },
  {
   "cell_type": "markdown",
   "metadata": {},
   "source": [
    "#### 1-NN Prediction for test points"
   ]
  },
  {
   "cell_type": "code",
   "execution_count": 34,
   "metadata": {},
   "outputs": [],
   "source": [
    "#X_test_nn is df of predictor columns, and calculated neighbor index, y_train is Series\n",
    "#Returns a Series with same name as y_train, with predicted values\n",
    "def nearest_neighbor_prediction(Test_nn, y_train, nn_col='NearestIndex', time_it=False): \n",
    "\n",
    "    #Response Column name should be same for train and test\n",
    "    response_col = y_train.name        \n",
    "\n",
    "    if(time_it==True):\n",
    "        print('\\nResponse column: ', response_col)\n",
    "        tic=time.time()\n",
    "\n",
    "    #Test Predictions df: row indexes of input test data, columns of training response variable\n",
    "    test_predictions = pd.DataFrame(index=Test_nn.index.tolist(), columns  = [response_col])\n",
    "    test_predictions[response_col] = Test_nn[nn_col].apply(lambda idx: y_train.get_value(idx)) #get element at index for Series\n",
    "    \n",
    "    if(time_it == True):\n",
    "        toc = time.time()\n",
    "        print(\"1-NN Prediction for Test points:\", Test_nn.shape, ' and Train Response:', y_train.shape , \" took \", (toc-tic), \"seconds.\")\n",
    "    return test_predictions"
   ]
  },
  {
   "cell_type": "markdown",
   "metadata": {},
   "source": [
    "#### Prepare data to test 1-NN"
   ]
  },
  {
   "cell_type": "code",
   "execution_count": 35,
   "metadata": {
    "collapsed": true
   },
   "outputs": [],
   "source": [
    "#Set up for execution\n",
    "X_train= bdata_train.ix[:, bdata_train.columns != 'MEDV']\n",
    "y_train = bdata_train['MEDV']\n",
    "\n",
    "X_test= bdata_test.ix[:, bdata_test.columns != 'MEDV']\n",
    "y_test = bdata_test['MEDV']\n",
    "\n",
    "Xy_train = pd.concat([X_train, y_train]) #Same as bdata_train\n",
    "Xy_test = pd.concat([X_test, y_test]) #Same as bdata_test\n"
   ]
  },
  {
   "cell_type": "markdown",
   "metadata": {},
   "source": [
    "#### Run 1-NN with 2 features (RM & CRIM)"
   ]
  },
  {
   "cell_type": "code",
   "execution_count": 36,
   "metadata": {},
   "outputs": [
    {
     "name": "stdout",
     "output_type": "stream",
     "text": [
      "\n",
      "Basic 1-Nearest Neighbour L- 2\n",
      "1-NN with  2  features, Test set: (172, 13) , Train set: (334, 13)  took  4.032604217529297 seconds.\n",
      "        RM     CRIM  NearestIndex\n",
      "432  6.425  6.44405           475\n",
      "253  8.259  0.36894           233\n",
      "369  6.683  5.66998           481\n",
      "480  6.242  5.82401           442\n",
      "181  6.144  0.06888           293\n"
     ]
    }
   ],
   "source": [
    "#Run basic model for 1 feature\n",
    "predictors=['RM', 'CRIM']\n",
    "test_nn , _ = basic_nearest_neighbor(X_train, X_test, predictors, L=2, verbose = False, time_it=True) \n",
    "print(test_nn.head())"
   ]
  },
  {
   "cell_type": "code",
   "execution_count": 37,
   "metadata": {},
   "outputs": [
    {
     "name": "stdout",
     "output_type": "stream",
     "text": [
      "\n",
      "Response column:  MEDV\n",
      "1-NN Prediction for Test points: (172, 3)  and Train Response: (334,)  took  0.008002281188964844 seconds.\n",
      "     MEDV\n",
      "432  13.3\n",
      "253  48.3\n",
      "369  23.7\n",
      "480  18.4\n",
      "181  23.9\n"
     ]
    }
   ],
   "source": [
    "model_1_preds = nearest_neighbor_prediction(test_nn , y_train, time_it=True)\n",
    "print(model_1_preds.head())"
   ]
  },
  {
   "cell_type": "markdown",
   "metadata": {},
   "source": [
    "#### Comparing predictions with actual results (+ caveat)\n",
    "Note: The results of predictions are a dataframe, but the test data responses are a pandas Series."
   ]
  },
  {
   "cell_type": "code",
   "execution_count": 38,
   "metadata": {},
   "outputs": [
    {
     "name": "stdout",
     "output_type": "stream",
     "text": [
      "\n",
      "Predicted Values:  (172, 1)\n",
      "<class 'pandas.core.frame.DataFrame'>\n",
      "     MEDV\n",
      "432  13.3\n",
      "253  48.3\n",
      "369  23.7\n",
      "480  18.4\n",
      "181  23.9\n",
      "\n",
      "Actual Values:  (172,)\n",
      "<class 'pandas.core.series.Series'>\n",
      "432    16.1\n",
      "253    42.8\n",
      "369    50.0\n",
      "480    23.0\n",
      "181    36.2\n",
      "Name: MEDV, dtype: float64\n"
     ]
    }
   ],
   "source": [
    "print('\\nPredicted Values: ', model_1_preds.shape)\n",
    "print(type(model_1_preds))\n",
    "print(model_1_preds.head())\n",
    "\n",
    "print('\\nActual Values: ', y_test.shape)\n",
    "print(type(y_test))\n",
    "print(y_test.head())"
   ]
  },
  {
   "cell_type": "markdown",
   "metadata": {},
   "source": [
    "#### RMSE for Model #1:  1-NN with two features"
   ]
  },
  {
   "cell_type": "code",
   "execution_count": 39,
   "metadata": {},
   "outputs": [
    {
     "name": "stdout",
     "output_type": "stream",
     "text": [
      "7.40172041598\n"
     ]
    }
   ],
   "source": [
    "rmse = compute_rmse(model_1_preds['MEDV'].values, y_test.values)\n",
    "print(rmse)\n",
    "#print(rmse/y_train.mean()) Coefficients"
   ]
  },
  {
   "cell_type": "markdown",
   "metadata": {},
   "source": [
    "**Answer ** \n",
    "- Mean RMSE of this model is 7.40172041598\n",
    "- Time to run this model is  4.03 seconds"
   ]
  },
  {
   "cell_type": "markdown",
   "metadata": {},
   "source": [
    "### Plots for Model #1: 1-NN with two features\n",
    "\n",
    "#### Line plot"
   ]
  },
  {
   "cell_type": "code",
   "execution_count": 40,
   "metadata": {},
   "outputs": [
    {
     "data": {
      "image/png": "[encoded data removed]",
      "text/plain": [
       "<matplotlib.figure.Figure at 0x157b9498ef0>"
      ]
     },
     "metadata": {},
     "output_type": "display_data"
    }
   ],
   "source": [
    "%matplotlib inline\n",
    "#Plot Predicted vs Actual for Test Data)\n",
    "\n",
    "#Prepare the data\n",
    "y1 = y_test.values\n",
    "y2 = model_1_preds['MEDV'].values\n",
    "\n",
    "#Prepare the plot\n",
    "fig = plt.figure(figsize=(10,8))\n",
    "plt.title('Test Set: Predicted vs Actual Median House Values', fontsize=14)\n",
    "plt.xlabel('Actual Median House Value (in 1000 $)', fontsize=12)\n",
    "plt.ylabel('Preicted Median House Value (in 1000 $)', fontsize=12)\n",
    "\n",
    "#plot the data\n",
    "plt.scatter(y1, y2, c='blue', alpha = 0.4,  label=\"Predicted vs Actual response\")\n",
    "\n",
    "#Remove spines on right and top\n",
    "ax = plt.gca()\n",
    "ax.spines['top'].set_visible(False)\n",
    "ax.spines['right'].set_visible(False)"
   ]
  },
  {
   "cell_type": "markdown",
   "metadata": {},
   "source": [
    "#### Plot Interpretation\n",
    "\n",
    "We can see a fairly positive correlation between the predicted responses and the actual values. However, there's a fair bit of jitter in the graph, and it tells us that there can be a better model with higher correlation out there."
   ]
  },
  {
   "cell_type": "markdown",
   "metadata": {},
   "source": [
    "#### Extra Plot: Checking Prediction Error for feature  number of rooms (RM)"
   ]
  },
  {
   "cell_type": "code",
   "execution_count": 41,
   "metadata": {},
   "outputs": [
    {
     "data": {
      "image/png": "[encoded data removed]",
      "text/plain": [
       "<matplotlib.figure.Figure at 0x157b9522780>"
      ]
     },
     "metadata": {},
     "output_type": "display_data"
    }
   ],
   "source": [
    "#Plot of prediction error vs Per-capita crime rate (CRIM) input\n",
    "#Prepare the data\n",
    "x = X_test['RM'].values\n",
    "y1 = y_test.values\n",
    "y2 = model_1_preds['MEDV'].values\n",
    "\n",
    "#Prepare the plot\n",
    "fig = plt.figure(figsize=(10,8))\n",
    "plt.title('Test Set: Predicted vs Actual Median House Values with Number of Rooms (RM)', fontsize=14)\n",
    "plt.xlabel('Average number of rooms in house', fontsize=12)\n",
    "plt.ylabel('Preicted Median House Value (in 1000 $)', fontsize=12)\n",
    "\n",
    "#plot the data\n",
    "plt.scatter(x, y1, color='green', alpha = 0.7, label=\"Actual values\")\n",
    "plt.scatter(x, y2, color ='orange', alpha =0.7, label=\"Predicted values\")\n",
    "plt.legend(loc='center right')\n",
    "\n",
    "#Remove spines on right and top\n",
    "ax = plt.gca()\n",
    "ax.spines['top'].set_visible(False)\n",
    "ax.spines['right'].set_visible(False)"
   ]
  },
  {
   "cell_type": "markdown",
   "metadata": {},
   "source": [
    "#### Plot Interpretation\n",
    "The model over-predicts more often when the number of rooms in the house are very low, and the model underpredicts a little, when the number of rooms in a house is very high. That said, this plot is not very useful."
   ]
  },
  {
   "cell_type": "markdown",
   "metadata": {
    "ein.tags": [
     "worksheet-0"
    ],
    "slideshow": {
     "slide_type": "-"
    }
   },
   "source": [
    "### 3.3 Results and Normalization\n",
    "\n",
    "If you were being astute, you would have noticed that we never normalized our features -- a big no-no with Nearest Neighbor algorithms.  Normalization is similar to Mahalanobis disctance (if the features are independent).  Read more in Daume (2017), _A Course in Machine Learning_ Chapter 4.3.  Write a simple generic normalization function that takes as input an array of values for a given feature, and returns the normalized array.  Do it well, you will need it in the future as well ;-)\n",
    "\n",
    "Re-run the Nearest Neighbor algorithm on the normalized dataset (still just using CRIM and RM as input), and compare the RMSE from this method with your previous RMSE evaluations.\n",
    "\n",
    "*NOTE*: To normalize properly, best practice is to compute the mean and standard deviation on the training set, and use these values to normalize the testing dataset. However, for this problem set, it is okay if you separately normalize each dataset using the respective mean and standard deviation."
   ]
  },
  {
   "cell_type": "code",
   "execution_count": 195,
   "metadata": {
    "autoscroll": "json-false",
    "collapsed": true,
    "ein.tags": [
     "worksheet-0"
    ],
    "slideshow": {
     "slide_type": "-"
    }
   },
   "outputs": [],
   "source": [
    "\"\"\"\n",
    "These functions normalize a test and training data set based on the mean and standard deviation of the training set.\n",
    "The dataframe is normalized based on each column's own mean and standard deviation.\n",
    "\"\"\"\n",
    "def normalize_column(col, mean = '', std = '' ):\n",
    "    if(mean ==''):\n",
    "        mean = col.mean()\n",
    "        std = col.mean()\n",
    "        \n",
    "    norm_col = (col - mean) / std\n",
    "    return (norm_col, mean, std)\n",
    "\n",
    "#Expects input dataframes\n",
    "#Caution, normalization should be done to numerical columns only\n",
    "#Response Variable should NOT be normalized\n",
    "def normalize_df(train_data, test_data):\n",
    "    \n",
    "    #Two ways of getting df column names in list\n",
    "    train_col_names = list(train_data.columns.values)    \n",
    "    test_col_names  = list(test_data.columns.values)\n",
    "    #print(train_col_names)\n",
    "    #print(test_col_names)\n",
    "    \n",
    "    train_dict= {}#stores Key Value pair training column_name paired with tuple (mean, std) for column\n",
    "    \n",
    "    #Create dataframes for normalization, with same indexes as train, test \n",
    "    train_data_norm = pd.DataFrame(index=train_data.index.tolist(), columns=train_col_names)\n",
    "    test_data_norm  = pd.DataFrame(index=test_data.index.tolist() , columns=test_col_names)\n",
    "    \n",
    "    #Store the mean and std of training data columns\n",
    "    for col in train_col_names:\n",
    "        (norm_col, m, s) = normalize_column(train_data[col])\n",
    "        train_data_norm[col] = norm_col\n",
    "        train_dict[col] = (m,s)\n",
    "    \n",
    "    #Normalize test data with mean and std of training data columns\n",
    "    for col in test_col_names:\n",
    "        (m,s) = train_dict[col]\n",
    "        (norm_col, _, _) =normalize_column(test_data[col], m, s)\n",
    "        test_data_norm[col] = norm_col\n",
    "    \n",
    "    return train_data_norm, test_data_norm\n",
    "\n",
    "#Doing proper normalization"
   ]
  },
  {
   "cell_type": "code",
   "execution_count": 196,
   "metadata": {},
   "outputs": [
    {
     "name": "stdout",
     "output_type": "stream",
     "text": [
      "\n",
      "NOTE: Response variables do not need to be normalized. Only input features do.\n",
      "\n"
     ]
    }
   ],
   "source": [
    "print('\\nNOTE: Response variables do not need to be normalized. Only input features do.\\n')\n",
    "X_train_norm, X_test_norm = normalize_df(X_train, X_test)\n",
    "#print('\\nTraining Data (No Response variable)\\n', X_train.head())\n",
    "#print('\\nNormalized Training Data\\n', X_train_norm.head())\n",
    "#print('\\nTest Data      (No Response variable)\\n', X_test.head())\n",
    "#print('\\nNormalized Test Data\\n', X_test_norm.head())"
   ]
  },
  {
   "cell_type": "code",
   "execution_count": 197,
   "metadata": {},
   "outputs": [],
   "source": [
    "#Create Combined Normalized columns\n",
    "Xy_train_norm = pd.concat([X_train_norm, y_train]) #Same as bdata_train normalized\n",
    "Xy_test_norm = pd.concat([X_test_norm, y_test])"
   ]
  },
  {
   "cell_type": "markdown",
   "metadata": {},
   "source": [
    "#### Running basic model with NORMALIZED data (RM, CRIM)"
   ]
  },
  {
   "cell_type": "code",
   "execution_count": 198,
   "metadata": {},
   "outputs": [
    {
     "name": "stdout",
     "output_type": "stream",
     "text": [
      "\n",
      "Basic 1-Nearest Neighbour L- 2\n",
      "1-NN with  2  features, Test set: (172, 13) , Train set: (334, 13)  took  3.4111835956573486 seconds.\n",
      "           RM      CRIM  NearestIndex\n",
      "432  0.029742  0.836837           475\n",
      "253  0.323679 -0.894836           233\n",
      "369  0.071092  0.616193           481\n",
      "480  0.000412  0.660099           486\n",
      "181 -0.015294 -0.980366            87\n"
     ]
    }
   ],
   "source": [
    "#Run basic model for 2 features  after Normalization\n",
    "cols=['RM', 'CRIM']\n",
    "test_norm_nn,_  = basic_nearest_neighbor(X_train_norm, X_test_norm, predictors=cols, L=2, verbose= False, time_it=True) \n",
    "print(test_norm_nn.head())"
   ]
  },
  {
   "cell_type": "code",
   "execution_count": 199,
   "metadata": {},
   "outputs": [
    {
     "name": "stdout",
     "output_type": "stream",
     "text": [
      "\n",
      "Response column:  MEDV\n",
      "1-NN Prediction for Test points: (172, 3)  and Train Response: (334,)  took  0.007220268249511719 seconds.\n",
      "     MEDV\n",
      "432  13.3\n",
      "253  48.3\n",
      "369  23.7\n",
      "480  19.1\n",
      "181  22.2\n"
     ]
    }
   ],
   "source": [
    "model_2_preds = nearest_neighbor_prediction(test_norm_nn , y_train, time_it=True)\n",
    "print(model_2_preds.head())"
   ]
  },
  {
   "cell_type": "markdown",
   "metadata": {},
   "source": [
    "#### RMSE calculation"
   ]
  },
  {
   "cell_type": "code",
   "execution_count": 201,
   "metadata": {},
   "outputs": [
    {
     "name": "stdout",
     "output_type": "stream",
     "text": [
      "7.45404135742\n"
     ]
    }
   ],
   "source": [
    "nrmse = compute_rmse(model_2_preds['MEDV'].values, y_test.values)\n",
    "range_medv = y_test.max()-y_test.min()\n",
    "mean_medv  = y_test.mean()\n",
    "\n",
    "print(nrmse)\n",
    "#print('Range : ', nrmse*range_medv )\n",
    "#print('Mean  : ', nrmse*mean_medv )"
   ]
  },
  {
   "cell_type": "markdown",
   "metadata": {},
   "source": [
    "#### Comments:\n",
    "- RMSE after normalization = 7.45404135742\n",
    "\n",
    "- The RMSE is slightly higher now. Earlier we were using non-normalized data that was not scaled. Now we have scaled the test-data using the training data means and standard deviations. \n",
    "- However, this difference is not significantly big.\n",
    "- The advantage of normalization is that we can be surer about the distance function not being vastly impacted by columns with large ranges.\n",
    "- This model takes around 3.4 seconds, which is fairly faster than before."
   ]
  },
  {
   "cell_type": "markdown",
   "metadata": {
    "ein.tags": [
     "worksheet-0"
    ],
    "slideshow": {
     "slide_type": "-"
    }
   },
   "source": [
    "### 3.4 Optimization\n",
    "\n",
    "\n",
    "A lot of the decisions we've made so far have been arbitrary.  Try to increase the performance of your nearest neighbor algorithm by adding features that you think might be relevant, and by using different values of L in the distance function.  Try a model that uses a different set of 2 features, then try at least one model that uses more than 4 features, then try using a different value of L.  If you're having fun, try a few different combinations of features and L!  \n",
    "\n",
    "What combination of features and distance function provide the lowest RMSE?  Compre RMSEs with the corresponding true-predicted plots.\n",
    "\n",
    "Do your decisions affect the running time of the algorithm?"
   ]
  },
  {
   "cell_type": "code",
   "execution_count": 49,
   "metadata": {
    "autoscroll": "json-false",
    "ein.tags": [
     "worksheet-0"
    ],
    "slideshow": {
     "slide_type": "-"
    }
   },
   "outputs": [
    {
     "data": {
      "text/plain": [
       "'\\n3 - CHAS     Charles River dummy variable (= 1 if tract bounds river; 0 otherwise)\\n5 - NOX      nitric oxides concentration (parts per 10 million)\\n6 - AGE      proportion of owner-occupied units built prior to 1940\\n9 - TAX      full-value property-tax rate per $10,000\\n11 - B        1000(Bk - 0.63)^2 where Bk is the proportion of blacks by town\\n\\n'"
      ]
     },
     "execution_count": 49,
     "metadata": {},
     "output_type": "execute_result"
    }
   ],
   "source": [
    "'''\n",
    "3 - CHAS     Charles River dummy variable (= 1 if tract bounds river; 0 otherwise)\n",
    "5 - NOX      nitric oxides concentration (parts per 10 million)\n",
    "6 - AGE      proportion of owner-occupied units built prior to 1940\n",
    "9 - TAX      full-value property-tax rate per $10,000\n",
    "11 - B        1000(Bk - 0.63)^2 where Bk is the proportion of blacks by town\n",
    "\n",
    "'''"
   ]
  },
  {
   "cell_type": "markdown",
   "metadata": {},
   "source": [
    "#### Custom method to run and test a model for given features and distance\n",
    "We will optimize models using normalized data starting now!! "
   ]
  },
  {
   "cell_type": "code",
   "execution_count": 82,
   "metadata": {},
   "outputs": [],
   "source": [
    "def validate_1NN_model(X_train, X_test, y_train, y_test, predictors, L=1, verbose= False, plot_data = False):\n",
    "    print('Features : ', predictors)\n",
    "    print('Distance : L-', L)\n",
    "    test_neighbors, _ = basic_nearest_neighbor(X_train, X_test, predictors, L=L, verbose=verbose) \n",
    "    model_preds = nearest_neighbor_prediction(test_neighbors , y_train)\n",
    "    rmse = compute_rmse(model_preds['MEDV'].values, y_test.values)\n",
    "    print('RMSE     : ', rmse)\n",
    "    print('----------------------------\\n')\n",
    "    \n",
    "    if(plot_data == True):\n",
    "        #Prepare the data\n",
    "        y1 = y_test.values\n",
    "        y2 = model_preds['MEDV'].values\n",
    "\n",
    "        #Prepare the plot\n",
    "        fig = plt.figure(figsize=(12,9))\n",
    "        plt.title('Visualize Model: Predicted vs Actual Median House Values', fontsize=14)\n",
    "        plt.xlabel('Actual Median House Value (in 1000 $)', fontsize=12)\n",
    "        plt.ylabel('Preicted Median House Value (in 1000 $)', fontsize=12)\n",
    "        \n",
    "\n",
    "        #plot the data\n",
    "        label_str = 'Distance: L-',L\n",
    "        legend_str = 'Model Features: ', predictors\n",
    "        plt.scatter(y1, y2, c='purple', alpha = 0.5,  label=label_str)\n",
    "        plt.legend(title = legend_str, loc='best')\n",
    "\n",
    "        #Remove spines on right and top\n",
    "        ax = plt.gca()\n",
    "        ax.spines['top'].set_visible(False)\n",
    "        ax.spines['right'].set_visible(False)\n",
    "        "
   ]
  },
  {
   "cell_type": "markdown",
   "metadata": {},
   "source": [
    "#### Running many models"
   ]
  },
  {
   "cell_type": "code",
   "execution_count": 204,
   "metadata": {},
   "outputs": [
    {
     "name": "stdout",
     "output_type": "stream",
     "text": [
      "\n",
      " Running 1-NN models with different L and features\n",
      "\n",
      "Features :  ['AGE', 'B']\n",
      "Distance : L- 1\n",
      "RMSE     :  11.9261730933\n",
      "----------------------------\n",
      "\n",
      "Features :  ['AGE', 'B']\n",
      "Distance : L- 2\n",
      "RMSE     :  12.0057762261\n",
      "----------------------------\n",
      "\n",
      "Features :  ['PTRATIO', 'NOX']\n",
      "Distance : L- 1\n",
      "RMSE     :  8.43056454839\n",
      "----------------------------\n",
      "\n",
      "Features :  ['PTRATIO', 'NOX']\n",
      "Distance : L- 2\n",
      "RMSE     :  8.43056454839\n",
      "----------------------------\n",
      "\n",
      "Bad model with 2 features time:  3.825288772583008  seconds.\n"
     ]
    },
    {
     "data": {
      "image/png": "[encoded data removed]",
      "text/plain": [
       "<matplotlib.figure.Figure at 0x157b98fbbe0>"
      ]
     },
     "metadata": {},
     "output_type": "display_data"
    }
   ],
   "source": [
    "X_tr= X_train_norm\n",
    "y_tr= y_train\n",
    "X_te = X_test_norm\n",
    "y_te = y_test\n",
    "\n",
    "print('\\n Running 1-NN models with different L and features\\n')\n",
    "cols = ['AGE', 'B']\n",
    "L=1\n",
    "tic=time.time()\n",
    "validate_1NN_model(X_tr, X_te, y_tr, y_te, cols, L=L, verbose=False, plot_data=True)\n",
    "toc=time.time()\n",
    "\n",
    "L=2\n",
    "validate_1NN_model(X_tr, X_te, y_tr, y_te, cols, L=L, verbose=False)\n",
    "\n",
    "\n",
    "cols = ['PTRATIO', 'NOX']\n",
    "L=1\n",
    "validate_1NN_model(X_tr, X_te, y_tr, y_te, cols, L=L, verbose=False)\n",
    "L=2\n",
    "validate_1NN_model(X_tr, X_te, y_tr, y_te, cols, L=L, verbose=False)\n",
    "\n",
    "print('Bad model with 2 features time: ', toc-tic, ' seconds.')\n"
   ]
  },
  {
   "cell_type": "markdown",
   "metadata": {},
   "source": [
    "#### Comment:\n",
    "Age and B alone are terrible predictors, with a worse RMSE than baseline model!"
   ]
  },
  {
   "cell_type": "code",
   "execution_count": 205,
   "metadata": {},
   "outputs": [
    {
     "name": "stdout",
     "output_type": "stream",
     "text": [
      "Features :  ['CHAS', 'NOX', 'AGE']\n",
      "Distance : L- 1\n",
      "RMSE     :  9.5057081994\n",
      "----------------------------\n",
      "\n",
      "Features :  ['CHAS', 'NOX', 'AGE']\n",
      "Distance : L- 2\n",
      "RMSE     :  9.58145920333\n",
      "----------------------------\n",
      "\n",
      "Features :  ['CHAS', 'NOX', 'TAX', 'B']\n",
      "Distance : L- 1\n",
      "RMSE     :  7.3557365685\n",
      "----------------------------\n",
      "\n",
      "Features :  ['CHAS', 'NOX', 'TAX', 'B']\n",
      "Distance : L- 2\n",
      "RMSE     :  7.32910730945\n",
      "----------------------------\n",
      "\n",
      "Features :  ['PTRATIO', 'LSTAT', 'CRIM', 'RM']\n",
      "Distance : L- 1\n",
      "RMSE     :  6.59702187918\n",
      "----------------------------\n",
      "\n",
      "Features :  ['PTRATIO', 'LSTAT', 'CRIM', 'RM']\n",
      "Distance : L- 2\n",
      "RMSE     :  6.70678673972\n",
      "----------------------------\n",
      "\n",
      "Good model with 4 features time:  3.6528549194335938  seconds.\n"
     ]
    },
    {
     "data": {
      "image/png": "[encoded data removed]",
      "text/plain": [
       "<matplotlib.figure.Figure at 0x157b9770a58>"
      ]
     },
     "metadata": {},
     "output_type": "display_data"
    }
   ],
   "source": [
    "\n",
    "cols = ['CHAS', 'NOX', 'AGE']\n",
    "L=1\n",
    "validate_1NN_model(X_tr, X_te, y_tr, y_te, cols, L=L, verbose=False)\n",
    "L=2\n",
    "validate_1NN_model(X_tr, X_te, y_tr, y_te, cols, L=L, verbose=False)\n",
    "\n",
    "cols = ['CHAS', 'NOX', 'TAX', 'B']\n",
    "L=1\n",
    "validate_1NN_model(X_tr, X_te, y_tr, y_te, cols, L=L, verbose=False)\n",
    "L=2\n",
    "validate_1NN_model(X_tr, X_te, y_tr, y_te, cols, L=L, verbose=False)\n",
    "\n",
    "cols = ['PTRATIO', 'LSTAT', 'CRIM', 'RM']\n",
    "L=1\n",
    "validate_1NN_model(X_tr, X_te, y_tr, y_te, cols, L=L, verbose=False)\n",
    "\n",
    "tic=time.time()\n",
    "L=2\n",
    "validate_1NN_model(X_tr, X_te, y_tr, y_te, cols, L=L, verbose=False, plot_data=True)\n",
    "toc=time.time()\n",
    "print('Good model with 4 features time: ', toc-tic, ' seconds.')"
   ]
  },
  {
   "cell_type": "markdown",
   "metadata": {
    "collapsed": true
   },
   "source": [
    "#### Comments\n",
    "- One of the best models uses features ['PTRATIO', 'LSTAT', 'CRIM', 'RM'] and L-2 distance\n",
    "- This above plot's model has the lowest RMSE seen yet. \n",
    "- The timing for the models varies, but fluctuates between 3- 5 seconds depending upon the number of features. "
   ]
  },
  {
   "cell_type": "markdown",
   "metadata": {
    "ein.tags": [
     "worksheet-0"
    ],
    "slideshow": {
     "slide_type": "-"
    }
   },
   "source": [
    "### 3.5 Cross-Validation\n",
    "\n",
    "The more you tinkered with your features and distance function, the higher the risk that you overfit your training data.  To prevent this sort of overfitting, you need to use cross-validation (see Daume (2017) _A Course in Machine Learning_, Ch 4.6).  Here you must implement a simple k-fold cross-validation algorithm yourself.  Essentially you have to partition your dataset into 10 equally-sized samples, and for each of 10 iterations (the \"folds\"), use 9 samples as \"training data\" (even though there is no training in k-NN!), and the remaining 1 sample for testing.  The function you write here will be used several more times in this problem set, so do your best to write efficient code! (Note that the sklearn package has a built-in K-fold iterator -- do *not* use that here.)\n",
    "\n",
    "Use Euclidean distance with CRIM and RM (0 and 5) as features.  Compute the RMSE of that particular test set, then move on to the next iteration.  Report the average RMSE across the 10 iterations, and the total running time for all 10 iterations.  Compare the k-fold RMSE with the training-testing split RMSE above for the same hyperparameter values."
   ]
  },
  {
   "cell_type": "markdown",
   "metadata": {
    "autoscroll": "json-false",
    "ein.tags": [
     "worksheet-0"
    ],
    "slideshow": {
     "slide_type": "-"
    }
   },
   "source": [
    "#### Cross Validation occurs with all the labels (X & Y)\n",
    "1. Shuffle the data (if needed)\n",
    "2. Create 10 equally spaced Folds (K=10) df1[] to df10 (store dictionary of df, indexed by Fold number)\n",
    "3. Now do 10 times\n",
    "    - validation_set = df[i], train_set = rest\n",
    "    - predictors = [CRIM, RM]\n",
    "    - run improved_nearest_neighbour\n",
    "    - find predictions\n",
    "    - compute rmse(predictions, actual)\n",
    "4. Find mean value of list of RMSE\n",
    "5. Return mean val\n"
   ]
  },
  {
   "cell_type": "code",
   "execution_count": 180,
   "metadata": {},
   "outputs": [],
   "source": [
    "def Kfold_cross_validation(data, response_col, predictors=[], \n",
    "                           folds = 10, L=1, fold_type='1NN', K =1,\n",
    "                           shuffle=False, seed=1 , \n",
    "                           verbose=False, time_it= False):\n",
    "    \n",
    "    if(verbose == True):\n",
    "        print('\\nCROSS-VALIDATION')\n",
    "        print('\\nNeighbor Algorithm : ' , fold_type)\n",
    "        print('Number of neighbors: ' , K)\n",
    "        print('Model Features     : ',predictors)\n",
    "        print('Distance Metric    : L-',L,'norm')\n",
    "        print('Shuffle data ?   : ' , shuffle,'\\n')\n",
    "    \n",
    "    if(shuffle==True):\n",
    "        df = data.shuffle(random_state=seed)\n",
    "    \n",
    "    rmse_list = []\n",
    "    df = data\n",
    "    nrow,_ = data.shape\n",
    "    \n",
    "    i = 1\n",
    "    span = range(0, nrow)\n",
    "    while(i <= folds): #Run folds times\n",
    "        _, start, end = fold_i_of_k(span, i, folds)\n",
    "        validation_set = data.iloc[start:end , :]                    #Contains X & y\n",
    "        training_set = data[~data.index.isin(validation_set.index)]  #Contains X & y\n",
    "        \n",
    "        #Reset Indexes to save this program!\n",
    "        training_set = training_set.reset_index(drop=True)\n",
    "        validation_set = validation_set.reset_index(drop=True)\n",
    "        #print('Validation Set :', start,' to ', end)\n",
    "         \n",
    "        if fold_type =='1NN': #Run the Nearest Neighbour algorithm\n",
    "            validation_response = validation_set[response_col]\n",
    "            training_response = training_set[response_col]\n",
    "            \n",
    "            validation_nn,_ = basic_nearest_neighbor(training_set, validation_set, predictors, L=L, verbose = False)\n",
    "            predicted_response = nearest_neighbor_prediction(validation_nn, training_response)\n",
    "            \n",
    "            rmse_out = compute_rmse(predicted_response.values, validation_response.values)\n",
    "            rmse= rmse_out[0] #Converting list of float to float\n",
    "        \n",
    "        elif fold_type =='KNN': #Run the KNN algorithm\n",
    "            predicted_response, rmse = k_nearest_neighbors(training_set, validation_set, response_col, predictors, L=L,K=K)\n",
    "    \n",
    "        \n",
    "        #Store RMSE\n",
    "        rmse_list.append(rmse)\n",
    "        if(verbose==True):\n",
    "            print('Fold ',i,' of ',folds, ' : RMSE = ',rmse)\n",
    "\n",
    "        i = i+1\n",
    "        \n",
    "    if(verbose==True):\n",
    "        print('\\nMean RMSE = ', np.mean(rmse_list))\n",
    "        \n",
    "    return np.mean(rmse_list), rmse_list "
   ]
  },
  {
   "cell_type": "code",
   "execution_count": 169,
   "metadata": {
    "collapsed": true
   },
   "outputs": [],
   "source": [
    "def fold_i_of_k(dataset, i, k):\n",
    "    n = len(dataset)\n",
    "    return dataset[n*(i-1)//k : n*i//k], n*(i-1)//k, n*i//k"
   ]
  },
  {
   "cell_type": "markdown",
   "metadata": {},
   "source": [
    "#### Test the Cross-validate function with 1-NN and 10 folds"
   ]
  },
  {
   "cell_type": "code",
   "execution_count": 167,
   "metadata": {
    "scrolled": false
   },
   "outputs": [
    {
     "name": "stdout",
     "output_type": "stream",
     "text": [
      "\n",
      "CROSS-VALIDATION\n",
      "\n",
      "Neighbor Algorithm :  1NN\n",
      "Number of neighbors:  1\n",
      "Model Features     :  ['CRIM', 'RM']\n",
      "Distance Metric    : L- 2 norm\n",
      "Shuffle data ?   :  False \n",
      "\n",
      "Validation Set : 0 - 50\n",
      "Fold  1  of  10  : RMSE =  5.69570013256\n",
      "Validation Set : 50 - 101\n",
      "Fold  2  of  10  : RMSE =  4.07801374181\n",
      "Validation Set : 101 - 151\n",
      "Fold  3  of  10  : RMSE =  4.78750456919\n",
      "Validation Set : 151 - 202\n",
      "Fold  4  of  10  : RMSE =  9.00503127342\n",
      "Validation Set : 202 - 253\n",
      "Fold  5  of  10  : RMSE =  5.5575244877\n",
      "Validation Set : 253 - 303\n",
      "Fold  6  of  10  : RMSE =  5.03229569878\n",
      "Validation Set : 303 - 354\n",
      "Fold  7  of  10  : RMSE =  4.06525208441\n",
      "Validation Set : 354 - 404\n",
      "Fold  8  of  10  : RMSE =  11.8588363679\n",
      "Validation Set : 404 - 455\n",
      "Fold  9  of  10  : RMSE =  13.2408310858\n",
      "Validation Set : 455 - 506\n",
      "Fold  10  of  10  : RMSE =  9.6023996184\n",
      "\n",
      "Mean RMSE =  7.292338906\n"
     ]
    }
   ],
   "source": [
    "X_norm_df, _ = normalize_df(X_df, X_test)\n",
    "data = pd.concat([X_norm_df, y_df], axis=1)\n",
    "response_col = 'MEDV'\n",
    "predictors = ['CRIM', 'RM']\n",
    "mean_rmse, _ = Kfold_cross_validation(data, response_col, predictors, folds = 10, L=2, shuffle=False, verbose=True)"
   ]
  },
  {
   "cell_type": "markdown",
   "metadata": {
    "collapsed": true
   },
   "source": [
    "#### Comment on Mean RMSE via Train/Test Split and  Cross-Validation\n",
    "* Using the same hyperparameters (e.g. L-2 norm), we found that mean RMSE reported by Cross-validation is around 7.29 when using the entire dataset of 506 rows.\n",
    "* This is comparable but lesser than the RMSE reported in the training/test split method.\n",
    "* The reasons for the difference can be due to more data being used in the Cross-Validation approach which provides a more robust estimate of test error.\n",
    "* Cross validation helps us perform better on generalized and unseen data"
   ]
  },
  {
   "cell_type": "markdown",
   "metadata": {
    "ein.tags": [
     "worksheet-0"
    ],
    "slideshow": {
     "slide_type": "-"
    }
   },
   "source": [
    "### 3.6 K-Nearest Neighbors Algorithm\n",
    "\n",
    "Implement the K-Nearest Neighbors algorithm.  Using 10-fold cross validation, report the RMSE for K=3 and the running time of the algorithm."
   ]
  },
  {
   "cell_type": "markdown",
   "metadata": {},
   "source": [
    "#### Find the distance of a test point to all training data instances"
   ]
  },
  {
   "cell_type": "code",
   "execution_count": 194,
   "metadata": {
    "collapsed": true
   },
   "outputs": [],
   "source": [
    "#Calculates the closest neighbor for a given test point and training data\n",
    "def find_neighbor_distances(test_points, train_data, predictors,L):\n",
    "    train_features = train_data.loc[:,predictors]\n",
    "    temp_dist = good_distance(test_points,train_features, L)  #Use improved distance function\n",
    "    \n",
    "    #Extracts the minimum value and stores the Median price for that index\n",
    "    return(temp_dist)"
   ]
  },
  {
   "cell_type": "markdown",
   "metadata": {},
   "source": [
    "#### KNN Algorithm : Find neighbors for all test points, calculate RMSE"
   ]
  },
  {
   "cell_type": "code",
   "execution_count": 174,
   "metadata": {
    "collapsed": true
   },
   "outputs": [],
   "source": [
    "def k_nearest_neighbors(train_data, test_data, response_col, predictors, L=1,K=1, verbose=False):\n",
    "    predictions = []\n",
    "    train_response = train_data.loc[:][response_col]\n",
    "    #print('len1=',len(train_response))\n",
    "    nrow_train = len(train_data)\n",
    "    \n",
    "    for index, row_data in test_data.iterrows(): \n",
    "        temp_test_df = pd.DataFrame(pd.concat([row_data.loc[predictors]]*nrow_train,ignore_index=True,axis=1)).T\n",
    "        \n",
    "        #Fetch Distance array     \n",
    "        distance_arr = pd.Series(find_neighbor_distances(temp_test_df, train_data, predictors,L=L))\n",
    "        #print('len2=',len(distance_arr))\n",
    "        \n",
    "        #Concatenates the train target and distance dataframes and sort them to find the k nearest neighbors\n",
    "        dist_output = pd.concat([distance_arr,train_response],axis=1)\n",
    "        dist_output.columns = [\"Distance\",response_col]\n",
    "        #print(dist_output) #yuuuge\n",
    "        dist_output = dist_output.sort_values('Distance',ascending=True)\n",
    "        \n",
    "        predicted_val = np.mean(dist_output.iloc[:K,1])\n",
    "        predictions.append(predicted_val)\n",
    "  \n",
    "    predictions = np.array(predictions)\n",
    "    test_response = test_data.loc[:][response_col]\n",
    "    rmse = compute_rmse(predictions,test_response)\n",
    "\n",
    "    if(verbose==True):\n",
    "        print('\\nUsing L-' , L, ' norm distance metric')\n",
    "        print('\\nTest point type:', type(test_data))\n",
    "        print('\\nTest point:', test_data)\n",
    "        print('\\nTrain set features type:\\n', type(X_train))\n",
    "        #print('\\n and Train points_df:\\n', train_features_df) #too much\n",
    "        print('\\nSeries    => Single Column Predictor')\n",
    "        print('\\nDataFrame => Multi  Column Predictor')\n",
    " \n",
    "    return(predictions,rmse)"
   ]
  },
  {
   "cell_type": "markdown",
   "metadata": {},
   "source": [
    "#### Checking CV Function :  1-NN Prediction, 3 Folds"
   ]
  },
  {
   "cell_type": "code",
   "execution_count": 177,
   "metadata": {
    "scrolled": false
   },
   "outputs": [
    {
     "name": "stdout",
     "output_type": "stream",
     "text": [
      "(506, 14)\n",
      "\n",
      "CROSS-VALIDATION\n",
      "\n",
      "Neighbor Algorithm :  KNN\n",
      "Number of neighbors:  1\n",
      "Model Features     :  ['CRIM', 'RM']\n",
      "Distance Metric    : L- 2 norm\n",
      "Shuffle data ?   :  False \n",
      "\n",
      "Validation Set : 0  to  168\n",
      "Fold  1  of  3  : RMSE =  5.75550461153\n",
      "Validation Set : 168  to  337\n",
      "Fold  2  of  3  : RMSE =  6.5872343821\n",
      "Validation Set : 337  to  506\n",
      "Fold  3  of  3  : RMSE =  7.97053003962\n",
      "\n",
      "Mean RMSE =  6.77108967775\n",
      "[5.7555046115291519, 6.5872343821010144, 7.9705300396163121]\n"
     ]
    }
   ],
   "source": [
    "X_norm_df, _ = normalize_df(X_df, X_test)\n",
    "data = pd.concat([X_norm_df, y_df], axis=1)\n",
    "response_col = 'MEDV'\n",
    "predictors = ['CRIM', 'RM']\n",
    "print(data.shape)\n",
    "\n",
    "#Fyi: 1 fold isn't working\n",
    "mean_rmse, rmse_list = Kfold_cross_validation(data, response_col, predictors, folds=3, fold_type='KNN', L=2, shuffle=False, verbose=True)\n",
    "print(rmse_list)"
   ]
  },
  {
   "cell_type": "markdown",
   "metadata": {},
   "source": [
    "#### Checking CV Function :  3-Nearest Neighbor Prediction, 10 Folds"
   ]
  },
  {
   "cell_type": "code",
   "execution_count": 178,
   "metadata": {},
   "outputs": [
    {
     "name": "stdout",
     "output_type": "stream",
     "text": [
      "\n",
      "CROSS-VALIDATION\n",
      "\n",
      "Neighbor Algorithm :  KNN\n",
      "Number of neighbors:  3\n",
      "Model Features     :  ['CRIM', 'RM']\n",
      "Distance Metric    : L- 2 norm\n",
      "Shuffle data ?   :  False \n",
      "\n",
      "Validation Set : 0  to  50\n",
      "Fold  1  of  10  : RMSE =  4.03785146389\n",
      "Validation Set : 50  to  101\n",
      "Fold  2  of  10  : RMSE =  3.27364201252\n",
      "Validation Set : 101  to  151\n",
      "Fold  3  of  10  : RMSE =  3.84815684596\n",
      "Validation Set : 151  to  202\n",
      "Fold  4  of  10  : RMSE =  9.16607960093\n",
      "Validation Set : 202  to  253\n",
      "Fold  5  of  10  : RMSE =  4.81928090171\n",
      "Validation Set : 253  to  303\n",
      "Fold  6  of  10  : RMSE =  4.35830242182\n",
      "Validation Set : 303  to  354\n",
      "Fold  7  of  10  : RMSE =  3.42234742153\n",
      "Validation Set : 354  to  404\n",
      "Fold  8  of  10  : RMSE =  11.8322337517\n",
      "Validation Set : 404  to  455\n",
      "Fold  9  of  10  : RMSE =  7.67539145496\n",
      "Validation Set : 455  to  506\n",
      "Fold  10  of  10  : RMSE =  5.67453317881\n",
      "\n",
      "Mean RMSE =  5.81078190539\n",
      "Time taken: 6.309258460998535  seconds\n"
     ]
    }
   ],
   "source": [
    "predictors = [\"CRIM\",\"RM\"]\n",
    "X_norm_df, _ = normalize_df(X_df, X_test)\n",
    "data = pd.concat([X_norm_df, y_df], axis=1)\n",
    "\n",
    "tic = time.time()\n",
    "mean_rmse, _ = Kfold_cross_validation(data, response_col, predictors, folds=10, K= 3, L=2, fold_type='KNN', verbose=True, time_it=False)\n",
    "toc = time.time()\n",
    "\n",
    "print(\"Time taken:\", toc-tic,\" seconds\")"
   ]
  },
  {
   "cell_type": "markdown",
   "metadata": {},
   "source": [
    "#### Comments\n",
    "- The mean RMSE of KNN with 3 neighbors and 10 folds is reported as 5.81, which is great!\n",
    "- This mean RMSE is much lower than previous 1-NN estimates, so looking at more than one neighbor is useful\n",
    "- The time for this method is higher (6.31 seconds) than previous models."
   ]
  },
  {
   "cell_type": "markdown",
   "metadata": {
    "ein.tags": [
     "worksheet-0"
    ],
    "slideshow": {
     "slide_type": "-"
    }
   },
   "source": [
    "### 3.7 Using cross validation to find K\n",
    "\n",
    "What is the best choice of K?  Compute the RMSE for values of K between 1 and 25 using 10-fold cross-validation.  Use the following features in your model, and don't forget to normalize: CRIM, ZN, RM, AGE, DIS, TAX.  Create a graph that shows how RMSE changes as K increases from 1 to 25.  Label your axes, and summarize what you see.  What do you think is a reasonable choice of K for this model?"
   ]
  },
  {
   "cell_type": "code",
   "execution_count": 185,
   "metadata": {
    "autoscroll": "json-false",
    "ein.tags": [
     "worksheet-0"
    ],
    "slideshow": {
     "slide_type": "-"
    }
   },
   "outputs": [
    {
     "name": "stdout",
     "output_type": "stream",
     "text": [
      "Starting 10-fold CV for  1 -Nearest Neighbours\n",
      "RMSE = 7.88529784391 \n",
      "\n",
      "Starting 10-fold CV for  2 -Nearest Neighbours\n",
      "RMSE = 7.38116280389 \n",
      "\n",
      "Starting 10-fold CV for  3 -Nearest Neighbours\n",
      "RMSE = 7.27179549317 \n",
      "\n",
      "Starting 10-fold CV for  4 -Nearest Neighbours\n",
      "RMSE = 7.27719833298 \n",
      "\n",
      "Starting 10-fold CV for  5 -Nearest Neighbours\n",
      "RMSE = 7.2185519916 \n",
      "\n",
      "Starting 10-fold CV for  6 -Nearest Neighbours\n",
      "RMSE = 7.28545181696 \n",
      "\n",
      "Starting 10-fold CV for  7 -Nearest Neighbours\n",
      "RMSE = 7.30674120872 \n",
      "\n",
      "Starting 10-fold CV for  8 -Nearest Neighbours\n",
      "RMSE = 7.28285661311 \n",
      "\n",
      "Starting 10-fold CV for  9 -Nearest Neighbours\n",
      "RMSE = 7.30695959146 \n",
      "\n",
      "Starting 10-fold CV for  10 -Nearest Neighbours\n",
      "RMSE = 7.33363600181 \n",
      "\n",
      "Starting 10-fold CV for  11 -Nearest Neighbours\n",
      "RMSE = 7.37086124962 \n",
      "\n",
      "Starting 10-fold CV for  12 -Nearest Neighbours\n",
      "RMSE = 7.40935858054 \n",
      "\n",
      "Starting 10-fold CV for  13 -Nearest Neighbours\n",
      "RMSE = 7.48366323765 \n",
      "\n",
      "Starting 10-fold CV for  14 -Nearest Neighbours\n",
      "RMSE = 7.59660393331 \n",
      "\n",
      "Starting 10-fold CV for  15 -Nearest Neighbours\n",
      "RMSE = 7.6041610782 \n",
      "\n",
      "Starting 10-fold CV for  16 -Nearest Neighbours\n",
      "RMSE = 7.65710630858 \n",
      "\n",
      "Starting 10-fold CV for  17 -Nearest Neighbours\n",
      "RMSE = 7.68842456641 \n",
      "\n",
      "Starting 10-fold CV for  18 -Nearest Neighbours\n",
      "RMSE = 7.75635744343 \n",
      "\n",
      "Starting 10-fold CV for  19 -Nearest Neighbours\n",
      "RMSE = 7.76762843492 \n",
      "\n",
      "Starting 10-fold CV for  20 -Nearest Neighbours\n",
      "RMSE = 7.7992061368 \n",
      "\n",
      "Starting 10-fold CV for  21 -Nearest Neighbours\n",
      "RMSE = 7.85847780093 \n",
      "\n",
      "Starting 10-fold CV for  22 -Nearest Neighbours\n",
      "RMSE = 7.87601518079 \n",
      "\n",
      "Starting 10-fold CV for  23 -Nearest Neighbours\n",
      "RMSE = 7.86307427314 \n",
      "\n",
      "Starting 10-fold CV for  24 -Nearest Neighbours\n",
      "RMSE = 7.81179119225 \n",
      "\n",
      "Starting 10-fold CV for  25 -Nearest Neighbours\n",
      "RMSE = 7.80123466849 \n",
      "\n"
     ]
    }
   ],
   "source": [
    "'''\n",
    "CRIM - 0\n",
    "ZN - 1\n",
    "RM - 5\n",
    "AGE - 6\n",
    "DIS - 7\n",
    "TAX - 9\n",
    "'''\n",
    "predictors = [\"CRIM\",\"ZN\",\"RM\",\"AGE\",\"DIS\",\"TAX\"]\n",
    "response_col = 'MEDV'\n",
    "\n",
    "rmse_list =[]\n",
    "for i in range(1,26):\n",
    "    print('Starting 10-fold CV for ', i ,'-Nearest Neighbours')\n",
    "    error, _= Kfold_cross_validation(data, response_col, predictors, folds=10,  K=i, L=2, fold_type='KNN')\n",
    "    rmse_list.append(error)\n",
    "    print('RMSE =', error,'\\n')\n",
    "min_rmse = np.min(rmse_list)  \n",
    "print('Least RMSE found is : ', min_rmse)"
   ]
  },
  {
   "cell_type": "markdown",
   "metadata": {},
   "source": [
    "#### Plot "
   ]
  },
  {
   "cell_type": "code",
   "execution_count": 187,
   "metadata": {},
   "outputs": [
    {
     "data": {
      "image/png": "[encoded data removed]",
      "text/plain": [
       "<matplotlib.figure.Figure at 0x157b994c6a0>"
      ]
     },
     "metadata": {},
     "output_type": "display_data"
    }
   ],
   "source": [
    "#Plotting true v/s predicted price\n",
    "#Fetch the data\n",
    "x = list(range(1,26))\n",
    "y = rmse_list\n",
    "\n",
    "#Prepare the plot and axis\n",
    "plt.figure(figsize =(12,9))\n",
    "plt.xlabel(\"Number of Nearest Neighbors (K) \")\n",
    "plt.ylabel(\"RMSE in predicting Medi(1000$)\")\n",
    "plt.title(\"Errors in predicting House Value (MEDV): RMSE v/s K \", size=14)\n",
    "\n",
    "#Plot the data\n",
    "plt.plot(x,y,color='red', alpha =0.8)\n",
    "\n",
    "#Removing the axes\n",
    "ax = plt.gca()\n",
    "ax.spines['right'].set_visible(False)\n",
    "ax.spines['top'].set_visible(False)\n",
    "    "
   ]
  },
  {
   "cell_type": "markdown",
   "metadata": {},
   "source": [
    "#### Comments\n",
    "- I think a reasonable choice would be K=5. \n",
    "- This is because after looking at 5 neighbors, the mean RMSE value tends to go up.\n",
    "- This suggests that after looking at 5 nearest neighbors, looking for more nearest points tends to throw off the accuracy for a given test data point."
   ]
  },
  {
   "cell_type": "markdown",
   "metadata": {
    "ein.tags": [
     "worksheet-0"
    ],
    "slideshow": {
     "slide_type": "-"
    }
   },
   "source": [
    "### Extra-Credit: Forward selection\n",
    "\n",
    "Thus far the choice of predictor variables has been rather arbitrary. For extra credit, implement a basic [forward selection](http://www.stat.ubc.ca/~rollin/teach/643w04/lec/node41.html) algorithm to progressively include features that decrease the cross-validated RMSE of the model. Note that the optimal value of K may be different for each model, so you may want to use cross-validation to choose K each time (but it is also fine if you fix K at the optimal value from 2.7).  Create a graph that shows RMSE as a function of the number of features in the model. Label each point on the x-axis with the name of the feature that is added at that step in the forward selection algorithm. *(For instance, if the optimal single-feature model has CRIM with RMSE = 10, and the optimal two-feature model has CRIM+ZN with RMSE=9, the first x-axis label will say CRIM and the second x-axis lable with say ZN)*"
   ]
  },
  {
   "cell_type": "code",
   "execution_count": null,
   "metadata": {},
   "outputs": [],
   "source": [
    "#Fix K as previous optimal value\n",
    "#Start with p = 1 features, Add another feature \n",
    "#For particular p, choose among all the rmse which is lowest using cross-validation"
   ]
  },
  {
   "cell_type": "markdown",
   "metadata": {},
   "source": [
    "#### End of File "
   ]
  }
 ],
 "metadata": {
  "anaconda-cloud": {},
  "kernelspec": {
   "display_name": "Python 3",
   "language": "python",
   "name": "python3"
  },
  "language_info": {
   "codemirror_mode": {
    "name": "ipython",
    "version": 3
   },
   "file_extension": ".py",
   "mimetype": "text/x-python",
   "name": "python",
   "nbconvert_exporter": "python",
   "pygments_lexer": "ipython3",
   "version": "3.6.1"
  },
  "name": "infx573-ps3-solutions.ipynb"
 },
 "nbformat": 4,
 "nbformat_minor": 1
}
