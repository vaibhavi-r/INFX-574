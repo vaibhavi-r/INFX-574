{
 "cells": [
  {
   "cell_type": "markdown",
   "metadata": {},
   "source": [
    "# Problem Set 1, due April 13th at 3:30pm \n",
    "\n",
    "### Before You Start\n",
    "Make sure to at least take a basic tutorial in the IPython notebook, otherwise you'll be totally lost.  For this problem set, you should download INFX574-PS1.ipynb and the flights.zip dataset from Canvas. Create a local copy of the notebook and rename it LASTNAME_FIRSTNAME-PS1.ipynb. Then edit your renamed file directly in your browser by typing:\n",
    "```\n",
    "ipython notebook <name_of_downloaded_file>\n",
    "```\n",
    "\n",
    "You should also make sure the following libraries load correctly (click on the box below and hit Ctrl-Enter)"
   ]
  },
  {
   "cell_type": "code",
   "execution_count": 1,
   "metadata": {
    "collapsed": false
   },
   "outputs": [
    {
     "name": "stdout",
     "output_type": "stream",
     "text": [
      "IPython version:       5.1.0 (need at least 1.0)\n",
      "Numpy version:        1.11.3 (need at least 1.7.1)\n",
      "SciPy version:        0.18.1 (need at least 0.12.0)\n",
      "Pandas version:       0.19.2 (need at least 0.11.0)\n",
      "Mapltolib version:     2.0.0 (need at least 1.2.1)\n",
      "Scikit-Learn version: 0.18.1 (need at least 0.13.1)\n"
     ]
    }
   ],
   "source": [
    "#IPython is what you are using now to run the notebook\n",
    "import IPython\n",
    "print (\"IPython version:      %6.6s (need at least 1.0)\" % IPython.__version__ )\n",
    "\n",
    "# Numpy is a library for working with Arrays\n",
    "import numpy as np\n",
    "print (\"Numpy version:        %6.6s (need at least 1.7.1)\" % np.__version__)\n",
    "\n",
    "# SciPy implements many different numerical algorithms\n",
    "import scipy as sp\n",
    "print (\"SciPy version:        %6.6s (need at least 0.12.0)\" % sp.__version__)\n",
    "\n",
    "# Pandas makes working with data tables easier\n",
    "import pandas as pd\n",
    "print (\"Pandas version:       %6.6s (need at least 0.11.0)\" % pd.__version__)\n",
    "\n",
    "# Module for plotting\n",
    "import matplotlib\n",
    "print (\"Mapltolib version:    %6.6s (need at least 1.2.1)\" % matplotlib.__version__)\n",
    "\n",
    "# SciKit Learn implements several Machine Learning algorithms\n",
    "import sklearn\n",
    "print (\"Scikit-Learn version: %6.6s (need at least 0.13.1)\" % sklearn.__version__)"
   ]
  },
  {
   "cell_type": "markdown",
   "metadata": {},
   "source": [
    "## About the Problem Set: \n",
    "This is the same problem set used by Emma Spiro in INFX573. The only difference is that instead of doing the problem set in R, you will use Python and the IPython notebook.\n",
    "\n",
    "## Instructions: \n",
    "In this problem set you will perform a basic exploratory analysis on an example dataset, bringing to bear all of your new skills in data manipulation and visualization. You will be required to submit well commented python code, documenting all code used in this problem set, along with a write up answering all questions below. Use figures as appropriate to support your answers, and when required by the problem. \n",
    "This data set uses the NYCFlights13 dataset. You can download the dataset from canvas."
   ]
  },
  {
   "cell_type": "code",
   "execution_count": 2,
   "metadata": {
    "collapsed": false
   },
   "outputs": [],
   "source": [
    "import pandas as pd\n",
    "import numpy as np\n",
    "import matplotlib.pyplot as plt"
   ]
  },
  {
   "cell_type": "code",
   "execution_count": 3,
   "metadata": {
    "collapsed": false
   },
   "outputs": [],
   "source": [
    "flights_df= pd.read_csv('flights.csv')"
   ]
  },
  {
   "cell_type": "code",
   "execution_count": 4,
   "metadata": {
    "collapsed": false
   },
   "outputs": [
    {
     "name": "stdout",
     "output_type": "stream",
     "text": [
      "(336776, 17)\n",
      "Index(['Unnamed: 0', 'year', 'month', 'day', 'dep_time', 'dep_delay',\n",
      "       'arr_time', 'arr_delay', 'carrier', 'tailnum', 'flight', 'origin',\n",
      "       'dest', 'air_time', 'distance', 'hour', 'minute'],\n",
      "      dtype='object')\n",
      "Unnamed: 0      int64\n",
      "year            int64\n",
      "month           int64\n",
      "day             int64\n",
      "dep_time      float64\n",
      "dep_delay     float64\n",
      "arr_time      float64\n",
      "arr_delay     float64\n",
      "carrier        object\n",
      "tailnum        object\n",
      "flight          int64\n",
      "origin         object\n",
      "dest           object\n",
      "air_time      float64\n",
      "distance        int64\n",
      "hour          float64\n",
      "minute        float64\n",
      "dtype: object\n"
     ]
    }
   ],
   "source": [
    "print (flights_df.shape)\n",
    "print (flights_df.columns)\n",
    "print (flights_df.dtypes)"
   ]
  },
  {
   "cell_type": "code",
   "execution_count": 5,
   "metadata": {
    "collapsed": false
   },
   "outputs": [
    {
     "data": {
      "text/html": [
       "<div>\n",
       "<table border=\"1\" class=\"dataframe\">\n",
       "  <thead>\n",
       "    <tr style=\"text-align: right;\">\n",
       "      <th></th>\n",
       "      <th>Unnamed: 0</th>\n",
       "      <th>year</th>\n",
       "      <th>month</th>\n",
       "      <th>day</th>\n",
       "      <th>dep_time</th>\n",
       "      <th>dep_delay</th>\n",
       "      <th>arr_time</th>\n",
       "      <th>arr_delay</th>\n",
       "      <th>carrier</th>\n",
       "      <th>tailnum</th>\n",
       "      <th>flight</th>\n",
       "      <th>origin</th>\n",
       "      <th>dest</th>\n",
       "      <th>air_time</th>\n",
       "      <th>distance</th>\n",
       "      <th>hour</th>\n",
       "      <th>minute</th>\n",
       "    </tr>\n",
       "  </thead>\n",
       "  <tbody>\n",
       "    <tr>\n",
       "      <th>0</th>\n",
       "      <td>1</td>\n",
       "      <td>2013</td>\n",
       "      <td>1</td>\n",
       "      <td>1</td>\n",
       "      <td>517.0</td>\n",
       "      <td>2.0</td>\n",
       "      <td>830.0</td>\n",
       "      <td>11.0</td>\n",
       "      <td>UA</td>\n",
       "      <td>N14228</td>\n",
       "      <td>1545</td>\n",
       "      <td>EWR</td>\n",
       "      <td>IAH</td>\n",
       "      <td>227.0</td>\n",
       "      <td>1400</td>\n",
       "      <td>5.0</td>\n",
       "      <td>17.0</td>\n",
       "    </tr>\n",
       "    <tr>\n",
       "      <th>1</th>\n",
       "      <td>2</td>\n",
       "      <td>2013</td>\n",
       "      <td>1</td>\n",
       "      <td>1</td>\n",
       "      <td>533.0</td>\n",
       "      <td>4.0</td>\n",
       "      <td>850.0</td>\n",
       "      <td>20.0</td>\n",
       "      <td>UA</td>\n",
       "      <td>N24211</td>\n",
       "      <td>1714</td>\n",
       "      <td>LGA</td>\n",
       "      <td>IAH</td>\n",
       "      <td>227.0</td>\n",
       "      <td>1416</td>\n",
       "      <td>5.0</td>\n",
       "      <td>33.0</td>\n",
       "    </tr>\n",
       "    <tr>\n",
       "      <th>2</th>\n",
       "      <td>3</td>\n",
       "      <td>2013</td>\n",
       "      <td>1</td>\n",
       "      <td>1</td>\n",
       "      <td>542.0</td>\n",
       "      <td>2.0</td>\n",
       "      <td>923.0</td>\n",
       "      <td>33.0</td>\n",
       "      <td>AA</td>\n",
       "      <td>N619AA</td>\n",
       "      <td>1141</td>\n",
       "      <td>JFK</td>\n",
       "      <td>MIA</td>\n",
       "      <td>160.0</td>\n",
       "      <td>1089</td>\n",
       "      <td>5.0</td>\n",
       "      <td>42.0</td>\n",
       "    </tr>\n",
       "    <tr>\n",
       "      <th>3</th>\n",
       "      <td>4</td>\n",
       "      <td>2013</td>\n",
       "      <td>1</td>\n",
       "      <td>1</td>\n",
       "      <td>544.0</td>\n",
       "      <td>-1.0</td>\n",
       "      <td>1004.0</td>\n",
       "      <td>-18.0</td>\n",
       "      <td>B6</td>\n",
       "      <td>N804JB</td>\n",
       "      <td>725</td>\n",
       "      <td>JFK</td>\n",
       "      <td>BQN</td>\n",
       "      <td>183.0</td>\n",
       "      <td>1576</td>\n",
       "      <td>5.0</td>\n",
       "      <td>44.0</td>\n",
       "    </tr>\n",
       "    <tr>\n",
       "      <th>4</th>\n",
       "      <td>5</td>\n",
       "      <td>2013</td>\n",
       "      <td>1</td>\n",
       "      <td>1</td>\n",
       "      <td>554.0</td>\n",
       "      <td>-6.0</td>\n",
       "      <td>812.0</td>\n",
       "      <td>-25.0</td>\n",
       "      <td>DL</td>\n",
       "      <td>N668DN</td>\n",
       "      <td>461</td>\n",
       "      <td>LGA</td>\n",
       "      <td>ATL</td>\n",
       "      <td>116.0</td>\n",
       "      <td>762</td>\n",
       "      <td>5.0</td>\n",
       "      <td>54.0</td>\n",
       "    </tr>\n",
       "    <tr>\n",
       "      <th>5</th>\n",
       "      <td>6</td>\n",
       "      <td>2013</td>\n",
       "      <td>1</td>\n",
       "      <td>1</td>\n",
       "      <td>554.0</td>\n",
       "      <td>-4.0</td>\n",
       "      <td>740.0</td>\n",
       "      <td>12.0</td>\n",
       "      <td>UA</td>\n",
       "      <td>N39463</td>\n",
       "      <td>1696</td>\n",
       "      <td>EWR</td>\n",
       "      <td>ORD</td>\n",
       "      <td>150.0</td>\n",
       "      <td>719</td>\n",
       "      <td>5.0</td>\n",
       "      <td>54.0</td>\n",
       "    </tr>\n",
       "    <tr>\n",
       "      <th>6</th>\n",
       "      <td>7</td>\n",
       "      <td>2013</td>\n",
       "      <td>1</td>\n",
       "      <td>1</td>\n",
       "      <td>555.0</td>\n",
       "      <td>-5.0</td>\n",
       "      <td>913.0</td>\n",
       "      <td>19.0</td>\n",
       "      <td>B6</td>\n",
       "      <td>N516JB</td>\n",
       "      <td>507</td>\n",
       "      <td>EWR</td>\n",
       "      <td>FLL</td>\n",
       "      <td>158.0</td>\n",
       "      <td>1065</td>\n",
       "      <td>5.0</td>\n",
       "      <td>55.0</td>\n",
       "    </tr>\n",
       "    <tr>\n",
       "      <th>7</th>\n",
       "      <td>8</td>\n",
       "      <td>2013</td>\n",
       "      <td>1</td>\n",
       "      <td>1</td>\n",
       "      <td>557.0</td>\n",
       "      <td>-3.0</td>\n",
       "      <td>709.0</td>\n",
       "      <td>-14.0</td>\n",
       "      <td>EV</td>\n",
       "      <td>N829AS</td>\n",
       "      <td>5708</td>\n",
       "      <td>LGA</td>\n",
       "      <td>IAD</td>\n",
       "      <td>53.0</td>\n",
       "      <td>229</td>\n",
       "      <td>5.0</td>\n",
       "      <td>57.0</td>\n",
       "    </tr>\n",
       "    <tr>\n",
       "      <th>8</th>\n",
       "      <td>9</td>\n",
       "      <td>2013</td>\n",
       "      <td>1</td>\n",
       "      <td>1</td>\n",
       "      <td>557.0</td>\n",
       "      <td>-3.0</td>\n",
       "      <td>838.0</td>\n",
       "      <td>-8.0</td>\n",
       "      <td>B6</td>\n",
       "      <td>N593JB</td>\n",
       "      <td>79</td>\n",
       "      <td>JFK</td>\n",
       "      <td>MCO</td>\n",
       "      <td>140.0</td>\n",
       "      <td>944</td>\n",
       "      <td>5.0</td>\n",
       "      <td>57.0</td>\n",
       "    </tr>\n",
       "    <tr>\n",
       "      <th>9</th>\n",
       "      <td>10</td>\n",
       "      <td>2013</td>\n",
       "      <td>1</td>\n",
       "      <td>1</td>\n",
       "      <td>558.0</td>\n",
       "      <td>-2.0</td>\n",
       "      <td>753.0</td>\n",
       "      <td>8.0</td>\n",
       "      <td>AA</td>\n",
       "      <td>N3ALAA</td>\n",
       "      <td>301</td>\n",
       "      <td>LGA</td>\n",
       "      <td>ORD</td>\n",
       "      <td>138.0</td>\n",
       "      <td>733</td>\n",
       "      <td>5.0</td>\n",
       "      <td>58.0</td>\n",
       "    </tr>\n",
       "    <tr>\n",
       "      <th>10</th>\n",
       "      <td>11</td>\n",
       "      <td>2013</td>\n",
       "      <td>1</td>\n",
       "      <td>1</td>\n",
       "      <td>558.0</td>\n",
       "      <td>-2.0</td>\n",
       "      <td>849.0</td>\n",
       "      <td>-2.0</td>\n",
       "      <td>B6</td>\n",
       "      <td>N793JB</td>\n",
       "      <td>49</td>\n",
       "      <td>JFK</td>\n",
       "      <td>PBI</td>\n",
       "      <td>149.0</td>\n",
       "      <td>1028</td>\n",
       "      <td>5.0</td>\n",
       "      <td>58.0</td>\n",
       "    </tr>\n",
       "    <tr>\n",
       "      <th>11</th>\n",
       "      <td>12</td>\n",
       "      <td>2013</td>\n",
       "      <td>1</td>\n",
       "      <td>1</td>\n",
       "      <td>558.0</td>\n",
       "      <td>-2.0</td>\n",
       "      <td>853.0</td>\n",
       "      <td>-3.0</td>\n",
       "      <td>B6</td>\n",
       "      <td>N657JB</td>\n",
       "      <td>71</td>\n",
       "      <td>JFK</td>\n",
       "      <td>TPA</td>\n",
       "      <td>158.0</td>\n",
       "      <td>1005</td>\n",
       "      <td>5.0</td>\n",
       "      <td>58.0</td>\n",
       "    </tr>\n",
       "    <tr>\n",
       "      <th>12</th>\n",
       "      <td>13</td>\n",
       "      <td>2013</td>\n",
       "      <td>1</td>\n",
       "      <td>1</td>\n",
       "      <td>558.0</td>\n",
       "      <td>-2.0</td>\n",
       "      <td>924.0</td>\n",
       "      <td>7.0</td>\n",
       "      <td>UA</td>\n",
       "      <td>N29129</td>\n",
       "      <td>194</td>\n",
       "      <td>JFK</td>\n",
       "      <td>LAX</td>\n",
       "      <td>345.0</td>\n",
       "      <td>2475</td>\n",
       "      <td>5.0</td>\n",
       "      <td>58.0</td>\n",
       "    </tr>\n",
       "    <tr>\n",
       "      <th>13</th>\n",
       "      <td>14</td>\n",
       "      <td>2013</td>\n",
       "      <td>1</td>\n",
       "      <td>1</td>\n",
       "      <td>558.0</td>\n",
       "      <td>-2.0</td>\n",
       "      <td>923.0</td>\n",
       "      <td>-14.0</td>\n",
       "      <td>UA</td>\n",
       "      <td>N53441</td>\n",
       "      <td>1124</td>\n",
       "      <td>EWR</td>\n",
       "      <td>SFO</td>\n",
       "      <td>361.0</td>\n",
       "      <td>2565</td>\n",
       "      <td>5.0</td>\n",
       "      <td>58.0</td>\n",
       "    </tr>\n",
       "    <tr>\n",
       "      <th>14</th>\n",
       "      <td>15</td>\n",
       "      <td>2013</td>\n",
       "      <td>1</td>\n",
       "      <td>1</td>\n",
       "      <td>559.0</td>\n",
       "      <td>-1.0</td>\n",
       "      <td>941.0</td>\n",
       "      <td>31.0</td>\n",
       "      <td>AA</td>\n",
       "      <td>N3DUAA</td>\n",
       "      <td>707</td>\n",
       "      <td>LGA</td>\n",
       "      <td>DFW</td>\n",
       "      <td>257.0</td>\n",
       "      <td>1389</td>\n",
       "      <td>5.0</td>\n",
       "      <td>59.0</td>\n",
       "    </tr>\n",
       "    <tr>\n",
       "      <th>15</th>\n",
       "      <td>16</td>\n",
       "      <td>2013</td>\n",
       "      <td>1</td>\n",
       "      <td>1</td>\n",
       "      <td>559.0</td>\n",
       "      <td>0.0</td>\n",
       "      <td>702.0</td>\n",
       "      <td>-4.0</td>\n",
       "      <td>B6</td>\n",
       "      <td>N708JB</td>\n",
       "      <td>1806</td>\n",
       "      <td>JFK</td>\n",
       "      <td>BOS</td>\n",
       "      <td>44.0</td>\n",
       "      <td>187</td>\n",
       "      <td>5.0</td>\n",
       "      <td>59.0</td>\n",
       "    </tr>\n",
       "    <tr>\n",
       "      <th>16</th>\n",
       "      <td>17</td>\n",
       "      <td>2013</td>\n",
       "      <td>1</td>\n",
       "      <td>1</td>\n",
       "      <td>559.0</td>\n",
       "      <td>-1.0</td>\n",
       "      <td>854.0</td>\n",
       "      <td>-8.0</td>\n",
       "      <td>UA</td>\n",
       "      <td>N76515</td>\n",
       "      <td>1187</td>\n",
       "      <td>EWR</td>\n",
       "      <td>LAS</td>\n",
       "      <td>337.0</td>\n",
       "      <td>2227</td>\n",
       "      <td>5.0</td>\n",
       "      <td>59.0</td>\n",
       "    </tr>\n",
       "    <tr>\n",
       "      <th>17</th>\n",
       "      <td>18</td>\n",
       "      <td>2013</td>\n",
       "      <td>1</td>\n",
       "      <td>1</td>\n",
       "      <td>600.0</td>\n",
       "      <td>0.0</td>\n",
       "      <td>851.0</td>\n",
       "      <td>-7.0</td>\n",
       "      <td>B6</td>\n",
       "      <td>N595JB</td>\n",
       "      <td>371</td>\n",
       "      <td>LGA</td>\n",
       "      <td>FLL</td>\n",
       "      <td>152.0</td>\n",
       "      <td>1076</td>\n",
       "      <td>6.0</td>\n",
       "      <td>0.0</td>\n",
       "    </tr>\n",
       "    <tr>\n",
       "      <th>18</th>\n",
       "      <td>19</td>\n",
       "      <td>2013</td>\n",
       "      <td>1</td>\n",
       "      <td>1</td>\n",
       "      <td>600.0</td>\n",
       "      <td>0.0</td>\n",
       "      <td>837.0</td>\n",
       "      <td>12.0</td>\n",
       "      <td>MQ</td>\n",
       "      <td>N542MQ</td>\n",
       "      <td>4650</td>\n",
       "      <td>LGA</td>\n",
       "      <td>ATL</td>\n",
       "      <td>134.0</td>\n",
       "      <td>762</td>\n",
       "      <td>6.0</td>\n",
       "      <td>0.0</td>\n",
       "    </tr>\n",
       "    <tr>\n",
       "      <th>19</th>\n",
       "      <td>20</td>\n",
       "      <td>2013</td>\n",
       "      <td>1</td>\n",
       "      <td>1</td>\n",
       "      <td>601.0</td>\n",
       "      <td>1.0</td>\n",
       "      <td>844.0</td>\n",
       "      <td>-6.0</td>\n",
       "      <td>B6</td>\n",
       "      <td>N644JB</td>\n",
       "      <td>343</td>\n",
       "      <td>EWR</td>\n",
       "      <td>PBI</td>\n",
       "      <td>147.0</td>\n",
       "      <td>1023</td>\n",
       "      <td>6.0</td>\n",
       "      <td>1.0</td>\n",
       "    </tr>\n",
       "  </tbody>\n",
       "</table>\n",
       "</div>"
      ],
      "text/plain": [
       "    Unnamed: 0  year  month  day  dep_time  dep_delay  arr_time  arr_delay  \\\n",
       "0            1  2013      1    1     517.0        2.0     830.0       11.0   \n",
       "1            2  2013      1    1     533.0        4.0     850.0       20.0   \n",
       "2            3  2013      1    1     542.0        2.0     923.0       33.0   \n",
       "3            4  2013      1    1     544.0       -1.0    1004.0      -18.0   \n",
       "4            5  2013      1    1     554.0       -6.0     812.0      -25.0   \n",
       "5            6  2013      1    1     554.0       -4.0     740.0       12.0   \n",
       "6            7  2013      1    1     555.0       -5.0     913.0       19.0   \n",
       "7            8  2013      1    1     557.0       -3.0     709.0      -14.0   \n",
       "8            9  2013      1    1     557.0       -3.0     838.0       -8.0   \n",
       "9           10  2013      1    1     558.0       -2.0     753.0        8.0   \n",
       "10          11  2013      1    1     558.0       -2.0     849.0       -2.0   \n",
       "11          12  2013      1    1     558.0       -2.0     853.0       -3.0   \n",
       "12          13  2013      1    1     558.0       -2.0     924.0        7.0   \n",
       "13          14  2013      1    1     558.0       -2.0     923.0      -14.0   \n",
       "14          15  2013      1    1     559.0       -1.0     941.0       31.0   \n",
       "15          16  2013      1    1     559.0        0.0     702.0       -4.0   \n",
       "16          17  2013      1    1     559.0       -1.0     854.0       -8.0   \n",
       "17          18  2013      1    1     600.0        0.0     851.0       -7.0   \n",
       "18          19  2013      1    1     600.0        0.0     837.0       12.0   \n",
       "19          20  2013      1    1     601.0        1.0     844.0       -6.0   \n",
       "\n",
       "   carrier tailnum  flight origin dest  air_time  distance  hour  minute  \n",
       "0       UA  N14228    1545    EWR  IAH     227.0      1400   5.0    17.0  \n",
       "1       UA  N24211    1714    LGA  IAH     227.0      1416   5.0    33.0  \n",
       "2       AA  N619AA    1141    JFK  MIA     160.0      1089   5.0    42.0  \n",
       "3       B6  N804JB     725    JFK  BQN     183.0      1576   5.0    44.0  \n",
       "4       DL  N668DN     461    LGA  ATL     116.0       762   5.0    54.0  \n",
       "5       UA  N39463    1696    EWR  ORD     150.0       719   5.0    54.0  \n",
       "6       B6  N516JB     507    EWR  FLL     158.0      1065   5.0    55.0  \n",
       "7       EV  N829AS    5708    LGA  IAD      53.0       229   5.0    57.0  \n",
       "8       B6  N593JB      79    JFK  MCO     140.0       944   5.0    57.0  \n",
       "9       AA  N3ALAA     301    LGA  ORD     138.0       733   5.0    58.0  \n",
       "10      B6  N793JB      49    JFK  PBI     149.0      1028   5.0    58.0  \n",
       "11      B6  N657JB      71    JFK  TPA     158.0      1005   5.0    58.0  \n",
       "12      UA  N29129     194    JFK  LAX     345.0      2475   5.0    58.0  \n",
       "13      UA  N53441    1124    EWR  SFO     361.0      2565   5.0    58.0  \n",
       "14      AA  N3DUAA     707    LGA  DFW     257.0      1389   5.0    59.0  \n",
       "15      B6  N708JB    1806    JFK  BOS      44.0       187   5.0    59.0  \n",
       "16      UA  N76515    1187    EWR  LAS     337.0      2227   5.0    59.0  \n",
       "17      B6  N595JB     371    LGA  FLL     152.0      1076   6.0     0.0  \n",
       "18      MQ  N542MQ    4650    LGA  ATL     134.0       762   6.0     0.0  \n",
       "19      B6  N644JB     343    EWR  PBI     147.0      1023   6.0     1.0  "
      ]
     },
     "execution_count": 5,
     "metadata": {},
     "output_type": "execute_result"
    }
   ],
   "source": [
    "flights_df.dest.unique()\n",
    "flights_df.head(20)"
   ]
  },
  {
   "cell_type": "markdown",
   "metadata": {},
   "source": [
    "## Some Tips\n",
    "\n",
    "* This assignment involves extensive Data frame splitting and aggregation. You should look into the details of the methods groupby, transform, sum, count, mean etc\n",
    "* Many of the tasks in the assignment can be done either through the Pandas Data Frame or by converting the data frames to Series. Many of the methods in the numpy are applicable to Series only. When stuck, try to explore the type of object (Pandas Data Frame or Numpy Series) you are dealing with."
   ]
  },
  {
   "cell_type": "markdown",
   "metadata": {},
   "source": [
    "## Question 1 - Exploring NYC - SEA Flights\n",
    "Let’s explore flights from NYC to Seattle. Use the flights dataset to answer the following questions.\n",
    "\n",
    "#### (a) How many flights were there from NYC airports to Seattle in 2013?"
   ]
  },
  {
   "cell_type": "code",
   "execution_count": 6,
   "metadata": {
    "collapsed": false
   },
   "outputs": [
    {
     "name": "stdout",
     "output_type": "stream",
     "text": [
      "Number of flights 3923\n"
     ]
    }
   ],
   "source": [
    "# Number of NYC to SEA Flights\n",
    "print('Number of flights' ,len(flights_df[flights_df.dest =='SEA']))\n",
    "\n"
   ]
  },
  {
   "cell_type": "markdown",
   "metadata": {},
   "source": [
    "#### Answer\n",
    "There were 3923 flights from NYC to SEA in 2013 "
   ]
  },
  {
   "cell_type": "markdown",
   "metadata": {},
   "source": [
    "#### (b) How many airlines fly from NYC to Seattle?"
   ]
  },
  {
   "cell_type": "code",
   "execution_count": 7,
   "metadata": {
    "collapsed": false
   },
   "outputs": [
    {
     "data": {
      "text/plain": [
       "DL    1213\n",
       "UA    1117\n",
       "AS     714\n",
       "B6     514\n",
       "AA     365\n",
       "Name: carrier, dtype: int64"
      ]
     },
     "execution_count": 7,
     "metadata": {},
     "output_type": "execute_result"
    }
   ],
   "source": [
    "#Carriers that fly from NYC to SEA\n",
    "sea_df = flights_df[flights_df.dest =='SEA']\n",
    "sea_df['carrier'].value_counts()"
   ]
  },
  {
   "cell_type": "markdown",
   "metadata": {},
   "source": [
    "#### Answer\n",
    "*5* carriers fly from NYC to SEA.\n",
    "(Delta, United, Alaska, Jet Blue Airlines, American Airlines)"
   ]
  },
  {
   "cell_type": "markdown",
   "metadata": {},
   "source": [
    "#### (c) How many unique air planes fly from NYC to Seattle?"
   ]
  },
  {
   "cell_type": "code",
   "execution_count": 8,
   "metadata": {
    "collapsed": false
   },
   "outputs": [
    {
     "data": {
      "text/plain": [
       "935"
      ]
     },
     "execution_count": 8,
     "metadata": {},
     "output_type": "execute_result"
    }
   ],
   "source": [
    "#Can do previous value_counts() method, but let's try another way\n",
    "#len(sea_df['tailnum'].value_counts()) - Doesn't count blanks, discards them = 935\n",
    "#len(sea_df['tailnum'].unique())       - Counts blanks as unique, so dangerous! =936    \n",
    "\n",
    "sea_df['tailnum'].nunique()           "
   ]
  },
  {
   "cell_type": "markdown",
   "metadata": {},
   "source": [
    "*935* unique air planes (tail numbers) from NYC to SEA when discounting blanks. When using len(df.col.unique()), we got 936 flights."
   ]
  },
  {
   "cell_type": "markdown",
   "metadata": {},
   "source": [
    "#### (d) What is the average arrival delay for flights from NYC to Seattle?"
   ]
  },
  {
   "cell_type": "code",
   "execution_count": 9,
   "metadata": {
    "collapsed": false
   },
   "outputs": [
    {
     "data": {
      "text/plain": [
       "-1.0990990990990992"
      ]
     },
     "execution_count": 9,
     "metadata": {},
     "output_type": "execute_result"
    }
   ],
   "source": [
    "#Mean arrival delay for NYC to SEA\n",
    "sea_df['arr_delay'].mean()"
   ]
  },
  {
   "cell_type": "markdown",
   "metadata": {},
   "source": [
    "#### Answer\n",
    "Flights from NYC to SEA arrive, on average, *1.099* minutes earlier than scheduled."
   ]
  },
  {
   "cell_type": "markdown",
   "metadata": {},
   "source": [
    "#### (e) What proportion of flights to Seattle come from each NYC airport?"
   ]
  },
  {
   "cell_type": "code",
   "execution_count": 10,
   "metadata": {
    "collapsed": false
   },
   "outputs": [
    {
     "data": {
      "text/plain": [
       "JFK    0.533265\n",
       "EWR    0.466735\n",
       "Name: origin, dtype: float64"
      ]
     },
     "execution_count": 10,
     "metadata": {},
     "output_type": "execute_result"
    }
   ],
   "source": [
    "#Splitting Flights to Seattle based on Origin\n",
    "sum_sea_df = sea_df['origin'].value_counts()  \n",
    "sum_sea_df = sum_sea_df / len(sea_df)\n",
    "sum_sea_df"
   ]
  },
  {
   "cell_type": "markdown",
   "metadata": {},
   "source": [
    "#### Answer\n",
    "JFK    53.33 % of flights to Seattle come from JFK airport (JFK), and 46.67% from Newark (EWR). There are no flights from LaGuardia (LGA) to Seattle."
   ]
  },
  {
   "cell_type": "markdown",
   "metadata": {},
   "source": [
    "## Question 2 - Exploring Flight Delays\n",
    "Flights are often delayed. Consider the following questions exploring delay patterns.\n",
    "\n",
    "#### (a) Which date has the largest average departure delay? Which date has the largest average arrival delay?"
   ]
  },
  {
   "cell_type": "code",
   "execution_count": 11,
   "metadata": {
    "collapsed": false
   },
   "outputs": [
    {
     "name": "stdout",
     "output_type": "stream",
     "text": [
      "dep_delay    (2013, 3, 8)\n",
      "arr_delay    (2013, 3, 8)\n",
      "dtype: object\n",
      "The largest average departure delay was : 83.5369211514  minutes\n",
      "The largest average arrival delay was   : 85.8621553885  minutes\n"
     ]
    }
   ],
   "source": [
    "# Group flights by Year, Month, Day\n",
    "daily_df= flights_df.ix[:, ['year','month','day','dep_delay','arr_delay']]\n",
    "daily_df = daily_df.groupby(['year','month','day']).mean()\n",
    "\n",
    "#Largest Avg Departure & Arrival Delay\n",
    "print(daily_df.idxmax())\n",
    "\n",
    "print('The largest average departure delay was :', daily_df['dep_delay'].max(), ' minutes')\n",
    "print('The largest average arrival delay was   :', daily_df['arr_delay'].max() , ' minutes')"
   ]
  },
  {
   "cell_type": "markdown",
   "metadata": {},
   "source": [
    "#### Explanation\n",
    "The largest mean arrival delay was 85.86 minutes on 8th March 2013.\n",
    "\n",
    "The largest mean departure delay was 83.53 minutes on 8th March 2013."
   ]
  },
  {
   "cell_type": "code",
   "execution_count": 12,
   "metadata": {
    "collapsed": false,
    "scrolled": false
   },
   "outputs": [
    {
     "data": {
      "text/html": [
       "<div>\n",
       "<table border=\"1\" class=\"dataframe\">\n",
       "  <thead>\n",
       "    <tr style=\"text-align: right;\">\n",
       "      <th></th>\n",
       "      <th></th>\n",
       "      <th></th>\n",
       "      <th>dep_delay</th>\n",
       "      <th>arr_delay</th>\n",
       "    </tr>\n",
       "    <tr>\n",
       "      <th>year</th>\n",
       "      <th>month</th>\n",
       "      <th>day</th>\n",
       "      <th></th>\n",
       "      <th></th>\n",
       "    </tr>\n",
       "  </thead>\n",
       "  <tbody>\n",
       "    <tr>\n",
       "      <th rowspan=\"5\" valign=\"top\">2013</th>\n",
       "      <th>3</th>\n",
       "      <th>8</th>\n",
       "      <td>83.536921</td>\n",
       "      <td>85.862155</td>\n",
       "    </tr>\n",
       "    <tr>\n",
       "      <th>6</th>\n",
       "      <th>13</th>\n",
       "      <td>45.790828</td>\n",
       "      <td>63.753689</td>\n",
       "    </tr>\n",
       "    <tr>\n",
       "      <th>7</th>\n",
       "      <th>22</th>\n",
       "      <td>46.667047</td>\n",
       "      <td>62.763403</td>\n",
       "    </tr>\n",
       "    <tr>\n",
       "      <th>5</th>\n",
       "      <th>23</th>\n",
       "      <td>51.144720</td>\n",
       "      <td>61.970899</td>\n",
       "    </tr>\n",
       "    <tr>\n",
       "      <th>7</th>\n",
       "      <th>10</th>\n",
       "      <td>52.860702</td>\n",
       "      <td>59.626478</td>\n",
       "    </tr>\n",
       "  </tbody>\n",
       "</table>\n",
       "</div>"
      ],
      "text/plain": [
       "                dep_delay  arr_delay\n",
       "year month day                      \n",
       "2013 3     8    83.536921  85.862155\n",
       "     6     13   45.790828  63.753689\n",
       "     7     22   46.667047  62.763403\n",
       "     5     23   51.144720  61.970899\n",
       "     7     10   52.860702  59.626478"
      ]
     },
     "execution_count": 12,
     "metadata": {},
     "output_type": "execute_result"
    }
   ],
   "source": [
    "#Largest Avg Arrival Delay\n",
    "daily_df = daily_df.sort_values(by='arr_delay', ascending =False)\n",
    "daily_df.head()"
   ]
  },
  {
   "cell_type": "markdown",
   "metadata": {},
   "source": [
    "#### Explanation\n",
    " 8th March 2013 had an average departure delay of 83.54 minutes.\n",
    " 8th March 2013 had an average arrival delay of 85.86 minutes.\n",
    " "
   ]
  },
  {
   "cell_type": "markdown",
   "metadata": {},
   "source": [
    "#### (b) What was the worst day to fly out of NYC in 2013 if you dislike delayed flights?\n"
   ]
  },
  {
   "cell_type": "code",
   "execution_count": 13,
   "metadata": {
    "collapsed": false
   },
   "outputs": [],
   "source": [
    "#Create total_delay column, and isDelayed column to overall flights data\n",
    "delay_df= flights_df.ix[:, ['year','month','day','dep_delay','arr_delay']]\n",
    "                        \n",
    "delay_df['numTotal'] = 1\n",
    "delay_df['tot_delay']=delay_df['arr_delay'] + delay_df['dep_delay']\n",
    "\n",
    "delay_df['numDepDelayed'] = np.where(delay_df['dep_delay'] > 0, 1, 0)\n",
    "delay_df['numTotDelayed'] = np.where(delay_df['tot_delay'] > 0, 1, 0)"
   ]
  },
  {
   "cell_type": "code",
   "execution_count": 14,
   "metadata": {
    "collapsed": true
   },
   "outputs": [],
   "source": [
    "#Group into per-day totals\n",
    "worst_df = delay_df.groupby(['year','month','day']).sum()"
   ]
  },
  {
   "cell_type": "code",
   "execution_count": 15,
   "metadata": {
    "collapsed": false
   },
   "outputs": [
    {
     "name": "stdout",
     "output_type": "stream",
     "text": [
      "Looking at Departure Delays, Max Proportion of Delayed flights is  68.4263959391\n"
     ]
    }
   ],
   "source": [
    "#Case 1: Sort by Proportion of Departure Delay\n",
    "worst_df['delay_percent'] = worst_df['numDepDelayed']*100.0/worst_df['numTotal']\n",
    "worst_df = worst_df.sort_values(by='delay_percent', ascending =False)\n",
    "\n",
    "print(\"Looking at Departure Delays, Max Proportion of Delayed flights is \", worst_df['delay_percent'].max() )"
   ]
  },
  {
   "cell_type": "code",
   "execution_count": 16,
   "metadata": {
    "collapsed": false
   },
   "outputs": [
    {
     "name": "stdout",
     "output_type": "stream",
     "text": [
      "Looking at Total Delays, Max Proportion of Delayed flights is  81.77028451\n"
     ]
    }
   ],
   "source": [
    "#Case 2: Sort by Overall Delay\n",
    "worst_df['delay_percent'] = worst_df['numTotDelayed']*100.0/worst_df['numTotal']\n",
    "worst_df = worst_df.sort_values(by='delay_percent', ascending =False)\n",
    "\n",
    "print(\"Looking at Total Delays, Max Proportion of Delayed flights is \", worst_df['delay_percent'].max() )"
   ]
  },
  {
   "cell_type": "markdown",
   "metadata": {},
   "source": [
    "#### Explanation\n",
    " There are many ways to interpret this question!\n",
    " \n",
    " If the delay time doesn't matter, and it is just the fact that a flight is delayed is important, then we should look at the days when the *proportion of delayed flights was highest*.\n",
    "  \n",
    "  **Case 1:** Dislike Delays in Departure (don't want extra wait in airport)-\n",
    " 23rd December 2013 with  674 out of 985 flights (68.43%) being delayed was the worst.\n",
    " \n",
    "  **Case 2:** Dislike Overall Delays (Dep_delay+ arr_delay)-\n",
    "On 17 December 2013, 776 out of 949 flights (81.77%) leaving from NYC arrived late to their destinations, making it the worst day for those who hate to be later than expected schedule before flight.\n",
    "\n",
    "If amount of delay matters, then the day with the *longest average departure/arrival/total delay* would be the worst day to fly.\n",
    " \n",
    " **Case 3:** Longest Average Delay-\n",
    " 8th March 2013 was the worst day to fly in this case, as it had the longest average arrival, departure and overall delay. (as calculated in previous question)\n"
   ]
  },
  {
   "cell_type": "markdown",
   "metadata": {},
   "source": [
    "#### (c) Are there any seasonal patterns in departure delays for flights from NYC?"
   ]
  },
  {
   "cell_type": "code",
   "execution_count": 17,
   "metadata": {
    "collapsed": false
   },
   "outputs": [
    {
     "data": {
      "text/html": [
       "<div>\n",
       "<table border=\"1\" class=\"dataframe\">\n",
       "  <thead>\n",
       "    <tr style=\"text-align: right;\">\n",
       "      <th></th>\n",
       "      <th>month</th>\n",
       "      <th>dep_delay</th>\n",
       "      <th>numDepDelayed</th>\n",
       "    </tr>\n",
       "    <tr>\n",
       "      <th>month</th>\n",
       "      <th></th>\n",
       "      <th></th>\n",
       "      <th></th>\n",
       "    </tr>\n",
       "  </thead>\n",
       "  <tbody>\n",
       "    <tr>\n",
       "      <th>1</th>\n",
       "      <td>1</td>\n",
       "      <td>10.036665</td>\n",
       "      <td>0.357799</td>\n",
       "    </tr>\n",
       "    <tr>\n",
       "      <th>2</th>\n",
       "      <td>2</td>\n",
       "      <td>10.816843</td>\n",
       "      <td>0.365677</td>\n",
       "    </tr>\n",
       "    <tr>\n",
       "      <th>3</th>\n",
       "      <td>3</td>\n",
       "      <td>13.227076</td>\n",
       "      <td>0.388742</td>\n",
       "    </tr>\n",
       "    <tr>\n",
       "      <th>4</th>\n",
       "      <td>4</td>\n",
       "      <td>13.938038</td>\n",
       "      <td>0.372150</td>\n",
       "    </tr>\n",
       "    <tr>\n",
       "      <th>5</th>\n",
       "      <td>5</td>\n",
       "      <td>12.986859</td>\n",
       "      <td>0.392103</td>\n",
       "    </tr>\n",
       "    <tr>\n",
       "      <th>6</th>\n",
       "      <td>6</td>\n",
       "      <td>20.846332</td>\n",
       "      <td>0.448076</td>\n",
       "    </tr>\n",
       "    <tr>\n",
       "      <th>7</th>\n",
       "      <td>7</td>\n",
       "      <td>21.727787</td>\n",
       "      <td>0.472693</td>\n",
       "    </tr>\n",
       "    <tr>\n",
       "      <th>8</th>\n",
       "      <td>8</td>\n",
       "      <td>12.611040</td>\n",
       "      <td>0.399393</td>\n",
       "    </tr>\n",
       "    <tr>\n",
       "      <th>9</th>\n",
       "      <td>9</td>\n",
       "      <td>6.722476</td>\n",
       "      <td>0.283419</td>\n",
       "    </tr>\n",
       "    <tr>\n",
       "      <th>10</th>\n",
       "      <td>10</td>\n",
       "      <td>6.243988</td>\n",
       "      <td>0.301914</td>\n",
       "    </tr>\n",
       "    <tr>\n",
       "      <th>11</th>\n",
       "      <td>11</td>\n",
       "      <td>5.435362</td>\n",
       "      <td>0.302149</td>\n",
       "    </tr>\n",
       "    <tr>\n",
       "      <th>12</th>\n",
       "      <td>12</td>\n",
       "      <td>16.576688</td>\n",
       "      <td>0.481607</td>\n",
       "    </tr>\n",
       "  </tbody>\n",
       "</table>\n",
       "</div>"
      ],
      "text/plain": [
       "       month  dep_delay  numDepDelayed\n",
       "month                                 \n",
       "1          1  10.036665       0.357799\n",
       "2          2  10.816843       0.365677\n",
       "3          3  13.227076       0.388742\n",
       "4          4  13.938038       0.372150\n",
       "5          5  12.986859       0.392103\n",
       "6          6  20.846332       0.448076\n",
       "7          7  21.727787       0.472693\n",
       "8          8  12.611040       0.399393\n",
       "9          9   6.722476       0.283419\n",
       "10        10   6.243988       0.301914\n",
       "11        11   5.435362       0.302149\n",
       "12        12  16.576688       0.481607"
      ]
     },
     "execution_count": 17,
     "metadata": {},
     "output_type": "execute_result"
    }
   ],
   "source": [
    "# Calculate monthly departure time delay, and percentage of delayed flights\n",
    "monthly_df= delay_df.ix[:, ['month','dep_delay','numDepDelayed']]\n",
    "monthly_df = monthly_df.groupby(['month'])['month','dep_delay','numDepDelayed'].mean()\n",
    "\n",
    "#Get average delay times\n",
    "monthly_df"
   ]
  },
  {
   "cell_type": "code",
   "execution_count": 18,
   "metadata": {
    "collapsed": false
   },
   "outputs": [
    {
     "data": {
      "image/png": "[encoded data removed]",
      "text/plain": [
       "<matplotlib.figure.Figure at 0x1bac8cba2b0>"
      ]
     },
     "metadata": {},
     "output_type": "display_data"
    }
   ],
   "source": [
    "%matplotlib inline\n",
    "\n",
    "#Prepare the data\n",
    "data_df= monthly_df\n",
    "x  = data_df['month'].values\n",
    "y1 = data_df['dep_delay'].values\n",
    "y2 =(data_df['numDepDelayed']*100).values\n",
    "\n",
    "#Create month_labels (To be used later as well)\n",
    "month_labels=np.array(['January', 'February', 'March', 'April', 'May', 'June', 'July', 'August', 'September', 'October', 'November', 'December'])\n",
    "\n",
    "# Initialize the plot\n",
    "fig = plt.figure(figsize=(20,10))\n",
    "\n",
    "#Prepare SubPlot for Mean delay across months\n",
    "ax1 = fig.add_subplot(211)\n",
    "ax1.set_title('Visualizing Mean Delay & Delay Percentage over time')\n",
    "plt.xticks(x, month_labels)  #Show month names instead of numbers\n",
    "\n",
    "#Prepare SubPlot for Mean Delay Percentage across months\n",
    "ax2 = fig.add_subplot(212)\n",
    "plt.xticks(x, month_labels)  #Show month names instead of numbers\n",
    "\n",
    "# Plot the data\n",
    "ax1.plot(x,y1, c='blue')\n",
    "ax1.set_ylabel('Mean Departure Delay (mins)')\n",
    "ax1.set_xlabel('Month of Year')\n",
    "\n",
    "ax2.plot(x,y2, c='orange')\n",
    "ax2.set_ylabel('% of delayed departure flights')\n",
    "ax2.set_xlabel('Month of Year')\n",
    "\n",
    "# Show the plot\n",
    "plt.show()\n"
   ]
  },
  {
   "cell_type": "markdown",
   "metadata": {},
   "source": [
    "#### Explanation \n",
    "Yes, the data does seem seasonal !\n",
    "\n",
    "When it comes to average delay time, the highest departure delay times are to be expected in Summer & December season July,  June, December, August and May. The lowest departure delay times are during Fall (November, October, and September)\n",
    "\n",
    "The proportion of flights that are delayed also follows a similar pattern , being high in December, with 48% of December flights getting delayed, followed by summer months of July, June and May.  The least proportion of flights get delayed during September,October and November. "
   ]
  },
  {
   "cell_type": "markdown",
   "metadata": {},
   "source": [
    "#### (d) On average, how do departure delays vary over the course of a day?"
   ]
  },
  {
   "cell_type": "code",
   "execution_count": 19,
   "metadata": {
    "collapsed": false
   },
   "outputs": [
    {
     "name": "stdout",
     "output_type": "stream",
     "text": [
      "Hour 24:  29\n",
      "Hour  0:  881\n"
     ]
    }
   ],
   "source": [
    "flights_df.ix[:, ['hour','dep_delay']]\n",
    "print('Hour 24: ',len(flights_df.loc[flights_df.hour == 24]))\n",
    "print('Hour  0: ',len(flights_df.loc[flights_df.hour == 0]))"
   ]
  },
  {
   "cell_type": "markdown",
   "metadata": {},
   "source": [
    "#### Minor Issue with Data\n",
    "There are 29 flights that seem to have hour 24, and 881 departing at hour 0.\n",
    "Since both are equal 24:30 = 00:30, let's reassign the data."
   ]
  },
  {
   "cell_type": "code",
   "execution_count": 20,
   "metadata": {
    "collapsed": false
   },
   "outputs": [
    {
     "name": "stdout",
     "output_type": "stream",
     "text": [
      "Hour 24:  0\n",
      "Hour  0:  910\n"
     ]
    }
   ],
   "source": [
    "#Reassign the flights with hour 24 to hour 0\n",
    "#flights_df = pd.read_csv('flights.csv')\n",
    "flights_df.loc[flights_df.hour == 24, 'hour'] = 0\n",
    "\n",
    "print('Hour 24: ',len(flights_df.loc[flights_df.hour == 24]))\n",
    "print('Hour  0: ',len(flights_df.loc[flights_df.hour == 0]))"
   ]
  },
  {
   "cell_type": "code",
   "execution_count": 21,
   "metadata": {
    "collapsed": false
   },
   "outputs": [
    {
     "data": {
      "text/html": [
       "<div>\n",
       "<table border=\"1\" class=\"dataframe\">\n",
       "  <thead>\n",
       "    <tr style=\"text-align: right;\">\n",
       "      <th></th>\n",
       "      <th>hour</th>\n",
       "      <th>dep_delay</th>\n",
       "      <th>numDepDelayed</th>\n",
       "    </tr>\n",
       "    <tr>\n",
       "      <th>hour</th>\n",
       "      <th></th>\n",
       "      <th></th>\n",
       "      <th></th>\n",
       "    </tr>\n",
       "  </thead>\n",
       "  <tbody>\n",
       "    <tr>\n",
       "      <th>0.0</th>\n",
       "      <td>0.0</td>\n",
       "      <td>126.609890</td>\n",
       "      <td>1.000000</td>\n",
       "    </tr>\n",
       "    <tr>\n",
       "      <th>1.0</th>\n",
       "      <td>1.0</td>\n",
       "      <td>207.049327</td>\n",
       "      <td>1.000000</td>\n",
       "    </tr>\n",
       "    <tr>\n",
       "      <th>2.0</th>\n",
       "      <td>2.0</td>\n",
       "      <td>239.921875</td>\n",
       "      <td>1.000000</td>\n",
       "    </tr>\n",
       "    <tr>\n",
       "      <th>3.0</th>\n",
       "      <td>3.0</td>\n",
       "      <td>304.727273</td>\n",
       "      <td>1.000000</td>\n",
       "    </tr>\n",
       "    <tr>\n",
       "      <th>4.0</th>\n",
       "      <td>4.0</td>\n",
       "      <td>-5.554098</td>\n",
       "      <td>0.000000</td>\n",
       "    </tr>\n",
       "    <tr>\n",
       "      <th>5.0</th>\n",
       "      <td>5.0</td>\n",
       "      <td>-4.355644</td>\n",
       "      <td>0.050787</td>\n",
       "    </tr>\n",
       "    <tr>\n",
       "      <th>6.0</th>\n",
       "      <td>6.0</td>\n",
       "      <td>-1.520552</td>\n",
       "      <td>0.181770</td>\n",
       "    </tr>\n",
       "    <tr>\n",
       "      <th>7.0</th>\n",
       "      <td>7.0</td>\n",
       "      <td>0.223289</td>\n",
       "      <td>0.207586</td>\n",
       "    </tr>\n",
       "    <tr>\n",
       "      <th>8.0</th>\n",
       "      <td>8.0</td>\n",
       "      <td>1.091432</td>\n",
       "      <td>0.234257</td>\n",
       "    </tr>\n",
       "    <tr>\n",
       "      <th>9.0</th>\n",
       "      <td>9.0</td>\n",
       "      <td>4.268295</td>\n",
       "      <td>0.291876</td>\n",
       "    </tr>\n",
       "    <tr>\n",
       "      <th>10.0</th>\n",
       "      <td>10.0</td>\n",
       "      <td>5.548644</td>\n",
       "      <td>0.311582</td>\n",
       "    </tr>\n",
       "    <tr>\n",
       "      <th>11.0</th>\n",
       "      <td>11.0</td>\n",
       "      <td>5.652309</td>\n",
       "      <td>0.287138</td>\n",
       "    </tr>\n",
       "    <tr>\n",
       "      <th>12.0</th>\n",
       "      <td>12.0</td>\n",
       "      <td>7.601892</td>\n",
       "      <td>0.352685</td>\n",
       "    </tr>\n",
       "    <tr>\n",
       "      <th>13.0</th>\n",
       "      <td>13.0</td>\n",
       "      <td>9.380639</td>\n",
       "      <td>0.418058</td>\n",
       "    </tr>\n",
       "    <tr>\n",
       "      <th>14.0</th>\n",
       "      <td>14.0</td>\n",
       "      <td>8.090381</td>\n",
       "      <td>0.368896</td>\n",
       "    </tr>\n",
       "    <tr>\n",
       "      <th>15.0</th>\n",
       "      <td>15.0</td>\n",
       "      <td>10.682049</td>\n",
       "      <td>0.462697</td>\n",
       "    </tr>\n",
       "    <tr>\n",
       "      <th>16.0</th>\n",
       "      <td>16.0</td>\n",
       "      <td>13.621150</td>\n",
       "      <td>0.476943</td>\n",
       "    </tr>\n",
       "    <tr>\n",
       "      <th>17.0</th>\n",
       "      <td>17.0</td>\n",
       "      <td>16.756593</td>\n",
       "      <td>0.521947</td>\n",
       "    </tr>\n",
       "    <tr>\n",
       "      <th>18.0</th>\n",
       "      <td>18.0</td>\n",
       "      <td>18.664671</td>\n",
       "      <td>0.483224</td>\n",
       "    </tr>\n",
       "    <tr>\n",
       "      <th>19.0</th>\n",
       "      <td>19.0</td>\n",
       "      <td>21.497342</td>\n",
       "      <td>0.531344</td>\n",
       "    </tr>\n",
       "    <tr>\n",
       "      <th>20.0</th>\n",
       "      <td>20.0</td>\n",
       "      <td>28.266213</td>\n",
       "      <td>0.561696</td>\n",
       "    </tr>\n",
       "    <tr>\n",
       "      <th>21.0</th>\n",
       "      <td>21.0</td>\n",
       "      <td>42.064964</td>\n",
       "      <td>0.679197</td>\n",
       "    </tr>\n",
       "    <tr>\n",
       "      <th>22.0</th>\n",
       "      <td>22.0</td>\n",
       "      <td>68.190042</td>\n",
       "      <td>0.751049</td>\n",
       "    </tr>\n",
       "    <tr>\n",
       "      <th>23.0</th>\n",
       "      <td>23.0</td>\n",
       "      <td>96.946865</td>\n",
       "      <td>0.781728</td>\n",
       "    </tr>\n",
       "  </tbody>\n",
       "</table>\n",
       "</div>"
      ],
      "text/plain": [
       "      hour   dep_delay  numDepDelayed\n",
       "hour                                 \n",
       "0.0    0.0  126.609890       1.000000\n",
       "1.0    1.0  207.049327       1.000000\n",
       "2.0    2.0  239.921875       1.000000\n",
       "3.0    3.0  304.727273       1.000000\n",
       "4.0    4.0   -5.554098       0.000000\n",
       "5.0    5.0   -4.355644       0.050787\n",
       "6.0    6.0   -1.520552       0.181770\n",
       "7.0    7.0    0.223289       0.207586\n",
       "8.0    8.0    1.091432       0.234257\n",
       "9.0    9.0    4.268295       0.291876\n",
       "10.0  10.0    5.548644       0.311582\n",
       "11.0  11.0    5.652309       0.287138\n",
       "12.0  12.0    7.601892       0.352685\n",
       "13.0  13.0    9.380639       0.418058\n",
       "14.0  14.0    8.090381       0.368896\n",
       "15.0  15.0   10.682049       0.462697\n",
       "16.0  16.0   13.621150       0.476943\n",
       "17.0  17.0   16.756593       0.521947\n",
       "18.0  18.0   18.664671       0.483224\n",
       "19.0  19.0   21.497342       0.531344\n",
       "20.0  20.0   28.266213       0.561696\n",
       "21.0  21.0   42.064964       0.679197\n",
       "22.0  22.0   68.190042       0.751049\n",
       "23.0  23.0   96.946865       0.781728"
      ]
     },
     "execution_count": 21,
     "metadata": {},
     "output_type": "execute_result"
    }
   ],
   "source": [
    "#Create percent Delayed column from modified overall flights data\n",
    "hourly_df= flights_df.ix[:, ['hour','dep_delay']]\n",
    "hourly_df['numDepDelayed'] = np.where(delay_df['dep_delay'] > 0, 1, 0)\n",
    "\n",
    "hourly_df = hourly_df.groupby(['hour'])['hour','dep_delay','numDepDelayed'].mean()\n",
    "hourly_df['dep_delay'] = hourly_df['dep_delay'] \n",
    "\n",
    "hourly_df"
   ]
  },
  {
   "cell_type": "code",
   "execution_count": 22,
   "metadata": {
    "collapsed": false
   },
   "outputs": [
    {
     "data": {
      "text/plain": [
       "[<matplotlib.lines.Line2D at 0x1bac9181e80>]"
      ]
     },
     "execution_count": 22,
     "metadata": {},
     "output_type": "execute_result"
    },
    {
     "data": {
      "image/png": "[encoded data removed]",
      "text/plain": [
       "<matplotlib.figure.Figure at 0x1bac88d0518>"
      ]
     },
     "metadata": {},
     "output_type": "display_data"
    }
   ],
   "source": [
    "%matplotlib inline\n",
    "#Prepare the data\n",
    "x=hourly_df['hour'].values\n",
    "y=hourly_df['dep_delay'].values\n",
    "\n",
    "#Initialize the plot\n",
    "fig = plt.figure(figsize=(20,10))\n",
    "\n",
    "plt.xlabel('Hour of Day')\n",
    "plt.ylabel('Mean Departure Delay (minutes)')\n",
    "plt.title('Mean departure delay across hours')\n",
    "plt.xticks(x) #To make all hours 1-23 appear as ticks on x axis\n",
    "\n",
    "#Plot the data\n",
    "plt.plot(x,y, linewidth=2, c='blue')"
   ]
  },
  {
   "cell_type": "markdown",
   "metadata": {},
   "source": [
    "#### Explanation \n",
    "There seems to be a pattern in delay across time!\n",
    "\n",
    "The average delay time is the largest for flights departing post midnight (3 AM, 2 AM, 1 AM). The departure delay then drops steeply, and slowly and steadily increases from being the lowest in the early morning across the afternoon, evening and peaks in the night time. the delays are very small in the early hours of the morning, i.e. starting from 4 AM, 5 AM, 6 AM until noon almost, which seems to suggest that the efficiency of the airports is high at these times. One possible reason for this could be that there is a higher amount of staff to take care of flights starting 4 AM or more efficient carriers fly in the mornings, and the red eye flights may not be serviced by many staffers, or the carriers that operate late night tend to be associated with larger delays."
   ]
  },
  {
   "cell_type": "markdown",
   "metadata": {},
   "source": [
    "## Question 3 - Fastest Flyer\n",
    "#### Which flight departing NYC in 2013 flew the fastest?"
   ]
  },
  {
   "cell_type": "code",
   "execution_count": 23,
   "metadata": {
    "collapsed": false
   },
   "outputs": [
    {
     "data": {
      "text/html": [
       "<div>\n",
       "<table border=\"1\" class=\"dataframe\">\n",
       "  <thead>\n",
       "    <tr style=\"text-align: right;\">\n",
       "      <th></th>\n",
       "      <th>Unnamed: 0</th>\n",
       "      <th>year</th>\n",
       "      <th>month</th>\n",
       "      <th>day</th>\n",
       "      <th>dep_time</th>\n",
       "      <th>dep_delay</th>\n",
       "      <th>arr_time</th>\n",
       "      <th>arr_delay</th>\n",
       "      <th>carrier</th>\n",
       "      <th>tailnum</th>\n",
       "      <th>flight</th>\n",
       "      <th>origin</th>\n",
       "      <th>dest</th>\n",
       "      <th>air_time</th>\n",
       "      <th>distance</th>\n",
       "      <th>hour</th>\n",
       "      <th>minute</th>\n",
       "      <th>speed</th>\n",
       "    </tr>\n",
       "  </thead>\n",
       "  <tbody>\n",
       "    <tr>\n",
       "      <th>216447</th>\n",
       "      <td>216448</td>\n",
       "      <td>2013</td>\n",
       "      <td>5</td>\n",
       "      <td>25</td>\n",
       "      <td>1709.0</td>\n",
       "      <td>9.0</td>\n",
       "      <td>1923.0</td>\n",
       "      <td>-14.0</td>\n",
       "      <td>DL</td>\n",
       "      <td>N666DN</td>\n",
       "      <td>1499</td>\n",
       "      <td>LGA</td>\n",
       "      <td>ATL</td>\n",
       "      <td>65.0</td>\n",
       "      <td>762</td>\n",
       "      <td>17.0</td>\n",
       "      <td>9.0</td>\n",
       "      <td>703.384615</td>\n",
       "    </tr>\n",
       "    <tr>\n",
       "      <th>251999</th>\n",
       "      <td>252000</td>\n",
       "      <td>2013</td>\n",
       "      <td>7</td>\n",
       "      <td>2</td>\n",
       "      <td>1558.0</td>\n",
       "      <td>45.0</td>\n",
       "      <td>1745.0</td>\n",
       "      <td>26.0</td>\n",
       "      <td>EV</td>\n",
       "      <td>N17196</td>\n",
       "      <td>4667</td>\n",
       "      <td>EWR</td>\n",
       "      <td>MSP</td>\n",
       "      <td>93.0</td>\n",
       "      <td>1008</td>\n",
       "      <td>15.0</td>\n",
       "      <td>58.0</td>\n",
       "      <td>650.322581</td>\n",
       "    </tr>\n",
       "    <tr>\n",
       "      <th>205388</th>\n",
       "      <td>205389</td>\n",
       "      <td>2013</td>\n",
       "      <td>5</td>\n",
       "      <td>13</td>\n",
       "      <td>2040.0</td>\n",
       "      <td>15.0</td>\n",
       "      <td>2225.0</td>\n",
       "      <td>-1.0</td>\n",
       "      <td>EV</td>\n",
       "      <td>N14568</td>\n",
       "      <td>4292</td>\n",
       "      <td>EWR</td>\n",
       "      <td>GSP</td>\n",
       "      <td>55.0</td>\n",
       "      <td>594</td>\n",
       "      <td>20.0</td>\n",
       "      <td>40.0</td>\n",
       "      <td>648.000000</td>\n",
       "    </tr>\n",
       "    <tr>\n",
       "      <th>157516</th>\n",
       "      <td>157517</td>\n",
       "      <td>2013</td>\n",
       "      <td>3</td>\n",
       "      <td>23</td>\n",
       "      <td>1914.0</td>\n",
       "      <td>4.0</td>\n",
       "      <td>2045.0</td>\n",
       "      <td>2.0</td>\n",
       "      <td>EV</td>\n",
       "      <td>N12567</td>\n",
       "      <td>3805</td>\n",
       "      <td>EWR</td>\n",
       "      <td>BNA</td>\n",
       "      <td>70.0</td>\n",
       "      <td>748</td>\n",
       "      <td>19.0</td>\n",
       "      <td>14.0</td>\n",
       "      <td>641.142857</td>\n",
       "    </tr>\n",
       "    <tr>\n",
       "      <th>10223</th>\n",
       "      <td>10224</td>\n",
       "      <td>2013</td>\n",
       "      <td>1</td>\n",
       "      <td>12</td>\n",
       "      <td>1559.0</td>\n",
       "      <td>-1.0</td>\n",
       "      <td>1849.0</td>\n",
       "      <td>-28.0</td>\n",
       "      <td>DL</td>\n",
       "      <td>N956DL</td>\n",
       "      <td>1902</td>\n",
       "      <td>LGA</td>\n",
       "      <td>PBI</td>\n",
       "      <td>105.0</td>\n",
       "      <td>1035</td>\n",
       "      <td>15.0</td>\n",
       "      <td>59.0</td>\n",
       "      <td>591.428571</td>\n",
       "    </tr>\n",
       "  </tbody>\n",
       "</table>\n",
       "</div>"
      ],
      "text/plain": [
       "        Unnamed: 0  year  month  day  dep_time  dep_delay  arr_time  \\\n",
       "216447      216448  2013      5   25    1709.0        9.0    1923.0   \n",
       "251999      252000  2013      7    2    1558.0       45.0    1745.0   \n",
       "205388      205389  2013      5   13    2040.0       15.0    2225.0   \n",
       "157516      157517  2013      3   23    1914.0        4.0    2045.0   \n",
       "10223        10224  2013      1   12    1559.0       -1.0    1849.0   \n",
       "\n",
       "        arr_delay carrier tailnum  flight origin dest  air_time  distance  \\\n",
       "216447      -14.0      DL  N666DN    1499    LGA  ATL      65.0       762   \n",
       "251999       26.0      EV  N17196    4667    EWR  MSP      93.0      1008   \n",
       "205388       -1.0      EV  N14568    4292    EWR  GSP      55.0       594   \n",
       "157516        2.0      EV  N12567    3805    EWR  BNA      70.0       748   \n",
       "10223       -28.0      DL  N956DL    1902    LGA  PBI     105.0      1035   \n",
       "\n",
       "        hour  minute       speed  \n",
       "216447  17.0     9.0  703.384615  \n",
       "251999  15.0    58.0  650.322581  \n",
       "205388  20.0    40.0  648.000000  \n",
       "157516  19.0    14.0  641.142857  \n",
       "10223   15.0    59.0  591.428571  "
      ]
     },
     "execution_count": 23,
     "metadata": {},
     "output_type": "execute_result"
    }
   ],
   "source": [
    "# Calculate speed as distance / air_time\n",
    "flights_df['speed']=flights_df['distance']*60/flights_df['air_time']\n",
    "flights_df= flights_df.sort_values(by='speed', ascending=False)\n",
    "flights_df.head()"
   ]
  },
  {
   "cell_type": "markdown",
   "metadata": {},
   "source": [
    "#### Explanation\n",
    "The Delta Airlines flight 1499  (Tail number N666DN) from La Guardia (LGA) to Atlanta (ATL) flew a distance of 762 miles with an average speed of 11.72 miles/min (703.38 mph) for an air time of 65 minutes on 25th May 2013."
   ]
  },
  {
   "cell_type": "markdown",
   "metadata": {},
   "source": [
    "## Question 4 - Daily Flyers\n",
    "Which flights (i.e. carrier + flight + dest) happen every day? Where do they fly to?"
   ]
  },
  {
   "cell_type": "code",
   "execution_count": 24,
   "metadata": {
    "collapsed": false
   },
   "outputs": [
    {
     "data": {
      "text/html": [
       "<div>\n",
       "<table border=\"1\" class=\"dataframe\">\n",
       "  <thead>\n",
       "    <tr style=\"text-align: right;\">\n",
       "      <th></th>\n",
       "      <th></th>\n",
       "      <th></th>\n",
       "      <th>numTotal</th>\n",
       "    </tr>\n",
       "    <tr>\n",
       "      <th>carrier</th>\n",
       "      <th>flight</th>\n",
       "      <th>dest</th>\n",
       "      <th></th>\n",
       "    </tr>\n",
       "  </thead>\n",
       "  <tbody>\n",
       "    <tr>\n",
       "      <th rowspan=\"5\" valign=\"top\">AA</th>\n",
       "      <th>59</th>\n",
       "      <th>SFO</th>\n",
       "      <td>365</td>\n",
       "    </tr>\n",
       "    <tr>\n",
       "      <th>119</th>\n",
       "      <th>LAX</th>\n",
       "      <td>365</td>\n",
       "    </tr>\n",
       "    <tr>\n",
       "      <th>181</th>\n",
       "      <th>LAX</th>\n",
       "      <td>365</td>\n",
       "    </tr>\n",
       "    <tr>\n",
       "      <th>1357</th>\n",
       "      <th>SJU</th>\n",
       "      <td>365</td>\n",
       "    </tr>\n",
       "    <tr>\n",
       "      <th>1611</th>\n",
       "      <th>MIA</th>\n",
       "      <td>365</td>\n",
       "    </tr>\n",
       "    <tr>\n",
       "      <th rowspan=\"6\" valign=\"top\">B6</th>\n",
       "      <th>219</th>\n",
       "      <th>CLT</th>\n",
       "      <td>365</td>\n",
       "    </tr>\n",
       "    <tr>\n",
       "      <th>359</th>\n",
       "      <th>BUR</th>\n",
       "      <td>365</td>\n",
       "    </tr>\n",
       "    <tr>\n",
       "      <th>371</th>\n",
       "      <th>FLL</th>\n",
       "      <td>365</td>\n",
       "    </tr>\n",
       "    <tr>\n",
       "      <th>431</th>\n",
       "      <th>SRQ</th>\n",
       "      <td>365</td>\n",
       "    </tr>\n",
       "    <tr>\n",
       "      <th>703</th>\n",
       "      <th>SJU</th>\n",
       "      <td>365</td>\n",
       "    </tr>\n",
       "    <tr>\n",
       "      <th>1783</th>\n",
       "      <th>MCO</th>\n",
       "      <td>365</td>\n",
       "    </tr>\n",
       "    <tr>\n",
       "      <th rowspan=\"2\" valign=\"top\">DL</th>\n",
       "      <th>2159</th>\n",
       "      <th>MCO</th>\n",
       "      <td>365</td>\n",
       "    </tr>\n",
       "    <tr>\n",
       "      <th>2391</th>\n",
       "      <th>TPA</th>\n",
       "      <td>365</td>\n",
       "    </tr>\n",
       "    <tr>\n",
       "      <th>EV</th>\n",
       "      <th>5712</th>\n",
       "      <th>IAD</th>\n",
       "      <td>365</td>\n",
       "    </tr>\n",
       "    <tr>\n",
       "      <th>UA</th>\n",
       "      <th>15</th>\n",
       "      <th>HNL</th>\n",
       "      <td>365</td>\n",
       "    </tr>\n",
       "    <tr>\n",
       "      <th rowspan=\"3\" valign=\"top\">VX</th>\n",
       "      <th>251</th>\n",
       "      <th>LAS</th>\n",
       "      <td>365</td>\n",
       "    </tr>\n",
       "    <tr>\n",
       "      <th>407</th>\n",
       "      <th>LAX</th>\n",
       "      <td>365</td>\n",
       "    </tr>\n",
       "    <tr>\n",
       "      <th>413</th>\n",
       "      <th>LAX</th>\n",
       "      <td>365</td>\n",
       "    </tr>\n",
       "  </tbody>\n",
       "</table>\n",
       "</div>"
      ],
      "text/plain": [
       "                     numTotal\n",
       "carrier flight dest          \n",
       "AA      59     SFO        365\n",
       "        119    LAX        365\n",
       "        181    LAX        365\n",
       "        1357   SJU        365\n",
       "        1611   MIA        365\n",
       "B6      219    CLT        365\n",
       "        359    BUR        365\n",
       "        371    FLL        365\n",
       "        431    SRQ        365\n",
       "        703    SJU        365\n",
       "        1783   MCO        365\n",
       "DL      2159   MCO        365\n",
       "        2391   TPA        365\n",
       "EV      5712   IAD        365\n",
       "UA      15     HNL        365\n",
       "VX      251    LAS        365\n",
       "        407    LAX        365\n",
       "        413    LAX        365"
      ]
     },
     "execution_count": 24,
     "metadata": {},
     "output_type": "execute_result"
    }
   ],
   "source": [
    "# Filter out daily flights\n",
    "daily_flights_df = flights_df.ix[: , ['carrier','flight','dest']]\n",
    "daily_flights_df['numTotal']=1\n",
    "\n",
    "daily_flights_df= daily_flights_df.groupby(['carrier','flight','dest']).sum()\n",
    "daily_flights_df[daily_flights_df['numTotal']==365]"
   ]
  },
  {
   "cell_type": "markdown",
   "metadata": {},
   "source": [
    "#### Explanation  \n",
    "There are 18 flights that run daily.\n",
    "\n",
    "The 13 unique destinations include:\n",
    "MIA, SJU, LAX, \n",
    "CLT, HNL, BUR,\n",
    "FLL, SRQ, MCO,\n",
    "IAD, LAS, SFO,\n",
    "TPA"
   ]
  },
  {
   "cell_type": "markdown",
   "metadata": {},
   "source": [
    "## Question 5 - Research Question- Influence of airport choice on departure delay (monthly, hourly)\n",
    "\n",
    "#### Develop one research question you can address using the nycflights2013 dataset. Provide two visualizations to support your exploration of this question. Discuss what you find.\n"
   ]
  },
  {
   "cell_type": "markdown",
   "metadata": {
    "collapsed": true
   },
   "source": [
    "#### The Research Question\n",
    "> How do the mean hourly and monthly departure delay vary, as a function of the NYC airport ? In other words, how does the choice of airport (LGA, EWR, JFK) influence the expected monthly and hourly departure delay?\n",
    "\n",
    "Why this question?\n",
    "- This question is useful to answer because as a consumer with just a printed out ticket that tells me which  NYC airport, and what time the flight leaves, I can anticipate the expected departure delay based on the month and hour of departure.  \n",
    "- At the least, knowing the \"best\" airport to avoid departure delays might be, will refine my flight searches in the future.\n",
    "- It is reasonable to expect that the departure delay depends on the staff, and flights being serviced at a particular origin airport.\n",
    "\n",
    "\n",
    "The main aspects of departure delay I want to explore are-\n",
    "- Mean delay time (minutes) , i.e. how much later should I expect my flight to leave? (Primary)\n",
    "- Mean delay percentage , i.e. what is the probability of my flight being delayed?    (Secondary)\n",
    " \n",
    "Both of these aspects were calculated overall in previous questions, but the data was not parsed based on the origin.\n",
    "\n",
    "\n",
    "\n",
    "#### Steps in Analysis\n",
    "1. Find overall variation in mean departure delay across airports (EWR, LGA, JFK) - with Boxplot\n",
    "2. If results seem interesting, continue.\n",
    "3. Analyze overall variation in mean monthly departure delay across airports (EWR, LGA, JFK) - with Scatter\n",
    "4. Analyze overall variation in mean hourly departure delay across airports (EWR, LGA, JFK) - with Scatter\n",
    "5. Test results for steps 3 and 4 for statistical significance ( To be done later)\n",
    "6. Discuss"
   ]
  },
  {
   "cell_type": "markdown",
   "metadata": {},
   "source": [
    "#### Mean Departure Delay - Overall"
   ]
  },
  {
   "cell_type": "code",
   "execution_count": 25,
   "metadata": {
    "collapsed": false
   },
   "outputs": [
    {
     "name": "stdout",
     "output_type": "stream",
     "text": [
      "Snapshot of Overall delays per Airport\n",
      "\n",
      "  origin  dep_delay numDelayed\n",
      "0    EWR  15.107954     43.62%\n",
      "1    JFK  12.112159     37.77%\n",
      "2    LGA  10.346876     32.19%\n"
     ]
    }
   ],
   "source": [
    "#Calculate overall Delay\n",
    "\n",
    "#Fetch month, hour and origin delay records from overall flights data - For further analysis\n",
    "data_df=flights_df.ix[:,['month','hour','dep_delay','origin']]\n",
    "data_df['numDelayed'] = np.where(data_df['dep_delay'] > 0, 1, 0)  #Additional column to calculate delay percent\n",
    "data_df.loc[data_df.hour == 24, 'hour'] = 0   #Reassigned hour 24 to hour 0\n",
    "\n",
    "#Aggregate overall data for Airport\n",
    "overall_data_df = data_df.groupby(['origin'], as_index=False)['dep_delay','origin','numDelayed'].mean()\n",
    "overall_data_df['numDelayed'] = overall_data_df['numDelayed']*100  \n",
    "\n",
    "print('Snapshot of Overall delays per Airport\\n')\n",
    "print( overall_data_df.to_string(formatters={'numDelayed':'{:,.2f}%'.format}))\n"
   ]
  },
  {
   "cell_type": "markdown",
   "metadata": {},
   "source": [
    "Seems like we are on the right track, there is a seemingly big difference in the average delay percentage and departure delay times across the airports.\n",
    "\n",
    "- The best airport in 2013 was La Guardia with least % of delays (32.2%), and least average delay time of 10 mins.\n",
    "- The worst airport in 2013 was Newark with 43.62% flights running delayed, and average delay time of 15 minutes.\n",
    "\n",
    "Let's see if these trends hold throughout the year, and throughout a single day as well!\n",
    "\n",
    "Let's plot the data across months & hours of the day!"
   ]
  },
  {
   "cell_type": "markdown",
   "metadata": {},
   "source": [
    "#### Statistical significance Tests & Box Plots (To be completed later)"
   ]
  },
  {
   "cell_type": "code",
   "execution_count": 26,
   "metadata": {
    "collapsed": false
   },
   "outputs": [],
   "source": [
    "#from scipy import stats\n",
    "#F, p = stats.f_oneway(overall_data_df['ctrl'], overall_data_df['trt1'], overall_data_df['trt2'])"
   ]
  },
  {
   "cell_type": "code",
   "execution_count": 27,
   "metadata": {
    "collapsed": false
   },
   "outputs": [],
   "source": [
    "# Draw First BoxPlot\n",
    "#fig, ax = plt.figure(figsize=(20,10))\n",
    "#ax.boxplot(box_df['dep_delay'],by=box_df['origin'],  showfliers=False)\n",
    "#a.title('Box Plot for Departure Delay (minutes) with Airport ')"
   ]
  },
  {
   "cell_type": "code",
   "execution_count": 28,
   "metadata": {
    "collapsed": false
   },
   "outputs": [],
   "source": [
    "# Draw Second BoxPlot\n",
    "#fig = plt.figure(figsize=(20,10))\n",
    "#plt.title('Box Plot for Departure Delay (minutes) with Airport ')\n",
    "#box_df.boxplot(['numDelayed'],'origin',  showfliers=False)"
   ]
  },
  {
   "cell_type": "markdown",
   "metadata": {},
   "source": [
    "#### Mean Departure Delay - Monthly"
   ]
  },
  {
   "cell_type": "code",
   "execution_count": 29,
   "metadata": {
    "collapsed": false
   },
   "outputs": [
    {
     "name": "stdout",
     "output_type": "stream",
     "text": [
      "Snapshot of Monthly delays per Airport\n",
      "\n",
      "   month origin  dep_delay numDelayed\n",
      "0      1    EWR  14.905748     44.22%\n",
      "1      1    JFK   8.615826     33.77%\n",
      "2      1    LGA   5.641560     27.58%\n",
      "3      2    EWR  13.067263     41.39%\n",
      "4      2    JFK  11.791355     37.17%\n"
     ]
    }
   ],
   "source": [
    "#Aggregate data for month\n",
    "month_data_df = data_df.groupby(['month','origin'], as_index=False)['month','dep_delay','origin','numDelayed'].mean()\n",
    "month_data_df['numDelayed'] = month_data_df['numDelayed']*100\n",
    "\n",
    "print('Snapshot of Monthly delays per Airport\\n')\n",
    "print( month_data_df.head().to_string(formatters={'numDelayed':'{:,.2f}%'.format}))"
   ]
  },
  {
   "cell_type": "code",
   "execution_count": 30,
   "metadata": {
    "collapsed": false
   },
   "outputs": [
    {
     "data": {
      "image/png": "[encoded data removed]",
      "text/plain": [
       "<matplotlib.figure.Figure at 0x1bac96783c8>"
      ]
     },
     "metadata": {},
     "output_type": "display_data"
    }
   ],
   "source": [
    "#PLOT for MONTHLY DELAY\n",
    "#Create subsets of data\n",
    "subset_ewr = month_data_df[month_data_df.origin=='EWR'].dropna()\n",
    "subset_lga = month_data_df[month_data_df.origin=='LGA'].dropna()\n",
    "subset_jfk = month_data_df[month_data_df.origin=='JFK'].dropna()\n",
    "\n",
    "#Initialize the plot data\n",
    "x1 = subset_ewr['month'].values\n",
    "y1 = subset_ewr['dep_delay'].values\n",
    "delays1 = subset_ewr['numDelayed'].values\n",
    "area1 = np.pi * (0.15 * delays1)**2  # 0 to 15 point radii\n",
    "\n",
    "x2 = subset_lga['month'].values\n",
    "y2 = subset_lga['dep_delay'].values\n",
    "delays2 = subset_lga['numDelayed'].values\n",
    "area2 = np.pi * (0.15 * delays2)**2  # 0 to 15 point radii\n",
    "\n",
    "x3 = subset_jfk['month'].values\n",
    "y3 = subset_jfk['dep_delay'].values\n",
    "delays3 = subset_jfk['numDelayed'].values\n",
    "area3 = np.pi * (0.15 * delays3)**2  # 0 to 15 point radii\n",
    "\n",
    "# Initialize the plot\n",
    "fig = plt.figure(figsize=(20,10))\n",
    "#fig = plt.figure(figsize=(20,10))\n",
    "plt.title('Visualizing delay times across months for NYC Airports. (Size proportional to delay percentage)')\n",
    "\n",
    "#Show month names instead of numbers 1-12, month_labels np.array created in 2 (c)\n",
    "plt.xticks(x1, month_labels) \n",
    "plt.xticks(x2, month_labels)\n",
    "plt.xticks(x3, month_labels)\n",
    "\n",
    "plt.xlabel('Month')\n",
    "plt.ylabel('Monthly Mean Delay (Minutes)')\n",
    "\n",
    "#Plot the data\n",
    "plt.scatter(x1, y1, s=area1, c='red',alpha=0.5, label='Newark')\n",
    "plt.scatter(x3, y3, s=area3, c='blue',alpha=0.5, label='JFK')\n",
    "plt.scatter(x2, y2, s=area2, c='green',alpha=0.5, label='LaGuardia')\n",
    "\n",
    "plt.legend()\n",
    "plt.show()"
   ]
  },
  {
   "cell_type": "markdown",
   "metadata": {},
   "source": [
    "#### Plot Explanation - 1\n",
    "- Y: Average Delay Time (Minutes)\n",
    "- X: Over months of a year\n",
    "- Size: Percent of flights delayed\n",
    "- Colour: Which Airport?\n",
    "\n",
    "**Observations**\n",
    "- What we see is that overall, La Guardia (Green) consistently outperforms the other airports throughout the year!\n",
    "\n",
    "- Laguardia has a smaller percentage of flights that are delayed throughout the year (smaller area circles) whereas Newark consistently has more delayed flights throughout the year (bigger circles).\n",
    "\n",
    "- We see seasonality in all three airports with summer months and December seeing higher delays than rest of the months.\n",
    "\n",
    "- An interesting observation is that except for summer months (June to September), Newark is significantly worse in terms of departure delays as opposed to both JFK, and La Guardia.  (Based on how close all three dots are for a month)\n",
    "- JFK has the worst average delay time in July among the three airports, Newark is worse the other 11 months\n",
    "- The monthly Average delay times for the airports range from 5 minutes to around 25 minutes across the year"
   ]
  },
  {
   "cell_type": "code",
   "execution_count": 31,
   "metadata": {
    "collapsed": false
   },
   "outputs": [
    {
     "name": "stdout",
     "output_type": "stream",
     "text": [
      "Snapshot of Hourly delays per Airport\n",
      "\n",
      "   hour origin   dep_delay numDelayed\n",
      "0   0.0    EWR  208.121795    100.00%\n",
      "1   0.0    JFK   82.676282    100.00%\n",
      "2   0.0    LGA  239.676923    100.00%\n",
      "3   1.0    EWR  269.000000    100.00%\n",
      "4   1.0    JFK  161.007299    100.00%\n"
     ]
    }
   ],
   "source": [
    "#Aggregate data for hour\n",
    "hour_data_df = data_df.groupby(['hour','origin'], as_index=False)['hour','dep_delay','origin','numDelayed'].mean()\n",
    "hour_data_df['numDelayed'] = hour_data_df['numDelayed']*100\n",
    "\n",
    "print('Snapshot of Hourly delays per Airport\\n')\n",
    "print( hour_data_df.head().to_string(formatters={'numDelayed':'{:,.2f}%'.format}))\n"
   ]
  },
  {
   "cell_type": "code",
   "execution_count": 32,
   "metadata": {
    "collapsed": false
   },
   "outputs": [
    {
     "data": {
      "image/png": "[encoded data removed]",
      "text/plain": [
       "<matplotlib.figure.Figure at 0x1bac90cac18>"
      ]
     },
     "metadata": {},
     "output_type": "display_data"
    }
   ],
   "source": [
    "#PLOT for HOURLY DELAY\n",
    "#Create subsets of data\n",
    "subset_ewr = hour_data_df[hour_data_df.origin=='EWR'].dropna()\n",
    "subset_lga = hour_data_df[hour_data_df.origin=='LGA'].dropna()\n",
    "subset_jfk = hour_data_df[hour_data_df.origin=='JFK'].dropna()\n",
    "\n",
    "#Prepare plot data\n",
    "#EWR\n",
    "x1 = subset_ewr['hour'].values\n",
    "y1 = subset_ewr['dep_delay'].values\n",
    "delays1 = subset_ewr['numDelayed'].values\n",
    "area1 = np.pi * (0.15 * delays1)**2  # 0 to 15 point radii\n",
    "\n",
    "#LGA\n",
    "x2 = subset_lga['hour'].values\n",
    "y2 = subset_lga['dep_delay'].values\n",
    "delays2 = subset_lga['numDelayed'].values\n",
    "area2 = np.pi * (0.15 * delays2)**2  # 0 to 15 point radii\n",
    "\n",
    "#JFK\n",
    "x3 = subset_jfk['hour'].values\n",
    "y3 = subset_jfk['dep_delay'].values\n",
    "delays3 = subset_jfk['numDelayed'].values\n",
    "area3 = np.pi * (0.15 * delays3)**2  # 0 to 15 point radii\n",
    "\n",
    "#Initialize Plot\n",
    "fig = plt.figure(figsize=(20,10))\n",
    "##Add xticks to make all hours visible\n",
    "\n",
    "#Show all hours\n",
    "plt.xticks(x1) \n",
    "plt.xticks(x2)\n",
    "plt.xticks(x3)\n",
    "\n",
    "\n",
    "#Plot the data\n",
    "plt.scatter(x1, y1, s=area1, c='green',alpha=0.5, label='Newark')\n",
    "plt.scatter(x3, y3, s=area3, c='purple',alpha=0.5, label='JFK')\n",
    "plt.scatter(x2, y2, s=area2, c='yellow',alpha=0.5, label='LaGuardia')\n",
    "plt.legend()\n",
    "\n",
    "plt.show()\n"
   ]
  },
  {
   "cell_type": "markdown",
   "metadata": {},
   "source": [
    "#### Plot Explanation - 2\n",
    "- Y: Average Delay Time (Minutes) \n",
    "- X: Over hours of a day\n",
    "- Size: Percent of flights delayed\n",
    "- Colour: Which Airport?\n",
    "\n",
    "** Shocking Observations**\n",
    "- We now see that La guardia performs much worse in the late nights, starting 10PM, until 3 AM!\n",
    "Seems like our positive image of La Guardia is being tested, as it shows significantly higher delay times.\n",
    "- We see similar trends of increase and decrease in all three airports with mornings until evenings having fairly low delays.\n",
    "- All the airports have higher percent of flight delays (larger size of circles) in the late night time period.\n",
    "- An interesting observation is that except for summer months (June to September), Newark is much worse in terms of departure delays as opposed to both JFK, and La Guardia\n",
    "- The hourly average delay times for the airports fluctuate strongly and almost 0 delay to many hours (200+ minutes) across the day\n",
    "- An explanation for La Guardia having low monthly average delays but performing badly at night could be that most of the flights that it serves are in the morning to evening time, thus lowering the monthly average delays.\n",
    "\n",
    "\n",
    "**Overall Confounding Factors**\n",
    "Since we looked at the departure delays of flights with relation to each airport, there could be confounding factors such as number of flights serviced by the airport, kinds of carriers, and the operating staff at the airport. These factors are inherent in the analysis, and specific statistical testing can help parse out the significant factors. \n"
   ]
  },
  {
   "cell_type": "markdown",
   "metadata": {},
   "source": [
    "## Question 6 - Weather & Flights\n",
    "#### What weather conditions are associated with flight delays leaving NYC? Use graphics to explore."
   ]
  },
  {
   "cell_type": "markdown",
   "metadata": {
    "collapsed": false
   },
   "source": [
    "#### Expected Analysis\n",
    "The weather data consists of weather recordings for a particular airport on an hourly basis for a day. \n",
    "Let's take the daily average of the weather data across hours, across all the airports, to get a daily weather profile for NYC. Similarly, we take the daily average of the mean delay time, and mean percent delay across all airports  to get a daily delay profile for NYC.\n",
    "\n",
    "We can then combine these two datasets to perform correlation analysis. The only caveat is that since we aggregate the data over the airports, and the measured hours etc. the underlying influence of these will be a counfounding factor on top of other factors.\n",
    "\n",
    "Steps:\n",
    "1. Read Weather Data\n",
    "2. Prune Weather Data to create one record per day in NYC\n",
    "3. Prune Flights Data to create one record per day in NYC\n",
    "4. Combine above two into single dataframe.\n",
    "5. Plot correlation matrix\n",
    "6. Discussion\n",
    "7. Visually explore the strong associations"
   ]
  },
  {
   "cell_type": "markdown",
   "metadata": {},
   "source": [
    "#### Read Weather Data"
   ]
  },
  {
   "cell_type": "code",
   "execution_count": 33,
   "metadata": {
    "collapsed": false
   },
   "outputs": [],
   "source": [
    "# Fetch Weather data\n",
    "weather_df= pd.read_csv('weather.csv')\n",
    "weather_df = pd.DataFrame(weather_df)  # Cast DataFrameGroupby object to DataFrame for easy analysis"
   ]
  },
  {
   "cell_type": "code",
   "execution_count": 34,
   "metadata": {
    "collapsed": false
   },
   "outputs": [
    {
     "name": "stdout",
     "output_type": "stream",
     "text": [
      "(8719, 15)\n",
      "Index(['Unnamed: 0', 'origin', 'year', 'month', 'day', 'hour', 'temp', 'dewp',\n",
      "       'humid', 'wind_dir', 'wind_speed', 'wind_gust', 'precip', 'pressure',\n",
      "       'visib'],\n",
      "      dtype='object')\n",
      "Unnamed: 0      int64\n",
      "origin         object\n",
      "year            int64\n",
      "month         float64\n",
      "day           float64\n",
      "hour          float64\n",
      "temp          float64\n",
      "dewp          float64\n",
      "humid         float64\n",
      "wind_dir      float64\n",
      "wind_speed    float64\n",
      "wind_gust     float64\n",
      "precip        float64\n",
      "pressure      float64\n",
      "visib         float64\n",
      "dtype: object\n"
     ]
    }
   ],
   "source": [
    "print (weather_df.shape)\n",
    "print (weather_df.columns)\n",
    "print (weather_df.dtypes)"
   ]
  },
  {
   "cell_type": "markdown",
   "metadata": {},
   "source": [
    "#### Prune Weather data"
   ]
  },
  {
   "cell_type": "code",
   "execution_count": 35,
   "metadata": {
    "collapsed": false,
    "scrolled": false
   },
   "outputs": [],
   "source": [
    "weather_df.head()\n",
    "daily_weather = weather_df.groupby(['year','month','day'],as_index=False)['year','month','day','temp','dewp','humid','wind_dir','wind_speed','wind_gust','precip','pressure','visib'].mean()"
   ]
  },
  {
   "cell_type": "code",
   "execution_count": 36,
   "metadata": {
    "collapsed": false
   },
   "outputs": [],
   "source": [
    "#Remove useless Weather columns - Run only once per program!\n",
    "del weather_df['origin']"
   ]
  },
  {
   "cell_type": "code",
   "execution_count": 37,
   "metadata": {
    "collapsed": false
   },
   "outputs": [
    {
     "data": {
      "text/html": [
       "<div>\n",
       "<table border=\"1\" class=\"dataframe\">\n",
       "  <thead>\n",
       "    <tr style=\"text-align: right;\">\n",
       "      <th></th>\n",
       "      <th>year</th>\n",
       "      <th>month</th>\n",
       "      <th>day</th>\n",
       "      <th>dewp</th>\n",
       "      <th>humid</th>\n",
       "      <th>precip</th>\n",
       "      <th>pressure</th>\n",
       "      <th>temp</th>\n",
       "      <th>visib</th>\n",
       "      <th>wind_dir</th>\n",
       "      <th>wind_gust</th>\n",
       "      <th>wind_speed</th>\n",
       "    </tr>\n",
       "  </thead>\n",
       "  <tbody>\n",
       "    <tr>\n",
       "      <th>0</th>\n",
       "      <td>2013</td>\n",
       "      <td>1.0</td>\n",
       "      <td>1.0</td>\n",
       "      <td>25.050435</td>\n",
       "      <td>58.386087</td>\n",
       "      <td>0.0</td>\n",
       "      <td>1012.442857</td>\n",
       "      <td>38.4800</td>\n",
       "      <td>10.0</td>\n",
       "      <td>263.043478</td>\n",
       "      <td>14.682397</td>\n",
       "      <td>12.758648</td>\n",
       "    </tr>\n",
       "    <tr>\n",
       "      <th>1</th>\n",
       "      <td>2013</td>\n",
       "      <td>1.0</td>\n",
       "      <td>2.0</td>\n",
       "      <td>11.382500</td>\n",
       "      <td>47.786250</td>\n",
       "      <td>0.0</td>\n",
       "      <td>1017.337500</td>\n",
       "      <td>28.8350</td>\n",
       "      <td>10.0</td>\n",
       "      <td>307.916667</td>\n",
       "      <td>14.401704</td>\n",
       "      <td>12.514732</td>\n",
       "    </tr>\n",
       "    <tr>\n",
       "      <th>2</th>\n",
       "      <td>2013</td>\n",
       "      <td>1.0</td>\n",
       "      <td>3.0</td>\n",
       "      <td>14.780000</td>\n",
       "      <td>54.395833</td>\n",
       "      <td>0.0</td>\n",
       "      <td>1021.058333</td>\n",
       "      <td>29.4575</td>\n",
       "      <td>10.0</td>\n",
       "      <td>276.956522</td>\n",
       "      <td>9.049346</td>\n",
       "      <td>7.863663</td>\n",
       "    </tr>\n",
       "    <tr>\n",
       "      <th>3</th>\n",
       "      <td>2013</td>\n",
       "      <td>1.0</td>\n",
       "      <td>4.0</td>\n",
       "      <td>19.205000</td>\n",
       "      <td>55.880417</td>\n",
       "      <td>0.0</td>\n",
       "      <td>1017.533333</td>\n",
       "      <td>33.4775</td>\n",
       "      <td>10.0</td>\n",
       "      <td>242.916667</td>\n",
       "      <td>15.946714</td>\n",
       "      <td>13.857309</td>\n",
       "    </tr>\n",
       "    <tr>\n",
       "      <th>4</th>\n",
       "      <td>2013</td>\n",
       "      <td>1.0</td>\n",
       "      <td>5.0</td>\n",
       "      <td>19.242500</td>\n",
       "      <td>49.284583</td>\n",
       "      <td>0.0</td>\n",
       "      <td>1021.120833</td>\n",
       "      <td>36.7325</td>\n",
       "      <td>10.0</td>\n",
       "      <td>271.666667</td>\n",
       "      <td>12.470441</td>\n",
       "      <td>10.836512</td>\n",
       "    </tr>\n",
       "  </tbody>\n",
       "</table>\n",
       "</div>"
      ],
      "text/plain": [
       "   year  month  day       dewp      humid  precip     pressure     temp  \\\n",
       "0  2013    1.0  1.0  25.050435  58.386087     0.0  1012.442857  38.4800   \n",
       "1  2013    1.0  2.0  11.382500  47.786250     0.0  1017.337500  28.8350   \n",
       "2  2013    1.0  3.0  14.780000  54.395833     0.0  1021.058333  29.4575   \n",
       "3  2013    1.0  4.0  19.205000  55.880417     0.0  1017.533333  33.4775   \n",
       "4  2013    1.0  5.0  19.242500  49.284583     0.0  1021.120833  36.7325   \n",
       "\n",
       "   visib    wind_dir  wind_gust  wind_speed  \n",
       "0   10.0  263.043478  14.682397   12.758648  \n",
       "1   10.0  307.916667  14.401704   12.514732  \n",
       "2   10.0  276.956522   9.049346    7.863663  \n",
       "3   10.0  242.916667  15.946714   13.857309  \n",
       "4   10.0  271.666667  12.470441   10.836512  "
      ]
     },
     "execution_count": 37,
     "metadata": {},
     "output_type": "execute_result"
    }
   ],
   "source": [
    "daily_weather.head()"
   ]
  },
  {
   "cell_type": "markdown",
   "metadata": {},
   "source": [
    "#### Prune Flight data"
   ]
  },
  {
   "cell_type": "code",
   "execution_count": 38,
   "metadata": {
    "collapsed": false
   },
   "outputs": [
    {
     "data": {
      "text/html": [
       "<div>\n",
       "<table border=\"1\" class=\"dataframe\">\n",
       "  <thead>\n",
       "    <tr style=\"text-align: right;\">\n",
       "      <th></th>\n",
       "      <th>year</th>\n",
       "      <th>month</th>\n",
       "      <th>day</th>\n",
       "      <th>dep_delay</th>\n",
       "      <th>percentDelay</th>\n",
       "      <th>numTotal</th>\n",
       "    </tr>\n",
       "  </thead>\n",
       "  <tbody>\n",
       "    <tr>\n",
       "      <th>0</th>\n",
       "      <td>2013</td>\n",
       "      <td>1</td>\n",
       "      <td>1</td>\n",
       "      <td>11.494062</td>\n",
       "      <td>41.805226</td>\n",
       "      <td>842</td>\n",
       "    </tr>\n",
       "    <tr>\n",
       "      <th>1</th>\n",
       "      <td>2013</td>\n",
       "      <td>1</td>\n",
       "      <td>2</td>\n",
       "      <td>13.741251</td>\n",
       "      <td>47.720042</td>\n",
       "      <td>943</td>\n",
       "    </tr>\n",
       "    <tr>\n",
       "      <th>2</th>\n",
       "      <td>2013</td>\n",
       "      <td>1</td>\n",
       "      <td>3</td>\n",
       "      <td>10.867615</td>\n",
       "      <td>45.185996</td>\n",
       "      <td>914</td>\n",
       "    </tr>\n",
       "    <tr>\n",
       "      <th>3</th>\n",
       "      <td>2013</td>\n",
       "      <td>1</td>\n",
       "      <td>4</td>\n",
       "      <td>8.892896</td>\n",
       "      <td>42.732240</td>\n",
       "      <td>915</td>\n",
       "    </tr>\n",
       "    <tr>\n",
       "      <th>4</th>\n",
       "      <td>2013</td>\n",
       "      <td>1</td>\n",
       "      <td>5</td>\n",
       "      <td>5.708333</td>\n",
       "      <td>37.222222</td>\n",
       "      <td>720</td>\n",
       "    </tr>\n",
       "  </tbody>\n",
       "</table>\n",
       "</div>"
      ],
      "text/plain": [
       "   year  month  day  dep_delay  percentDelay  numTotal\n",
       "0  2013      1    1  11.494062     41.805226       842\n",
       "1  2013      1    2  13.741251     47.720042       943\n",
       "2  2013      1    3  10.867615     45.185996       914\n",
       "3  2013      1    4   8.892896     42.732240       915\n",
       "4  2013      1    5   5.708333     37.222222       720"
      ]
     },
     "execution_count": 38,
     "metadata": {},
     "output_type": "execute_result"
    }
   ],
   "source": [
    "flights_df.head()\n",
    "flight_delays= flights_df.ix[:, ['year','month','day','dep_delay']]\n",
    "\n",
    "flight_delays['percentDelay'] = np.where(flight_delays['dep_delay'] > 0, 1, 0)\n",
    "flight_delays['numTotal'] = 1\n",
    "\n",
    "daily_planes = flight_delays.groupby(['year','month','day'], as_index=False).sum()\n",
    "daily_planes['percentDelay'] = daily_planes['percentDelay'] *100 / daily_planes['numTotal']\n",
    "daily_planes['dep_delay'] = daily_planes['dep_delay'] / daily_planes['numTotal']\n",
    "\n",
    "daily_planes.head()"
   ]
  },
  {
   "cell_type": "code",
   "execution_count": 39,
   "metadata": {
    "collapsed": false
   },
   "outputs": [],
   "source": [
    "#Remove useless Flights column\n",
    "del daily_planes['numTotal']"
   ]
  },
  {
   "cell_type": "markdown",
   "metadata": {},
   "source": [
    "#### Merge Weather and Flight data"
   ]
  },
  {
   "cell_type": "code",
   "execution_count": 40,
   "metadata": {
    "collapsed": false
   },
   "outputs": [
    {
     "data": {
      "text/html": [
       "<div>\n",
       "<table border=\"1\" class=\"dataframe\">\n",
       "  <thead>\n",
       "    <tr style=\"text-align: right;\">\n",
       "      <th></th>\n",
       "      <th></th>\n",
       "      <th></th>\n",
       "      <th>dep_delay</th>\n",
       "      <th>percentDelay</th>\n",
       "      <th>dewp</th>\n",
       "      <th>humid</th>\n",
       "      <th>precip</th>\n",
       "      <th>pressure</th>\n",
       "      <th>temp</th>\n",
       "      <th>visib</th>\n",
       "      <th>wind_dir</th>\n",
       "      <th>wind_gust</th>\n",
       "      <th>wind_speed</th>\n",
       "    </tr>\n",
       "    <tr>\n",
       "      <th>year</th>\n",
       "      <th>month</th>\n",
       "      <th>day</th>\n",
       "      <th></th>\n",
       "      <th></th>\n",
       "      <th></th>\n",
       "      <th></th>\n",
       "      <th></th>\n",
       "      <th></th>\n",
       "      <th></th>\n",
       "      <th></th>\n",
       "      <th></th>\n",
       "      <th></th>\n",
       "      <th></th>\n",
       "    </tr>\n",
       "  </thead>\n",
       "  <tbody>\n",
       "    <tr>\n",
       "      <th rowspan=\"5\" valign=\"top\">2013</th>\n",
       "      <th rowspan=\"5\" valign=\"top\">1</th>\n",
       "      <th>1</th>\n",
       "      <td>11.494062</td>\n",
       "      <td>41.805226</td>\n",
       "      <td>25.050435</td>\n",
       "      <td>58.386087</td>\n",
       "      <td>0.0</td>\n",
       "      <td>1012.442857</td>\n",
       "      <td>38.4800</td>\n",
       "      <td>10.0</td>\n",
       "      <td>263.043478</td>\n",
       "      <td>14.682397</td>\n",
       "      <td>12.758648</td>\n",
       "    </tr>\n",
       "    <tr>\n",
       "      <th>2</th>\n",
       "      <td>13.741251</td>\n",
       "      <td>47.720042</td>\n",
       "      <td>11.382500</td>\n",
       "      <td>47.786250</td>\n",
       "      <td>0.0</td>\n",
       "      <td>1017.337500</td>\n",
       "      <td>28.8350</td>\n",
       "      <td>10.0</td>\n",
       "      <td>307.916667</td>\n",
       "      <td>14.401704</td>\n",
       "      <td>12.514732</td>\n",
       "    </tr>\n",
       "    <tr>\n",
       "      <th>3</th>\n",
       "      <td>10.867615</td>\n",
       "      <td>45.185996</td>\n",
       "      <td>14.780000</td>\n",
       "      <td>54.395833</td>\n",
       "      <td>0.0</td>\n",
       "      <td>1021.058333</td>\n",
       "      <td>29.4575</td>\n",
       "      <td>10.0</td>\n",
       "      <td>276.956522</td>\n",
       "      <td>9.049346</td>\n",
       "      <td>7.863663</td>\n",
       "    </tr>\n",
       "    <tr>\n",
       "      <th>4</th>\n",
       "      <td>8.892896</td>\n",
       "      <td>42.732240</td>\n",
       "      <td>19.205000</td>\n",
       "      <td>55.880417</td>\n",
       "      <td>0.0</td>\n",
       "      <td>1017.533333</td>\n",
       "      <td>33.4775</td>\n",
       "      <td>10.0</td>\n",
       "      <td>242.916667</td>\n",
       "      <td>15.946714</td>\n",
       "      <td>13.857309</td>\n",
       "    </tr>\n",
       "    <tr>\n",
       "      <th>5</th>\n",
       "      <td>5.708333</td>\n",
       "      <td>37.222222</td>\n",
       "      <td>19.242500</td>\n",
       "      <td>49.284583</td>\n",
       "      <td>0.0</td>\n",
       "      <td>1021.120833</td>\n",
       "      <td>36.7325</td>\n",
       "      <td>10.0</td>\n",
       "      <td>271.666667</td>\n",
       "      <td>12.470441</td>\n",
       "      <td>10.836512</td>\n",
       "    </tr>\n",
       "  </tbody>\n",
       "</table>\n",
       "</div>"
      ],
      "text/plain": [
       "                dep_delay  percentDelay       dewp      humid  precip  \\\n",
       "year month day                                                          \n",
       "2013 1     1    11.494062     41.805226  25.050435  58.386087     0.0   \n",
       "           2    13.741251     47.720042  11.382500  47.786250     0.0   \n",
       "           3    10.867615     45.185996  14.780000  54.395833     0.0   \n",
       "           4     8.892896     42.732240  19.205000  55.880417     0.0   \n",
       "           5     5.708333     37.222222  19.242500  49.284583     0.0   \n",
       "\n",
       "                   pressure     temp  visib    wind_dir  wind_gust  wind_speed  \n",
       "year month day                                                                  \n",
       "2013 1     1    1012.442857  38.4800   10.0  263.043478  14.682397   12.758648  \n",
       "           2    1017.337500  28.8350   10.0  307.916667  14.401704   12.514732  \n",
       "           3    1021.058333  29.4575   10.0  276.956522   9.049346    7.863663  \n",
       "           4    1017.533333  33.4775   10.0  242.916667  15.946714   13.857309  \n",
       "           5    1021.120833  36.7325   10.0  271.666667  12.470441   10.836512  "
      ]
     },
     "execution_count": 40,
     "metadata": {},
     "output_type": "execute_result"
    }
   ],
   "source": [
    "combined = daily_planes.set_index(['year','month','day']).join(daily_weather.set_index(['year','month','day']))\n",
    "combined.head()"
   ]
  },
  {
   "cell_type": "code",
   "execution_count": 41,
   "metadata": {
    "collapsed": false
   },
   "outputs": [
    {
     "name": "stdout",
     "output_type": "stream",
     "text": [
      "Correlation Matrix\n"
     ]
    },
    {
     "data": {
      "text/html": [
       "<div>\n",
       "<table border=\"1\" class=\"dataframe\">\n",
       "  <thead>\n",
       "    <tr style=\"text-align: right;\">\n",
       "      <th></th>\n",
       "      <th>dep_delay</th>\n",
       "      <th>percentDelay</th>\n",
       "      <th>dewp</th>\n",
       "      <th>humid</th>\n",
       "      <th>precip</th>\n",
       "      <th>pressure</th>\n",
       "      <th>temp</th>\n",
       "      <th>visib</th>\n",
       "      <th>wind_dir</th>\n",
       "      <th>wind_gust</th>\n",
       "      <th>wind_speed</th>\n",
       "    </tr>\n",
       "  </thead>\n",
       "  <tbody>\n",
       "    <tr>\n",
       "      <th>dep_delay</th>\n",
       "      <td>1.000000</td>\n",
       "      <td>0.855149</td>\n",
       "      <td>0.327315</td>\n",
       "      <td>0.467365</td>\n",
       "      <td>0.364475</td>\n",
       "      <td>-0.271397</td>\n",
       "      <td>0.202168</td>\n",
       "      <td>-0.395745</td>\n",
       "      <td>-0.185927</td>\n",
       "      <td>-0.034584</td>\n",
       "      <td>-0.034584</td>\n",
       "    </tr>\n",
       "    <tr>\n",
       "      <th>percentDelay</th>\n",
       "      <td>0.855149</td>\n",
       "      <td>1.000000</td>\n",
       "      <td>0.234777</td>\n",
       "      <td>0.425631</td>\n",
       "      <td>0.353014</td>\n",
       "      <td>-0.256481</td>\n",
       "      <td>0.109889</td>\n",
       "      <td>-0.354262</td>\n",
       "      <td>-0.097867</td>\n",
       "      <td>0.010729</td>\n",
       "      <td>0.010729</td>\n",
       "    </tr>\n",
       "    <tr>\n",
       "      <th>dewp</th>\n",
       "      <td>0.327315</td>\n",
       "      <td>0.234777</td>\n",
       "      <td>1.000000</td>\n",
       "      <td>0.538505</td>\n",
       "      <td>0.115790</td>\n",
       "      <td>-0.310673</td>\n",
       "      <td>0.947855</td>\n",
       "      <td>-0.103490</td>\n",
       "      <td>-0.284759</td>\n",
       "      <td>-0.295837</td>\n",
       "      <td>-0.295837</td>\n",
       "    </tr>\n",
       "    <tr>\n",
       "      <th>humid</th>\n",
       "      <td>0.467365</td>\n",
       "      <td>0.425631</td>\n",
       "      <td>0.538505</td>\n",
       "      <td>1.000000</td>\n",
       "      <td>0.408797</td>\n",
       "      <td>-0.261423</td>\n",
       "      <td>0.246186</td>\n",
       "      <td>-0.673389</td>\n",
       "      <td>-0.466447</td>\n",
       "      <td>-0.283466</td>\n",
       "      <td>-0.283466</td>\n",
       "    </tr>\n",
       "    <tr>\n",
       "      <th>precip</th>\n",
       "      <td>0.364475</td>\n",
       "      <td>0.353014</td>\n",
       "      <td>0.115790</td>\n",
       "      <td>0.408797</td>\n",
       "      <td>1.000000</td>\n",
       "      <td>-0.191252</td>\n",
       "      <td>-0.009730</td>\n",
       "      <td>-0.462270</td>\n",
       "      <td>-0.154772</td>\n",
       "      <td>0.002506</td>\n",
       "      <td>0.002506</td>\n",
       "    </tr>\n",
       "    <tr>\n",
       "      <th>pressure</th>\n",
       "      <td>-0.271397</td>\n",
       "      <td>-0.256481</td>\n",
       "      <td>-0.310673</td>\n",
       "      <td>-0.261423</td>\n",
       "      <td>-0.191252</td>\n",
       "      <td>1.000000</td>\n",
       "      <td>-0.265133</td>\n",
       "      <td>0.122892</td>\n",
       "      <td>-0.255505</td>\n",
       "      <td>-0.253861</td>\n",
       "      <td>-0.253861</td>\n",
       "    </tr>\n",
       "    <tr>\n",
       "      <th>temp</th>\n",
       "      <td>0.202168</td>\n",
       "      <td>0.109889</td>\n",
       "      <td>0.947855</td>\n",
       "      <td>0.246186</td>\n",
       "      <td>-0.009730</td>\n",
       "      <td>-0.265133</td>\n",
       "      <td>1.000000</td>\n",
       "      <td>0.111572</td>\n",
       "      <td>-0.151778</td>\n",
       "      <td>-0.234153</td>\n",
       "      <td>-0.234153</td>\n",
       "    </tr>\n",
       "    <tr>\n",
       "      <th>visib</th>\n",
       "      <td>-0.395745</td>\n",
       "      <td>-0.354262</td>\n",
       "      <td>-0.103490</td>\n",
       "      <td>-0.673389</td>\n",
       "      <td>-0.462270</td>\n",
       "      <td>0.122892</td>\n",
       "      <td>0.111572</td>\n",
       "      <td>1.000000</td>\n",
       "      <td>0.348407</td>\n",
       "      <td>0.145128</td>\n",
       "      <td>0.145128</td>\n",
       "    </tr>\n",
       "    <tr>\n",
       "      <th>wind_dir</th>\n",
       "      <td>-0.185927</td>\n",
       "      <td>-0.097867</td>\n",
       "      <td>-0.284759</td>\n",
       "      <td>-0.466447</td>\n",
       "      <td>-0.154772</td>\n",
       "      <td>-0.255505</td>\n",
       "      <td>-0.151778</td>\n",
       "      <td>0.348407</td>\n",
       "      <td>1.000000</td>\n",
       "      <td>0.470056</td>\n",
       "      <td>0.470056</td>\n",
       "    </tr>\n",
       "    <tr>\n",
       "      <th>wind_gust</th>\n",
       "      <td>-0.034584</td>\n",
       "      <td>0.010729</td>\n",
       "      <td>-0.295837</td>\n",
       "      <td>-0.283466</td>\n",
       "      <td>0.002506</td>\n",
       "      <td>-0.253861</td>\n",
       "      <td>-0.234153</td>\n",
       "      <td>0.145128</td>\n",
       "      <td>0.470056</td>\n",
       "      <td>1.000000</td>\n",
       "      <td>1.000000</td>\n",
       "    </tr>\n",
       "    <tr>\n",
       "      <th>wind_speed</th>\n",
       "      <td>-0.034584</td>\n",
       "      <td>0.010729</td>\n",
       "      <td>-0.295837</td>\n",
       "      <td>-0.283466</td>\n",
       "      <td>0.002506</td>\n",
       "      <td>-0.253861</td>\n",
       "      <td>-0.234153</td>\n",
       "      <td>0.145128</td>\n",
       "      <td>0.470056</td>\n",
       "      <td>1.000000</td>\n",
       "      <td>1.000000</td>\n",
       "    </tr>\n",
       "  </tbody>\n",
       "</table>\n",
       "</div>"
      ],
      "text/plain": [
       "              dep_delay  percentDelay      dewp     humid    precip  pressure  \\\n",
       "dep_delay      1.000000      0.855149  0.327315  0.467365  0.364475 -0.271397   \n",
       "percentDelay   0.855149      1.000000  0.234777  0.425631  0.353014 -0.256481   \n",
       "dewp           0.327315      0.234777  1.000000  0.538505  0.115790 -0.310673   \n",
       "humid          0.467365      0.425631  0.538505  1.000000  0.408797 -0.261423   \n",
       "precip         0.364475      0.353014  0.115790  0.408797  1.000000 -0.191252   \n",
       "pressure      -0.271397     -0.256481 -0.310673 -0.261423 -0.191252  1.000000   \n",
       "temp           0.202168      0.109889  0.947855  0.246186 -0.009730 -0.265133   \n",
       "visib         -0.395745     -0.354262 -0.103490 -0.673389 -0.462270  0.122892   \n",
       "wind_dir      -0.185927     -0.097867 -0.284759 -0.466447 -0.154772 -0.255505   \n",
       "wind_gust     -0.034584      0.010729 -0.295837 -0.283466  0.002506 -0.253861   \n",
       "wind_speed    -0.034584      0.010729 -0.295837 -0.283466  0.002506 -0.253861   \n",
       "\n",
       "                  temp     visib  wind_dir  wind_gust  wind_speed  \n",
       "dep_delay     0.202168 -0.395745 -0.185927  -0.034584   -0.034584  \n",
       "percentDelay  0.109889 -0.354262 -0.097867   0.010729    0.010729  \n",
       "dewp          0.947855 -0.103490 -0.284759  -0.295837   -0.295837  \n",
       "humid         0.246186 -0.673389 -0.466447  -0.283466   -0.283466  \n",
       "precip       -0.009730 -0.462270 -0.154772   0.002506    0.002506  \n",
       "pressure     -0.265133  0.122892 -0.255505  -0.253861   -0.253861  \n",
       "temp          1.000000  0.111572 -0.151778  -0.234153   -0.234153  \n",
       "visib         0.111572  1.000000  0.348407   0.145128    0.145128  \n",
       "wind_dir     -0.151778  0.348407  1.000000   0.470056    0.470056  \n",
       "wind_gust    -0.234153  0.145128  0.470056   1.000000    1.000000  \n",
       "wind_speed   -0.234153  0.145128  0.470056   1.000000    1.000000  "
      ]
     },
     "execution_count": 41,
     "metadata": {},
     "output_type": "execute_result"
    }
   ],
   "source": [
    "print('Correlation Matrix')\n",
    "combined.corr(method='pearson')"
   ]
  },
  {
   "cell_type": "code",
   "execution_count": 42,
   "metadata": {
    "collapsed": false
   },
   "outputs": [
    {
     "data": {
      "image/png": "[encoded data removed]",
      "text/plain": [
       "<matplotlib.figure.Figure at 0x1bac9faa470>"
      ]
     },
     "metadata": {},
     "output_type": "display_data"
    }
   ],
   "source": [
    "#PLOT Correlation Matrix\n",
    "\n",
    "def correlation_matrix(df):\n",
    "    from matplotlib import cm as cm\n",
    "\n",
    "    #Prepare the data\n",
    "    corr = df.corr()\n",
    "\n",
    "    #Initialize Plot\n",
    "    fig = plt.figure(figsize=(20,10))\n",
    "    ax1 = fig.add_subplot(111)\n",
    "    cmap = cm.get_cmap('seismic', 30)\n",
    "    plt.title('Flight Departure Delay (minutes) & Weather Correlation')\n",
    "    \n",
    "    #Plot Data\n",
    "    cax = ax1.imshow(corr, interpolation=\"nearest\", cmap=cmap)\n",
    "    \n",
    "    # Make X & Y labels understandable\n",
    "    plt.xticks(range(len(corr.columns)), corr.columns);\n",
    "    plt.yticks(range(len(corr.columns)), corr.columns);    \n",
    "    labels=['Delay Time','Delay Percent','Dew','Humidity','Precipitation',\n",
    "            'Pressure','Temperature','Visibility','Wind Direction','Wind Gust','Wind Speed']\n",
    "    ax1.set_xticklabels(labels,fontsize=8)\n",
    "    ax1.set_yticklabels(labels,fontsize=8)\n",
    "    \n",
    "    # Add colorbar, make sure to specify tick locations to match desired ticklabels\n",
    "    fig.colorbar(cax)\n",
    "    plt.show()\n",
    "\n",
    "    \n",
    "correlation_matrix(combined)"
   ]
  },
  {
   "cell_type": "markdown",
   "metadata": {
    "collapsed": true
   },
   "source": [
    "#### Correlation Discussion\n",
    "The correlation data suggests the following associations:\n",
    "\n",
    "Factors **Positively Correlated**  with **Mean Departure Delay (minutes)**\n",
    "\n",
    "- Humidity (0.467365)\n",
    "- Precipitation (0.364475)\n",
    "- Dew (0.327315)\n",
    "- Temperature (0.202168)\n",
    "\n",
    "The strongest positive associations are with Humidity and Precipitation, thus it seems like the delays are on average longer when flights take off in rainy weather.The mild association between temperature and dew suggest that days with higher dew and higher temperatures are associated with slightly longer flight delays on average.\n",
    "\n",
    "Factors **Negatively Correlated**  with **Mean Departure Delay (minutes)**\n",
    "- Visibility (-0.395745)\n",
    "- Wind Direction (-0.185927)\n",
    "- Pressure (-0.271397)\n",
    "\n",
    "The strongest negative correlations are with Visibility and Pressure.\n",
    "Thus, in conditions with higher visibility, and higher pressure, the flights on average, have shorter delay times in a day.\n",
    "\n",
    "_Note:_\n",
    "The correlations of the weather factors with the _percentage of delayed flights_ is similar, but shows weaker pearson coefficients. Thus the same weather attribute is associated more weakly with the delay percent as compared to the delay time.\n",
    "Thus, since the correlation between departure delay and % delay is 0.855149, we can ignore the _% delay attribute_ from the data in favour of mean delay time "
   ]
  },
  {
   "cell_type": "markdown",
   "metadata": {},
   "source": [
    "#### Visual Exploration\n",
    "Now that we know which weather factors are correlated with delays, let's look at the plotting the graphs for the same. "
   ]
  },
  {
   "cell_type": "markdown",
   "metadata": {},
   "source": [
    "#### Visualizing Negative Correlation Factors"
   ]
  },
  {
   "cell_type": "code",
   "execution_count": 43,
   "metadata": {
    "collapsed": false
   },
   "outputs": [
    {
     "data": {
      "text/plain": [
       "<matplotlib.collections.PathCollection at 0x1bacb07bf28>"
      ]
     },
     "execution_count": 43,
     "metadata": {},
     "output_type": "execute_result"
    },
    {
     "data": {
      "image/png": "[encoded data removed]",
      "text/plain": [
       "<matplotlib.figure.Figure at 0x1bac9672e10>"
      ]
     },
     "metadata": {},
     "output_type": "display_data"
    }
   ],
   "source": [
    "%matplotlib inline\n",
    "#Prepare the data\n",
    "combined= combined.dropna()\n",
    "x=combined['humid'].values\n",
    "y=combined['dep_delay'].values\n",
    "\n",
    "#Initialize the plot\n",
    "fig = plt.figure()\n",
    "\n",
    "plt.xlabel('Humidity')\n",
    "plt.ylabel('Mean Departure Delay (minutes)')\n",
    "plt.title('Mean departure delay vs Humidity')\n",
    "#plt.xticks(x) #To make all values appear as ticks on x axis\n",
    "\n",
    "#Plot the data\n",
    "plt.scatter(x,y, linewidth=2, c='red')"
   ]
  },
  {
   "cell_type": "code",
   "execution_count": 44,
   "metadata": {
    "collapsed": false
   },
   "outputs": [
    {
     "data": {
      "text/plain": [
       "<matplotlib.collections.PathCollection at 0x1bac91c9048>"
      ]
     },
     "execution_count": 44,
     "metadata": {},
     "output_type": "execute_result"
    },
    {
     "data": {
      "image/png": "[encoded data removed]",
      "text/plain": [
       "<matplotlib.figure.Figure at 0x1bac96726a0>"
      ]
     },
     "metadata": {},
     "output_type": "display_data"
    }
   ],
   "source": [
    "%matplotlib inline\n",
    "#Prepare the data\n",
    "combined= combined.dropna()\n",
    "x=combined['humid'].values\n",
    "y=combined['dep_delay'].values\n",
    "\n",
    "#Initialize the plot\n",
    "fig = plt.figure()\n",
    "\n",
    "plt.xlabel('Precipitation')\n",
    "plt.ylabel('Mean Departure Delay (minutes)')\n",
    "plt.title('Mean departure delay vs Precipitation')\n",
    "#plt.xticks(x) #To make all values appear as ticks on x axis\n",
    "\n",
    "#Plot the data\n",
    "plt.scatter(x,y, linewidth=2, c='orange')"
   ]
  },
  {
   "cell_type": "markdown",
   "metadata": {},
   "source": [
    "#### Visualizing Negative Correlation Factors"
   ]
  },
  {
   "cell_type": "code",
   "execution_count": 45,
   "metadata": {
    "collapsed": false
   },
   "outputs": [
    {
     "data": {
      "text/plain": [
       "<matplotlib.collections.PathCollection at 0x1bacbbb1198>"
      ]
     },
     "execution_count": 45,
     "metadata": {},
     "output_type": "execute_result"
    },
    {
     "data": {
      "image/png": "[encoded data removed]",
      "text/plain": [
       "<matplotlib.figure.Figure at 0x1bacafbea58>"
      ]
     },
     "metadata": {},
     "output_type": "display_data"
    }
   ],
   "source": [
    "%matplotlib inline\n",
    "#Prepare the data\n",
    "combined= combined.dropna()\n",
    "x=combined['visib'].values\n",
    "y=combined['dep_delay'].values\n",
    "\n",
    "#Initialize the plot\n",
    "fig = plt.figure()\n",
    "\n",
    "plt.xlabel('Visibility')\n",
    "plt.ylabel('Mean Departure Delay (minutes)')\n",
    "plt.title('Mean departure delay vs Visibility')\n",
    "#plt.xticks(x) #To make all values appear as ticks on x axis\n",
    "\n",
    "#Plot the data\n",
    "plt.scatter(x,y, linewidth=2, c='blue')"
   ]
  },
  {
   "cell_type": "code",
   "execution_count": 46,
   "metadata": {
    "collapsed": false
   },
   "outputs": [
    {
     "data": {
      "text/plain": [
       "<matplotlib.collections.PathCollection at 0x1bacafb6550>"
      ]
     },
     "execution_count": 46,
     "metadata": {},
     "output_type": "execute_result"
    },
    {
     "data": {
      "image/png": "[encoded data removed]",
      "text/plain": [
       "<matplotlib.figure.Figure at 0x1bac9672cc0>"
      ]
     },
     "metadata": {},
     "output_type": "display_data"
    }
   ],
   "source": [
    "%matplotlib inline\n",
    "#Prepare the data\n",
    "combined= combined.dropna()\n",
    "x=combined['humid'].values\n",
    "y=combined['dep_delay'].values\n",
    "\n",
    "#Initialize the plot\n",
    "fig = plt.figure()\n",
    "\n",
    "plt.xlabel('Wind Direction')\n",
    "plt.ylabel('Mean Departure Delay (minutes)')\n",
    "plt.title('Mean departure delay vs Wind Direction')\n",
    "#plt.xticks(x) #To make all values appear as ticks on x axis\n",
    "\n",
    "#Plot the data\n",
    "plt.scatter(x,y, linewidth=2, c='lightblue')"
   ]
  },
  {
   "cell_type": "markdown",
   "metadata": {
    "collapsed": true
   },
   "source": [
    "# THE END"
   ]
  }
 ],
 "metadata": {
  "kernelspec": {
   "display_name": "Python 3",
   "language": "python",
   "name": "python3"
  },
  "language_info": {
   "codemirror_mode": {
    "name": "ipython",
    "version": 3
   },
   "file_extension": ".py",
   "mimetype": "text/x-python",
   "name": "python",
   "nbconvert_exporter": "python",
   "pygments_lexer": "ipython3",
   "version": "3.6.0"
  }
 },
 "nbformat": 4,
 "nbformat_minor": 0
}
