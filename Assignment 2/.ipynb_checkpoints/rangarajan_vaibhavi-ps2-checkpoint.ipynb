{
 "cells": [
  {
   "cell_type": "markdown",
   "metadata": {
    "ein.tags": [
     "worksheet-0"
    ],
    "slideshow": {
     "slide_type": "-"
    }
   },
   "source": [
    "# Problem Set 2, due April 27th at 3:30 pm\n",
    "\n",
    "**Please Note:** This assignment will likely take you a _long_ time, especially if you are new to Python. Start early!"
   ]
  },
  {
   "cell_type": "markdown",
   "metadata": {
    "ein.tags": [
     "worksheet-0"
    ],
    "slideshow": {
     "slide_type": "-"
    }
   },
   "source": [
    "## Introduction to the assignment\n",
    "\n",
    "For this assignment, you will be using data from the [Progresa program](http://en.wikipedia.org/wiki/Oportunidades), a government social assistance program in Mexico. This program, as well as the details of its impact, are described in the paper \"[School subsidies for the poor: evaluating the Mexican Progresa poverty program](http://www.sciencedirect.com/science/article/pii/S0304387803001858)\", by Paul Shultz (available on Canvas). Please familiarize yourself with the PROGRESA program before beginning this problem set, so you have a rough sense of where the data come from and how they were generated. If you just proceed into the problem set without understanding Progresa or the data, it will be very difficult!\n",
    "\n",
    "The goal of this problem set is to implement some of the basic econometric techniques that you are learning in class to measure the impact of Progresa on secondary school enrollment rates. The timeline of the program was:\n",
    "\n",
    " * Baseline survey conducted in 1997\n",
    " * Intervention begins in 1998, \"Wave 1\" of data collected in 1998\n",
    " * \"Wave 2 of data\" collected in 1999\n",
    " * Evaluation ends in 2000, at which point the control villages were treated. \n",
    " \n",
    "When you are ready, download the progresa_sample.csv data from Canvas. The data are actual data collected to evaluate the impact of the Progresa program.  In this file, each row corresponds to an observation taken for a given child for a given year. There are two years of data (1997 and 1998), and just under 40,000 children who are surveyed in each year. For each child-year observation, the following variables are collected:\n",
    "\n",
    "| Variable name | Description|\n",
    "|---------|---------|\n",
    "|year\t  |year in which data is collected\n",
    "|sex\t  |male = 1|\n",
    "|indig\t  |indigenous = 1|\n",
    "|dist_sec |nearest distance to a secondary school|\n",
    "|sc\t      |enrolled in school in year of survey|\n",
    "|grc      |grade enrolled|\n",
    "|fam_n    |family size|\n",
    "|min_dist |\tmin distance to an urban center|\n",
    "|dist_cap |\tmin distance to the capital|\n",
    "|poor     |\tpoor = 'pobre'|\n",
    "|progresa |treatment = 'basal'|\n",
    "|hohedu\t  |years of schooling of head of household|\n",
    "|hohwag\t  |monthly wages of head of household|\n",
    "|welfare_index|\twelfare index used to classify poor|\n",
    "|hohsex\t  |gender of head of household (male=1)|\n",
    "|hohage   |age of head of household|\n",
    "|age      |years old|\n",
    "|folnum\t  |individual id|\n",
    "|village  |\tvillage id|\n",
    "|sc97\t  |schooling in 1997|"
   ]
  },
  {
   "cell_type": "code",
   "execution_count": 2,
   "metadata": {
    "autoscroll": "json-false",
    "collapsed": false,
    "ein.tags": [
     "worksheet-0"
    ],
    "slideshow": {
     "slide_type": "-"
    }
   },
   "outputs": [
    {
     "name": "stdout",
     "output_type": "stream",
     "text": [
      "3.6.0 |Anaconda 4.3.1 (64-bit)| (default, Dec 23 2016, 11:57:41) [MSC v.1900 64 bit (AMD64)]\n"
     ]
    }
   ],
   "source": [
    "import sys; print(sys.version)\n",
    "%matplotlib inline"
   ]
  },
  {
   "cell_type": "markdown",
   "metadata": {},
   "source": [
    "### Part 0:  Import Libraries, Read Data"
   ]
  },
  {
   "cell_type": "code",
   "execution_count": 42,
   "metadata": {
    "collapsed": false
   },
   "outputs": [],
   "source": [
    "import numpy as np\n",
    "import seaborn as sb\n",
    "import pandas as pd\n",
    "import scipy.stats as stats\n",
    "import matplotlib\n",
    "import matplotlib.pyplot as plt\n",
    "import statsmodels.formula.api as smf\n",
    "\n",
    "import warnings\n",
    "warnings.filterwarnings('ignore')\n"
   ]
  },
  {
   "cell_type": "code",
   "execution_count": 4,
   "metadata": {
    "collapsed": false
   },
   "outputs": [
    {
     "name": "stdout",
     "output_type": "stream",
     "text": [
      "Shape : (77250, 21)\n"
     ]
    }
   ],
   "source": [
    "df = pd.read_csv(\"progresa_sample.csv\")\n",
    "print ('Shape :', df.shape)"
   ]
  },
  {
   "cell_type": "code",
   "execution_count": 11,
   "metadata": {
    "collapsed": false
   },
   "outputs": [
    {
     "name": "stdout",
     "output_type": "stream",
     "text": [
      "Basic Info \n",
      "\n",
      "<class 'pandas.core.frame.DataFrame'>\n",
      "RangeIndex: 77250 entries, 0 to 77249\n",
      "Data columns (total 21 columns):\n",
      "year             77250 non-null int64\n",
      "sex              77226 non-null float64\n",
      "indig            76950 non-null float64\n",
      "dist_sec         77250 non-null float64\n",
      "sc               68797 non-null float64\n",
      "grc              70701 non-null float64\n",
      "fam_n            77250 non-null int64\n",
      "min_dist         77250 non-null float64\n",
      "dist_cap         77250 non-null float64\n",
      "poor             77250 non-null object\n",
      "progresa         77250 non-null object\n",
      "hohedu           77250 non-null int64\n",
      "hohwag           77250 non-null float64\n",
      "welfare_index    77040 non-null float64\n",
      "hohsex           77230 non-null float64\n",
      "hohage           77240 non-null float64\n",
      "age              77250 non-null int64\n",
      "village          77250 non-null int64\n",
      "folnum           77250 non-null int64\n",
      "grc97            77250 non-null int64\n",
      "sc97             73378 non-null float64\n",
      "dtypes: float64(12), int64(7), object(2)\n",
      "memory usage: 12.4+ MB\n"
     ]
    }
   ],
   "source": [
    "#print ('Columns:\\n', df.columns)\n",
    "#print ('Data Types:\\n',df.dtypes)\n",
    "#print(df.head())\n",
    "print('Basic Info \\n')\n",
    "df.info()"
   ]
  },
  {
   "cell_type": "markdown",
   "metadata": {
    "ein.tags": [
     "worksheet-0"
    ],
    "slideshow": {
     "slide_type": "-"
    }
   },
   "source": [
    "---\n",
    "## Part 1: Descriptive analysis\n",
    "\n",
    "### 1.1\tSummary Statistics\n",
    "\n",
    "** a) Present number of missing observations for every single variable**\n",
    "\n",
    "The variables _grc, hohage, hohsex, indig, sc, sc97, sex and welfare-index_ have missing observations."
   ]
  },
  {
   "cell_type": "code",
   "execution_count": 12,
   "metadata": {
    "autoscroll": "json-false",
    "collapsed": false,
    "ein.tags": [
     "worksheet-0"
    ],
    "slideshow": {
     "slide_type": "-"
    }
   },
   "outputs": [
    {
     "data": {
      "text/plain": [
       "age                 0\n",
       "dist_cap            0\n",
       "dist_sec            0\n",
       "fam_n               0\n",
       "folnum              0\n",
       "grc              6549\n",
       "grc97               0\n",
       "hohage             10\n",
       "hohedu              0\n",
       "hohsex             20\n",
       "hohwag              0\n",
       "indig             300\n",
       "min_dist            0\n",
       "poor                0\n",
       "progresa            0\n",
       "sc               8453\n",
       "sc97             3872\n",
       "sex                24\n",
       "village             0\n",
       "welfare_index     210\n",
       "year                0\n",
       "dtype: int64"
      ]
     },
     "execution_count": 12,
     "metadata": {},
     "output_type": "execute_result"
    }
   ],
   "source": [
    "#isnull can be used with Series, and many df columns at once\n",
    "df.sort_index(axis=1).isnull().sum()"
   ]
  },
  {
   "cell_type": "markdown",
   "metadata": {},
   "source": [
    "**Dealing with nulls: ** NANs can be dealt with in various ways : Dropping entire rows, Imputing a value or partially ignoring nulls.\n",
    "My decision is to keep all rows intact to preserve information, and to ignore nulls in particular cases only (E.g. when conducting t-test, where the two sequences being tested must not contain nulls).\n",
    "\n"
   ]
  },
  {
   "cell_type": "markdown",
   "metadata": {
    "ein.tags": [
     "worksheet-0"
    ],
    "slideshow": {
     "slide_type": "-"
    }
   },
   "source": [
    "**b) Present summary statistics (mean and standard deviation) for all of the demographic variables in the dataset (i.e., everything except year, folnum, village).** Present these in a single table alphabetized by variable name.\n"
   ]
  },
  {
   "cell_type": "code",
   "execution_count": 91,
   "metadata": {
    "autoscroll": "json-false",
    "collapsed": false,
    "ein.tags": [
     "worksheet-0"
    ],
    "slideshow": {
     "slide_type": "-"
    }
   },
   "outputs": [],
   "source": [
    "demo_df= df\n",
    "demo_df =demo_df.drop(['year', 'folnum', 'village'], axis=1)\n",
    "demo_df.sort_index( axis =1 ,inplace = True)\n",
    "#demo_df.head()"
   ]
  },
  {
   "cell_type": "code",
   "execution_count": 32,
   "metadata": {
    "collapsed": false
   },
   "outputs": [
    {
     "data": {
      "text/html": [
       "<div>\n",
       "<table border=\"1\" class=\"dataframe\">\n",
       "  <thead>\n",
       "    <tr style=\"text-align: right;\">\n",
       "      <th></th>\n",
       "      <th>count</th>\n",
       "      <th>mean</th>\n",
       "      <th>std</th>\n",
       "    </tr>\n",
       "  </thead>\n",
       "  <tbody>\n",
       "    <tr>\n",
       "      <th>age</th>\n",
       "      <td>77250.0</td>\n",
       "      <td>11.366460</td>\n",
       "      <td>3.167744</td>\n",
       "    </tr>\n",
       "    <tr>\n",
       "      <th>dist_cap</th>\n",
       "      <td>77250.0</td>\n",
       "      <td>147.674452</td>\n",
       "      <td>76.063134</td>\n",
       "    </tr>\n",
       "    <tr>\n",
       "      <th>dist_sec</th>\n",
       "      <td>77250.0</td>\n",
       "      <td>2.418910</td>\n",
       "      <td>2.234109</td>\n",
       "    </tr>\n",
       "    <tr>\n",
       "      <th>fam_n</th>\n",
       "      <td>77250.0</td>\n",
       "      <td>7.215715</td>\n",
       "      <td>2.352900</td>\n",
       "    </tr>\n",
       "    <tr>\n",
       "      <th>grc</th>\n",
       "      <td>70701.0</td>\n",
       "      <td>3.963537</td>\n",
       "      <td>2.499063</td>\n",
       "    </tr>\n",
       "    <tr>\n",
       "      <th>grc97</th>\n",
       "      <td>77250.0</td>\n",
       "      <td>3.705372</td>\n",
       "      <td>2.572387</td>\n",
       "    </tr>\n",
       "    <tr>\n",
       "      <th>hohage</th>\n",
       "      <td>77240.0</td>\n",
       "      <td>44.436717</td>\n",
       "      <td>11.620372</td>\n",
       "    </tr>\n",
       "    <tr>\n",
       "      <th>hohedu</th>\n",
       "      <td>77250.0</td>\n",
       "      <td>2.768104</td>\n",
       "      <td>2.656106</td>\n",
       "    </tr>\n",
       "    <tr>\n",
       "      <th>hohsex</th>\n",
       "      <td>77230.0</td>\n",
       "      <td>0.925185</td>\n",
       "      <td>0.263095</td>\n",
       "    </tr>\n",
       "    <tr>\n",
       "      <th>hohwag</th>\n",
       "      <td>77250.0</td>\n",
       "      <td>586.985312</td>\n",
       "      <td>788.133664</td>\n",
       "    </tr>\n",
       "    <tr>\n",
       "      <th>indig</th>\n",
       "      <td>76950.0</td>\n",
       "      <td>0.298324</td>\n",
       "      <td>0.457525</td>\n",
       "    </tr>\n",
       "    <tr>\n",
       "      <th>min_dist</th>\n",
       "      <td>77250.0</td>\n",
       "      <td>103.447520</td>\n",
       "      <td>42.089441</td>\n",
       "    </tr>\n",
       "    <tr>\n",
       "      <th>sc</th>\n",
       "      <td>68797.0</td>\n",
       "      <td>0.819818</td>\n",
       "      <td>0.384342</td>\n",
       "    </tr>\n",
       "    <tr>\n",
       "      <th>sc97</th>\n",
       "      <td>73378.0</td>\n",
       "      <td>0.813922</td>\n",
       "      <td>0.389172</td>\n",
       "    </tr>\n",
       "    <tr>\n",
       "      <th>sex</th>\n",
       "      <td>77226.0</td>\n",
       "      <td>0.512211</td>\n",
       "      <td>0.499854</td>\n",
       "    </tr>\n",
       "    <tr>\n",
       "      <th>welfare_index</th>\n",
       "      <td>77040.0</td>\n",
       "      <td>690.346564</td>\n",
       "      <td>139.491130</td>\n",
       "    </tr>\n",
       "  </tbody>\n",
       "</table>\n",
       "</div>"
      ],
      "text/plain": [
       "                 count        mean         std\n",
       "age            77250.0   11.366460    3.167744\n",
       "dist_cap       77250.0  147.674452   76.063134\n",
       "dist_sec       77250.0    2.418910    2.234109\n",
       "fam_n          77250.0    7.215715    2.352900\n",
       "grc            70701.0    3.963537    2.499063\n",
       "grc97          77250.0    3.705372    2.572387\n",
       "hohage         77240.0   44.436717   11.620372\n",
       "hohedu         77250.0    2.768104    2.656106\n",
       "hohsex         77230.0    0.925185    0.263095\n",
       "hohwag         77250.0  586.985312  788.133664\n",
       "indig          76950.0    0.298324    0.457525\n",
       "min_dist       77250.0  103.447520   42.089441\n",
       "sc             68797.0    0.819818    0.384342\n",
       "sc97           73378.0    0.813922    0.389172\n",
       "sex            77226.0    0.512211    0.499854\n",
       "welfare_index  77040.0  690.346564  139.491130"
      ]
     },
     "execution_count": 32,
     "metadata": {},
     "output_type": "execute_result"
    }
   ],
   "source": [
    "demo_df.describe().T.ix[:, ['count', 'mean', 'std']]"
   ]
  },
  {
   "cell_type": "markdown",
   "metadata": {
    "ein.tags": [
     "worksheet-0"
    ],
    "slideshow": {
     "slide_type": "-"
    }
   },
   "source": [
    "### 1.2 Differences at baseline?\n",
    "\n",
    "Are the baseline (1997) demographic characteristics **for the poor**  different in treatment and control villages? \n",
    "\n",
    "_Hint: Use a T-Test to determine whether there is a statistically significant difference in the average values of each of the variables in the dataset. Focus only on the data from 1997 for individuals who are poor (i.e., poor=='pobre')._\n",
    "\n",
    "\n",
    "Present your results in a single table with the following columns and 14 (or so) rows:\n",
    "\n",
    "| Variable name | Average value (Treatment villages) | Average value (Control villages) | Difference (Treat - Control) | p-value |\n",
    "|------|------|------|------|------|\n",
    "|Male  |?     |?     |?     |?     |\n"
   ]
  },
  {
   "cell_type": "code",
   "execution_count": 33,
   "metadata": {
    "autoscroll": "json-false",
    "collapsed": false,
    "ein.tags": [
     "worksheet-0"
    ],
    "slideshow": {
     "slide_type": "-"
    }
   },
   "outputs": [
    {
     "name": "stdout",
     "output_type": "stream",
     "text": [
      "\n",
      " Overall distribution of poverty in data:\n",
      " pobre       65392\n",
      "no pobre    11858\n",
      "Name: poor, dtype: int64\n",
      "\n",
      " Overall distribution of households to treatment/control:\n",
      " basal    47560\n",
      "0        29690\n",
      "Name: progresa, dtype: int64\n",
      "\n",
      " Distribution of pobre (poor) households to treatment/control:\n",
      " basal    40444\n",
      "0        24948\n",
      "Name: progresa, dtype: int64\n"
     ]
    }
   ],
   "source": [
    "#Stats on poor\n",
    "poor_df = demo_df[demo_df.poor == 'pobre']\n",
    "print('\\n Overall distribution of poverty in data:\\n', demo_df['poor'].value_counts())\n",
    "print('\\n Overall distribution of households to treatment/control:\\n', demo_df['progresa'].value_counts())\n",
    "print('\\n Distribution of pobre (poor) households to treatment/control:\\n', poor_df['progresa'].value_counts())"
   ]
  },
  {
   "cell_type": "markdown",
   "metadata": {},
   "source": [
    "**Note on Study Sample:** We can clearly see here that an overwhelming majority of the households enrolled in the study are poor. Among the poor households, majority have been assigned to the treatment."
   ]
  },
  {
   "cell_type": "code",
   "execution_count": 5,
   "metadata": {
    "collapsed": false
   },
   "outputs": [],
   "source": [
    "#Setting temp variables for deletions\n",
    "#CAUTION: Set only once per run\n",
    "run_once=0\n",
    "run_once_2=0"
   ]
  },
  {
   "cell_type": "code",
   "execution_count": 6,
   "metadata": {
    "collapsed": false
   },
   "outputs": [
    {
     "data": {
      "text/plain": [
       "(32696, 21)"
      ]
     },
     "execution_count": 6,
     "metadata": {},
     "output_type": "execute_result"
    }
   ],
   "source": [
    "#Baseline to consider is poor households in 1997\n",
    "baseline_df = df[(df['year'] == 97)  & (df['poor']=='pobre')]\n",
    "baseline_df.shape"
   ]
  },
  {
   "cell_type": "code",
   "execution_count": 7,
   "metadata": {
    "collapsed": false
   },
   "outputs": [
    {
     "data": {
      "text/plain": [
       "(32696, 18)"
      ]
     },
     "execution_count": 7,
     "metadata": {},
     "output_type": "execute_result"
    }
   ],
   "source": [
    "#Delete the non-demographic variables\n",
    "#CAUTION: Delete only once!\n",
    "while(run_once==0):\n",
    "    baseline_df = baseline_df.drop(['year', 'folnum', 'village'], axis=1)\n",
    "    run_once=1\n",
    "    \n",
    "baseline_df.shape"
   ]
  },
  {
   "cell_type": "code",
   "execution_count": 8,
   "metadata": {
    "collapsed": false
   },
   "outputs": [],
   "source": [
    "#Separate poor families in 1997 into treatment and control groups\n",
    "pre_treat_df = baseline_df[baseline_df['progresa']=='basal']\n",
    "pre_ctrl_df = baseline_df[~(baseline_df['progresa']=='basal')]"
   ]
  },
  {
   "cell_type": "code",
   "execution_count": 9,
   "metadata": {
    "collapsed": false
   },
   "outputs": [],
   "source": [
    "while(run_once_2==0):\n",
    "    pre_treat_df = pre_treat_df.drop(['progresa','poor'],axis=1, errors='ignore')\n",
    "    pre_ctrl_df = pre_ctrl_df.drop(['progresa','poor'],axis=1, errors='ignore')\n",
    "    run_once_2=1"
   ]
  },
  {
   "cell_type": "code",
   "execution_count": 10,
   "metadata": {
    "collapsed": false
   },
   "outputs": [
    {
     "name": "stdout",
     "output_type": "stream",
     "text": [
      "(20222, 16)\n",
      "Index(['sex', 'indig', 'dist_sec', 'sc', 'grc', 'fam_n', 'min_dist',\n",
      "       'dist_cap', 'hohedu', 'hohwag', 'welfare_index', 'hohsex', 'hohage',\n",
      "       'age', 'grc97', 'sc97'],\n",
      "      dtype='object')\n",
      "(12474, 16)\n",
      "Index(['sex', 'indig', 'dist_sec', 'sc', 'grc', 'fam_n', 'min_dist',\n",
      "       'dist_cap', 'hohedu', 'hohwag', 'welfare_index', 'hohsex', 'hohage',\n",
      "       'age', 'grc97', 'sc97'],\n",
      "      dtype='object')\n"
     ]
    }
   ],
   "source": [
    "#Let's see which columns we will finally print\n",
    "print(pre_treat_df.shape)\n",
    "print(pre_treat_df.columns)\n",
    "\n",
    "print(pre_ctrl_df.shape)\n",
    "print(pre_ctrl_df.columns)"
   ]
  },
  {
   "cell_type": "code",
   "execution_count": 11,
   "metadata": {
    "collapsed": false
   },
   "outputs": [],
   "source": [
    "#Creating Column Names Dictionary to refer in the table\n",
    "col_names_dictionary = {'age'      : 'age - Age', \n",
    "                        'dist_cap' : 'dist_cap - Distance to Capital', \n",
    "                        'dist_sec' : 'dist_sec - Distance to Secondary School', \n",
    "                        'fam_n'    : 'fam_n - Family size', \n",
    "                        'grc'      : 'grc - Enrolled in grade' , \n",
    "                        'grc97'    : 'grc97 - Enrolled in grade (1997)',\n",
    "                        'hohage'   : 'hohage - Age of head', \n",
    "                        'hohedu'   : 'hohedu - Education of head', \n",
    "                        'hohsex'   : 'hohsex - Male head of Household', \n",
    "                        'hohwag'   : 'hohwag - Wages of head',\n",
    "                        'indig'    : 'indig - Indigeneous', \n",
    "                        'min_dist' : 'min_dist - Distance to hospital', \n",
    "                        'poor'     : 'poor - poor', \n",
    "                        'sc'       : 'sc - Schooling',\n",
    "                        'sc97'     : 'sc97 - Schooling in 1997',\n",
    "                        'sex'      : 'sex - Male gender', \n",
    "                        'welfare_index' : 'welfare_index - Welfare index',\n",
    "                       }"
   ]
  },
  {
   "cell_type": "code",
   "execution_count": 12,
   "metadata": {
    "collapsed": false
   },
   "outputs": [],
   "source": [
    "#Check Control group in 1997 for nulls (poor households only)\n",
    "#pre_ctrl_df.isnull().sum()"
   ]
  },
  {
   "cell_type": "code",
   "execution_count": 13,
   "metadata": {
    "collapsed": false
   },
   "outputs": [],
   "source": [
    "#Check Treatment group in 1997 for nulls (poor households only)\n",
    "#pre_treat_df.isnull().sum()"
   ]
  },
  {
   "cell_type": "markdown",
   "metadata": {},
   "source": [
    "#### Creating Function for T-Test on Dataframes\n",
    "\n",
    "The t-test chosen is the Independent 2 sample T-test because the two sets of data we are comparing, i.e. the treatment and control villages are two separate groups of people.\n",
    "\n",
    "The below function takes 2 dataframes with common columns as input, and returns a dataframe which contains the t-test results for each of the columns in the dataframes. \n"
   ]
  },
  {
   "cell_type": "code",
   "execution_count": 14,
   "metadata": {
    "collapsed": false
   },
   "outputs": [],
   "source": [
    "def do_t_test_dataframe (df1, df2, col_names_dict):\n",
    "    \n",
    "    cols_list = list(df1.columns)\n",
    "    n = len(cols_list)\n",
    " \n",
    "    row_list = []\n",
    "    for col in cols_list:\n",
    "        _, pval = stats.ttest_ind(df1[col].dropna(), df2[col].dropna(), equal_var = True)      \n",
    "        row_list.append([ col, col_names_dict[col], df1[col].mean(),\n",
    "                         df2[col].mean(), df1[col].mean()-df2[col].mean(), pval ])\n",
    "        \n",
    "    \n",
    "    result_labels=['Short Name', 'Variable Name', 'Average (Treatment villages)', \n",
    "                 'Average (Control villages)', 'Difference (Treat - Control)', 'p-value' ]\n",
    "    \n",
    "    new_df = pd.DataFrame(row_list, columns=result_labels)\n",
    "    return new_df"
   ]
  },
  {
   "cell_type": "code",
   "execution_count": 56,
   "metadata": {
    "collapsed": false
   },
   "outputs": [
    {
     "data": {
      "text/html": [
       "<div>\n",
       "<table border=\"1\" class=\"dataframe\">\n",
       "  <thead>\n",
       "    <tr style=\"text-align: right;\">\n",
       "      <th></th>\n",
       "      <th>Variable Name</th>\n",
       "      <th>Average (Treatment villages)</th>\n",
       "      <th>Average (Control villages)</th>\n",
       "      <th>Difference (Treat - Control)</th>\n",
       "      <th>p-value</th>\n",
       "    </tr>\n",
       "  </thead>\n",
       "  <tbody>\n",
       "    <tr>\n",
       "      <th>0</th>\n",
       "      <td>sex - Male gender</td>\n",
       "      <td>0.519317</td>\n",
       "      <td>0.505052</td>\n",
       "      <td>0.014265</td>\n",
       "      <td>1.219172e-02</td>\n",
       "    </tr>\n",
       "    <tr>\n",
       "      <th>1</th>\n",
       "      <td>indig - Indigeneous</td>\n",
       "      <td>0.325986</td>\n",
       "      <td>0.332207</td>\n",
       "      <td>-0.006222</td>\n",
       "      <td>2.453603e-01</td>\n",
       "    </tr>\n",
       "    <tr>\n",
       "      <th>2</th>\n",
       "      <td>dist_sec - Distance to Secondary School</td>\n",
       "      <td>2.453122</td>\n",
       "      <td>2.507662</td>\n",
       "      <td>-0.054540</td>\n",
       "      <td>3.569843e-02</td>\n",
       "    </tr>\n",
       "    <tr>\n",
       "      <th>3</th>\n",
       "      <td>sc - Schooling</td>\n",
       "      <td>0.822697</td>\n",
       "      <td>0.815186</td>\n",
       "      <td>0.007511</td>\n",
       "      <td>9.517806e-02</td>\n",
       "    </tr>\n",
       "    <tr>\n",
       "      <th>4</th>\n",
       "      <td>grc - Enrolled in grade</td>\n",
       "      <td>3.531599</td>\n",
       "      <td>3.543050</td>\n",
       "      <td>-0.011450</td>\n",
       "      <td>6.890151e-01</td>\n",
       "    </tr>\n",
       "    <tr>\n",
       "      <th>5</th>\n",
       "      <td>fam_n - Family size</td>\n",
       "      <td>7.281327</td>\n",
       "      <td>7.302469</td>\n",
       "      <td>-0.021142</td>\n",
       "      <td>4.271039e-01</td>\n",
       "    </tr>\n",
       "    <tr>\n",
       "      <th>6</th>\n",
       "      <td>min_dist - Distance to hospital</td>\n",
       "      <td>107.152915</td>\n",
       "      <td>103.237854</td>\n",
       "      <td>3.915060</td>\n",
       "      <td>2.358312e-16</td>\n",
       "    </tr>\n",
       "    <tr>\n",
       "      <th>7</th>\n",
       "      <td>dist_cap - Distance to Capital</td>\n",
       "      <td>150.829074</td>\n",
       "      <td>153.769730</td>\n",
       "      <td>-2.940656</td>\n",
       "      <td>8.415005e-04</td>\n",
       "    </tr>\n",
       "    <tr>\n",
       "      <th>8</th>\n",
       "      <td>hohedu - Education of head</td>\n",
       "      <td>2.663139</td>\n",
       "      <td>2.590348</td>\n",
       "      <td>0.072791</td>\n",
       "      <td>1.105093e-02</td>\n",
       "    </tr>\n",
       "    <tr>\n",
       "      <th>9</th>\n",
       "      <td>hohwag - Wages of head</td>\n",
       "      <td>544.339544</td>\n",
       "      <td>573.163558</td>\n",
       "      <td>-28.824015</td>\n",
       "      <td>3.253835e-04</td>\n",
       "    </tr>\n",
       "    <tr>\n",
       "      <th>10</th>\n",
       "      <td>welfare_index - Welfare index</td>\n",
       "      <td>655.428377</td>\n",
       "      <td>659.579100</td>\n",
       "      <td>-4.150723</td>\n",
       "      <td>1.431016e-03</td>\n",
       "    </tr>\n",
       "    <tr>\n",
       "      <th>11</th>\n",
       "      <td>hohsex - Male head of Household</td>\n",
       "      <td>0.924656</td>\n",
       "      <td>0.922947</td>\n",
       "      <td>0.001709</td>\n",
       "      <td>5.711858e-01</td>\n",
       "    </tr>\n",
       "    <tr>\n",
       "      <th>12</th>\n",
       "      <td>hohage - Age of head</td>\n",
       "      <td>43.648828</td>\n",
       "      <td>44.276918</td>\n",
       "      <td>-0.628090</td>\n",
       "      <td>1.796243e-06</td>\n",
       "    </tr>\n",
       "    <tr>\n",
       "      <th>13</th>\n",
       "      <td>age - Age</td>\n",
       "      <td>10.716991</td>\n",
       "      <td>10.742023</td>\n",
       "      <td>-0.025032</td>\n",
       "      <td>4.785594e-01</td>\n",
       "    </tr>\n",
       "    <tr>\n",
       "      <th>14</th>\n",
       "      <td>grc97 - Enrolled in grade (1997)</td>\n",
       "      <td>3.531599</td>\n",
       "      <td>3.543050</td>\n",
       "      <td>-0.011450</td>\n",
       "      <td>6.890151e-01</td>\n",
       "    </tr>\n",
       "    <tr>\n",
       "      <th>15</th>\n",
       "      <td>sc97 - Schooling in 1997</td>\n",
       "      <td>0.822697</td>\n",
       "      <td>0.815186</td>\n",
       "      <td>0.007511</td>\n",
       "      <td>9.517806e-02</td>\n",
       "    </tr>\n",
       "  </tbody>\n",
       "</table>\n",
       "</div>"
      ],
      "text/plain": [
       "                              Variable Name  Average (Treatment villages)  \\\n",
       "0                         sex - Male gender                      0.519317   \n",
       "1                       indig - Indigeneous                      0.325986   \n",
       "2   dist_sec - Distance to Secondary School                      2.453122   \n",
       "3                            sc - Schooling                      0.822697   \n",
       "4                   grc - Enrolled in grade                      3.531599   \n",
       "5                       fam_n - Family size                      7.281327   \n",
       "6           min_dist - Distance to hospital                    107.152915   \n",
       "7            dist_cap - Distance to Capital                    150.829074   \n",
       "8                hohedu - Education of head                      2.663139   \n",
       "9                    hohwag - Wages of head                    544.339544   \n",
       "10            welfare_index - Welfare index                    655.428377   \n",
       "11          hohsex - Male head of Household                      0.924656   \n",
       "12                     hohage - Age of head                     43.648828   \n",
       "13                                age - Age                     10.716991   \n",
       "14         grc97 - Enrolled in grade (1997)                      3.531599   \n",
       "15                 sc97 - Schooling in 1997                      0.822697   \n",
       "\n",
       "    Average (Control villages)  Difference (Treat - Control)       p-value  \n",
       "0                     0.505052                      0.014265  1.219172e-02  \n",
       "1                     0.332207                     -0.006222  2.453603e-01  \n",
       "2                     2.507662                     -0.054540  3.569843e-02  \n",
       "3                     0.815186                      0.007511  9.517806e-02  \n",
       "4                     3.543050                     -0.011450  6.890151e-01  \n",
       "5                     7.302469                     -0.021142  4.271039e-01  \n",
       "6                   103.237854                      3.915060  2.358312e-16  \n",
       "7                   153.769730                     -2.940656  8.415005e-04  \n",
       "8                     2.590348                      0.072791  1.105093e-02  \n",
       "9                   573.163558                    -28.824015  3.253835e-04  \n",
       "10                  659.579100                     -4.150723  1.431016e-03  \n",
       "11                    0.922947                      0.001709  5.711858e-01  \n",
       "12                   44.276918                     -0.628090  1.796243e-06  \n",
       "13                   10.742023                     -0.025032  4.785594e-01  \n",
       "14                    3.543050                     -0.011450  6.890151e-01  \n",
       "15                    0.815186                      0.007511  9.517806e-02  "
      ]
     },
     "execution_count": 56,
     "metadata": {},
     "output_type": "execute_result"
    }
   ],
   "source": [
    "#Call T-Test on dataframe\n",
    "result_df = do_t_test_dataframe(pre_treat_df, pre_ctrl_df, col_names_dictionary )\n",
    "\n",
    "result_df.iloc[:, 1:6].sort_index(axis=0)"
   ]
  },
  {
   "cell_type": "markdown",
   "metadata": {
    "ein.tags": [
     "worksheet-0"
    ],
    "slideshow": {
     "slide_type": "-"
    }
   },
   "source": [
    "### 1.3 Interpretation\n",
    "\n",
    "** A: Are there statistically significant differences between treatment and control villages as baseline? **\n",
    "\n",
    "We choose to consider a factor as significantly different if the p-value from the t-test was less than 0.05. Based on this metric, statistically significant differences between the treatment and control villages are present in the following demographic variables:\n",
    "- sex\n",
    "- dist_sec\n",
    "- min_dist\n",
    "- dist_cap\n",
    "- hoh_edu\n",
    "- hoh_wag\n",
    "- welfare_index\n",
    "- hoh_age\n",
    "\n",
    "** B: Why does it matter if there are differences at baseline?**\n",
    "\n",
    "It matters that there are differences at the baseline because they are relevant to the outcomes we observe after the Progresa scheme was implemented. The distribution of treatment and control villages is done to create equal values for the demographics of both groups, so that any latent effects are common to both of them.\n",
    "\n",
    "If we had not observed the significance of differences prior to the Progresa scheme launch, we would incorrectly attribute the effect of these demographic variables to the Progresa scheme. This would create a biased and incorrect picture of reality.\n",
    "\n",
    "** C: What does this imply about how to measure the impact of the treatment?**\n",
    "\n",
    "Because this experiment has not been able to randomize the treatment and control groups entirely, we need to be careful in measuring the impact of the treatment, and have to parse out the effect of treatment from the effect of these demographic variables. It's not impossible, but we will have to be mindful during our impact analysis to include these variables."
   ]
  },
  {
   "cell_type": "markdown",
   "metadata": {
    "ein.tags": [
     "worksheet-0"
    ],
    "slideshow": {
     "slide_type": "-"
    }
   },
   "source": [
    "### 1.4 Graphical exploration, part 1\n",
    "\n",
    "For each level of household head education, compute the average enrollment rate in 1997. Create a scatterplot that shows this relationship. What do you notice?"
   ]
  },
  {
   "cell_type": "code",
   "execution_count": 16,
   "metadata": {
    "collapsed": false
   },
   "outputs": [
    {
     "name": "stdout",
     "output_type": "stream",
     "text": [
      "Index(['sex', 'indig', 'dist_sec', 'sc', 'grc', 'fam_n', 'min_dist',\n",
      "       'dist_cap', 'poor', 'progresa', 'hohedu', 'hohwag', 'welfare_index',\n",
      "       'hohsex', 'hohage', 'age', 'grc97', 'sc97'],\n",
      "      dtype='object')\n",
      "(32696, 18)\n"
     ]
    }
   ],
   "source": [
    "#We need to calculate average enrollment rate for 1997, both pobre and no pobre, no NA's\n",
    "print(baseline_df.columns)\n",
    "print(baseline_df.shape)\n"
   ]
  },
  {
   "cell_type": "markdown",
   "metadata": {
    "autoscroll": "json-false",
    "collapsed": false,
    "ein.tags": [
     "worksheet-0"
    ],
    "slideshow": {
     "slide_type": "-"
    }
   },
   "source": [
    "Let's explore some records now!!\n",
    "\n"
   ]
  },
  {
   "cell_type": "code",
   "execution_count": 34,
   "metadata": {
    "collapsed": false
   },
   "outputs": [
    {
     "name": "stdout",
     "output_type": "stream",
     "text": [
      "Enrollment rate with education of head of household\n",
      "    hohedu  enroll_rate\n",
      "0        0    78.046958\n",
      "1        1    77.099724\n",
      "2        2    80.209624\n",
      "3        3    80.951344\n",
      "4        4    84.870849\n",
      "5        5    86.025250\n",
      "6        6    88.316046\n",
      "7        7    89.939024\n",
      "8        8    92.459605\n",
      "9        9    93.403298\n",
      "10      10    87.000000\n",
      "11      11    97.297297\n",
      "12      12    97.660819\n",
      "13      13    96.992481\n",
      "14      14    89.610390\n",
      "15      15    88.333333\n",
      "16      16    92.063492\n",
      "17      17    96.296296\n",
      "18      18   100.000000\n",
      "19      20    50.000000\n"
     ]
    }
   ],
   "source": [
    "#Base Case is 97, all households\n",
    "hoh_df = df[df['year']==97]\n",
    "hoh_df = df.ix[:,['hohedu', 'sc']]\n",
    "hoh_df=hoh_df.rename(columns = {'sc':'enroll_rate'})\n",
    "\n",
    "#Calculate enrollment rate as mean 'sc' ranging from 0-100, instead of 0-1\n",
    "grouped_df = hoh_df.groupby(['hohedu'], as_index = False).agg(np.mean)\n",
    "grouped_df.loc[:,'enroll_rate'] *= 100 \n",
    "\n",
    "print('Enrollment rate with education of head of household')\n",
    "print(grouped_df)"
   ]
  },
  {
   "cell_type": "code",
   "execution_count": 20,
   "metadata": {
    "collapsed": false
   },
   "outputs": [
    {
     "data": {
      "text/plain": [
       "<matplotlib.collections.PathCollection at 0x1f7e0df80b8>"
      ]
     },
     "execution_count": 20,
     "metadata": {},
     "output_type": "execute_result"
    },
    {
     "data": {
      "image/png": "[encoded data removed]",
      "text/plain": [
       "<matplotlib.figure.Figure at 0x1f7e0d32160>"
      ]
     },
     "metadata": {},
     "output_type": "display_data"
    }
   ],
   "source": [
    "%matplotlib inline\n",
    "#Prepare the data\n",
    "x=grouped_df['hohedu'].values\n",
    "y=grouped_df['enroll_rate'].values\n",
    "\n",
    "#Initialize the plot\n",
    "fig = plt.figure(figsize=(8,6))\n",
    "\n",
    "\n",
    "plt.title('Enrollment Rate vs Education of household head in 1997', fontsize=16)\n",
    "plt.xlabel('Years of education (Head of household)', fontsize=12)\n",
    "plt.ylabel('Enrollment Rate in 1997 (%)', fontsize=12)\n",
    "plt.xticks(x, fontsize=12)\n",
    "plt.yticks(fontsize=12)\n",
    "\n",
    "#Plot the data\n",
    "plt.scatter(x, y, s= 30,  c='blue', alpha=0.5)\n"
   ]
  },
  {
   "cell_type": "code",
   "execution_count": 73,
   "metadata": {
    "collapsed": false
   },
   "outputs": [
    {
     "name": "stdout",
     "output_type": "stream",
     "text": [
      "Correlation between head of household education, and enrollment rate \n",
      "                hohedu  enroll_rate\n",
      "hohedu       1.000000     0.136863\n",
      "enroll_rate  0.136863     1.000000\n"
     ]
    }
   ],
   "source": [
    "print('Correlation between head of household education, and enrollment rate \\n', grouped_df.corr(method='pearson'))"
   ]
  },
  {
   "cell_type": "markdown",
   "metadata": {},
   "source": [
    "#### Plot Interpretation\n",
    "There seems to be a pattern across years of education that the head of household receives and the enrollment rate of children. This is also supported by a mild correlation of 0.14.\n",
    "\n",
    "However, it is not a  straightforward linear graph, and there seem to be some outliers and waves of enrollment.\n",
    "E.g. the most educated households with the parents receiving 20 years of education see a drastic drop in enrollment rates to merely 50%. This can be explained by the data, as there are very, very few households which have 20 years of education, and need to be validated further before inclusion.\n",
    "\n",
    "There is a big difference between the parents who have less than 3 years of education, who send only 80% of their children to school and parents who are highly educated who send more than 90% of their children to school.\n",
    "\n"
   ]
  },
  {
   "cell_type": "code",
   "execution_count": 54,
   "metadata": {
    "collapsed": false
   },
   "outputs": [
    {
     "name": "stdout",
     "output_type": "stream",
     "text": [
      "Enrollment rate with student age and education of head of household\n",
      "   hohedu  age  enroll_rate\n",
      "0       0    6     0.985696\n",
      "1       0    7     0.983871\n",
      "2       0    8     0.984670\n",
      "3       0    9     0.978060\n",
      "4       0   10     0.969664\n"
     ]
    }
   ],
   "source": [
    "#Take only the sc, and age columns\n",
    "hoh_age_df = df.ix[:,['hohedu', 'age' , 'sc']]\n",
    "hoh_age_df=hoh_age_df.rename(columns = {'sc':'enroll_rate'})\n",
    "\n",
    "#Calculate enrollment rate as mean 'sc' ranging from 0-100, instead of 0-1\n",
    "print('Enrollment rate with student age and education of head of household')\n",
    "age_grouped_df = hoh_age_df.groupby(['hohedu', 'age'], as_index = False).mean()\n",
    "print(age_grouped_df.head())"
   ]
  },
  {
   "cell_type": "code",
   "execution_count": 43,
   "metadata": {
    "collapsed": false
   },
   "outputs": [
    {
     "name": "stdout",
     "output_type": "stream",
     "text": [
      "Enrollment rate with student age and education of head of household\n",
      "   hohedu  grc  enroll_rate\n",
      "0       0  0.0     0.968460\n",
      "1       0  1.0     0.941201\n",
      "2       0  2.0     0.907123\n",
      "3       0  3.0     0.874112\n",
      "4       0  4.0     0.867832\n"
     ]
    }
   ],
   "source": [
    "hoh_grc_df = df.ix[:,['hohedu', 'grc' , 'sc']]\n",
    "hoh_grc_df=hoh_grc_df.rename(columns = {'sc':'enroll_rate'})\n",
    "\n",
    "#Calculate enrollment rate as mean 'sc' ranging from 0-100, instead of 0-1\n",
    "print('Enrollment rate with student age and education of head of household')\n",
    "grc_grouped_df = hoh_grc_df.groupby(['hohedu', 'grc'], as_index = False).mean()\n",
    "print(grc_grouped_df.head())"
   ]
  },
  {
   "cell_type": "markdown",
   "metadata": {
    "ein.tags": [
     "worksheet-0"
    ],
    "slideshow": {
     "slide_type": "-"
    }
   },
   "source": [
    "### 1.5 Graphical exploration, part 2\n",
    "\n",
    "Create a histogram of village enrollment rates **among poor households in treated villages**, before and after treatment. Specifically, for each village, calculate the average rate of enrollment of poor households in treated villages in 1997, then compute the average rate of enrollment of poor households in treated villages in 1998. Create two separate histograms showing the distribution of these average enrollments rates, one histogram for 1997 and one histogram for 1998. On each histogram, draw a vertical line that intersects the x-axis at the average value (across all households).\n",
    "\n",
    "** Does there appear to be a difference? Is this difference statistically significant?**\n",
    "(Answered after following analysis)\n",
    "\n",
    "** Which D estimator in Schultz (2004) does this approach correspond to?**\n",
    "(Answered after following analysis)\n",
    "\n",
    "Let's analyze enrollment rates in poor households of treated villages in 1997 and 1998"
   ]
  },
  {
   "cell_type": "code",
   "execution_count": 46,
   "metadata": {
    "autoscroll": "json-false",
    "collapsed": false,
    "ein.tags": [
     "worksheet-0"
    ],
    "slideshow": {
     "slide_type": "-"
    }
   },
   "outputs": [],
   "source": [
    "#For each poor treated village, calculate avg rate of enrollment in poor households in 1997 and 1998\n",
    "poor_t_df = df[(df['poor'] == 'pobre') & (df['progresa'] == 'basal')]\n",
    "poor_t_df =poor_t_df.ix[:,['village', 'year','sc']]\n",
    "\n",
    "t_97_df = poor_t_df[poor_t_df['year'] == 97]\n",
    "t_98_df = poor_t_df[poor_t_df['year'] == 98]\n",
    "\n",
    "#For mean sc to give enroll percentage from 0-100, instead of 0-1\n",
    "t_97_df.loc[:,'sc'] *= 100   #.loc to prevent SettingWithCopyWarning \n",
    "t_98_df.loc[:,'sc'] *= 100   \n",
    "\n",
    "#Mean for each poor village\n",
    "mean_97_df = t_97_df.groupby('village' , as_index = False).mean()\n",
    "mean_98_df = t_98_df.groupby('village' , as_index = False).mean()"
   ]
  },
  {
   "cell_type": "markdown",
   "metadata": {
    "collapsed": false
   },
   "source": [
    "Let's plot the data!"
   ]
  },
  {
   "cell_type": "code",
   "execution_count": 61,
   "metadata": {
    "collapsed": false
   },
   "outputs": [
    {
     "data": {
      "image/png": "[encoded data removed]",
      "text/plain": [
       "<matplotlib.figure.Figure at 0x1f7e1882cf8>"
      ]
     },
     "metadata": {},
     "output_type": "display_data"
    }
   ],
   "source": [
    "#Plot\n",
    "#On each histogram, draw a vertical line that intersects the x-axis at the average value (across all households).\n",
    "%matplotlib inline\n",
    "\n",
    "#Prepare the data\n",
    "x1 = mean_97_df['sc'].values\n",
    "x2 = mean_98_df['sc'].values\n",
    "\n",
    "#Initialize the plot\n",
    "fig, (ax0, ax1) = plt.subplots(nrows=2, figsize = (10,10))\n",
    "\n",
    "ax0.set_title('Average enrollment rates in treated poor villages before Progresa (1997)', fontsize=16)\n",
    "ax1.set_title('Average enrollment rates in treated poor villages after Progresa (1998)', fontsize=16)\n",
    "\n",
    "ax0.set_xlim([40, 100])\n",
    "ax1.set_xlim([40, 100])\n",
    "\n",
    "#Plot the data\n",
    "ax0.hist(x1, bins=25,histtype='stepfilled', facecolor='r', alpha=0.75)\n",
    "ax0.axvline(x1.mean(), color='k', linestyle='dashed', linewidth=2)\n",
    "\n",
    "ax1.hist(x2, bins=25, histtype='stepfilled', facecolor='g', alpha=0.75)\n",
    "ax1.axvline(x2.mean(), color='k', linestyle='dashed', linewidth=2)\n",
    "\n",
    "fig.tight_layout()\n",
    "plt.show()"
   ]
  },
  {
   "cell_type": "code",
   "execution_count": 74,
   "metadata": {
    "collapsed": false
   },
   "outputs": [
    {
     "name": "stdout",
     "output_type": "stream",
     "text": [
      "Mean (1997):  81.383941106\n",
      "Mean (1998):  82.9536204263\n",
      "Dependent T-test   P-value:  0.0013973920122\n",
      "Independent T-test P-value:  0.0442487003657\n"
     ]
    }
   ],
   "source": [
    "#Test for statistical significance:  Dependent T-test (scipy), Independent T-test (scipy)\n",
    "print('Mean (1997): ' ,x1.mean())\n",
    "print('Mean (1998): ' ,x2.mean())\n",
    "print('Dependent T-test   P-value: ' , stats.ttest_rel(x1,x2).pvalue)\n",
    "print('Independent T-test P-value: ' , stats.ttest_ind(x1,x2).pvalue)"
   ]
  },
  {
   "cell_type": "markdown",
   "metadata": {},
   "source": [
    "#### Explanation -  Does there appear to be a difference? Is this difference statistically significant?\n",
    "Yes, there is a statistically significant difference between the enrollment rates in the poor housholds in treated villages before and after Progresa. This difference was validated using a T-test whose results are at < 0.05 level of significance.\n",
    "\n",
    "The mean enrollment rate in the poor households of treated villages rose from 81.38 to 82.95 from 1997 to 1998.\n",
    "While this increase is statistically significant, it is yet to be confirmed that the difference is due to Progresa.\n"
   ]
  },
  {
   "cell_type": "markdown",
   "metadata": {},
   "source": [
    "#### Explanation - Which D estimator in Schultz (2004) does this approach correspond to?\n",
    "The D estimator that the approach most closely corresponds to is DD1.\n",
    "This difference in difference estimator (DD1) is defined below and is expected to represent the positive impact of the program holding constant for persistent sources of pre-program regional variation:\n",
    "\n",
    "H1: D1(Post-program) = difference in poor treated households and poor non-treated households after the program\n",
    "\n",
    "H2: D1(Pre-program)  = difference in poor treated households and poor non-treated households before the program\n",
    "\n",
    "DD1 = H1 - H2\n",
    "\n",
    "H3: DD1 = D1(Post-program) - D1(pre-program) > 0:\n",
    "\n",
    "In this approach, we looked at the poor treated households before and after the program, and thus we are partially solving the answer the DD1. We need to look at the difference between the poor control households before and after the program to find the full answer. \n",
    "\n",
    "For an exact representation of what we did in 1.5 analysis, we calculated the difference D: S1t(post-program) - S1t(pre-program).\n"
   ]
  },
  {
   "cell_type": "markdown",
   "metadata": {
    "ein.tags": [
     "worksheet-0"
    ],
    "slideshow": {
     "slide_type": "-"
    }
   },
   "source": [
    "## Part 2: Measuring Impact\n",
    "\n",
    "### 2.1 Simple differences: T-test\n",
    "\n",
    "Start out by estimating the impact of Progresa using \"simple differences.\" Restricting yourself to data from 1998 (after treatment). Calculate the average enrollment rate among **poor** households in the Treatment villages and the average enrollment rate among **poor** households in the control villages.\n"
   ]
  },
  {
   "cell_type": "code",
   "execution_count": 73,
   "metadata": {
    "autoscroll": "json-false",
    "collapsed": false,
    "ein.tags": [
     "worksheet-0"
    ],
    "slideshow": {
     "slide_type": "-"
    }
   },
   "outputs": [
    {
     "data": {
      "text/html": [
       "<div>\n",
       "<table border=\"1\" class=\"dataframe\">\n",
       "  <thead>\n",
       "    <tr style=\"text-align: right;\">\n",
       "      <th></th>\n",
       "      <th>Control Mean</th>\n",
       "      <th>Treatment Mean</th>\n",
       "      <th>Difference</th>\n",
       "      <th>T Value</th>\n",
       "      <th>P Value</th>\n",
       "    </tr>\n",
       "  </thead>\n",
       "  <tbody>\n",
       "    <tr>\n",
       "      <th>0</th>\n",
       "      <td>0.807637</td>\n",
       "      <td>0.846479</td>\n",
       "      <td>0.038842</td>\n",
       "      <td>8.358721</td>\n",
       "      <td>6.636344e-17</td>\n",
       "    </tr>\n",
       "  </tbody>\n",
       "</table>\n",
       "</div>"
      ],
      "text/plain": [
       "   Control Mean  Treatment Mean  Difference   T Value       P Value\n",
       "0      0.807637        0.846479    0.038842  8.358721  6.636344e-17"
      ]
     },
     "execution_count": 73,
     "metadata": {},
     "output_type": "execute_result"
    }
   ],
   "source": [
    "# Extracting control and treatment groups - poor households in 1998\n",
    "post_treat_df =   df[(df['year'] == 98) & (df['poor'] == 'pobre') & (df['progresa'] == 'basal')]\n",
    "post_ctrl_df =   df[(df['year'] == 98) & (df['poor'] == 'pobre') & (df['progresa'] == '0')]\n",
    "\n",
    "# Calculating means\n",
    "treat_mean = post_treat_df['sc'].mean()\n",
    "control_mean = post_ctrl_df['sc'].mean()\n",
    "\n",
    "# Running T-Test\n",
    "tt_98 = stats.ttest_ind(post_treat_df['sc'],post_ctrl_df['sc'], nan_policy='omit')\n",
    "\n",
    "# Adding to data frame\n",
    "pd.DataFrame.from_items([('Control Mean', [control_mean]), \n",
    "                         ('Treatment Mean', [treat_mean]), \n",
    "                         ('Difference', [treat_mean - control_mean]),\n",
    "                         ('T Value', [tt_98[0]]), ('P Value', [tt_98[1]])])"
   ]
  },
  {
   "cell_type": "markdown",
   "metadata": {},
   "source": [
    "** Explanation: Which difference estimator in Schultz (2004) does this approach correspond to?**\n",
    "\n",
    "The D estimator that the approach corresponds to is **D1(Post-program).**\n",
    "This difference estimator (D1) is defined below and is expected to represent the positive impact of the program in 1998 among treated and non-treated households.\n",
    "\n",
    "H1: D1(Post-program) = S1t - S2t > 0  [Post-program period average; t = 3; 4; 5]\n",
    "\n",
    "                     = Difference in poor treated households and poor non-treated households after the program\n",
    "\n",
    "In this approach, we looked at the poor treated and control households after the program, and thus we are solving for D1 post program.\n",
    "\n",
    "\n",
    "** Explanation: Use a t-test to determine if this difference is statistically significant. What do you conclude?**\n",
    "\n",
    "The t-test determines that this difference is statistically significant, as the p-value is < 0.05. The p-value , in fact is many orders of magnitude smaller.The treatment and control households differ in enrollment rates by almost 3.8% in 1998."
   ]
  },
  {
   "cell_type": "markdown",
   "metadata": {
    "ein.tags": [
     "worksheet-0"
    ],
    "slideshow": {
     "slide_type": "-"
    }
   },
   "source": [
    "### 2.2 Simple differences: Regression\n",
    "\n",
    "Estimate the effects of Progresa on enrollment using a regression model, by regressing the 1998 enrollment rates **of the poor** on treatment assignment. \n",
    "\n",
    "* Based on this model, how much did Progresa increase the likelihood of a child enrolling?\n",
    "* How does your regression estimate compare to your t-test estimate from part 2.1?\n",
    "* Based on this regression model, can we reject the null hypothesis that the treatment effects are zero? \n",
    "* What is the counterfactual assumption underlying this regression?"
   ]
  },
  {
   "cell_type": "code",
   "execution_count": 96,
   "metadata": {
    "autoscroll": "json-false",
    "collapsed": false,
    "ein.tags": [
     "worksheet-0"
    ],
    "slideshow": {
     "slide_type": "-"
    }
   },
   "outputs": [
    {
     "name": "stdout",
     "output_type": "stream",
     "text": [
      "\n",
      "Simple regression : POOR Families in 1998 - Treatment/Control\n",
      "                            OLS Regression Results                            \n",
      "==============================================================================\n",
      "Dep. Variable:                     sc   R-squared:                       0.003\n",
      "Model:                            OLS   Adj. R-squared:                  0.003\n",
      "Method:                 Least Squares   F-statistic:                     69.87\n",
      "Date:                Tue, 02 May 2017   Prob (F-statistic):           6.64e-17\n",
      "Time:                        13:13:44   Log-Likelihood:                -11926.\n",
      "No. Observations:               27450   AIC:                         2.386e+04\n",
      "Df Residuals:                   27448   BIC:                         2.387e+04\n",
      "Df Model:                           1                                         \n",
      "Covariance Type:            nonrobust                                         \n",
      "=====================================================================================\n",
      "                        coef    std err          t      P>|t|      [95.0% Conf. Int.]\n",
      "-------------------------------------------------------------------------------------\n",
      "Intercept             0.8076      0.004    220.676      0.000         0.800     0.815\n",
      "progresa[T.basal]     0.0388      0.005      8.359      0.000         0.030     0.048\n",
      "==============================================================================\n",
      "Omnibus:                     7638.939   Durbin-Watson:                   1.734\n",
      "Prob(Omnibus):                  0.000   Jarque-Bera (JB):            15767.534\n",
      "Skew:                          -1.767   Prob(JB):                         0.00\n",
      "Kurtosis:                       4.140   Cond. No.                         3.01\n",
      "==============================================================================\n",
      "\n",
      "Warnings:\n",
      "[1] Standard Errors assume that the covariance matrix of the errors is correctly specified.\n"
     ]
    }
   ],
   "source": [
    "# Considering only the poor from 1998\n",
    "df_98 = df[(df['year'] == 98) & (df['poor'] == 'pobre')]\n",
    "\n",
    "#No need to create dummy variable for categorical variable (Progresa) since only 2 values\n",
    "# Fitting linear model\n",
    "simple_model = smf.ols(formula = 'sc ~ progresa', data = df_98)\n",
    "simple_res=simple_model.fit()\n",
    "\n",
    "# Print\n",
    "print(\"\\nSimple regression : POOR Families in 1998 - Treatment/Control\")\n",
    "print(simple_res.summary())"
   ]
  },
  {
   "cell_type": "markdown",
   "metadata": {},
   "source": [
    "**Explanation**\n",
    "\n",
    "** a) Based on this model, how much did Progresa increase the likelihood of a child enrolling?**\n",
    "\n",
    "For a household that was not enrolled in progresa (Control) in 1998, the predicted enrollment rate would be 80.76% based on the intercept value.\n",
    "A treated household in 1998, on average would see an increase of 3.88 percentage points to 84.64% predicted enrollment as compared to control household based on the coefficient for progresa(T.basal). i.e. on average, being in the Progresa study increased the likelihood of child enrolling by 3.88 percentage points. \n",
    "\n",
    "** b) How does your regression estimate compare to your t-test estimate from part 2.1?**\n",
    "\n",
    "The estimated parameter through regression(beta1) is also the same as the t-test estimate from 2.1. This is because in our regressoin, we took the difference between observed and mean values to minimize least squared error, which is the same mechanism  to calculate the t-test estimate as well (taking difference between mean and observed).Both the simple regression estimate and the t-test have high significance i.e. (p-value) is of the order of 6.64 e-17. Both the model and t-test saw a difference of 3.88 % between the treated and control households on average. \n",
    "\n",
    "** b) Based on this regression model, can we reject the null hypothesis that the treatment effects are zero?**\n",
    "\n",
    "Yes, if we were to look at this model, we could reject the null hypothesis as the model significance has p-value lesser than 0.05. Because of this, we can be over 95% sure that the significant are due to the progresa treatment and not due to random chance.\n",
    "\n",
    "** d) What is the counterfactual assumption underlying this regression?**\n",
    "\n",
    "The counterfactual assumption underlying the regression is that in the absence of treatment (Progresa) and other underlying trend, the enrollment rates of the students in the villages chosen for control and those chosen for treatment would be the same."
   ]
  },
  {
   "cell_type": "markdown",
   "metadata": {
    "ein.tags": [
     "worksheet-0"
    ],
    "slideshow": {
     "slide_type": "-"
    }
   },
   "source": [
    "### 2.3 Multiple Regression\n",
    "\n",
    "Re-run the above regression estimated but this time include a set of control variables. Include, for instance, age, distance to a secondary school, gender, education of household head, indigenous, etc.\n",
    "\n",
    "* How do the controls affect the point estimate of treatment effect?\n",
    "* How do the controls affect the standard error on the treatment effect? \n",
    "* How do you interpret the differences (or similarities) between your estimates of 2.2 and 2.3?"
   ]
  },
  {
   "cell_type": "code",
   "execution_count": 98,
   "metadata": {
    "autoscroll": "json-false",
    "collapsed": false,
    "ein.tags": [
     "worksheet-0"
    ],
    "slideshow": {
     "slide_type": "-"
    }
   },
   "outputs": [
    {
     "name": "stdout",
     "output_type": "stream",
     "text": [
      "\n",
      "Multiple regression : POOR Families in 1998 - Treatment/Control and Age, Gender, Indigeneous etc\n",
      "                            OLS Regression Results                            \n",
      "==============================================================================\n",
      "Dep. Variable:                     sc   R-squared:                       0.268\n",
      "Model:                            OLS   Adj. R-squared:                  0.268\n",
      "Method:                 Least Squares   F-statistic:                     1666.\n",
      "Date:                Tue, 02 May 2017   Prob (F-statistic):               0.00\n",
      "Time:                        13:14:21   Log-Likelihood:                -7671.8\n",
      "No. Observations:               27340   AIC:                         1.536e+04\n",
      "Df Residuals:                   27333   BIC:                         1.542e+04\n",
      "Df Model:                           6                                         \n",
      "Covariance Type:            nonrobust                                         \n",
      "=====================================================================================\n",
      "                        coef    std err          t      P>|t|      [95.0% Conf. Int.]\n",
      "-------------------------------------------------------------------------------------\n",
      "Intercept             1.5235      0.009    161.784      0.000         1.505     1.542\n",
      "progresa[T.basal]     0.0356      0.004      8.920      0.000         0.028     0.043\n",
      "age                  -0.0655      0.001    -95.686      0.000        -0.067    -0.064\n",
      "dist_sec             -0.0119      0.001    -13.642      0.000        -0.014    -0.010\n",
      "sex                   0.0310      0.004      7.995      0.000         0.023     0.039\n",
      "hohedu                0.0087      0.001     11.147      0.000         0.007     0.010\n",
      "indig                 0.0468      0.004     11.306      0.000         0.039     0.055\n",
      "==============================================================================\n",
      "Omnibus:                     2974.429   Durbin-Watson:                   1.717\n",
      "Prob(Omnibus):                  0.000   Jarque-Bera (JB):             4048.759\n",
      "Skew:                          -0.935   Prob(JB):                         0.00\n",
      "Kurtosis:                       3.239   Cond. No.                         60.4\n",
      "==============================================================================\n",
      "\n",
      "Warnings:\n",
      "[1] Standard Errors assume that the covariance matrix of the errors is correctly specified.\n"
     ]
    }
   ],
   "source": [
    "#Use the same df_98 (poor households in 1998)\n",
    "# Fitting linear model\n",
    "multi_model = smf.ols(formula = 'sc ~ progresa + age + dist_sec + sex + hohedu + indig', data = df_98)\n",
    "multi_res=multi_model.fit()\n",
    "\n",
    "# Print\n",
    "print(\"\\nMultiple regression : POOR Families in 1998 - Treatment/Control and Age, Gender, Indigeneous etc\")\n",
    "print(multi_res.summary())"
   ]
  },
  {
   "cell_type": "code",
   "execution_count": 94,
   "metadata": {
    "collapsed": false
   },
   "outputs": [
    {
     "name": "stdout",
     "output_type": "stream",
     "text": [
      "\n",
      "Simple Model - Standard Errors\n",
      " Intercept            0.003660\n",
      "progresa[T.basal]    0.004647\n",
      "dtype: float64\n",
      "\n",
      "Model with Controls - Standard Errors\n",
      " Intercept            0.009417\n",
      "progresa[T.basal]    0.003993\n",
      "age                  0.000685\n",
      "dist_sec             0.000872\n",
      "sex                  0.003878\n",
      "hohedu               0.000777\n",
      "indig                0.004144\n",
      "dtype: float64\n"
     ]
    }
   ],
   "source": [
    "#Standard errors for Simple and Multiple linear regression Model\n",
    "print('\\nSimple Model - Standard Errors\\n', simple_res.bse)\n",
    "print('\\nModel with Controls - Standard Errors\\n', multi_res.bse)\n"
   ]
  },
  {
   "cell_type": "markdown",
   "metadata": {},
   "source": [
    "#### Explanation\n",
    "\n",
    "** How do the controls affect the point estimate of treatment effect?**\n",
    "\n",
    "The estimate of the treatment effect is now 0.0356 after adding the control variables, down from 0.0388 in the previous model.\n",
    "This suggests that the previous simple linear regression model was overestimating the effects of the treatment variable, whereas in this model, we have seen the true impact of Progresa treatment, while controlling for factors such as age,gender and education of head of household. Because these underlying factors have a statistically significant impact, we can see that the effect of the treatment alone has reduced.\n",
    "\n",
    "** How do the controls affect the standard error on the treatment effect? **\n",
    "\n",
    "The standard error for the treatment variable was 0.004647 in the simple model, and 0.003993 in the multiple regression model. Thus, we can see that the controls have lowered the standard error, and thus, we have a higher chance of having captured the true impact of the treatment variable in the multiple regression model in a narrower window around the estimate.\n",
    "\n",
    "** How do you interpret the differences (or similarities) between your estimates of 2.2 and 2.3?**\n",
    "\n",
    "A similarity between the two models is that the estimate of impact of treatment is still above 3% and has high significance (< 0.001). An interesting difference is in the R-squared value. From a measly 0.003, the R-squared in 2.3 has jumped to 0.2 , which is indicative that these control variables help explain a high degree of variance in the data. \n",
    "\n",
    "Another funny observation is that the intercept value in the multiple regression model is 1.5! Which suggests that without being in the treatment, the average enrollment rate is 150% in control villages in 1998. This is a consequence of choosing linear regression methods to predict a categorical response variable."
   ]
  },
  {
   "cell_type": "markdown",
   "metadata": {
    "ein.tags": [
     "worksheet-0"
    ],
    "slideshow": {
     "slide_type": "-"
    }
   },
   "source": [
    "### 2.4 Difference-in-Difference, version 1 (tabular)\n",
    "\n",
    "Thus far, we have computed the effects of Progresa by estimating the difference in 1998 enrollment rates across villages. An alternative approach would be to compute the treatment effect using a difference-in-differences framework.\n",
    "\n",
    "Begin by estimating the average treatment effects of the program for poor households using data from 1997 and 1998. Specifically, calculate the difference (between 1997 and 1998) in enrollment rates among poor households in treated villages; then compute the difference (between 1997 and 1998) in enrollment rates among poor households in treated villages. The difference between these two differences is your estimate.\n",
    "\n",
    "* What is your estimate of the impact, and how does it compare to your earlier (simple difference) results?\n",
    "* What is the counterfactual assumption underlying this estimate? \n"
   ]
  },
  {
   "cell_type": "code",
   "execution_count": 105,
   "metadata": {
    "autoscroll": "json-false",
    "collapsed": false,
    "ein.tags": [
     "worksheet-0"
    ],
    "slideshow": {
     "slide_type": "-"
    }
   },
   "outputs": [
    {
     "name": "stdout",
     "output_type": "stream",
     "text": [
      "\n",
      "Multiple regression : POOR Families in 1998 - Treatment/Control and demographic factors\n",
      "            After Progresa (98)  Before Progresa (97)\n",
      "Control                0.807637              0.815186\n",
      "Treatment              0.846479              0.822697\n",
      "Difference             0.023782             -0.007549\n",
      "\n",
      "The difference in difference is : 0.0313312803193\n"
     ]
    }
   ],
   "source": [
    "#Using 1997 and 1998, looking at difference across treatment and control for POOR families\n",
    "# Computing the means required for difference in difference\n",
    "PreControlMean =    df[(df['poor'] == 'pobre') & (df['year'] == 97) & (df['progresa'] == '0')].mean()['sc']\n",
    "PostControlMean =    df[(df['poor'] == 'pobre') & (df['year'] == 98) & (df['progresa'] == '0')].mean()['sc']\n",
    "\n",
    "PreTreatMean =    df[(df['poor'] == 'pobre') & (df['year'] == 97) & (df['progresa'] == 'basal')].mean()['sc']\n",
    "PostTreatMean =    df[(df['poor'] == 'pobre') & (df['year'] == 98) & (df['progresa'] == 'basal')].mean()['sc']\n",
    "\n",
    "ControlDiff =   PostControlMean - PreControlMean\n",
    "TreatmentDiff = PostTreatMean - PreTreatMean\n",
    "DiffInDiff =    TreatmentDiff - ControlDiff\n",
    "\n",
    "# Arranging means in a table using Series\n",
    "diff_table = {'Before Progresa (97)':pd.Series([PreControlMean, PreTreatMean, ControlDiff], index = ['Control', 'Treatment', 'Difference']),\n",
    "       'After Progresa (98)':pd.Series([PostControlMean, PostTreatMean, TreatmentDiff], index = ['Control', 'Treatment', 'Difference']),}\n",
    "\n",
    "print(\"\\nMultiple regression : POOR Families in 1998 - Treatment/Control and demographic factors\")\n",
    "print (pd.DataFrame(diff_table))\n",
    "print('\\nThe difference in difference is :', DiffInDiff)"
   ]
  },
  {
   "cell_type": "markdown",
   "metadata": {},
   "source": [
    "#### Explanation\n",
    "\n",
    "**a) What is your estimate of the impact, and how does it compare to your earlier (simple difference) results?**\n",
    "\n",
    "The estimate of impact as calculated by the difference in difference method is 0.031331.\n",
    "\n",
    "This estimate is lower than the previous impact calculations and can be explained with the following logic. Even without the treatment, the control villages saw an increase in enrolment rate from 1997 to 1998. Thus, some of the predicted increase in enrollment rates in the treatment villages would also be due to the effect of time, which was not considered when we checked for impact in the previous models for 1998 without any historic trend. Hence, when we calculated impact in the previous models, the impact of treatment variable was overestimated.\n",
    "\n",
    "**b) What is the counterfactual assumption underlying this estimate? **\n",
    "\n",
    "The counterfactual assumption underlying this estimate is that, in the absence of the actual Progresa scheme (treatment), the enrollment rates in the villages in the treatment group over a course of time (e.g. a year) would have changed by the same amount as the enrollment rates in the control group in the same time frame, assuming that the trend across time is constant.\n",
    "\n",
    "The counterfactual assumes that rate of change of the response variable (enrollment rate) is the same for both the treatment and control group in the absence of the actual treatment. The difference between enrollment rates in treatment and control households in 1997 and 1998 would have been constant under the counterfactual assumption.\n"
   ]
  },
  {
   "cell_type": "markdown",
   "metadata": {
    "ein.tags": [
     "worksheet-0"
    ],
    "slideshow": {
     "slide_type": "-"
    }
   },
   "source": [
    "### 2.5 Difference-in-Difference, version 1 (regression)\n",
    "\n",
    "Now use a regression specification to estimate the average treatment effect of the program (on the poor) in a difference-in-differences framework. Include at least 5 control variables.\n",
    "\n",
    "* What is your estimate of the impact of Progresa? Be very specific in interpreting your coefficients and standard errors, and make sure to specify exactly what units you are measuring and estimating.\n",
    "\n",
    "\n",
    "* How do these estimates of the treatment effect compare to the estimates based on the simple difference?\n",
    "\n",
    "\n",
    "* How do these estimates compare to the difference-in-difference estimates from 2.4 above? What accounts for these differences?\n",
    "\n",
    "\n",
    "* What is the counterfactual assumption underlying this regression?\n",
    "\n"
   ]
  },
  {
   "cell_type": "code",
   "execution_count": 104,
   "metadata": {
    "autoscroll": "json-false",
    "collapsed": false,
    "ein.tags": [
     "worksheet-0"
    ],
    "slideshow": {
     "slide_type": "-"
    }
   },
   "outputs": [
    {
     "name": "stdout",
     "output_type": "stream",
     "text": [
      "\n",
      "Multiple regression : POOR Families in 1997 & 1998 - Treatment/Control, Year and demographic factors\n",
      "                            OLS Regression Results                            \n",
      "==============================================================================\n",
      "Dep. Variable:                     sc   R-squared:                       0.279\n",
      "Model:                            OLS   Adj. R-squared:                  0.279\n",
      "Method:                 Least Squares   F-statistic:                     2810.\n",
      "Date:                Tue, 02 May 2017   Prob (F-statistic):               0.00\n",
      "Time:                        13:37:06   Log-Likelihood:                -16717.\n",
      "No. Observations:               58165   AIC:                         3.345e+04\n",
      "Df Residuals:                   58156   BIC:                         3.353e+04\n",
      "Df Model:                           8                                         \n",
      "Covariance Type:            nonrobust                                         \n",
      "==========================================================================================\n",
      "                             coef    std err          t      P>|t|      [95.0% Conf. Int.]\n",
      "------------------------------------------------------------------------------------------\n",
      "Intercept                  1.4940      0.006    231.606      0.000         1.481     1.507\n",
      "progresa[T.basal]          0.0043      0.004      1.137      0.256        -0.003     0.012\n",
      "time                       0.0270      0.004      6.204      0.000         0.018     0.036\n",
      "progresa[T.basal]:time     0.0314      0.006      5.685      0.000         0.021     0.042\n",
      "age                       -0.0655      0.000   -144.433      0.000        -0.066    -0.065\n",
      "hohedu                     0.0076      0.001     14.110      0.000         0.007     0.009\n",
      "dist_sec                  -0.0110      0.001    -17.788      0.000        -0.012    -0.010\n",
      "sex                        0.0339      0.003     12.672      0.000         0.029     0.039\n",
      "indig                      0.0496      0.003     17.304      0.000         0.044     0.055\n",
      "==============================================================================\n",
      "Omnibus:                     5523.777   Durbin-Watson:                   1.484\n",
      "Prob(Omnibus):                  0.000   Jarque-Bera (JB):             7269.312\n",
      "Skew:                          -0.864   Prob(JB):                         0.00\n",
      "Kurtosis:                       3.113   Cond. No.                         70.8\n",
      "==============================================================================\n",
      "\n",
      "Warnings:\n",
      "[1] Standard Errors assume that the covariance matrix of the errors is correctly specified.\n"
     ]
    }
   ],
   "source": [
    "# Considering only the poor\n",
    "poor_df = df[(df['poor'] == 'pobre')]\n",
    "\n",
    "#Create dummy variable for time as 0/1 instead of 97,98\n",
    "poor_df.loc[:,'time'] = np.where(poor_df.loc[:,'year'] == 98, 1, 0)\n",
    " \n",
    "# Fitting linear model\n",
    "did1_model = smf.ols(formula = 'sc ~ progresa + time + progresa*time + age+ hohedu + dist_sec + sex + indig', data = poor_df)\n",
    "did1_res=did1_model.fit()\n",
    "\n",
    "# Print\n",
    "print(\"\\nMultiple regression : POOR Families in 1997 & 1998 - Treatment/Control, Year and demographic factors\")\n",
    "print(did1_res.summary())"
   ]
  },
  {
   "cell_type": "markdown",
   "metadata": {},
   "source": [
    "#### Explanation\n",
    "\n",
    "** a) What is your estimate of the impact of Progresa? Be very specific in interpreting your coefficients and standard errors, and make sure to specify exactly what units you are measuring and estimating.**\n",
    "\n",
    "Because of the interaction terms, we need to be careful in the interpretations of the coefficients. We can no longer say that the impact of treatment is 0.314, as there is the additional effect of the time variable. Thus, the impact of whether the household was in the treatment group or control group on the enrollment rates also changes based on whether we are measuring in 1997 or  1998.\n",
    "\n",
    "enrollment rate = intercept + 0.0043 progresa + 0.0270 time + 0.0314 (progresa * time) + other factors\n",
    "\n",
    "Overall coefficient of progresa =  (0.0043 + 0.0314 * time)\n",
    "\n",
    "For household in 1997 : (time =0) The increase in enrollment rate associated with being in the Progresa scheme vs not in the progresa scheme is: 0.0043 i.e. 0.4%  (This is not useful because the Progresa scheme was not present in 1997 to begin with!)\n",
    "\n",
    "For household in 1998 : (time =1) The increase in enrollment rate associated with being in the Progresa scheme (Treatment) vs not in the progresa scheme (control) is: 0.0043 + 0.0314 i.e. 3.57% !\n",
    "\n",
    "The interaction term (progresa * time) with coefficient 0.0314 is significant,and its units are rate of enrollment per year, when looking at impact of progresa on a particular group.\n",
    "\n",
    "** b) How do these estimates of the treatment effect compare to the estimates based on the simple difference?**\n",
    "\n",
    "The estimates in the current diffindiff model suggest that the treatment variable (progresa) and time are not significant as opposed to being significant in the simple difference model. Instead, we have the significant interaction term difference in groups over time) that has a p-value < 0.05. The  other demographic variables retain similar significance to previous models.\n",
    "\n",
    "** c) How do these estimates compare to the difference-in-difference estimates from 2.4 above? What accounts for these differences?**\n",
    "\n",
    "The tabular diff-in-diff provided an impact value of 3.13 % while the linear regression model gave the value 3.14 %. This indicates that the impact of the interaction variable has been adjusted for the demographic control variables. Our current model is correctly estimating based on the impact of time as well.\n",
    "\n",
    "** d) What is the counterfactual assumption underlying this regression?**\n",
    "\n",
    "The counterfactual assumption underlying the regression is that in the absence of progresa scheme (treatment variable) and the effects of demographic variables, the rate of enrollment in the treated poor households would equal the rate of enrollment in the control poor households over a perid of time assuming that the trend over time is constant."
   ]
  },
  {
   "cell_type": "markdown",
   "metadata": {
    "ein.tags": [
     "worksheet-0"
    ],
    "slideshow": {
     "slide_type": "-"
    }
   },
   "source": [
    "### 2.6 Difference-in-Difference, version 2\n",
    "\n",
    "In the previous problem, you estimated a difference-in-differences model that compared changes in enrollment rates over time across treatment and control villages. An alternative approach would be to compare enrollment rates in 1998 between poor and non-poor across treatment and control villages. \n",
    "\n",
    "* How would we estimate this version of the treatment effects in a regression model? \n",
    "* What is the counterfactual assumption underlying this regression?\n",
    "* How do these treatment effects compare to the estimates above?\n",
    "* Discuss some possible explanations for differences or similarities "
   ]
  },
  {
   "cell_type": "code",
   "execution_count": 108,
   "metadata": {
    "autoscroll": "json-false",
    "collapsed": false,
    "ein.tags": [
     "worksheet-0"
    ],
    "slideshow": {
     "slide_type": "-"
    }
   },
   "outputs": [
    {
     "name": "stdout",
     "output_type": "stream",
     "text": [
      "\n",
      " Impact on Enrollment Rates - Families in 1998 - Treatment/Control, Poverty(Poor/Non poor) and  demographic factors\n",
      "                            OLS Regression Results                            \n",
      "==============================================================================\n",
      "Dep. Variable:                     sc   R-squared:                       0.269\n",
      "Model:                            OLS   Adj. R-squared:                  0.268\n",
      "Method:                 Least Squares   F-statistic:                     1467.\n",
      "Date:                Tue, 02 May 2017   Prob (F-statistic):               0.00\n",
      "Time:                        15:11:48   Log-Likelihood:                -9335.6\n",
      "No. Observations:               31975   AIC:                         1.869e+04\n",
      "Df Residuals:                   31966   BIC:                         1.876e+04\n",
      "Df Model:                           8                                         \n",
      "Covariance Type:            nonrobust                                         \n",
      "=============================================================================================\n",
      "                                coef    std err          t      P>|t|      [95.0% Conf. Int.]\n",
      "---------------------------------------------------------------------------------------------\n",
      "Intercept                     1.5423      0.012    133.418      0.000         1.520     1.565\n",
      "progresa[T.basal]             0.0261      0.010      2.680      0.007         0.007     0.045\n",
      "poverty                      -0.0154      0.008     -1.863      0.063        -0.032     0.001\n",
      "progresa[T.basal]:poverty     0.0095      0.011      0.901      0.368        -0.011     0.030\n",
      "age                          -0.0659      0.001   -103.053      0.000        -0.067    -0.065\n",
      "hohedu                        0.0093      0.001     13.414      0.000         0.008     0.011\n",
      "dist_sec                     -0.0122      0.001    -14.636      0.000        -0.014    -0.011\n",
      "sex                           0.0311      0.004      8.571      0.000         0.024     0.038\n",
      "indig                         0.0474      0.004     11.797      0.000         0.040     0.055\n",
      "==============================================================================\n",
      "Omnibus:                     3219.038   Durbin-Watson:                   1.721\n",
      "Prob(Omnibus):                  0.000   Jarque-Bera (JB):             4302.755\n",
      "Skew:                          -0.897   Prob(JB):                         0.00\n",
      "Kurtosis:                       3.119   Cond. No.                         119.\n",
      "==============================================================================\n",
      "\n",
      "Warnings:\n",
      "[1] Standard Errors assume that the covariance matrix of the errors is correctly specified.\n"
     ]
    }
   ],
   "source": [
    "# Considering only the 98 data\n",
    "did2_df = df[(df['year'] == 98)]\n",
    "\n",
    "#Create dummy variable for time as 0/1 instead of 97,98 , poor is the baseline\n",
    "did2_df['poverty'] = np.where(did2_df['poor'] == 'pobre', 1, 0)\n",
    " \n",
    "# Fitting linear model\n",
    "did2_model = smf.ols(formula = 'sc ~ progresa + poverty + progresa*poverty + age+ hohedu + dist_sec + sex + indig', data = did2_df)\n",
    "did2_res=did2_model.fit()\n",
    "\n",
    "# Print\n",
    "print(\"\\n Impact on Enrollment Rates - Families in 1998 - Treatment/Control, Poverty(Poor/Non poor) and  demographic factors\")\n",
    "print(did2_res.summary())"
   ]
  },
  {
   "cell_type": "markdown",
   "metadata": {},
   "source": [
    "#### Explanation\n",
    "\n",
    "** a) How would we estimate this version of the treatment effects in a regression model? **\n",
    "\n",
    "Because of the interaction terms, the interpretation of the estimates is slightly more tricky.Thus, the impact of whether the household was in the treatment group or control group on the enrollment rates also changes based on whether we are measuring for poor or non-poor households.\n",
    "\n",
    "Enrollment rate = intercept + 0.0261 progresa - 0.0154 poverty + 0.0095 (progresa * poverty) + other factors\n",
    "\n",
    "Overall coefficient of progresa =  (0.0261 + 0.0095 * poverty)\n",
    "\n",
    "For non-poor household : (poverty =0) The increase in enrollment rate associated with being in the Progresa scheme vs not in the progresa scheme is: 0.0261 i.e. 2.6% (Significant)  \n",
    "\n",
    "For poor household : (poverty =1) The increase in enrollment rate associated with being in the Progresa scheme (Treatment) vs not in the progresa scheme (control) is: 0.0261 + 0.0095 i.e. approx 3.6 % ! (Not significant because interaction term is not significant)\n",
    "\n",
    "The progresa treatment term by itself is highly significant with coefficient value 0.0261 .\n",
    "The interaction term (progresa * poverty) with coefficient 0.0095 is NOT significant.\n",
    "\n",
    "Thus, the progresa treatment term by itself makes a positive difference to the enrollment rates independent of the poverty levels.\n",
    "\n",
    "** b) What is the counterfactual assumption underlying this regression?**\n",
    "\n",
    "The counterfactual assumption underlying the regression is that in the absence of progresa scheme (treatment variable) and the effects of demographic variables, the rate of enrollment in poor and non-poor households chosen for Progresa in 1998 would equal the rate of enrollment in the poor and non-poor households chosen for control in 1998 assuming that the trend over time is constant.\n",
    "\n",
    "** c) How do these treatment effects compare to the estimates above?**\n",
    "\n",
    "In the absence of a time variable, the progresa treatment variable regains significance, and the interaction term is not significant.\n",
    "\n",
    "However, The R-squared value of this model (poor and non-poor in 1998) is 0.0268 as compared to 0.0279 for the previous model  (poor in 97 and 98). The treatment effect in this model thus explains lesser of the variance in the actual data than the previous model.  Also, the increase in enrollment rates is explained by the treatment variable in this case, as opposed to the interaction term in the previous model. \n",
    "\n",
    "** d) Discuss some possible explanations for differences or similarities **\n",
    "\n",
    "We see some similarities and some differences between the current model and the previous models.\n",
    "\n",
    "The similarity is that the additional effect we introduced (time in previous model and poverty in this model) by themselves remained insignificant.\n",
    "\n",
    "However the previous model which considers interaction with time has statistically significant interaction effect (between time and progresa) whereas the interaction effect in this model (between poverty and progresa) is not statistically significant. Another difference is that in our current model, progresa on its own is statistically significant but in our previous model, progresa on its own is not statistically significant.\n",
    "\n",
    "The possible explanations are:\n",
    "\n",
    "Based on Model 2.6, Progresa possibly affected the poor- and non-poor households in similar ways in 1998 (independent of poverty)\n",
    "\n",
    "Based on Model 2.5, the high increase of enrolment rates  between 1997 and 1998, was a factor of the time period and progresa together, and not just the treatment alone. (Significant interaction term)"
   ]
  },
  {
   "cell_type": "markdown",
   "metadata": {
    "ein.tags": [
     "worksheet-0"
    ],
    "slideshow": {
     "slide_type": "-"
    }
   },
   "source": [
    "### 2.7 Spillover effects (extra credit)\n",
    "\n",
    "Thus far, we have focused on the impact of PROGRESA on poor households. Repeat your analysis in 2.5, using a double-difference regression to estimate the impact of PROGRESA on non-poor households. In other words, compare the difference in enrollments between 1997 and 1998 for non-poor households in treatment villages with the difference in enrollments between 1997 and 1998 for non-poor households in control villages.\n",
    "\n",
    "* A: Describe one or two reasons why PROGRESA might have impacted non-poor households.\n",
    "* B: Do you observe any impacts of PROGRESA on the non-poor?\n",
    "* C: What is the identifying assumption that you are using to estimate the impact of PROGRESA on non-poor households.\n"
   ]
  },
  {
   "cell_type": "code",
   "execution_count": 107,
   "metadata": {
    "autoscroll": "json-false",
    "collapsed": false,
    "ein.tags": [
     "worksheet-0"
    ],
    "slideshow": {
     "slide_type": "-"
    }
   },
   "outputs": [
    {
     "name": "stdout",
     "output_type": "stream",
     "text": [
      "\n",
      " Impact on Enrollment Rates -  NON-Poor Families across time- Treatment/Control, year and  demographic factors\n",
      "                            OLS Regression Results                            \n",
      "==============================================================================\n",
      "Dep. Variable:                     sc   R-squared:                       0.284\n",
      "Model:                            OLS   Adj. R-squared:                  0.283\n",
      "Method:                 Least Squares   F-statistic:                     513.2\n",
      "Date:                Tue, 02 May 2017   Prob (F-statistic):               0.00\n",
      "Time:                        14:53:06   Log-Likelihood:                -3700.6\n",
      "No. Observations:               10378   AIC:                             7419.\n",
      "Df Residuals:                   10369   BIC:                             7484.\n",
      "Df Model:                           8                                         \n",
      "Covariance Type:            nonrobust                                         \n",
      "==========================================================================================\n",
      "                             coef    std err          t      P>|t|      [95.0% Conf. Int.]\n",
      "------------------------------------------------------------------------------------------\n",
      "Intercept                  1.5405      0.017     91.982      0.000         1.508     1.573\n",
      "progresa[T.basal]          0.0271      0.009      2.911      0.004         0.009     0.045\n",
      "time                       0.0380      0.011      3.512      0.000         0.017     0.059\n",
      "progresa[T.basal]:time    -0.0017      0.014     -0.122      0.903        -0.029     0.026\n",
      "age                       -0.0683      0.001    -60.075      0.000        -0.071    -0.066\n",
      "hohedu                     0.0100      0.001      9.305      0.000         0.008     0.012\n",
      "dist_sec                  -0.0164      0.002     -9.276      0.000        -0.020    -0.013\n",
      "sex                        0.0306      0.007      4.500      0.000         0.017     0.044\n",
      "indig                      0.0390      0.010      3.834      0.000         0.019     0.059\n",
      "==============================================================================\n",
      "Omnibus:                      846.374   Durbin-Watson:                   1.490\n",
      "Prob(Omnibus):                  0.000   Jarque-Bera (JB):              820.967\n",
      "Skew:                          -0.631   Prob(JB):                    5.36e-179\n",
      "Kurtosis:                       2.448   Cond. No.                         75.0\n",
      "==============================================================================\n",
      "\n",
      "Warnings:\n",
      "[1] Standard Errors assume that the covariance matrix of the errors is correctly specified.\n"
     ]
    }
   ],
   "source": [
    "# Considering only the poor\n",
    "non_poor_df = df[(df['poor'] != 'pobre')]\n",
    "\n",
    "#Create dummy variable for time as 0/1 instead of 97,98\n",
    "non_poor_df['time'] = np.where(non_poor_df['year'] == 98, 1, 0)\n",
    " \n",
    "# Fitting linear model\n",
    "did3_model = smf.ols(formula = 'sc ~ progresa + time + progresa*time + age+ hohedu + dist_sec + sex + indig', data = non_poor_df)\n",
    "did_3_res=did3_model.fit()\n",
    "\n",
    "# Print\n",
    "print(\"\\n Impact on Enrollment Rates -  NON-Poor Families across time- Treatment/Control, year and  demographic factors\")\n",
    "print(did_3_res.summary())"
   ]
  },
  {
   "cell_type": "markdown",
   "metadata": {},
   "source": [
    "#### Explanation\n",
    "** A: Describe one or two reasons why PROGRESA might have impacted non-poor households.**\n",
    "\n",
    "Parents in non-poor households might have been motivated to send their kids to school so that they did not lag behind the new enrolled students from poor households. Non-poor households might also be located in areas where there were poor kids who started going to school, thus due to peer pressure, the non-poor households also enrolled their kids in school.\n",
    "\n",
    "** B: Do you observe any impacts of PROGRESA on the non-poor?**\n",
    "\n",
    "Yes, there is a small positive impact of progresa on the non-poor (coefficient 0.027), with a statistically significant coefficient for treatment variable. however the interaction term is of no significance at all. The mechanism by which the non-poor would have been affected by Progresa is independent of the time we measure the enrollment rates.\n",
    "\n",
    "** C: What is the identifying assumption that you are using to estimate the impact of PROGRESA on non-poor households.**\n",
    "\n",
    "The identifying assumption we are using to estimate the impact of progresa on non-poor households is that the being in the treatment or control group as a non-poor household would be affected by the same factors as the poor households. However, in the Shultz paper, we could identify that this may not be the case as the non-poor families enrolled in the Progresa scheme were not allowed to switch, and were not given as much flexibility as the poor families.  Thus, these are minor spillover effects\n",
    "\n"
   ]
  },
  {
   "cell_type": "markdown",
   "metadata": {
    "ein.tags": [
     "worksheet-0"
    ],
    "slideshow": {
     "slide_type": "-"
    }
   },
   "source": [
    "### 2.8 Summary\n",
    "\n",
    "Based on all the analysis you have undertaken to date, do you thik that Progresa had a causal impact on the enrollment rates of poor households in Mexico?"
   ]
  },
  {
   "cell_type": "markdown",
   "metadata": {
    "autoscroll": "json-false",
    "collapsed": false,
    "ein.tags": [
     "worksheet-0"
    ],
    "slideshow": {
     "slide_type": "-"
    }
   },
   "source": [
    "#### Conclusion\n",
    "I do believe that progresa had a CORRELATION, NOT CAUSATION on the enrollment rates in the poor households in Mexico. \n",
    "\n",
    "This was NOT causal becaust there were many assumptions such as:\n",
    "- We are assuming parallel trends. This may or may not be true\n",
    "- We are assuming that the experiment was perfectly randomized. This may or may not be true.\n",
    "\n",
    "Also, based on the measure of impact chosen, the results varied a lot.\n",
    "\n",
    "Points to note:\n",
    "\n",
    "1. The randomization of villages was not adequately random enough, as there were statistically significant differences between the parameters of the treated and control villages. The treated villages contained slightly more educated parents, younger heads of households, and were closer to secondary schools, hospitals and the capital. While these differences were small and statistically significant, it does make me question whether some villages were chosen out of preference for the study results.\n",
    "\n",
    "2. Even after controlling for these demographic variables, we were not able to find a significant value for the impact of progresa treatment alone (Based on Model 2.5). This leads me to question that the higher enrollment rates that were witnessed were due to the combined effects of progressa and time.\n",
    "\n",
    "3. In many of the other methods, e.g. simple difference T-test, and simple linear regression, we over-estimated the impact of progresa.\n",
    "\n",
    "4. The model that explained most of the variance was still explaining arounf 30% of the data after including 5 demographic variables. This suggests that there could have been other demographic variables that can better explain this data, and are leading us to over-estimate the effect of progresa.\n",
    "\n",
    "I would hence proceed with caution before labeling it as a causal impact, because proving causality is almost an impossible task.\n",
    "\n",
    "We can safely say that there is a correlation however, because of the positive, and statistically significant coefficients in our models."
   ]
  },
  {
   "cell_type": "markdown",
   "metadata": {},
   "source": [
    "## THE END"
   ]
  },
  {
   "cell_type": "code",
   "execution_count": null,
   "metadata": {
    "collapsed": true
   },
   "outputs": [],
   "source": []
  }
 ],
 "metadata": {
  "kernelspec": {
   "display_name": "Python 3",
   "language": "python",
   "name": "python3"
  },
  "language_info": {
   "codemirror_mode": {
    "name": "ipython",
    "version": 3
   },
   "file_extension": ".py",
   "mimetype": "text/x-python",
   "name": "python",
   "nbconvert_exporter": "python",
   "pygments_lexer": "ipython3",
   "version": "3.6.0"
  },
  "name": "ps2.ipynb"
 },
 "nbformat": 4,
 "nbformat_minor": 2
}
