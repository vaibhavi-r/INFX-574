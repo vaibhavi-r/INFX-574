{
 "cells": [
  {
   "cell_type": "markdown",
   "metadata": {
    "ein.tags": [
     "worksheet-0"
    ],
    "slideshow": {
     "slide_type": "-"
    }
   },
   "source": [
    "Short exercises on linear algebra"
   ]
  },
  {
   "cell_type": "code",
   "execution_count": 2,
   "metadata": {
    "autoscroll": "json-false",
    "collapsed": false,
    "ein.tags": [
     "worksheet-0"
    ],
    "slideshow": {
     "slide_type": "-"
    }
   },
   "outputs": [],
   "source": [
    "import numpy as np"
   ]
  },
  {
   "cell_type": "markdown",
   "metadata": {
    "ein.tags": [
     "worksheet-0"
    ],
    "slideshow": {
     "slide_type": "-"
    }
   },
   "source": [
    "1. Create a few matrices and vectors.  Assign these to variables.  Compute the transposes of some of those.  You may use '.T' postfix operator (ndarray property), or .transpose() function."
   ]
  },
  {
   "cell_type": "code",
   "execution_count": 4,
   "metadata": {
    "autoscroll": "json-false",
    "collapsed": false,
    "ein.tags": [
     "worksheet-0"
    ],
    "slideshow": {
     "slide_type": "-"
    }
   },
   "outputs": [
    {
     "name": "stdout",
     "output_type": "stream",
     "text": [
      "a\n",
      " [[1 2]\n",
      " [3 4]]\n",
      "b\n",
      " [[5]\n",
      " [6]]\n"
     ]
    }
   ],
   "source": [
    "# your code here\n",
    "a = np.array([[1,2], [3,4]])\n",
    "print (\"a\\n\", a)\n",
    "b = np.array([[5], [6]])\n",
    "print (\"b\\n\", b)"
   ]
  },
  {
   "cell_type": "markdown",
   "metadata": {
    "ein.tags": [
     "worksheet-0"
    ],
    "slideshow": {
     "slide_type": "-"
    }
   },
   "source": [
    "2. Multiple some of these matrices.  Attempt to multiply non-compatible matrices.\n",
    "You may use either *np.dot(x,y)* or *x.dot(y)* construct."
   ]
  },
  {
   "cell_type": "code",
   "execution_count": 5,
   "metadata": {
    "autoscroll": "json-false",
    "collapsed": false,
    "ein.tags": [
     "worksheet-0"
    ],
    "slideshow": {
     "slide_type": "-"
    }
   },
   "outputs": [
    {
     "data": {
      "text/plain": [
       "array([[17],\n",
       "       [39]])"
      ]
     },
     "execution_count": 5,
     "metadata": {},
     "output_type": "execute_result"
    }
   ],
   "source": [
    "# your code here\n",
    "a.dot(b)"
   ]
  },
  {
   "cell_type": "markdown",
   "metadata": {
    "ein.tags": [
     "worksheet-0"
    ],
    "slideshow": {
     "slide_type": "-"
    }
   },
   "source": [
    "3. compute rank of some of the matrices.  Create matrices with full rank and with less than full rank.\n",
    "'np.linalg.matrix_rank()'.  You may also create some random matrices with something like 'np.random.normal(size=(4,6))'"
   ]
  },
  {
   "cell_type": "code",
   "execution_count": 10,
   "metadata": {
    "autoscroll": "json-false",
    "collapsed": false,
    "ein.tags": [
     "worksheet-0"
    ],
    "slideshow": {
     "slide_type": "-"
    }
   },
   "outputs": [
    {
     "data": {
      "text/plain": [
       "1"
      ]
     },
     "execution_count": 10,
     "metadata": {},
     "output_type": "execute_result"
    }
   ],
   "source": [
    "# your code here\n",
    "np.linalg.matrix_rank(a)\n",
    "np.linalg.matrix_rank(b)"
   ]
  },
  {
   "cell_type": "code",
   "execution_count": 0,
   "metadata": {
    "autoscroll": "json-false",
    "collapsed": false,
    "ein.tags": [
     "worksheet-0"
    ],
    "slideshow": {
     "slide_type": "-"
    }
   },
   "outputs": [],
   "source": [
    "4. Compute determinant of your matrices.  It is easy for square matrices.  You may square the non-square ones by multiplying it by it's transpose.  Compute it for full-rank and non-full-rank matrices.\n",
    "\n",
    "\n",
    "\n"
   ]
  },
  {
   "cell_type": "code",
   "execution_count": 0,
   "metadata": {
    "autoscroll": "json-false",
    "collapsed": false,
    "ein.tags": [
     "worksheet-0"
    ],
    "slideshow": {
     "slide_type": "-"
    }
   },
   "outputs": [],
   "source": [
    "# your code here"
   ]
  },
  {
   "cell_type": "markdown",
   "metadata": {
    "ein.tags": [
     "worksheet-0"
    ],
    "slideshow": {
     "slide_type": "-"
    }
   },
   "source": [
    "5. Inverse matrices.  Create a few relatively small matrices (say, no more than 6x6) and compute inverse of these.  Then multiply the inverse with the matrix itself.  Do you get the unit matrix?\n",
    "\n",
    "Now create an almost singluar matrix and try it again.  You can adjust the degree of singularity by adding a tiny random component.  Say: 'np.ones((3,3)) + eps*np.random.uniform(size=(3,3))' where 'eps' is a small number.\n",
    "\n",
    "Compute also the rank of these matrices"
   ]
  },
  {
   "cell_type": "code",
   "execution_count": 9,
   "metadata": {
    "autoscroll": "json-false",
    "collapsed": false,
    "ein.tags": [
     "worksheet-0"
    ],
    "slideshow": {
     "slide_type": "-"
    }
   },
   "outputs": [
    {
     "data": {
      "text/plain": [
       "2"
      ]
     },
     "execution_count": 9,
     "metadata": {},
     "output_type": "execute_result"
    }
   ],
   "source": [
    "# your code here.\n",
    "eps = 1e-3\n",
    "a = np.ones((3,3)) + eps*np.random.uniform(size=(3,3))\n",
    "\n",
    "\n",
    "c = np.array([[1,2], [3,4], [2,4]])\n",
    "\n",
    "d = np.array([[1,2], [3,4], [5,6]])\n",
    "\n",
    "np.linalg.matrix_rank(c)\n",
    "np.linalg.matrix_rank(d)\n",
    "\n",
    "\n"
   ]
  },
  {
   "cell_type": "markdown",
   "metadata": {
    "ein.tags": [
     "worksheet-0"
    ],
    "slideshow": {
     "slide_type": "-"
    }
   },
   "source": [
    "6. Characteristic roots (eigenvalues).  Compute eigenvalue decomposition of some of your matrices.  If it is not symmetric, make it symmetric by calculating something like X'X.  Do it both for full-rank and non-full-rank matrices.  Do it also for a matrix and for it's inverse.  You may use 'np.linalg.eig()'.\n",
    "\n",
    "Can you get back the original matrix using C' Lambda C construction?\n",
    "\n",
    "Compute the condition numbers of your near-singular matrices above (use numpy.linal.cond)."
   ]
  },
  {
   "cell_type": "code",
   "execution_count": 25,
   "metadata": {
    "autoscroll": "json-false",
    "collapsed": false,
    "ein.tags": [
     "worksheet-0"
    ],
    "slideshow": {
     "slide_type": "-"
    }
   },
   "outputs": [
    {
     "name": "stdout",
     "output_type": "stream",
     "text": [
      "XX'\n",
      "[[ 1.97541027  0.57675691  1.31238481  1.12830251]\n",
      " [ 0.57675691  2.25235545  2.26088858  1.30630402]\n",
      " [ 1.31238481  2.26088858  2.90017033  1.99444153]\n",
      " [ 1.12830251  1.30630402  1.99444153  2.13405622]]\n",
      "values\n",
      "[ 6.86802978  1.59326422  0.6827307   0.11796758]\n",
      "vect\n",
      "[[ 0.34087484  0.8083904  -0.43935084  0.19308067]\n",
      " [ 0.49208841 -0.53937385 -0.3537005   0.58465443]\n",
      " [ 0.63715923 -0.15274433 -0.11483379 -0.74666625]\n",
      " [ 0.48547035  0.1795828   0.81772856  0.25177084]]\n",
      "vectors\n",
      "[[ 0.34087484  0.8083904  -0.43935084  0.19308067]\n",
      " [ 0.49208841 -0.53937385 -0.3537005   0.58465443]\n",
      " [ 0.63715923 -0.15274433 -0.11483379 -0.74666625]\n",
      " [ 0.48547035  0.1795828   0.81772856  0.25177084]]\n",
      "C-1\n",
      "[[ 0.34087484  0.49208841  0.63715923  0.48547035]\n",
      " [ 0.8083904  -0.53937385 -0.15274433  0.1795828 ]\n",
      " [-0.43935084 -0.3537005  -0.11483379  0.81772856]\n",
      " [ 0.19308067  0.58465443 -0.74666625  0.25177084]]\n",
      "Lambda\n",
      "[[ 6.86802978  0.          0.          0.        ]\n",
      " [ 0.          1.59326422  0.          0.        ]\n",
      " [ 0.          0.          0.6827307   0.        ]\n",
      " [ 0.          0.          0.          0.11796758]]\n",
      "C L C'\n",
      "[[ 1.97541027  0.57675691  1.31238481  1.12830251]\n",
      " [ 0.57675691  2.25235545  2.26088858  1.30630402]\n",
      " [ 1.31238481  2.26088858  2.90017033  1.99444153]\n",
      " [ 1.12830251  1.30630402  1.99444153  2.13405622]]\n"
     ]
    }
   ],
   "source": [
    "## code here\n",
    "X = np.random.uniform(size=(4,6))\n",
    "XX = X.dot(X.T)\n",
    "print \"XX'\\n\", XX\n",
    "(val, vect) = np.linalg.eig(XX)\n",
    "print \"values\\n\", val\n",
    "print \"vect\\n\", vect\n",
    "C = np.matrix(vect)\n",
    "print \"vectors\\n\", C\n",
    "print \"C-1\\n\", np.linalg.inv(C)\n",
    "L = np.diag(val)\n",
    "print \"Lambda\\n\", L\n",
    "print \"C L C'\\n\", C.dot(L).dot(C.T)"
   ]
  },
  {
   "cell_type": "code",
   "execution_count": 0,
   "metadata": {
    "autoscroll": "json-false",
    "collapsed": false,
    "ein.tags": [
     "worksheet-0"
    ],
    "slideshow": {
     "slide_type": "-"
    }
   },
   "outputs": [],
   "source": []
  }
 ],
 "metadata": {
  "kernelspec": {
   "display_name": "Python 3",
   "language": "python",
   "name": "python3"
  },
  "language_info": {
   "codemirror_mode": {
    "name": "ipython",
    "version": 3
   },
   "file_extension": ".py",
   "mimetype": "text/x-python",
   "name": "python",
   "nbconvert_exporter": "python",
   "pygments_lexer": "ipython3",
   "version": "3.6.0"
  },
  "name": "02_linear_algebra.ipynb"
 },
 "nbformat": 4,
 "nbformat_minor": 2
}
